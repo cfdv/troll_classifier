{
 "cells": [
  {
   "cell_type": "code",
   "execution_count": 201,
   "metadata": {},
   "outputs": [],
   "source": [
    "from psaw import PushshiftAPI\n",
    "import praw\n",
    "from prawcore import Forbidden\n",
    "from praw.exceptions import ClientException\n",
    "import datetime as dt\n",
    "import numpy as np\n",
    "import pandas as pd\n",
    "import matplotlib.pyplot as plt\n",
    "%matplotlib inline\n",
    "plt.style.use('ggplot')\n",
    "import seaborn as sns\n",
    "\n",
    "from scipy import stats\n",
    "\n",
    "from pymongo import MongoClient, errors\n",
    "\n",
    "from bson.json_util import loads, dumps\n",
    "from bson.objectid import ObjectId\n",
    "\n",
    "from datetime import datetime as dt\n",
    "\n",
    "import boto3\n",
    "\n",
    "import time\n",
    "\n",
    "import nltk\n",
    "from nltk.tokenize import word_tokenize\n",
    "from nltk.corpus import stopwords\n",
    "from nltk.stem.porter import PorterStemmer\n",
    "from nltk.stem.wordnet import WordNetLemmatizer\n",
    "\n",
    "from sklearn.feature_extraction.text import TfidfVectorizer\n",
    "from sklearn.decomposition import NMF\n",
    "from sklearn.model_selection import train_test_split\n",
    "from sklearn.model_selection import KFold\n",
    "from sklearn.preprocessing import StandardScaler\n",
    "from sklearn.ensemble import RandomForestClassifier\n",
    "from sklearn.metrics import confusion_matrix, precision_score, recall_score, roc_curve, auc, roc_auc_score\n",
    "from sklearn.metrics import plot_confusion_matrix\n",
    "\n",
    "from imblearn.ensemble import BalancedRandomForestClassifier\n",
    "\n",
    "from scipy import interp\n",
    "\n",
    "import string\n",
    "from pprint import pprint"
   ]
  },
  {
   "cell_type": "code",
   "execution_count": 2,
   "metadata": {},
   "outputs": [
    {
     "name": "stderr",
     "output_type": "stream",
     "text": [
      "[nltk_data] Downloading package stopwords to /home/ubuntu/nltk_data...\n",
      "[nltk_data]   Package stopwords is already up-to-date!\n",
      "[nltk_data] Downloading package punkt to /home/ubuntu/nltk_data...\n",
      "[nltk_data]   Package punkt is already up-to-date!\n",
      "[nltk_data] Downloading package wordnet to /home/ubuntu/nltk_data...\n",
      "[nltk_data]   Package wordnet is already up-to-date!\n"
     ]
    },
    {
     "data": {
      "text/plain": [
       "True"
      ]
     },
     "execution_count": 2,
     "metadata": {},
     "output_type": "execute_result"
    }
   ],
   "source": [
    "nltk.download('stopwords')\n",
    "nltk.download('punkt')\n",
    "nltk.download('wordnet')"
   ]
  },
  {
   "cell_type": "code",
   "execution_count": 3,
   "metadata": {},
   "outputs": [],
   "source": [
    "porter = PorterStemmer()\n",
    "wordnet = WordNetLemmatizer()"
   ]
  },
  {
   "cell_type": "code",
   "execution_count": 4,
   "metadata": {},
   "outputs": [],
   "source": [
    "creds = {}\n",
    "with open ('/opt/cap1/.cap1', 'r') as fp:\n",
    "    for line in fp:\n",
    "        k, v = line.replace('\\n','').split('\\t')\n",
    "        creds[k] = v"
   ]
  },
  {
   "cell_type": "code",
   "execution_count": 5,
   "metadata": {},
   "outputs": [],
   "source": [
    "reddit = praw.Reddit(client_id=creds['REDDIT_ID'], \n",
    "    client_secret=creds['REDDIT_SECRET'],\n",
    "    password=creds['REDDIT_PASSWORD'], \n",
    "    username=creds['REDDIT_USERNAME'],\n",
    "    user_agent='accessAPI:v0.0.1 (by /u/{})'.format(creds['REDDIT_USERNAME']))"
   ]
  },
  {
   "cell_type": "code",
   "execution_count": 22,
   "metadata": {},
   "outputs": [],
   "source": [
    "api = PushshiftAPI()"
   ]
  },
  {
   "cell_type": "code",
   "execution_count": 6,
   "metadata": {},
   "outputs": [],
   "source": [
    "client = MongoClient('localhost', 27017)\n",
    "db = client['cap2']"
   ]
  },
  {
   "cell_type": "code",
   "execution_count": 7,
   "metadata": {},
   "outputs": [],
   "source": [
    "# get all comments into a list called 'docs', then make dataframe\n",
    "query = {}\n",
    "fields = { '_id': 0 }\n",
    "# docs is about 1.3 GB in RAM\n",
    "docs = list(db['comment'].find( query, fields ))"
   ]
  },
  {
   "cell_type": "code",
   "execution_count": 8,
   "metadata": {},
   "outputs": [],
   "source": [
    "comms = pd.DataFrame(docs)"
   ]
  },
  {
   "cell_type": "code",
   "execution_count": null,
   "metadata": {},
   "outputs": [],
   "source": [
    "# TODO add submission ids to the set of ids from trolls, probably append 't1_' to comments\n",
    "# for ease of use"
   ]
  },
  {
   "cell_type": "markdown",
   "metadata": {},
   "source": [
    "## assign labels, 'troll?', and 'child_of_troll?', and 'parent_of_troll?'"
   ]
  },
  {
   "cell_type": "code",
   "execution_count": 9,
   "metadata": {},
   "outputs": [],
   "source": [
    "# create array of classes for target\n",
    "classes = ['other', 'parent', 'child', 'troll']"
   ]
  },
  {
   "cell_type": "code",
   "execution_count": 10,
   "metadata": {},
   "outputs": [
    {
     "data": {
      "text/plain": [
       "6704"
      ]
     },
     "execution_count": 10,
     "metadata": {},
     "output_type": "execute_result"
    }
   ],
   "source": [
    "# assign the label, 'troll?'' to each comment\n",
    "troll_comment_ids_set = set(comms[~comms['author'].isna()]['id'])\n",
    "comms['troll?'] = [int(mybool) for mybool in [\n",
    "                    commid in troll_comment_ids_set for commid in comms['id']\n",
    "                    ]]\n",
    "np.sum(comms['troll?'])"
   ]
  },
  {
   "cell_type": "code",
   "execution_count": 11,
   "metadata": {},
   "outputs": [
    {
     "data": {
      "text/plain": [
       "57"
      ]
     },
     "execution_count": 11,
     "metadata": {},
     "output_type": "execute_result"
    }
   ],
   "source": [
    "# is this comment in reply to a troll?\n",
    "comms['child_of_troll?'] = [int(mybool) for mybool in [\n",
    "                    pid.split('_')[1] in troll_comment_ids_set for pid in comms['parent_id']\n",
    "                    ]]\n",
    "np.sum(comms['child_of_troll?'])"
   ]
  },
  {
   "cell_type": "markdown",
   "metadata": {},
   "source": [
    "### only 57, praw never gave us children of troll comments...the only ones we have are from trolls replying to trolls"
   ]
  },
  {
   "cell_type": "code",
   "execution_count": 12,
   "metadata": {},
   "outputs": [
    {
     "data": {
      "text/plain": [
       "1144"
      ]
     },
     "execution_count": 12,
     "metadata": {},
     "output_type": "execute_result"
    }
   ],
   "source": [
    "# did a troll reply to this?\n",
    "troll_parent_ids_set = set(\n",
    "                            [p.split('_')[1] for p in comms[~comms['author'].isna()]['parent_id']]\n",
    "                        )\n",
    "comms['parent_of_troll?'] = [int(myid in troll_parent_ids_set) for myid in comms['id']]\n",
    "\n",
    "np.sum(comms['parent_of_troll?'])"
   ]
  },
  {
   "cell_type": "code",
   "execution_count": 13,
   "metadata": {},
   "outputs": [
    {
     "data": {
      "text/plain": [
       "(array(['t1', 't3'], dtype='<U2'), array([1839, 4348]))"
      ]
     },
     "execution_count": 13,
     "metadata": {},
     "output_type": "execute_result"
    }
   ],
   "source": [
    "np.unique([p.split('_')[0] for p in np.unique(comms[~comms['author'].isna()]['parent_id'])], return_counts=True)"
   ]
  },
  {
   "cell_type": "markdown",
   "metadata": {},
   "source": [
    "#### hm, 1144 comments are parents of trolls, but there are 1839 't1'-style parent_ids among troll comments. Which of the unique parent ids aren't getting labeled as parent?"
   ]
  },
  {
   "cell_type": "code",
   "execution_count": 14,
   "metadata": {},
   "outputs": [
    {
     "data": {
      "text/plain": [
       "6187"
      ]
     },
     "execution_count": 14,
     "metadata": {},
     "output_type": "execute_result"
    }
   ],
   "source": [
    "parent_ids = np.unique(comms[~comms['author'].isna()]['parent_id'])\n",
    "len(parent_ids)"
   ]
  },
  {
   "cell_type": "code",
   "execution_count": 15,
   "metadata": {},
   "outputs": [
    {
     "data": {
      "text/plain": [
       "(1839, 1144)"
      ]
     },
     "execution_count": 15,
     "metadata": {},
     "output_type": "execute_result"
    }
   ],
   "source": [
    "t1_parent_ids=[]\n",
    "for p in parent_ids:\n",
    "    if p[:2]=='t1':\n",
    "        t1_parent_ids.append(p.split('_')[1])\n",
    "set_parent_ids = set(t1_parent_ids)\n",
    "set_parent_of_troll = set(comms[comms['parent_of_troll?']==1]['id'])\n",
    "# how does a differ from \n",
    "len(set_parent_ids), len(set_parent_of_troll)"
   ]
  },
  {
   "cell_type": "code",
   "execution_count": 16,
   "metadata": {},
   "outputs": [],
   "source": [
    "# here are the 695 comment ids that probably need to be set as parent_of_troll\n",
    "missing_commentids = np.array(t1_parent_ids)[[myid not in set_parent_of_troll for myid in t1_parent_ids]]"
   ]
  },
  {
   "cell_type": "code",
   "execution_count": 17,
   "metadata": {},
   "outputs": [
    {
     "data": {
      "text/plain": [
       "(array([0]), array([695]))"
      ]
     },
     "execution_count": 17,
     "metadata": {},
     "output_type": "execute_result"
    }
   ],
   "source": [
    "# are these comments simply missing from the data? YES\n",
    "num_hits = []\n",
    "for cid in missing_commentids:\n",
    "    num_hits.append(len(comms[comms['id']==cid]))\n",
    "np.unique(num_hits, return_counts=True)"
   ]
  },
  {
   "cell_type": "code",
   "execution_count": 18,
   "metadata": {},
   "outputs": [
    {
     "data": {
      "text/plain": [
       "695"
      ]
     },
     "execution_count": 18,
     "metadata": {},
     "output_type": "execute_result"
    }
   ],
   "source": [
    "len(missing_commentids)"
   ]
  },
  {
   "cell_type": "code",
   "execution_count": 19,
   "metadata": {},
   "outputs": [],
   "source": [
    "def printall(pd_obj):\n",
    "    '''\n",
    "    print every row and column in a pandas object\n",
    "    '''\n",
    "    with pd.option_context('display.max_rows', None, 'display.max_columns', None):\n",
    "        print(pd_obj)"
   ]
  },
  {
   "cell_type": "code",
   "execution_count": 20,
   "metadata": {
    "scrolled": true
   },
   "outputs": [
    {
     "name": "stdout",
     "output_type": "stream",
     "text": [
      "author                                                                           NaN\n",
      "author_created_utc                                                               NaN\n",
      "author_flair_css_class                                                    mod-rikker\n",
      "author_flair_text                  http://steamcommunity.com/profiles/76561198054...\n",
      "author_fullname                                                             t2_6ey3m\n",
      "body                               Prepare yourself for several \"FTL for Borderla...\n",
      "controversiality                                                                   0\n",
      "created_utc                                                              1.34787e+09\n",
      "distinguished                                                                   None\n",
      "gilded                                                                             0\n",
      "id                                                                           c69bqat\n",
      "link_id                                                                    t3_100ikq\n",
      "nest_level                                                                       NaN\n",
      "parent_id                                                                  t3_100ikq\n",
      "reply_delay                                                                      NaN\n",
      "retrieved_on                                                                     NaN\n",
      "score                                                                              5\n",
      "stickied                                                                       False\n",
      "subreddit                                                                        NaN\n",
      "subreddit_id                                                                t5_2skv6\n",
      "created                                                                   1.3479e+09\n",
      "edited                                                                         False\n",
      "score_hidden                                                                   False\n",
      "can_gild                                                                        True\n",
      "is_submitter                                                                   False\n",
      "no_follow                                                                      False\n",
      "permalink                          /r/SteamGameSwap/comments/100ikq/h_borderlands...\n",
      "send_replies                                                                    True\n",
      "subreddit_type                                                            restricted\n",
      "gildings                                                                          {}\n",
      "updated_utc                                                                      NaN\n",
      "author_flair_template_id                                                        None\n",
      "collapsed                                                                      False\n",
      "collapsed_reason                                                                None\n",
      "total_awards_received                                                              0\n",
      "approved_at_utc                                                                  NaN\n",
      "ups                                                                                5\n",
      "awarders                                                                          []\n",
      "mod_reason_by                                                                    NaN\n",
      "banned_by                                                                        NaN\n",
      "author_flair_type                                                               text\n",
      "removal_reason                                                                   NaN\n",
      "likes                                                                            NaN\n",
      "user_reports                                                                      []\n",
      "saved                                                                          False\n",
      "banned_at_utc                                                                    NaN\n",
      "mod_reason_title                                                                 NaN\n",
      "archived                                                                        True\n",
      "can_mod_post                                                                   False\n",
      "report_reasons                                                                   NaN\n",
      "approved_by                                                                      NaN\n",
      "all_awardings                                                                     []\n",
      "downs                                                                              0\n",
      "author_flair_richtext                                                             []\n",
      "author_patreon_flair                                                           False\n",
      "body_html                          <div class=\"md\"><p>Prepare yourself for severa...\n",
      "associated_award                                                                 NaN\n",
      "author_premium                                                                 False\n",
      "author_flair_text_color                                                         dark\n",
      "num_reports                                                                      NaN\n",
      "locked                                                                         False\n",
      "name                                                                      t1_c69bqat\n",
      "treatment_tags                                                                    []\n",
      "subreddit_name_prefixed                                              r/SteamGameSwap\n",
      "depth                                                                              0\n",
      "author_flair_background_color                                                       \n",
      "collapsed_because_crowd_control                                                  NaN\n",
      "mod_reports                                                                       []\n",
      "mod_note                                                                         NaN\n",
      "_fetched                                                                        True\n",
      "author_cakeday                                                                   NaN\n",
      "troll?                                                                             0\n",
      "child_of_troll?                                                                    0\n",
      "parent_of_troll?                                                                   0\n",
      "Name: 6704, dtype: object\n"
     ]
    }
   ],
   "source": [
    "# print the first non-troll comment, making sure to \n",
    "r = np.where(comms['author'].isna())\n",
    "printall(comms.iloc[r[0], :].iloc[0,:])"
   ]
  },
  {
   "cell_type": "code",
   "execution_count": 169,
   "metadata": {},
   "outputs": [
    {
     "name": "stdout",
     "output_type": "stream",
     "text": [
      "submission    :  14523\n",
      "first_and_last:    964\n",
      "comment       : 230853\n"
     ]
    }
   ],
   "source": [
    "for coll in db.list_collection_names():\n",
    "    print(f'{coll:14}: {db[coll].count_documents({}):6}')"
   ]
  },
  {
   "cell_type": "code",
   "execution_count": 26,
   "metadata": {},
   "outputs": [
    {
     "data": {
      "text/plain": [
       "'c55cs4v,c5dwrdv,c69cm8a,c6eunvf,c78b3gw,c7b8vqn,c7bbduz,c7besrl,c7bguhc,c7c9krf,c7efzzm,c7his1t,c7hxdsi,c7i284w,c7if5z9,c7ikkce,c7iocqi,c7ipk1q,c7rzgab,c7wmj1b,c7wmk1b,c7wml2a,c8nt11a,c8ntmh0,c8o7nwz,cd714a1,cdw1dqk,ce1cp59,cestd6k,cfa9d26,cfaa1u5,cfffzjj,cffug3b,cfrt5a9,cfte0f6,cfthw86,cftmb63,cftn2sf,cftnpi7,cfto0bq,cftol0k,cftpl2v,cftptm9,cftzoeo,cg0z82u,cg1momq,cg5p2ru,cgfwynp,cgfxmpj,ch7qkl4,chx1tqc,cit9kt1,cla7hsy,cms6p22,cmx9dim,copkoou,cpfnvgt,cq9nusb,cqe9a6b,cqhtj4q,cqn2sk6,cqpo84t,crud3qp,crv6vb4,crv8y56,crv9qf9,crva5iw,crxk5ok,crxk9wh,crxmakj,cry9dbi,cry9lfz,cry9saj,cryaar6,crybk2d,cryc2jn,crycsmf,crye6rs,cryenpi,cryf4xc,cryfckw,cryjjtr,cs0t3uw,cs39w0u,cs43hro,cs622nd,csbt0mq,csh8dik,cshboie,csoor1q,cszkuf2,cszl0hb,cszl5re,ctd7bv4,cudpmov,cuec9uh,cuewltu,cufl8js,cujkrrl,cujwdox,cuui4li,cv9xyrn,cvfzk0q,cvh4ckj,cvh58gr,cvy704o,cw5aipy,cwas0ak,cwb1g5f,cwzywoo,cx0gufr,cx4g56i,cx7u0p5,cx7uqso,cx7vugn,cx8ombk,cx90vp5,cxceyio,cxcf6ts,cxcflk3,cxcfxef,cxcgeqx,cxcglff,cxcgxu9,cxcj30j,cxckc8r,cxdmsbp,cxdolz3,cxdomw5,cxdpjbn,cxdpsu9,cxdpwhv,cxe0dsg,cxe3c8l,cxeopar,cxeozeb,cxeqtx0,cxezer1,cxfmpf0,cxfn1ez,cxfnjxu,cxfnl0e,cxfnmyr,cxfo84h,cxfor4b,cxforu0,cxfovrw,cxfow11,cxfp380,cxhbj35,cxhrw7u,cxhsuha,cxhszne,cxhtluk,cxhtmdf,cxhtq9r,cxhtwsu,cxhu1i9,cxhuf1h,cxhuok6,cxhv0uk,cxhv2vc,cxhv6nv,cxhvzms,cxhxdcj,cxhxkdx,cxhxqy2,cxhxx65,cxk9v9j,cxk9za5,cxkai82,cxkaoa2,cxkc4u5,cxkc765,cxkgsi1,cxl06g5,cxlecsp,cxlffw9,cxlgg8p,cxlj3ic,cxlj5ab,cxljevf,cxljh5x,cxlmech,cxlob7i,cxvaagv,cz083mi,cz0c7qt,cz2bxw8,cz2en7e,cz2femm,cz2fyp2,cz2gmpz,cz5z8hw,cz5ziuc,cz60gm8,cz692ow,cz69bzj,cz69pu0,cz6a2wt,cz6a6hj,cz6abjb,cz6akeo,cz6bacz,cz6bflo,cz6buu4,cz6wcx5,cz7lwer,cz8997n,cz8anof,cz8duyo,cz8mx6g,cz8ogao,cz8opm7,cz8vlfk,cz974zo,cz9r22e,cz9szyu,czan9b7,czbqmmo,czbtl34,czbz9s2,czbzskb,czc0225,czc0m7l,d0pwchu,d14gnh5,d14isxw,d14la0s,d151gi4,d17gzg5,d19bdrf,d19dybw,d19fbla,d1alskg,d1b8x0k,d1c04so,d1cxwkd,d1cztvy,d1d3nxd,d1e2i1r,d1e3a1q,d1e3e2l,d1e4qke,d1e6azh,d1hrc5v,d1j4rae,d1j9t1y,d1jfawb,d1jzm65,d1krmzt,d1ll4ia,d1ll67u,d1lm0t0,d1ltmi4,d1luxnk,d1lv6n9,d1lw1nw,d1madm8,d1mw3uj,d1mwne0,d1n21ki,d1p9zsq,d1pbgju,d1pc1sy,d1pc5iv,d1pctfs,d1pnovt,d1pxe0w,d1qend9,d1qj6vw,d1qm5jk,d1qmynf,d1qo5oa,d1qosqj,d1qoutf,d1qp6ro,d1qpc41,d1qpsr4,d1qquh4,d1qykna,d1s2vju,d1s3t88,d1sqoqw,d1ssmus,d1ssnvn,d1suu5e,d1svy2m,d1syxqc,d1szmy6,d1t64p2,d1t7hqx,d1tb3bh,d1tb3l3,d1tb7fv,d1tbcfy,d1tbh53,d1tbhea,d1tbi13,d1tbibu,d1tbj96,d1tbket,d1tblp8,d1tbnzi,d1tbog0,d1tbp59,d1tbpig,d1tbq1f,d1tbrj8,d1tbs02,d1tbu2b,d1tbuns,d1tc5h3,d1tcii4,d1tcxzx,d1tfjfk,d1tgk0n,d1thso3,d1ts3za,d1u569q,d1ut0lx,d1uvooa,d1uw4ts,d1uwpnw,d1uxnub,d1v6z41,d1vcll6,d1vgjno,d1vvaao,d1w11xq,d1w15dr,d1w1bkp,d1y4hhk,d1y9wrg,d1ycho5,d1yemp8,d2080rk,d20ckdv,d20fh3p,d217xia,d22ptpl,d22puur,d23zvbo,d2491rx,d252rqi,d252yzr,d253z4h,d254yzw,d261vye,d2641p2,d264oa4,d266hsh,d26oqer,d26rpag,d277jpu,d2791gg,d27brph,d27h0pw,d27lszf,d28v4nd,d2auuo9,d2auxwg,d2aycvt,d2d49le,d2dfyls,d2drr4z,d2dtune,d2dx02b,d2e5do8,d2e71d8,d2elerg,d2enczy,d2eonu7,d2exlqr,d2f5sr2,d2g5ncr,d2g9no4,d2ga823,d2gbwxx,d2gcdhc,d2h35ov,d2i138n,d2ic0xz,d2id4g6,d2it95t,d2j6e3y,d2j76l2,d2j7e7r,d2j8ekg,d2j9b2f,d2j9ix9,d2j9xh8,d2jbrgr,d2jda7o,d2jnt83,d2jtban,d2jvmpz,d2lc5v4,d2ldsqe,d2lf8ni,d2lvdgt,d2lvmd2,d2lvmvi,d2lvvzh,d2lw5z0,d2lwbuk,d2mklde,d2mu0k6,d2mwww0,d2njoj2,d2o2g0q,d2otx1a,d2pzo5h,d2q41yv,d2sxssa,d2syjaf,d2t0w5r,d2t67o5,d2vn6i2,d2xqo5h,d2y02au,d31g2m5,d31gzr8,d32b1sf,d32bqm8,d32iexp,d32qsb6,d32rhcu,d3328wl,d33y8rr,d34as3o,d37nmjc,d37wn91,d39mb0i,d3cqodd,d3folo7,d3fuvll,d3g1x7j,d3g2bif,d3g2jw9,d3g2uci,d3g43kj,d3g4ofb,d3g4zn0,d3g5zm5,d3g6f4b,d3g6m0e,d3g766h,d3hq6dv,d3hrea2,d3iiv18,d3j23jv,d3j8few,d3mzkxa,d3okaww,d3oqa8p,d3otx6h,d3oxkqg,d3oxscu,d3oy4s0,d3p18pf,d3p19cq,d3p1bbj,d3plvjb,d3pm6vm,d3pmp21,d3pqyqx,d3pu06a,d3pum7a,d3pwtf5,d3pxzdm,d3py6mi,d3pzn2s,d3pzy6o,d3q1t5e,d3q29l1,d3q2krl,d3q342s,d3q5703,d3q83i4,d43fi9t,d45nk4k,d4a87es,d4bsxr2,d4by6g0,d4cb2v8,d4g0kpt,d4g4j3x,d4h1alo,d4mlx05,d4mqncj,d4n2c11,d4nbbch,d4nbf0l,d4p2ucs,d4qdch5,d4qt7ql,d4quadd,d4quv2y,d4rvfnj,d4ssri9,d4stfck,d4sutrk,d4yzv4c,d4z26z2,d508xpp,d586t07,d58ixge,d5a8ka0,d5a8l7b,d5arr2l,d5eapz0,d5egc61,d5jv3px,d5jv62p,d5krskk,d5lxmxl,d5lxsrn,d5mi32l,d5mofax,d5n1bbu,d5n1ho8,d5nhvc8,d5q7ccw,d5q7r91,d5q8dxn,d5q9mhf,d5qfts5,d5qjtw3,d5r1rzi,d5r8gcs,d5rdfmb,d5s18x6,d5uadra,d5uajeo,d5uaur0,d5uuq2f,d5uz1ed,d61lyfb,d63ds1w,d64kbwv,d64x6un,d66qvb3,d6954qv,d69ew7r,d69juof,d6arup5,d6axze8,d6bycyr,d6c8yqg,d6ckldh,d6ctlyc,d6eulyn,d6h6jt8,d6h6n5w,d6j4pwt,d6jks0l,d6jl7j3,d6k7yks,d6kj5v5,d6kvy45,d6l0guj,d6l0u8u,d6l165u,d6l1kt2,d6l1t7i,d6l27s8,d6l2bte,d6l6smb,d6l75eu,d6l7apo,d6l8ysl,d6mracy,d6mtjvs,d6mu2kd,d6mwfkb,d6o1y4x,d6otyug,d6pjqev,d6qka6z,d6rt3gs,d6rv4lm,d6rwb6k,d6rz5cl,d6tudse,d6usax0,d6w1ja2,d6wlyr5,d6x1okd,d6ynfzl,d73rcxe,d7aorye,d7bo811,d7bu3og,d7bv0tb,d7c2sso,d7c57jl,d7c82wu,d7cbptr,d7cd7h1,d7coseh,d7cyy5v,d7d24oi,d7dh122,d7dk7hh,d7dph46,d7e7e81,d7e8271,d7ehh33,d7gla4j,d7vsvcf,d82thc3,d82v1yp,d82y9vq,d831vmh,d859lds,d86opv2,d89ksxj,d89q3g9,d8apklu,d8eo5ua,d8g8zqr,d8gwsuz,d8gx6oz,d8gxkd6,d8qegac,d8rjwkq,d8ufgac,d8ufyxm,d8uhl3l,dac8p23,dc4c6pn,dd5b62b,ddep5tv,ddit6nd,ddj1h1g,deshi9g,dgji9p2,dgjlux5,dgs7oeb,dgxohi0,dh1x3u6,dh5dw18,dh5g7dw,dh9otwm,dh9pcgz,dh9pgdz,dh9pxym,dh9qa3f,dh9qnbe,dheir8r,dhfxr33,dhfxxy7,dhnt9w8,dhnub5d,dhnuq90,dhnv8wt,dhnvb13,dhovdw5,dhovv2n,dhowrg7,dhozjjh,dhpxevw,dhr1bdt,dhr399k,dhzjpxa,diq0sb8,dk5x3ny,dk8qhos,dmatz6g,dmk6hhx,dmk79uq,dmk7rxn,dmlpzjt,dmr41zp,dndeu8p,dndiu8i,doym0y6,dp9fs27,dpu7uy3,dpuc6ez,drlesmy,drlfrf3,drmdpxc,drqqc9v,drqqde3,drs6lj0,drwjoag,ds8tvfr,dsc2qbw,dsdhf3h,dsirfdb,dtijtnq,dtikbzb,dtminat'"
      ]
     },
     "execution_count": 26,
     "metadata": {},
     "output_type": "execute_result"
    }
   ],
   "source": [
    "','.join(missing_commentids)"
   ]
  },
  {
   "cell_type": "code",
   "execution_count": 170,
   "metadata": {},
   "outputs": [
    {
     "name": "stdout",
     "output_type": "stream",
     "text": [
      "{'_fetched': False,\n",
      " '_reddit': <praw.reddit.Reddit object at 0x7f05277a2b50>,\n",
      " '_replies': [],\n",
      " '_submission': None,\n",
      " 'id': 'cqe9a6b'}\n"
     ]
    }
   ],
   "source": [
    "\n",
    "# get missing comments from pushshift\n",
    "# gen = api.search_comments(id=','.join(missing_commentids))\n",
    "# gen = api.search_comments(id='c55cs4v')\n",
    "ids =','.join(missing_commentids[:2])\n",
    "#print(ids)\n",
    "#gen = api.search_comments(id=ids)\n",
    "comment = reddit.comment(id=\"cqe9a6b\")\n",
    "pprint(vars(comment))\n",
    "#for c in gen:\n",
    "#    print(c.d_['body'])\n",
    "    #db['comment'].insert_one(c.d_)"
   ]
  },
  {
   "cell_type": "code",
   "execution_count": 195,
   "metadata": {},
   "outputs": [
    {
     "data": {
      "text/plain": [
       "{'_replies': [],\n",
       " '_submission': None,\n",
       " '_reddit': <praw.reddit.Reddit at 0x7f05277a2b50>,\n",
       " '_fetched': False,\n",
       " 'id': 'c551ecd'}"
      ]
     },
     "execution_count": 195,
     "metadata": {},
     "output_type": "execute_result"
    }
   ],
   "source": [
    "# https://snew.notabug.io/r/unixporn/comments/vjbgg/archlinux_dwm/c551ecd/\n",
    "# comment = reddit.comment(id=\"c55cs4v\")\n",
    "comment = reddit.comment(id=\"c551ecd\")\n",
    "# comment = reddit.comment(id=\"cqe9a6b\")\n",
    "dict(vars(comment))"
   ]
  },
  {
   "cell_type": "code",
   "execution_count": 196,
   "metadata": {},
   "outputs": [],
   "source": [
    "# okay, so c55cs4v is here -- \n",
    "# https://snew.notabug.io/r/unixporn/comments/vjbgg/archlinux_dwm/c55cs4v/\n",
    "# and you can see shomyo's reply with permalink -- \n",
    "# https://snew.notabug.io/r/unixporn/comments/vjbgg/archlinux_dwm/c55hjc4/"
   ]
  },
  {
   "cell_type": "code",
   "execution_count": 197,
   "metadata": {
    "scrolled": true
   },
   "outputs": [
    {
     "data": {
      "text/plain": [
       "{'_replies': [],\n",
       " '_submission': None,\n",
       " '_reddit': <praw.reddit.Reddit at 0x7f05277a2b50>,\n",
       " '_fetched': False,\n",
       " 'id': 'c551ecd'}"
      ]
     },
     "execution_count": 197,
     "metadata": {},
     "output_type": "execute_result"
    }
   ],
   "source": [
    "# comment._fetch()\n",
    "comment.\n",
    "dict(vars(comment))"
   ]
  },
  {
   "cell_type": "code",
   "execution_count": 164,
   "metadata": {},
   "outputs": [
    {
     "data": {
      "text/plain": [
       "'c55cs4v'"
      ]
     },
     "execution_count": 164,
     "metadata": {},
     "output_type": "execute_result"
    }
   ],
   "source": [
    "missing_commentids[0]"
   ]
  },
  {
   "cell_type": "code",
   "execution_count": 156,
   "metadata": {},
   "outputs": [
    {
     "data": {
      "text/plain": [
       "[]"
      ]
     },
     "execution_count": 156,
     "metadata": {},
     "output_type": "execute_result"
    }
   ],
   "source": [
    "# top-up the parent comments, worked great.\n",
    "log = [] \n",
    "i = 0 # had clientexception at 59, id='cqe9a6b'\n",
    "for comment_id in missing_commentids[i:]: \n",
    "    i += 1 \n",
    "    print(f'searching for comment id: {comment_id}') \n",
    "    comment = reddit.comment(id=comment_id) \n",
    "    try: \n",
    "        comment._fetch() \n",
    "    except (Forbidden, ClientException): \n",
    "        log.append(i) \n",
    "        continue \n",
    "    d = dict(vars(comment)) \n",
    "    for key in ['_replies', '_submission', \n",
    "            '_reddit', 'mod', 'author', \n",
    "            'subreddit']: \n",
    "        _ = d.pop(key, None) \n",
    "    try: \n",
    "        db['comment'].insert_one(d) \n",
    "    except (errors.DuplicateKeyError, errors.InvalidDocument): \n",
    "        log.append[i] \n",
    "        continue "
   ]
  },
  {
   "cell_type": "code",
   "execution_count": 205,
   "metadata": {},
   "outputs": [
    {
     "name": "stdout",
     "output_type": "stream",
     "text": [
      "submission    :  14523\n",
      "first_and_last:    964\n",
      "comment       : 231533\n"
     ]
    }
   ],
   "source": [
    "for coll in db.list_collection_names():\n",
    "    print(f'{coll:14}: {db[coll].count_documents({}):6}')"
   ]
  },
  {
   "cell_type": "code",
   "execution_count": 206,
   "metadata": {},
   "outputs": [
    {
     "data": {
      "text/plain": [
       "680"
      ]
     },
     "execution_count": 206,
     "metadata": {},
     "output_type": "execute_result"
    }
   ],
   "source": [
    "# these are the before and after numbers of records in mongo\n",
    "# 15 records failed\n",
    "num_records_added = 231533 - 230853\n",
    "num_records_added"
   ]
  },
  {
   "cell_type": "code",
   "execution_count": 207,
   "metadata": {},
   "outputs": [
    {
     "data": {
      "text/plain": [
       "array(['cqhtj4q', 'crv6vb4', 'cs43hro', 'cujkrrl', 'cwzywoo', 'cz0c7qt',\n",
       "       'd4ssri9', 'd6rt3gs', 'dd5b62b', 'dk5x3ny', 'dmk6hhx', 'dndiu8i',\n",
       "       'dp9fs27', 'drqqc9v', 'dsc2qbw'], dtype='<U7')"
      ]
     },
     "execution_count": 207,
     "metadata": {},
     "output_type": "execute_result"
    }
   ],
   "source": [
    "# from the ipython session in which I ran the scrape\n",
    "log = [59, 63, 84, 98, 109, 187, 500, 580, 632, 667, 670, 676, 678, 684, 689]\n",
    "missing_commentids[log]"
   ]
  },
  {
   "cell_type": "markdown",
   "metadata": {},
   "source": [
    "### cqhtj4q\n",
    "```\n",
    "[–]zenzog3 points 5 years ago \n",
    "https://mobile.twitter.com/shoxCSGO/status/588523685419601922\n",
    "permalink save report give gold reply\n",
    "```\n",
    "https://snew.notabug.io/r/csgobetting/comments/3324gu/envyus_vs_dignitas_bo3_190415_2100_cest/cqhtj4q/"
   ]
  },
  {
   "cell_type": "markdown",
   "metadata": {},
   "source": [
    "### d4ssri9\n",
    "```\n",
    "[–][censored]3 points 4 years ago \n",
    "[censored]\n",
    "permalink save report give gold reply[removed by moderators]\n",
    "```\n",
    "https://snew.notabug.io/r/rage/comments/4qgm68/woman_26_wielded_hatchet_after_her_demands_for/d4ssri9/"
   ]
  },
  {
   "cell_type": "markdown",
   "metadata": {},
   "source": [
    "### dp9fs27\n",
    "```\n",
    "–][deleted]2 points 3 years ago \n",
    "[deleted]\n",
    "permalink save report give gold reply\n",
    "```\n",
    "https://snew.notabug.io/r/Sissies/comments/7ad3vx/any_requests/dp9fs27/"
   ]
  },
  {
   "cell_type": "code",
   "execution_count": 238,
   "metadata": {},
   "outputs": [
    {
     "data": {
      "text/plain": [
       "'d6l259k'"
      ]
     },
     "execution_count": 238,
     "metadata": {},
     "output_type": "execute_result"
    }
   ],
   "source": [
    "# get the replies to the trolls\n",
    "# get missing comments from pushshift\n",
    "troll_commentids = comms[~comms['author'].isna()]['id']\n",
    "np.random.choice(troll_commentids)"
   ]
  },
  {
   "cell_type": "code",
   "execution_count": 231,
   "metadata": {},
   "outputs": [
    {
     "data": {
      "text/plain": [
       "['/r/AskReddit/comments/83v80t/what_is_something_you_hope_to_see_in_your_lifetime/dvkrbfn/',\n",
       " '/r/AskReddit/comments/83v80t/what_is_something_you_hope_to_see_in_your_lifetime/dvkratt/',\n",
       " '/r/AskReddit/comments/83v80t/what_is_something_you_hope_to_see_in_your_lifetime/dvkraj7/',\n",
       " '/r/AskReddit/comments/83v6ge/mcdonalds_employees_of_reddit_why_does_your_ice/dvkr9mu/',\n",
       " '/r/AskReddit/comments/83v6ge/mcdonalds_employees_of_reddit_why_does_your_ice/dvkr9g4/',\n",
       " '/r/AskReddit/comments/83u8tc/what_are_you_excited_about/dvkkas9/',\n",
       " '/r/AskReddit/comments/83u8tc/what_are_you_excited_about/dvkk9wu/',\n",
       " '/r/CryptoCurrency/comments/825dbt/ripple_achieves_rumoured_national_rollout_with/dv7pc4j/',\n",
       " '/r/GGCrypto/comments/825wzo/ripple_achieves_rumoured_national_rollout_with/dv7pbxi/',\n",
       " '/r/Ripple/comments/82617m/ripple_achieves_rumoured_national_rollout_with/dv7pbsm/',\n",
       " '/r/icocrypto2018/comments/81caz4/daily_general_discussion_march_2_2018/dv2h584/',\n",
       " '/r/CryptoCurrency/comments/81c9if/daily_general_discussion_march_2_2018/dv2gc5j/',\n",
       " '/r/GGCrypto/comments/80038p/a_former_highflying_jpmorgan_trader_says_banks/duyhstd/',\n",
       " '/r/GGCrypto/comments/7zlx3d/binance_ceo_finally_verified_on_twitter_hopefully/duyhsa0/',\n",
       " '/r/CryptoCurrency/comments/7xtlj4/announcing_nano_node_v100_major_performance/duc1y1z/',\n",
       " '/r/GGCrypto/comments/7xvc75/announcing_nano_node_v100_major_performance/duc1xwf/',\n",
       " '/r/nanotrade/comments/7xtmqo/nano_is_not_finished/duc1xl8/',\n",
       " '/r/nanocurrency/comments/7xtkrm/announcing_nano_node_v100/duc1xem/',\n",
       " '/r/CryptoCurrency/comments/7xwuz4/daily_general_discussion_february_16_2018/duc0u8i/',\n",
       " '/r/CryptoCurrencies/comments/7xnmkc/daily_crypto_discussion_thread_021518/dub80aq/',\n",
       " '/r/CryptoCurrency/comments/7xojzy/daily_general_discussion_february_15_2018/dub7yzg/',\n",
       " '/r/NewsWhatever/comments/7szmjf/markov_mashups_of_erowid_trip_reports_and_ico/du8bsyx/',\n",
       " '/r/bprogramming/comments/7sztj3/markov_mashups_of_erowid_trip_reports_and_ico/du8bsvn/',\n",
       " '/r/CryptoCurrency/comments/7xdfpz/western_union_testing_transactions_with_ripple/du8bshi/',\n",
       " '/r/Ripple/comments/7xddnm/western_union_is_testing_transactions_with_ripple/du8bs36/',\n",
       " '/r/CryptoCurrency/comments/7xghk6/petroteq_energy_announced_the_development_of/du8bri1/',\n",
       " '/r/CryptoMarkets/comments/7xh7nd/petroteq_energy_announced_the_development_of/du8bref/',\n",
       " '/r/CryptoCurrency/comments/7vlf0s/daily_general_discussion_february_6_2018/dtuo43i/',\n",
       " '/r/CryptoCurrency/comments/7upe01/daily_general_discussion_february_2_2018/dtmaw17/',\n",
       " '/r/Bitcoin/comments/7uicr0/darkest_before_the_dawn_reasons_to_be_bullish_on/dtm8z3u/',\n",
       " '/r/CryptoMarkets/comments/7uj0tt/darkest_before_the_dawn_reasons_to_be_bullish_on/dtm8yza/',\n",
       " '/r/CryptoCurrency/comments/7uicq7/darkest_before_the_dawn_reasons_to_be_bullish_on/dtm8ywu/',\n",
       " '/r/hackernews/comments/6z281s/bitcoin_lecture_series_2015/dtm8wxp/',\n",
       " '/r/cryptaly/comments/76kbio/bitcoin_and_cryptocurrency_technologies_il_libro/dtm8wq1/',\n",
       " '/r/bprogramming/comments/7unmtm/bitcoin_drops_below_9000_on_coinbase/dtm8wbv/',\n",
       " '/r/hackernews/comments/7uo3cz/bitcoin_drops_below_9000_on_coinbase/dtm8wa1/',\n",
       " '/r/CryptoCurrencies/comments/7u6skr/daily_crypto_discussion_thread_013118/dtj3d0d/',\n",
       " '/r/BitcoinAll/comments/7u0f8g/the_free_software_foundation_has_received_a_9145/dtin46z/',\n",
       " '/r/KnightsOfPineapple/comments/7u2bmv/the_free_software_foundation_has_received_a_9145/dtin3vi/',\n",
       " '/r/CryptoCurrency/comments/7tzah6/the_free_software_foundation_has_received_a_9145/dtin3lc/',\n",
       " '/r/opensource/comments/7tzfts/the_free_software_foundation_has_received_a_9145/dtin2pi/',\n",
       " '/r/CryptoCurrency/comments/7u7w14/daily_general_discussion_january_31_2018/dtikdw8/',\n",
       " '/r/CryptoCurrency/comments/7u7w14/daily_general_discussion_january_31_2018/dtik7uf/',\n",
       " '/r/CryptoCurrency/comments/7tz10i/daily_general_discussion_january_30_2018/dtgm4q8/',\n",
       " '/r/CryptoCurrencies/comments/7ts8jw/tiesnetwork_is_now_tiesdb/dtetpdt/',\n",
       " '/r/CryptoCurrencies/comments/7t4b2k/tokens_that_are_worth_keeping_a_close_eye_on/dt9u6iw/',\n",
       " '/r/CryptoMarkets/comments/7t00to/announcing_bounty0x_partnership_with_civic/dt9lu38/',\n",
       " '/r/ETHInsider/comments/7t04b8/announcing_bounty0x_partnership_with_civic/dt9ltyp/',\n",
       " '/r/civicplatform/comments/7t0efr/bounty0x_announces_partnership_with_civic/dt9lttu/',\n",
       " '/r/icocrypto/comments/7t01hl/announcing_bounty0x_partnership_with_civic/dt9ltcl/',\n",
       " '/r/ethinvestor/comments/7szz4q/announcing_bounty0x_partnership_with_civic/dt9lt9q/',\n",
       " '/r/CryptoDoubleOrNothing/comments/7t33l1/announcing_bounty0x_partnership_with_civic/dt9lt7f/',\n",
       " '/r/Bounty0x/comments/7sywgw/announcing_bounty0x_partnership_with_civic/dt9lt5p/',\n",
       " '/r/Database/comments/7serw2/tie_token_price_increases_after_product_release/dt470dl/',\n",
       " '/r/altcoin/comments/7sepok/tiesnetwork_announces_new_database_product_launch/dt46t2g/',\n",
       " '/r/Iota/comments/7s0gy0/dont_lose_your_iota_again_iota_network_snapshot/dt279ho/',\n",
       " '/r/altcoin/comments/7s0hhm/dont_lose_your_iota_again_iota_network_snapshot/dt2794n/',\n",
       " '/r/CryptoCurrency/comments/7s0hbo/dont_lose_your_iota_again_iota_network_snapshot/dt27905/',\n",
       " '/r/CryptoCurrencies/comments/7s5il2/tie_token_price_increases_after_product_release/dt23ow6/',\n",
       " '/r/CreatingValue/comments/7qwuoa/japans_largest_bank_to_launch_cryptocurrency/dsyp8o6/',\n",
       " '/r/omise_go/comments/7qwnp3/strategic_partner_mufg_launching_their_own/dsyp8ja/',\n",
       " '/r/Tronix/comments/7qxfta/new_exchange_in_japan_tron_soon_to_be_traded_on/dsyp8e1/',\n",
       " '/r/Bitcoin/comments/7qz8tq/japans_largest_bank_to_launch_cryptocurrency/dsyoo8i/',\n",
       " '/r/programming/comments/7rh67t/big_companies_like_visa_see_the_potential_in_this/dsyonxx/',\n",
       " '/r/CryptoCurrency/comments/7qr1s7/memes_are_great_but_lets_not_forget_really_people/dsrakuh/',\n",
       " '/r/CryptoCurrency/comments/7qmj9y/goldman_sachs_considers_bitcoin_to_be_the_new_gold/dsra4rh/',\n",
       " '/r/CryptoCurrency/comments/7qpa0c/if_youre_smart_youre_buying_right_now/dsr9wfp/',\n",
       " '/r/CryptoCurrency/comments/7qnd9i/earning_big_money_in_the_cryptoworld_is_no_rocket/dsr9sdn/',\n",
       " '/r/CryptoCurrency/comments/7qiuc8/no_cryptocurrency_trading_ban_south_korea/dsr9l25/',\n",
       " '/r/CryptoCurrency/comments/7po92v/while_everybody_is_closely_watching_south_korea/dsiri4z/',\n",
       " '/r/CryptoCurrency/comments/7po92v/while_everybody_is_closely_watching_south_korea/dsiq5na/',\n",
       " '/r/Bitcoincash/comments/7kqfty/why_bitcoin_cash_jeff_berwick_explains_plus_bonus/dsijd1f/',\n",
       " '/r/BitcoinAll/comments/7kqg3e/why_bitcoin_cash_jeff_berwick_explains_plus_bonus/dsijcwl/',\n",
       " '/r/btc/comments/7mmrq0/why_bitcoin_cash_jeff_berwick_explains_plus_bonus/dsijcu7/',\n",
       " '/r/Ripple/comments/7pgngh/breaking_man_who_does_not_know_what_crypto_is/dsij9rk/',\n",
       " '/r/BTCNews/comments/7pfqho/warren_buffett_says_bitcoin_definitely_will_come/dsij9gq/',\n",
       " '/r/CryptoCurrency/comments/7pfq62/here_is_the_fud_article_you_are_looking_for/dsij9av/',\n",
       " '/r/Ripple/comments/7phv10/why_ripple_is_still_bound_for_coinbase_eventually/dsij8oh/',\n",
       " '/r/XRP/comments/7p7tdy/why_ripple_is_still_bound_for_coinbase_eventually/dsij8ka/',\n",
       " '/r/BrobotTech/comments/7p7zvv/tron_price_drops_by_nearly_50_in_5_days_as_pump/dsiiv98/',\n",
       " '/r/ethtrader/comments/7piyt3/tron_price_drops_almost_50_as_shills_pumps_run/dsiiv6j/',\n",
       " '/r/CryptoMarkets/comments/7pe8sw/tron_price_drops_by_nearly_50_in_5_days_as_pump/dsiiv44/',\n",
       " '/r/CryptoCurrency/comments/7pd9q9/kodaks_stock_doubles_after_camera_and_film/dsiif9o/',\n",
       " '/r/ethtrader/comments/7pakgq/kodak_is_using_ethereum_smart_contracts_to_give/dsiif3a/',\n",
       " '/r/ethereum/comments/7pljfg/south_koreas_justice_minister_says_preparing_a/dsiiesg/',\n",
       " '/r/btc/comments/7plj9o/south_koreas_justice_minister_says_preparing_a/dsiiepy/',\n",
       " '/r/CryptoCurrency/comments/7plenj/south_koreas_justice_minister_says_preparing_a/dsiienz/',\n",
       " '/r/CryptoCurrency/comments/7pd947/petition_to_bring_segwit_to_coinbase_nears_5000/dsgkr5s/',\n",
       " '/r/Bitcoin/comments/7pab3k/petition_to_bring_segwit_to_coinbase_nears_5000/dsgkr1d/',\n",
       " '/r/Tronix/comments/7pdxj2/china_coming_back_into_the_game_soon/dsgkqoh/',\n",
       " '/r/Bitcoin/comments/7pcepl/beijing_court_rules_that_there_are_no_laws_that/dsgkqk1/',\n",
       " '/r/btc/comments/7pe0y8/jamie_dimon_i_regret_calling_bitcoin_a_fraud/dsgkqai/',\n",
       " '/r/CryptoCurrency/comments/7p866b/jamie_dimon_regrets_calling_bitcoin_a_fraud/dsgkq6w/',\n",
       " '/r/Bitcoin/comments/7paxoq/microsoft_restores_bitcoin_payments_after_working/dsgkmpp/',\n",
       " '/r/btc/comments/7pdh72/ms_to_restore_bitcoin_payments_after_bitpay/dsgkmek/',\n",
       " '/r/CryptoCurrency/comments/7pazbj/microsoft_restores_bitcoin_payments_after_working/dsgkmas/',\n",
       " '/r/btc/comments/7pb5is/microsoft_restores_bitcoin_payments/dsgkm7p/',\n",
       " '/r/CryptoCurrency/comments/7p2zfy/cardano_proof_of_work_is_not_a_good_benchmark/dsgkloh/',\n",
       " '/r/CryptoCurrency/comments/7pc8q4/pundi_x_to_bring_xlm_to_the_retail_stores/dsgkl5n/',\n",
       " '/r/Stellar/comments/7pc2kk/pundi_x_to_bring_xlm_to_the_retail_stores/dsgkl1s/',\n",
       " '/r/CryptoCurrency/comments/7oy8u4/just_as_reminder_tomorrow_9th_january_will/dsewfx7/',\n",
       " '/r/RaiBlocks/comments/7oy3m2/just_as_reminder_tomorrow_9th_january_will/dsewfsn/',\n",
       " '/r/CryptoCurrency/comments/7p12rr/enigma_eng_privacy_for_every_blockchain/dsewcuc/',\n",
       " '/r/BNBTrader/comments/7p0xb5/enigma_eng_privacy_for_every_blockchain/dsewcmv/',\n",
       " '/r/enigmacatalyst/comments/7p0xcz/new_video_from_blockchainwtf_about_the_enigma/dsewcih/',\n",
       " '/r/Bitcoin_News/comments/7p5fjr/visa_veto_leaves_several_european_cryptocurrency/dsewa61/',\n",
       " '/r/BitcoinAll/comments/7oca0h/visa_veto_leaves_several_european_cryptocurrency/dsewa1z/',\n",
       " '/r/CryptoCurrencies/comments/7oxefu/brazil_analysing_the_possibility_to_process/dsew9bf/',\n",
       " '/r/CryptoCurrency/comments/7oxehc/brazil_analysing_the_possibility_to_process/dsew97b/',\n",
       " '/r/brasil/comments/7oy6fr/brasil_considera_usar_rede_ethereum_para/dsew93x/',\n",
       " '/r/CryptoCurrency/comments/7p0nkm/vitalik_buterin_foodmedicine_use_cases_for/dsew8g2/',\n",
       " '/r/Database/comments/7ossv4/tiesnetwork_is_the_platform_for_the_enterprise_of/dsc8g65/',\n",
       " '/r/Bitcoin/comments/7ordio/sign_the_petition_to_make_coinbase_implement/dsc8cv3/',\n",
       " '/r/Bitcoin/comments/7o8ud1/sign_the_petition_coinbase_prioritize_segwit/dsc8cli/',\n",
       " '/r/CryptoCurrency/comments/7oss80/check_out_one_of_the_most_promising_icos_of_2018/dsc7s8w/',\n",
       " '/r/ethereum/comments/7oa5o7/brazil_may_write_new_laws_with_data_stored_on_the/ds9un74/',\n",
       " '/r/electionReformNews/comments/7oaa5j/brazil_may_write_new_laws_with_data_stored_on_the/ds9un04/',\n",
       " '/r/criptomoedas/comments/7occns/brasil_pode_recorrer_à_ethereum_blockchain_para/ds9umxi/',\n",
       " '/r/ethlaw/comments/7oc6ms/ethereumbased_system_proposed_in_brazil_to_verify/ds9umu1/',\n",
       " '/r/brasil/comments/7oaisr/brazil_may_write_new_laws_with_data_stored_on_the/ds9ump6/',\n",
       " '/r/ethtrader/comments/7obdzl/brazil_to_use_ethereum_ledger_to_prove_public/ds9umlf/',\n",
       " '/r/ethtrader/comments/7oh2kz/callout_assurance_contracts_vitalik_buterin/ds9um8d/',\n",
       " '/r/CryptoCurrencies/comments/7oehcc/huge_prl_news_release_heavy_hitter_advisors/ds9dkdz/',\n",
       " '/r/Oyster/comments/7oefw9/oyster_pearl_team_update/ds9dk60/',\n",
       " '/r/CryptoCurrency/comments/7oeeqb/oyster_pearl_team_update_oysterprotocol_medium/ds9djnv/',\n",
       " '/r/BlockChain/comments/7ob2de/restart_energy_recognized_as_largest_energy/ds8ornx/',\n",
       " '/r/CryptoCurrency/comments/7ob4jm/ties_at_blockchain_conference_in_kyiv/ds8or3m/',\n",
       " '/r/CreatingValue/comments/7o2v0s/cto_of_satoshilabs_trezor_is_not_vulnerable_to/ds6ug6n/',\n",
       " '/r/TREZOR/comments/7o2cpm/cto_of_satoshilabs_trezor_is_not_vulnerable_to/ds6ufq0/',\n",
       " '/r/CryptoCurrency/comments/7o1e8x/this_brand_new_high_quality_vechain_ad_also/ds6mlic/',\n",
       " '/r/Vechain/comments/7o1aid/new_official_vechain_ad/ds6ml0e/',\n",
       " '/r/u_jodycoins/comments/7o3gmk/see_how_navpay_mobile_wallet_instant_transactions/ds6mjpd/',\n",
       " '/r/CryptoCurrency/comments/7o348g/vechain_ven_in_a_nutshell/ds6mgd0/',\n",
       " '/r/Vechain/comments/7o342o/vechain_ven_in_a_nutshell/ds6mfrm/',\n",
       " '/r/BlockChain/comments/7o3o2d/decentralized_energy_trading_platform_with_p2p/ds6k14w/',\n",
       " '/r/CryptoCurrency/comments/7o3qhq/tie_token_listed_on_tidex/ds6jy8r/',\n",
       " '/r/CryptoCurrency/comments/7nty22/xrb_devs_fixed_the_node_bug_for_bitgrails_in_less/ds5ftiw/',\n",
       " '/r/CryptoCurrency/comments/7nvdsc/how_i_feel_when_all_my_friends_are_asking_where/ds5fp5i/',\n",
       " '/r/BlockChain/comments/7ny7g7/go_vertical_aerial_taxi_hailing_to_come_to_dubai/ds5dwk7/',\n",
       " '/r/CryptoCurrency/comments/7mvdvq/vitalik_buterin_cryptocurrency_should_focus_less/ds4gzfs/',\n",
       " '/r/ethtrader/comments/7n0geo/vitalik_buterin_cryptocurrency_should_focus_less/ds4gzap/',\n",
       " '/r/btc/comments/7mvdxo/vitalik_buterin_cryptocurrency_should_focus_less/ds4gz5b/',\n",
       " '/r/ethereum/comments/7mve4y/vitalik_buterin_cryptocurrency_should_focus_less/ds4gyzj/',\n",
       " '/r/icocrypto/comments/7n844t/tiesnetwork_and_tidex_join_forces/drzsgp5/',\n",
       " '/r/CryptoCurrency/comments/7n7zpb/tiesnetwork_and_tidex_join_forces/drzscmn/',\n",
       " '/r/CryptoCurrency/comments/7mpbw0/justin_sun_tron_ceo_and_founder_will_be_doing_a/drwh27w/',\n",
       " '/r/Tronix/comments/7mm6tw/justin_sun_tweets_that_there_will_be_a_live/drwh241/',\n",
       " '/r/CryptoCurrency/comments/7msewy/weekly_review_wtc_the_remarkable_yet_unmarketed/drwh1dn/',\n",
       " '/r/waltonchain/comments/7msmfo/weekly_review_waltonchain_remarkable_yet/drwh18h/',\n",
       " '/r/SideProject/comments/7mmayg/tiesnetwork_the_platform_for_the_enterprise_of/drvna40/',\n",
       " '/r/Ripple/comments/7mce1c/made_some_xrp_paper_notes_just_printed_them_and/drteicr/',\n",
       " '/r/CryptoCurrency/comments/7mdm0f/neo_bitmain_and_elastos_to_announce_partnership/drtehsj/',\n",
       " '/r/NEO/comments/7mc02h/g3_of_china_neo_bitmain_elastos/drtehmi/',\n",
       " '/r/Tronix/comments/7m5xh8/one_more_senior_developer_from_alibaba_just/drrtcz9/',\n",
       " '/r/CryptoCurrency/comments/7m5xhw/tron_hires_another_senior_developer_from_alibaba/drrtcvr/',\n",
       " '/r/CryptoCurrency/comments/7m3q6d/jim_breyer_forbes_400_talks_about_vechain/drrtcm8/',\n",
       " '/r/Vechain/comments/7m3mz0/jim_breyer_venture_capitalistinvestor_watching/drrtcdw/',\n",
       " '/r/CryptoCurrency/comments/7m41fy/jim_breyer_venture_capitalistinvestor_watching/drrtcai/',\n",
       " '/r/btc/comments/7m0qpr/the_truth_about_roger_ver_bitcoin_and_bch_and_why/drqk0jb/',\n",
       " '/r/CryptoCurrency/comments/7m0qr3/the_truth_about_roger_ver_bitcoin_and_bch_and_why/drqk0as/',\n",
       " '/r/CryptoCurrency/comments/7m08lc/iotas_data_market/drqjsq4/',\n",
       " '/r/dogecoin/comments/7lz697/dogecoin_officially_joins_the_1_billion_club/drqjrpb/',\n",
       " '/r/CryptoCurrency/comments/7lz7lb/dogecoin_officially_joins_the_1_billion_club/drqjrn4/',\n",
       " '/r/RaiBlocks/comments/7lu0uk/raiblocks_now_more_popular_than_unicorns/drp7tsg/',\n",
       " '/r/CryptoCurrency/comments/7ltznp/raiblocks_now_more_popular_than_unicorns/drp7tnq/',\n",
       " '/r/vergecurrency/comments/7lu3f8/just_found_this_great_information_to_the_moon/drp7szb/',\n",
       " '/r/CryptoCurrency/comments/7lsg67/john_mcafee_paid_to_pump_coins/drp7ssh/',\n",
       " '/r/ethtrader/comments/7lr5ia/will_ethereum_be_the_next_facebook/drp7sh0/',\n",
       " '/r/CryptoCurrency/comments/7lu369/will_ethereum_be_the_next_facebook/drp7scd/',\n",
       " '/r/Bitcoin/comments/7cdlb1/bitcoin_is_dead_for_the_20th_time/drm9tg1/',\n",
       " '/r/Bitcoin/comments/7lesa2/a_history_lesson_for_the_noobs/drm9t92/',\n",
       " '/r/Bitcoin/comments/7lhcr2/how_to_start_with_500_on_crypto/drm895l/',\n",
       " '/r/Bitcoin/comments/7lh4ty/with_bitcoin_crashing_heres_why_its_a_terrible/drm87j2/',\n",
       " '/r/Bitcoin/comments/7l9bkl/two_weeks_after_losing_60_million_in_bitcoin/drkh4t5/',\n",
       " '/r/Bitcoin/comments/7l978m/roger_crying_seems_like_an_unstable_guy/drkh40b/',\n",
       " '/r/ethereum/comments/7l6o9m/understanding_tokens_101/drkfrz3/',\n",
       " '/r/Bitcoin/comments/7l7ut4/we_all_know_this_guy/drkfleo/',\n",
       " '/r/Bitcoin/comments/7l8j4d/a_million_dollar_bet_that_bitcoin_will_reach/drkfj7c/',\n",
       " '/r/Bitcoin/comments/7l8rj5/so_peter_schiff_is_predicting_bitcoin_going_to_000/drkdzkg/',\n",
       " '/r/AskReddit/comments/7ja52d/what_is_the_best_so_bad_its_good_movie_youve_ever/dr4rq94/',\n",
       " '/r/AskReddit/comments/7ja52d/what_is_the_best_so_bad_its_good_movie_youve_ever/dr4rpzr/',\n",
       " '/r/AskReddit/comments/7ja52d/what_is_the_best_so_bad_its_good_movie_youve_ever/dr4rocx/',\n",
       " '/r/AskReddit/comments/7ja1xx/what_are_some_deeply_unsettling_facts/dr4qppd/',\n",
       " '/r/AskReddit/comments/7ja1xx/what_are_some_deeply_unsettling_facts/dr4qpkr/',\n",
       " '/r/AskReddit/comments/7ja1xx/what_are_some_deeply_unsettling_facts/dr4qpe7/',\n",
       " '/r/AskReddit/comments/7ja1xx/what_are_some_deeply_unsettling_facts/dr4qp9i/',\n",
       " '/r/AskReddit/comments/7ja1xx/what_are_some_deeply_unsettling_facts/dr4qp21/',\n",
       " '/r/AskReddit/comments/7j9p4f/if_you_were_the_opposite_sex_for_24_hours_what/dr4oqoa/',\n",
       " '/r/AskReddit/comments/7j9p4f/if_you_were_the_opposite_sex_for_24_hours_what/dr4oq6f/',\n",
       " '/r/AskReddit/comments/7j9arl/what_are_you_unusually_bad_at/dr4mzns/',\n",
       " '/r/AskReddit/comments/7j8zkn/whats_the_funniest_movie_you_ever_seen/dr4m4nx/',\n",
       " '/r/AskReddit/comments/7j8zkn/whats_the_funniest_movie_you_ever_seen/dr4m4i2/',\n",
       " '/r/AskReddit/comments/7j8zkn/whats_the_funniest_movie_you_ever_seen/dr4m41f/',\n",
       " '/r/AskReddit/comments/7j8zkn/whats_the_funniest_movie_you_ever_seen/dr4m3yn/',\n",
       " '/r/AskReddit/comments/7j8zkn/whats_the_funniest_movie_you_ever_seen/dr4m3vu/',\n",
       " '/r/AskReddit/comments/7j95as/what_was_your_worst_experience_like_with_the/dr4m1bc/',\n",
       " '/r/AskReddit/comments/7j9768/what_important_life_lessons_have_you_learned_from/dr4lwlo/',\n",
       " '/r/AskReddit/comments/7j1m0l/what_are_the_most_interesting_subreddit_for_you/dr2ycbp/',\n",
       " '/r/AskReddit/comments/7j1mwm/what_is_the_thread_every_redditor_must_read_for/dr2yaap/',\n",
       " '/r/AskReddit/comments/7j1m62/whats_the_best_offline_game_youve_ever_played/dr2y8ay/',\n",
       " '/r/AskReddit/comments/7j1m62/whats_the_best_offline_game_youve_ever_played/dr2y7vw/',\n",
       " '/r/BitcoinMarkets/comments/7h8rj8/what_do_you_estimate_will_happen_first_20k_or_5k/dqpcsu4/',\n",
       " '/r/CryptoMarkets/comments/7h63pm/monero_passes_200/dqpbyhv/',\n",
       " '/r/AskReddit/comments/83fbjy/whats_the_most_painful_experience_youve_had_that/dvhe8h2/',\n",
       " '/r/AskReddit/comments/83f3sz/for_those_who_smoke_weed_how_does_it_feel/dvhe672/',\n",
       " '/r/AskReddit/comments/83fglr/what_movie_that_is_based_on_a_true_story_is/dvhe4oa/',\n",
       " '/r/AskReddit/comments/83fagi/what_are_some_of_the_best_brain_teasers_in_the/dvhe338/',\n",
       " '/r/AskReddit/comments/83f8wn/why_is_apple_so_popular/dvhe03b/',\n",
       " '/r/AskReddit/comments/82hekj/what_was_your_ive_become_my_father_moment/dva3cji/',\n",
       " '/r/AskReddit/comments/82h8i0/what_is_the_most_gorgeous_view_you_have_ever_seen/dva3ama/',\n",
       " '/r/AskReddit/comments/82hap9/what_counterargument_always_infuriates_you/dva38je/',\n",
       " '/r/AskReddit/comments/82h8ol/if_you_were_a_serial_killer_what_would_your/dva2p8w/',\n",
       " '/r/CryptoCurrency/comments/7n3fxk/im_truly_disappointed/dryxzeh/',\n",
       " '/r/askscience/comments/84qfi6/do_electrical_cables_have_a_jerk_effect_similar/dvslp5d/',\n",
       " '/r/AskReddit/comments/83u8so/what_is_your_favourite_colour/dvkjz0d/',\n",
       " '/r/AskReddit/comments/83uahm/what_is_the_ultimate_act_of_laziness/dvkjxqi/',\n",
       " '/r/AskReddit/comments/83tm2g/procrastinators_of_reddit_what_are_your_favourite/dvkhmp8/',\n",
       " '/r/AskReddit/comments/83tl42/whats_your_favourite_ridiculous_unit_of/dvkhhdy/',\n",
       " '/r/CryptoCurrencies/comments/829vdy/investment/dvbauw0/',\n",
       " '/r/CryptoMarkets/comments/823xx0/dark_horses_guys/dvbasj7/',\n",
       " '/r/CryptoCurrency/comments/82gile/the_top_20_coins_percentage_drop_from_ath_in_order/dvbacyf/',\n",
       " '/r/CryptoCurrency/comments/82lasq/crypto_is_bigger_than_the_iron_age_the_bronze_age/dvbacmn/',\n",
       " '/r/CryptoCurrency/comments/8261i5/thats_why_i_invest_in_crypto/dvbac72/',\n",
       " '/r/SideProject/comments/7mmayg/tiesnetwork_the_platform_for_the_enterprise_of/drvoz1f/',\n",
       " '/r/askscience/comments/84jx3w/weve_now_discovered_that_spending_a_year_in_space/dvqmjgo/',\n",
       " '/r/Showerthoughts/comments/84jqme/using_a_dollar_bill_as_a_book_mark_is_cheaper/dvqlnlb/',\n",
       " '/r/AskReddit/comments/84ir89/parents_of_reddit_what_are_some_things_you_know/dvqlksy/',\n",
       " '/r/AskReddit/comments/83udgu/whats_the_whitest_thing_you_did_today/dvkmz44/',\n",
       " '/r/AskReddit/comments/83uahm/what_is_the_ultimate_act_of_laziness/dvkkq9t/',\n",
       " '/r/altcoin/comments/82niqz/daily_altcoin_jibba_jabba_march_07_2018/dvbezj9/',\n",
       " '/r/CryptoCurrencies/comments/82l3gs/daily_crypto_discussion_thread_030718/dvbeyh4/',\n",
       " '/r/BitcoinAll/comments/820zu9/ibm_says_blockchain_is_really_a_fundamentally/dv7posw/',\n",
       " '/r/BitcoinAll/comments/825dz5/another_big_step_towards_mainstream_adoption/dv7pmpv/',\n",
       " '/r/CryptoCurrency/comments/825e77/adoption_time_paypal_patenting_a_very_interesting/dv7pmgh/',\n",
       " '/r/Bitcoin/comments/825dtw/another_big_step_towards_mainstream_adoption/dv7pm7r/',\n",
       " '/r/CryptoCurrency/comments/8136o9/daily_general_discussion_march_1_2018/dv0odl9/',\n",
       " '/r/altcoin/comments/814ivc/daily_altcoin_jibba_jabba_march_01_2018/dv0oaee/',\n",
       " '/r/altcoin/comments/814ivc/daily_altcoin_jibba_jabba_march_01_2018/dv0nk9k/',\n",
       " '/r/Cryptfunder/comments/803ejh/putin_just_endorsed_blockchain_and/duyi6ll/',\n",
       " '/r/Bitcoin/comments/801xu0/breaking_putin_fully_endorses_blockchain/duyi5vv/',\n",
       " '/r/ethereum/comments/800psk/putin_endorses_blockchain_the_stone_age_has_not/duyi5k6/',\n",
       " '/r/CryptoCurrency/comments/80a7ab/icx_wallet_is_now_live/duyhyxh/',\n",
       " '/r/Crypto_Currency_News/comments/80aeje/icon_wallet_is_here/duyhyom/',\n",
       " '/r/GGCrypto/comments/80apjy/icx_wallet_is_now_live/duyhyi4/',\n",
       " '/r/helloicon/comments/80a67i/wallet_is_now_live/duyhydn/',\n",
       " '/r/GGCrypto/comments/7ze103/johann_jungwirth_cdo_of_volkswagen_is_a_big/dunex5p/',\n",
       " '/r/CryptoCurrency/comments/7zd522/johann_jungwirth_cdo_of_volkswagen_is_a_big/dunex12/',\n",
       " '/r/Iota/comments/7zcyq5/i_am_a_big_believer_in_distributed_ledger/dunewka/',\n",
       " '/r/CryptoCurrency/comments/7zejbg/diversifying_bitcoin_take_a_look_at_these_three/dunevky/',\n",
       " '/r/CryptoCurrencies/comments/7xnmkc/daily_crypto_discussion_thread_021518/dub8csj/',\n",
       " '/r/CryptoCurrency/comments/7xojzy/daily_general_discussion_february_15_2018/dub8bq9/',\n",
       " '/r/CryptoCurrency/comments/7xfoxj/wow_in_south_korea_you_can_walk_into_exchanges/du88gi3/',\n",
       " '/r/LitecoinMarkets/comments/7xfp1w/wow_in_south_korea_you_can_walk_into_exchanges/du88gdr/',\n",
       " '/r/bitcoin_uncensored/comments/7xfpcp/wow_in_south_korea_you_can_walk_into_exchanges/du88gb0/',\n",
       " '/r/btc/comments/7xfpbc/wow_in_south_korea_you_can_walk_into_exchanges/du88g6v/',\n",
       " '/r/CryptoMarkets/comments/7xfozy/wow_in_south_korea_you_can_walk_into_exchanges/du88g51/',\n",
       " '/r/CryptoCurrencies/comments/7uoehz/daily_crypto_discussion_thread_020218/dtma9as/',\n",
       " '/r/CryptoCurrency/comments/7upe01/daily_general_discussion_february_2_2018/dtma8ha/',\n",
       " '/r/Ripplexrp/comments/7uib0l/why_ripple_will_explode_soon/dtm9ngu/',\n",
       " '/r/Crypto_General/comments/7uiax0/why_ripple_will_explode_soon/dtm9nc9/',\n",
       " '/r/altcoin/comments/7uiavb/why_ripple_will_explode_soon/dtm9na5/',\n",
       " '/r/ripplers/comments/7uiaz8/why_ripple_will_explode_soon/dtm9n7k/',\n",
       " '/r/CryptoCurrency/comments/7uib8n/why_ripple_will_explode_soon/dtm9n53/',\n",
       " '/r/Ripple/comments/7ul1v8/bitgo_to_become_first_independent_qualified/dtm995o/',\n",
       " '/r/Ripple/comments/7ukgjo/woori_and_shinhan_decide_to_extend_ripple_tests/dtm98qj/',\n",
       " '/r/CryptoCurrency/comments/7ukyvb/woori_and_shinhan_decide_to_extend_ripple_tests/dtm98m0/',\n",
       " '/r/BlockChain/comments/7ujnqd/illinois_eyes_blockchain_for_ids_and_public_asset/dtm954p/',\n",
       " '/r/ethtrader/comments/7ulj1j/why_decentralized_exchanges_are_the_future_for/dtm94rv/',\n",
       " '/r/CryptoCurrency/comments/7uk15p/european_commission_launches_the_eu_blockchain/dtm94ew/',\n",
       " '/r/CryptoCurrency/comments/7u7w14/daily_general_discussion_january_31_2018/dtitin3/',\n",
       " '/r/CryptoCurrencies/comments/7u14qt/ties_network_tie_hits_new_price/dtgp95u/',\n",
       " '/r/CryptoCurrencies/comments/7tcli7/tokens_that_are_worth_keeping_a_close_eye_on/dtbka4s/',\n",
       " '/r/CossIO/comments/7sxn1g/should_coss_be_concerned_that_another_established/dt9lyys/',\n",
       " '/r/army/comments/7t01vx/looks_like_you_buy_will_be_able_to_trade_hooah/dt9lyvw/',\n",
       " '/r/Bitcoin/comments/7t24u3/304876_people_in_line_for_early_access_to/dt9lys6/',\n",
       " '/r/Bitcoin/comments/7sx4ca/robinhood_crypto_buy_bitcoin_and_other/dt9lylw/',\n",
       " '/r/RobinHoodPennyStocks/comments/7sx86c/robinhood_is_getting_into_cryptos_sign_up_here/dt9lyk0/',\n",
       " '/r/wallstreetbets/comments/7sx2rz/rh_continues_to_help_its_userbase_lose_money/dt9lyfk/',\n",
       " '/r/Bitcoin/comments/7szfx0/robinhood_crypto_just_hit_200k_requests_for_early/dt9lydq/',\n",
       " '/r/u_MrSantoshi/comments/7szjgx/keeping_coinbase_on_their_toes_robinhood_adds/dt9lxsu/',\n",
       " '/r/u_geeky_dhruval/comments/7t1m4h/keeping_coinbase_on_their_toes_robinhood_adds/dt9lxpd/',\n",
       " '/r/BitcoinAll/comments/7sx65a/keeping_coinbase_on_their_toes_robinhood_adds/dt9lxn4/',\n",
       " '/r/ethereum/comments/7semit/lexit_are_bringing_mergers_acquisitions_to_the/dt44rtq/',\n",
       " '/r/CryptoCurrency/comments/7qked9/why_lexit_needs_a_token_and_ma_the_blockchain/dt44rp8/',\n",
       " '/r/CryptoCurrency/comments/7s6alc/ethereum_yellow_paper_has_bren_updated/dt44r6j/',\n",
       " '/r/CryptoCurrency/comments/7sdb3o/ethereum_yellow_paper_has_been_updated/dt44r1d/',\n",
       " '/r/stellar1/comments/7s8net/ethereum_yellowpaper/dt44qsl/',\n",
       " '/r/altcoin/comments/7sdyov/rootproject_erc20_for_social_good_cofounder_joins/dt44q3r/',\n",
       " '/r/Bitcoin/comments/6qxou7/there_is_more_time_than_we_think/dt2306j/',\n",
       " '/r/Bitcoin/comments/7epdj8/lets_take_a_moment_to_appreciate_bitcoin_dot_org/dt2303e/',\n",
       " '/r/btc/comments/7s1uwf/bitcoinorg_has_removed_the_lowfee_part_of_bitcoin/dt22zlk/',\n",
       " '/r/btc/comments/7qbojv/lightning_just_got_used_to_pay_for_a_steam_game/dt08zsh/',\n",
       " '/r/Bitcoin/comments/7aq0fx/lily_allen_turned_down_200k_in_bitcoins_for_a_gig/dsyqrk2/',\n",
       " '/r/bitcoinregrets/comments/7freyt/lily_allen_calls_herself_an_idiot_for_declining/dsyqrej/',\n",
       " '/r/GoldandBlack/comments/7atw8d/lily_allen_calls_herself_an_idiot_for_declining/dsyqrai/',\n",
       " '/r/Bitcoin/comments/7qv9o5/this_one_got_me/dstfiol/',\n",
       " '/r/CryptoCurrency/comments/7qy81j/veteran_crypto_investors_right_now/dstehy4/',\n",
       " '/r/CryptoCurrency/comments/7p7n30/trons_whitepaper_is_copied_plagiarized/dsgpri2/',\n",
       " '/r/Tronix/comments/7p6urt/anybody_worried_about_this/dsgpr74/',\n",
       " '/r/ethtrader/comments/7pc1tq/5_safest_cryptocurrency_bets_for_2018/dsgpqir/',\n",
       " '/r/Monero/comments/7pcdzc/monero_4_safest_cryptocurrency_bet_for_2018/dsgpqcm/',\n",
       " '/r/Ripple/comments/7p6sy8/connecting_some_dots/dsgoog1/',\n",
       " '/r/Tronix/comments/7p7pxy/looks_like_everyone_is_trying_to_make_a/dsgoob9/',\n",
       " '/r/cryptonewswire/comments/7pbl2v/nfl_superstar_richard_sherman_lays_out_3_issues/dsgonui/',\n",
       " '/r/CoinBase/comments/7pesav/the_mother_of_all_bubbles_no_one_talks_about/dsgollc/',\n",
       " '/r/CryptoCurrency/comments/7p5qy4/iota_possible_use_cases_for_bosch/dseua32/',\n",
       " '/r/ethtrader/comments/7p20so/fluffy_the_scamcoins_slayer_is_the_hero_we_need/dseu9s6/',\n",
       " '/r/CryptoCurrency/comments/7p2ikp/stellar_reaches_100_commitment_on_stackoverflow/dseu8rd/',\n",
       " '/r/Stellar/comments/7mxfq3/hey_guys_please_support_proposal_to_add_stellar/dseu8lc/',\n",
       " '/r/Stellar/comments/7mxxqu/click_here_to_support_the_stellar_stack_exchange/dseu8cx/',\n",
       " '/r/BlockChain/comments/7oyghl/how_tiesdb_could_help_get_rid_of_etheriums/dsd9kf0/',\n",
       " '/r/icocrypto/comments/7oyfox/blockchain_airspace_air_taxi_creator_vimana/dsd9iov/',\n",
       " '/r/xrptrader/comments/7ofsyd/built_a_chrome_extension_rippletick_that_shows/ds9v9mc/',\n",
       " '/r/RippleTalk/comments/7ofv9s/i_built_a_chrome_extension_that_shows_live_xrp/ds9v9gv/',\n",
       " '/r/Ripple/comments/7of65j/fox_news_interview_with_ripple_ceo_on_the_future/ds9v81b/',\n",
       " '/r/CryptoCurrency/comments/7ogco8/ripple_ceo_live_on_fox_business/ds9v7x0/',\n",
       " '/r/BitcoinAll/comments/7ofph3/be_careful_with_storing_bitcoin_on_a_computer/ds9eprg/',\n",
       " '/r/BitcoinAll/comments/7oefih/bitflyers_new_us_exchange_is_offering_0_trading/ds9eku8/',\n",
       " '/r/BitcoinAll/comments/7oc90o/brian_armstrong_really_sigh/ds9ek7z/',\n",
       " '/r/BlockChain/comments/7odn2x/first_decentralized_public_smart_database/ds9c610/',\n",
       " '/r/BlockChain/comments/7odn2x/first_decentralized_public_smart_database/ds8qq5z/',\n",
       " '/r/ethereum/comments/7nvigr/warning_scam_ico_othororg_list_vitalik_as_a_team/ds5fmn0/',\n",
       " '/r/icocrypto/comments/7ny3u9/tiesnetwork_business_platform_backed_by/ds5d4gs/',\n",
       " '/r/CryptoCurrency/comments/7mgyur/ether_delta_hacker_possibly_found_big_news_for/ds4sn7n/',\n",
       " '/r/ethtrader/comments/7mipam/etherdelta_hacker_found/ds4smx8/',\n",
       " '/r/CryptoCurrency/comments/7nkqyf/privacy_coin_verge_is_allegedly_leaking_users_ip/ds4slwu/',\n",
       " '/r/CryptoMarkets/comments/7nkm3d/privacy_coin_verge_is_allegedly_leaking_users_ip/ds4slho/',\n",
       " '/r/CryptoCurrency/comments/7n1v98/tiesnetwork_announces_strategic_partnership_with/dryd4jd/',\n",
       " '/r/btc/comments/7mobd7/uh_oh_cnbc_says_bitcoin_cash_is_centralized_and/drwo88u/',\n",
       " '/r/Bitcoin/comments/7moei8/good_to_see_cnbc_getting_their_facts_straight/drwmyc6/',\n",
       " '/r/btc/comments/7mq25x/core_supporters_happy_that_the_establishment/drwmy94/',\n",
       " '/r/Bitcoin/comments/7mj1yi/mainnet_lightning_network_paying_my_actual_phone/drutrre/',\n",
       " '/r/btc/comments/7mkhc2/what_do_you_folks_make_of_this/drutroj/',\n",
       " '/r/btc/comments/7mkhc2/what_do_you_folks_make_of_this/drutg3l/',\n",
       " '/r/Bitcoin/comments/7mj1yi/mainnet_lightning_network_paying_my_actual_phone/drutfru/',\n",
       " '/r/Bitcoin/comments/7m6y2k/bitcoins_biggest_threat_i_try_to_pay_as_little/drt7p0y/',\n",
       " '/r/BitcoinAll/comments/7m78qs/bitcoin_price_crosses_15000_as_rebound_begins/drt7okz/',\n",
       " '/r/CryptoCurrency/comments/7mag2p/nyse_and_cboe_filed_for_bitcoin_etfs_likely_to_be/drt7o22/',\n",
       " '/r/Bitcoin/comments/7maood/nyse_and_cboe_file_for_bitcoin_etfs/drt7nyu/',\n",
       " '/r/CryptoCurrency/comments/7ma45i/lightning_network_rc1_release_completes_bitcoin/drt7kkx/',\n",
       " '/r/Tronix/comments/7m7w4j/omg_pump_incoming/drrylir/',\n",
       " '/r/CryptoCurrency/comments/7m7xc5/john_mcafee_picks_trx_as_coin_of_the_day/drrylfh/',\n",
       " '/r/Bitcoin/comments/7m6y2k/bitcoins_biggest_threat_i_try_to_pay_as_little/drrxiwd/',\n",
       " '/r/Bitcoin/comments/7l5ro6/all_this_drama_is_nonsense_focus_on_the_technology/drrxijc/',\n",
       " '/r/Iota/comments/7m66nm/tangle_is_the_next_thing/drrxgsj/',\n",
       " '/r/IOTAmarkets/comments/7kh84g/speed_up_your_iota_transaction/drrxgch/',\n",
       " '/r/Stellar/comments/7lr523/5_things_you_need_to_know_about_stellar_lumens/drqpy4b/',\n",
       " '/r/CryptoCurrency/comments/7ly0pj/5_things_you_need_to_know_about_stellar_lumens/drqpxyi/',\n",
       " '/r/Iota/comments/7lw42c/iotas_data_market/drqpvbp/',\n",
       " '/r/NEO/comments/7m14sw/trinity_new_neo_project_a_short_video_helps_you/drqpie3/',\n",
       " '/r/CryptoCurrency/comments/7m1cvt/at_the_present_neo_can_do_1000_10000_tx_per/drqpi8z/',\n",
       " '/r/CryptoCurrency/comments/7lz7lb/dogecoin_officially_joins_the_1_billion_club/drqpho2/',\n",
       " '/r/XRP/comments/7ke648/ripple_price_predictions_by_2020_1000_can_anyone/drpclbi/',\n",
       " '/r/Ripple/comments/7lvs6z/can_anyone_verify_which_newspaper_made_this/drpcl3o/',\n",
       " '/r/CryptoCurrency/comments/7ltwb0/crypto_card_lets_you_pay_for_usd_transactions/drpcjhx/',\n",
       " '/r/Ripple/comments/7lrlx7/ripple_used_for_first_user_purchase_using_centra/drpcj2q/',\n",
       " '/r/btc/comments/7lvav7/meet_picasso_the_painter_on_gdax_bitfinexed_medium/drpcakh/',\n",
       " '/r/btc/comments/7lsn5u/bitcoin_legacy_is_not_a_store_of_value/drpc9u7/',\n",
       " '/r/btc/comments/7lr931/the_japanese_are_figuring_out_that_bitcoin_cash/drpc9g2/',\n",
       " '/r/BlockChain/comments/7lhe3i/blockchain_airspace_air_taxi_creator_vimana/drmmrle/',\n",
       " '/r/CryptoCurrency/comments/7lei2z/bitcoin_drops_22_in_4_days_as_infighting_goes/drm3q9d/',\n",
       " '/r/CryptoCurrency/comments/7lglzr/iota_selected_by_tokyo_metropolitan_government/drm3pfd/',\n",
       " '/r/CryptoCurrency/comments/7lekw7/request_network_partners_with_bee_token_team/drm3p4x/',\n",
       " '/r/CryptoCurrency/comments/7leuax/what_is_monero_and_why_its_a_better_investment/drm3oym/',\n",
       " '/r/Bitcoin/comments/7leubr/fact_tonight_is_the_fifth_30_correction_of_2017/drm35jg/',\n",
       " '/r/Bitcoin/comments/7l8p4r/the_cryptocurrency_market_is_now_doing_the_same/drkqnql/',\n",
       " '/r/Bitcoin/comments/7l1kss/54_of_reachable_bcash_full_nodes_are_running_on/drkqmgv/',\n",
       " '/r/Bitcoin/comments/7l8u0c/the_secret_goldman_sachs_tapes_the_reporter_jake/drkqigy/',\n",
       " '/r/Bitcoin/comments/7l55ey/i_think_insider_trading_is_a_noncrimeroger_ver/drkqh3p/',\n",
       " '/r/Bitcoin/comments/7l9wbz/will_cryptocurrencies_replace_precious_metals_in/drkpcb9/',\n",
       " '/r/Bitcoin/comments/7l1kss/54_of_reachable_bcash_full_nodes_are_running_on/drkp6ej/',\n",
       " '/r/Bitcoin/comments/7l9sj3/this_cryptocurrency_founder_sold_all_his_coins/drkoi3e/',\n",
       " '/r/Futurology/comments/7j7b3l/trump_wants_the_us_to_return_to_the_moon_seeing/dr4638f/',\n",
       " '/r/funny/comments/7j70po/my_husband_always_got_colored_pencils_for_his/dr45ig0/',\n",
       " '/r/worldnews/comments/7j63tt/donald_trump_not_invited_to_french_climate_change/dr45599/',\n",
       " '/r/Showerthoughts/comments/7j6xu4/realistically_super_8_was_stranger_things_before/dr450ox/',\n",
       " '/r/nottheonion/comments/7j6zp7/judge_orders_alabama_not_to_destroy_voting/dr44u70/',\n",
       " '/r/AskReddit/comments/7j75wu/what_is_the_best_used_car/dr44s4g/',\n",
       " '/r/pics/comments/7j75lf/this_is_what_2446400000_looks_like/dr44pwv/',\n",
       " '/r/Showerthoughts/comments/7j74id/there_was_a_point_in_life_where_everybody_thought/dr44fbi/',\n",
       " '/r/funny/comments/7j6tjr/paint_me_like_your_french_girls/dr41yb7/',\n",
       " '/r/AskReddit/comments/7j6tkn/what_things_are_easier_said_than_done/dr41wt8/',\n",
       " '/r/AskReddit/comments/7j6sj0/people_that_get_road_rage_often_what_do_other/dr41q7t/',\n",
       " '/r/Bitcoin/comments/7j6rtj/where_can_i_invest_in_bitcoin/dr41jtm/',\n",
       " '/r/Showerthoughts/comments/7j6r4c/subway_sandwhiches_are_just_hotdog_salads_with/dr41e70/',\n",
       " '/r/AskReddit/comments/7j6pye/what_kind_of_rampage_are_you_thinking_up_if_net/dr419lm/',\n",
       " '/r/personalfinance/comments/7j6pos/how_can_i_spend_my_time_to_make_some_extra_cash/dr412zo/',\n",
       " '/r/AskReddit/comments/7j6oh3/what_is_the_worst_movie_you_have_ever_watched/dr40uxs/',\n",
       " '/r/videos/comments/7j31he/former_facebook_exec_i_think_we_have_created/dr40ibh/',\n",
       " '/r/funny/comments/7j4j2l/imagine_losing_because_of_your_penis/dr400fz/',\n",
       " '/r/television/comments/7j2cpm/mario_batali_steps_away_from_restaurant_empire/dr3yjr6/',\n",
       " '/r/Bitcoin/comments/7j653t/what_does_it_feel_to_be_rich_beacuse_of_bitcoin/dr3xldp/',\n",
       " '/r/AskReddit/comments/84373d/what_is_the_sure_way_to_get_a_girlfriend/dvmg81r/',\n",
       " '/r/AskReddit/comments/84373d/what_is_the_sure_way_to_get_a_girlfriend/dvmg7wz/',\n",
       " '/r/AskReddit/comments/84373d/what_is_the_sure_way_to_get_a_girlfriend/dvmg7pt/',\n",
       " '/r/AskReddit/comments/83uujt/what_was_the_best_thing_that_happened_to_you_today/dvkpz9j/',\n",
       " '/r/AskReddit/comments/83v3hk/what_is_your_oldest_memory/dvkpuxm/',\n",
       " '/r/AskReddit/comments/83v2r5/whats_something_you_dont_see_anymore/dvkptt6/',\n",
       " '/r/AskReddit/comments/83urt9/what_are_the_unwritten_rules_of_public_bathrooms/dvknr2h/',\n",
       " '/r/AskReddit/comments/83urt9/what_are_the_unwritten_rules_of_public_bathrooms/dvknqx6/',\n",
       " '/r/AskReddit/comments/83udgg/which_books_youve_read_changed_your_life/dvkk356/',\n",
       " '/r/AskReddit/comments/83udgg/which_books_youve_read_changed_your_life/dvkk2p1/',\n",
       " '/r/AskReddit/comments/83udgg/which_books_youve_read_changed_your_life/dvkk2fc/',\n",
       " '/r/AskReddit/comments/83udgu/whats_the_whitest_thing_you_did_today/dvkk1ox/',\n",
       " '/r/AskReddit/comments/83udgu/whats_the_whitest_thing_you_did_today/dvkk1fi/',\n",
       " '/r/altcoin/comments/82niqz/daily_altcoin_jibba_jabba_march_07_2018/dvbf68r/',\n",
       " '/r/CryptoCurrencies/comments/82l3gs/daily_crypto_discussion_thread_030718/dvbf3qn/',\n",
       " '/r/altcoin/comments/81pkaa/daily_altcoin_jibba_jabba_march_03_2018/dv7rcbp/',\n",
       " '/r/CryptoCurrencies/comments/822xis/daily_crypto_discussion_thread_030518/dv7rbwy/',\n",
       " '/r/CryptoMarkets/comments/8134zp/rcryptomarkets_daily_discussion_01mar2018/dv2fxq4/',\n",
       " '/r/CryptoCurrencies/comments/81b9me/daily_crypto_discussion_thread_030218/dv2fujc/',\n",
       " '/r/CryptoCurrency/comments/81c9if/daily_general_discussion_march_2_2018/dv2ftkv/',\n",
       " '/r/altcoin/comments/814ivc/daily_altcoin_jibba_jabba_march_01_2018/dv0js92/',\n",
       " '/r/CryptoCurrencies/comments/8124vs/daily_crypto_discussion_thread_030118/dv0jqjz/',\n",
       " '/r/CryptoCurrencies/comments/7xvwhn/daily_crypto_discussion_thread_021618/dubz5hv/',\n",
       " '/r/CryptoCurrency/comments/7xwuz4/daily_general_discussion_february_16_2018/dubz2y1/',\n",
       " '/r/CryptoCurrency/comments/7xojzy/daily_general_discussion_february_15_2018/dub5tfl/',\n",
       " '/r/CryptoCurrency/comments/7x9kjm/icos_to_watch_in_2018_imo/du6ht05/',\n",
       " '/r/CryptoCurrency/comments/7vlf0s/daily_general_discussion_february_6_2018/dtunabi/',\n",
       " '/r/CryptoCurrency/comments/7ur4ly/5_top_altcoins_and_cryptocurrencies_with_high/dtmg4qe/',\n",
       " '/r/CryptoCurrency/comments/7ujthg/oyster_prl_just_hit_a_huge_milestone_testnet/dtm8lc9/',\n",
       " '/r/Oyster/comments/7ugu6d/first_file_ever_encrypted_and_stored_on_the_iota/dtm8l7s/',\n",
       " '/r/RequestNetwork/comments/7ujv2e/request_network_6_use_cases_for_the_request/dtm8km7/',\n",
       " '/r/CryptoReview/comments/7upbi5/senate_crypto_hearing/dtm8jp4/',\n",
       " '/r/altcoin/comments/7upnqz/eu_will_invest_320_million_in_crypto_until_2020/dtm7xb9/',\n",
       " '/r/BrotherCrypto/comments/7uppn0/for_the_people_that_worry_eu_will_invest_320/dtm7x98/',\n",
       " '/r/Lisk/comments/7umgnm/good_news_for_lisk_project/dtm7x2c/',\n",
       " '/r/CryptoCurrency/comments/7u9k43/mooning_in_january/dtj2jy6/',\n",
       " '/r/litecoin/comments/7u44e9/with_respect_to_the_tether_situation_its_expected/dtiim9w/',\n",
       " '/r/CryptoCurrency/comments/7u3s9g/the_fact_that_the_subpoena_is_in_december_2017/dtiim4d/',\n",
       " '/r/Buttcoin/comments/7u94o9/the_fact_that_the_subpoena_is_in_december_2017/dtiilwm/',\n",
       " '/r/CryptoCurrency/comments/7u7w14/daily_general_discussion_january_31_2018/dtiil0y/',\n",
       " '/r/CryptoCurrency/comments/7u4lbc/huge_article_done_on_request_network/dtiijo4/',\n",
       " '/r/RequestNetwork/comments/7tzkkc/huge_article_done_on_request_network/dtiijgm/',\n",
       " '/r/ethtrader/comments/7u8hdh/omisego_town_hall_0x1/dtiiizc/',\n",
       " '/r/icocrypto/comments/7tzb6d/bounty0x_spotlight_article_decentralized_news/dtgzkfk/',\n",
       " '/r/FortunaBlockchain/comments/7tg7hv/the_prince_of_dubai_icie_ceo_a_professor_of/dtgzj4h/',\n",
       " '/r/CryptoCurrency/comments/7tzdaz/human_stupidity_is_the_only_unlimited_resource/dtgz8pj/',\n",
       " '/r/CryptoCurrency/comments/7tvd94/lol_the_worlds_first_autonomous_and/dtgz89s/',\n",
       " '/r/Buttcoin/comments/7tz6uo/the_snek_of_dividendsss_is_the_best_thing_to_ever/dtgz822/',\n",
       " '/r/Buttcoin/comments/7tqh8k/dividends_meme_coin_advisorslol_best_token_ever/dtgz7r9/',\n",
       " '/r/CryptoCurrency/comments/7tq3u5/a_new_cryptocurrency_based_on_new_fundamentals/dtgz7j4/',\n",
       " '/r/CryptoCurrencies/comments/7tcli7/tokens_that_are_worth_keeping_a_close_eye_on/dtbjp7y/',\n",
       " '/r/technology/comments/7t4csp/firstofitskind_decentralized_public_database_aims/dt9qpxt/',\n",
       " '/r/CryptoCurrency/comments/7sxsqq/an_example_of_how_request_req_will_work/dt9llnu/',\n",
       " '/r/RequestNetwork/comments/7ss0h7/great_example_of_how_req_will_work/dt9llio/',\n",
       " '/r/CryptoCurrency/comments/7t2gyw/bitgrail_now_to_require_dna_sample_1000_donation/dt9ll1z/',\n",
       " '/r/RaiTrade/comments/7t2a92/bitgrail_now_to_require_dna_sample_1000_donation/dt9lkv8/',\n",
       " '/r/CryptoCurrency/comments/7t0fn0/cryptonick_named_in_class_action_lawsuit_against/dt9ljze/',\n",
       " '/r/btc/comments/7sz4e9/classaction_lawsuit_filed_against_the_ultimate/dt9ljqz/',\n",
       " '/r/BitcoinAll/comments/7sz4nd/classaction_lawsuit_filed_against_the_ultimate/dt9ljlu/',\n",
       " '/r/CryptoCurrency/comments/7s71yh/waltonchain_grand_event_january_28th/dt3x7no/',\n",
       " '/r/waltonchain/comments/7s71qg/january_28th_will_be_an_exciting_day_for/dt3x7hl/',\n",
       " '/r/CryptoCurrency/comments/7scbbb/vechain_partnership_list_ethereum_world_news/dt3x6xv/',\n",
       " '/r/Vechain/comments/7scay2/vechain_partnership_list_and_why_its_going_to_be/dt3x6uv/',\n",
       " '/r/ethtrader/comments/7scbf0/from_eth_worldnews_vechain_partnership_list_and/dt3x6qa/',\n",
       " '/r/ethereum/comments/7ruz2a/canada_trialing_use_of_ethereum_blockchain_to/dt26r3e/',\n",
       " '/r/Futurology/comments/7s4ozs/canada_trialing_use_of_ethereum_blockchain_to/dt26qy0/',\n",
       " '/r/CryptoCurrency/comments/7rzils/canada_trialing_use_of_ethereum_blockchain_to/dt26qt7/',\n",
       " '/r/canada/comments/7s144o/canada_trialing_use_of_ethereum_blockchain_to/dt26qm0/',\n",
       " '/r/ethereum/comments/7s5hku/mario_draghi_will_discuss_bitcoin/dt26pq0/',\n",
       " '/r/Bitcoin/comments/7s5hg3/mario_draghi_will_discuss_bitcoin/dt26pli/',\n",
       " '/r/ethereum/comments/7s29in/beyond_the_bitcoin_bubble/dt26o8s/',\n",
       " '/r/blockchaindecentral/comments/7s38ba/beyond_the_bitcoin_bubble/dt26nzr/',\n",
       " '/r/CryptoCurrency/comments/7s4tm6/beyond_the_bitcoin_bubble_nytimes/dt26nv9/',\n",
       " '/r/CryptoCurrencies/comments/7s5il2/tie_token_price_increases_after_product_release/dt23tsi/',\n",
       " '/r/CryptoCurrency/comments/7qiuc8/no_cryptocurrency_trading_ban_south_korea/dsyolam/',\n",
       " '/r/CryptoCurrencyTrading/comments/7qiv41/no_cryptocurrency_trading_ban_south_korea/dsyol52/',\n",
       " '/r/RequestNetwork/comments/7qj5iu/no_ban_on_crypto_south_korea_government_confirms/dsyol24/',\n",
       " '/r/helloicon/comments/7qiy0b/no_cryptocurrency_trading_ban_south_korea/dsyokyq/',\n",
       " '/r/ethtrader/comments/7qkbn6/no_cryptocurrency_trading_ban_south_korea/dsyokuy/',\n",
       " '/r/Lisk/comments/7qkpjh/south_korea_govt_confirms_no_cryptocurrency/dsyokqb/',\n",
       " '/r/Tronix/comments/7qlp0q/no_cryptocurrency_trading_ban_south_korea/dsyokn8/',\n",
       " '/r/Ripple/comments/7qitt5/no_cryptocurrency_trading_ban_south_korea/dsyokjg/',\n",
       " '/r/CryptoCurrency/comments/7po92v/while_everybody_is_closely_watching_south_korea/dsipjwt/',\n",
       " '/r/CryptoCurrency/comments/7pmmt8/south_korean_government_distances_itself_from/dsihjrs/',\n",
       " '/r/altcoin/comments/7pmqnt/korean_govn_announces_that_the_news_that/dsihjpl/',\n",
       " '/r/CryptoCurrency/comments/7plwc1/binance_ceo_on_bloomberg_tv/dsihjd9/',\n",
       " '/r/litecoin/comments/7pm1uw/binance_ceo_on_bloomberg_tv/dsihj6y/',\n",
       " '/r/binance/comments/7plw8c/binance_ceo_on_bloomberg_tv/dsihj4h/',\n",
       " '/r/Bitcoin/comments/7plyiy/binance_ceo_on_bloomberg_tv/dsihj1y/',\n",
       " '/r/CryptoCurrency/comments/7pkvq6/neo_founder_da_hongfei_is_interviewed_on_bloomberg/dsihdar/',\n",
       " '/r/CryptoCurrency/comments/7pl5fi/neo_founder_says_its_time_for_regulators_to_step/dsihd45/',\n",
       " '/r/NEO/comments/7pkq6k/neo_founder_says_its_time_for_regulators_to_step/dsihd1a/',\n",
       " '/r/CryptoCurrencies/comments/7pfzax/top_5_cryptocurrencies_to_invest_in_2018_imo/dsh3eo9/',\n",
       " '/r/u_SovaCrypto/comments/7pbh7b/the_cryptocurrency_market_will_strengthen_after/dsgiqiw/',\n",
       " '/r/btc/comments/7p6wok/cryptocurrency_market_will_see_crash_and_then/dsgiqd7/',\n",
       " '/r/eth/comments/7p5q2l/cryptocurrency_market_will_see_crash/dsgiq3n/',\n",
       " '/r/ethtrader/comments/7p836y/founder_of_the_shittist_most_useless_coin_in_the/dsgipzo/',\n",
       " '/r/CryptoCurrency/comments/7pdn3i/waltonchain_partners_with_coinnest_to_boost/dsgiobv/',\n",
       " '/r/CryptoCurrency/comments/7p8l73/oyster_pearl_rebranding_new_website_and_testnet/dsgin8h/',\n",
       " '/r/Oyster/comments/7oefw9/oyster_pearl_team_update/dsgimx8/',\n",
       " '/r/Oyster/comments/7oefw9/oyster_pearl_team_update/dsgimth/',\n",
       " '/r/CryptoCurrency/comments/7oegcl/oyster_protocols_has_hired_examazon_and_google/dsgimpr/',\n",
       " '/r/CryptoCurrency/comments/7oeeqb/oyster_pearl_team_update_oysterprotocol_medium/dsgimm0/',\n",
       " '/r/Stellar/comments/7kwz8w/ibm_executive_brief_three_ways_blockchain/dsdyoem/',\n",
       " '/r/CryptoCurrencyTrading/comments/7ozyff/enjin_smart_wallet_has_released_the_most_secure/dsdynge/',\n",
       " '/r/Masub/comments/7oxfc0/the_most_secure_mobile_wallet_has_released/dsdymwe/',\n",
       " '/r/Tronix/comments/7p0v7g/new_androidios_wallet_where_you_can_store_your_trx/dsdymk2/',\n",
       " '/r/EnjinCoin/comments/7ox9ue/the_most_secure_mobile_wallet_has_released/dsdym5f/',\n",
       " '/r/CryptoCurrency/comments/7oss80/check_out_one_of_the_most_promising_icos_of_2018/dsc3cxl/',\n",
       " '/r/CryptoCurrency/comments/7oss80/check_out_one_of_the_most_promising_icos_of_2018/dsc39b6/',\n",
       " '/r/Bitcoin/comments/7odyu5/warning_if_this_image_looks_familiar_then_you/ds9ufyr/',\n",
       " '/r/CryptoBugs/comments/7ogvjl/warning_if_this_image_looks_familiar_then_you/ds9ufn5/',\n",
       " '/r/CryptoCurrency/comments/7oelx9/warning_if_this_image_looks_familiar_then_you/ds9ufir/',\n",
       " '/r/litecoin/comments/7odyx1/warning_if_this_image_looks_familiar_then_you/ds9ufeo/',\n",
       " '/r/ledgerwallet/comments/7oe1gx/warning_if_this_image_looks_familiar_then_you/ds9ufbp/',\n",
       " '/r/CryptoCurrency/comments/7oeeqb/oyster_pearl_team_update_oysterprotocol_medium/ds9daz7/',\n",
       " '/r/CryptoCurrencies/comments/7oehcc/huge_prl_news_release_heavy_hitter_advisors/ds9dame/',\n",
       " '/r/Oyster/comments/7oefw9/oyster_pearl_team_update/ds9dadz/',\n",
       " '/r/CryptoCurrency/comments/7oegcl/oyster_protocols_has_hired_examazon_and_google/ds9da4r/',\n",
       " '/r/CryptoCurrency/comments/7ob4jm/ties_at_blockchain_conference_in_kyiv/ds8of33/',\n",
       " '/r/BlockChain/comments/7ob2de/restart_energy_recognized_as_largest_energy/ds8oejx/',\n",
       " '/r/CryptoCurrency/comments/7o4jtp/iota_partners_with_itic_to_build_a_global/ds6tltw/',\n",
       " '/r/BlockChain/comments/7o3o2d/decentralized_energy_trading_platform_with_p2p/ds6jjir/',\n",
       " '/r/CryptoCurrency/comments/7o3qhq/tie_token_listed_on_tidex/ds6jc1x/',\n",
       " '/r/BlockChain/comments/7ny7g7/go_vertical_aerial_taxi_hailing_to_come_to_dubai/ds5dsqg/',\n",
       " '/r/icocrypto/comments/7ny3u9/tiesnetwork_business_platform_backed_by/ds5cx9j/',\n",
       " '/r/icocrypto/comments/7ngmmy/better_version_of_coinmarketcap_realtime_price/ds56vt8/',\n",
       " '/r/CryptoCurrencyTrading/comments/7n2zvv/i_built_a_better_coinmarketcap_realtime_crypto/ds56vis/',\n",
       " '/r/BitcoinAll/comments/7hxsyk/the_key_unlock_the_future/ds56u59/',\n",
       " '/r/ChinaCrypto/comments/7b9ldp/new_ico_for_kyc_application_to_be_built_on_neo/ds56toy/',\n",
       " '/r/CryptoCurrency/comments/7nmp2w/vechain_partners_with_healthcare_co_ltd_vechain/ds4gw3t/',\n",
       " '/r/CryptoMarkets/comments/7nmpsr/vechain_partners_with_healthcare_co_ltd_vechain/ds4gvxn/',\n",
       " '/r/Vechain/comments/7nmpql/vechain_partners_with_healthcare_co_ltd_vechain/ds4gvob/',\n",
       " '/r/trees/comments/7n04ps/cannabis_coin_cann_is_currently_rank_420/ds4gv4i/',\n",
       " '/r/CryptoCurrency/comments/7mthmw/ties_network_tie_went_up_3200_in_less_than_24/drwjj1j/',\n",
       " '/r/CreatingValue/comments/7ms9yn/deep_brain_chain_ai_supercomputer_blockchain/drwh040/',\n",
       " '/r/Ripple/comments/7mnu7a/ripple_has_grown_by_an_amazing_22000/drwgxlq/',\n",
       " '/r/CryptoCurrency/comments/7mpdsz/sc_exchange_launching_on_sunday_the_31st_of/drwgx6m/',\n",
       " '/r/Bitcoincash/comments/7mqji7/new_fiat_exchange_opening_in_ireland_with_15/drwgwy0/',\n",
       " '/r/RaiBlocks/comments/7moyqi/new_exchange_launching_december_31st_with_xrb_and/drwgwrw/',\n",
       " '/r/BlockChain/comments/7mm7g6/tiesnetwork_is_the_platform_for_the_enterprise_of/druyaty/',\n",
       " '/r/RaiBlocks/comments/7mjbir/what_is_raiblocks_and_why_it_may_be_the_most/druvpii/',\n",
       " '/r/CryptoCurrency/comments/7mklv4/innovation_what_is_raiblocks_and_why_it_may_be/druvpg5/',\n",
       " '/r/btc/comments/7mk7se/south_korea_is_not_banning_bitcoin_trade/druvp4n/',\n",
       " '/r/CryptoCurrency/comments/7mk5vt/south_korea_is_not_banning_bitcoin_trade/druvozw/',\n",
       " '/r/gaming/comments/7m7sz9/etheremon_vs_cryptokitties_worlds_first/drtcx8k/',\n",
       " '/r/CryptoCurrency/comments/7mcrj3/a_nicehash_review_after_the_hack/drtcuz6/',\n",
       " '/r/ethereum/comments/7mcrpj/a_nicehash_review_after_the_hack/drtcuo6/',\n",
       " '/r/CryptoCurrency/comments/7mctgy/bi_robert_bosch_bets_on_iota/drtctoh/',\n",
       " '/r/Iota/comments/7mdhe8/bi_robert_bosch_bets_on_iota/drtctdm/',\n",
       " '/r/europe/comments/7m1rfo/the_european_union_does_not_intend_to_regulate/drrt7sn/',\n",
       " '/r/CryptoCurrency/comments/7m3o0i/kucoin_announces_that_raiblocks_xrb_has_won_their/drrt7h0/',\n",
       " '/r/CossIO/comments/7m3u58/xrb_raiblocks_would_be_a_great_coss_opportunity/drrt7cl/',\n",
       " '/r/RaiBlocks/comments/7m3mqf/kucoin_officially_posting_xrb/drrt7aq/',\n",
       " '/r/AllThingsCrypto/comments/7m6e8g/ive_created_an_excel_crypto_portfolio_tracker/drrt73m/',\n",
       " '/r/nem/comments/7lp9ul/nem_launch_on_okex_exchange/drqlbzg/',\n",
       " '/r/nem/comments/7lt6d7/wechat_broke_the_number_of_followers_nem_ever_had/drqlbld/',\n",
       " '/r/nem/comments/7lxa3j/countdown_clock_okex_launches_xem_trading/drqlb88/',\n",
       " '/r/Bitcoin/comments/7h52c2/the_one_thing_thats_missing_but_that_will_soon_be/drp7kjq/',\n",
       " '/r/CryptoCurrency/comments/7lsnxx/milton_friedman_predicts_cryptocurrencies_in_1999/drp7k1s/',\n",
       " '/r/CryptoCurrency/comments/7lu2nz/mcafee_plainly_stating_he_is_a_paid_shill_for/drp7jev/',\n",
       " '/r/waltonchain/comments/7lutds/wallet_beta_officially_released_happy_holidays/drp7i4b/',\n",
       " '/r/CryptoCurrency/comments/7luumk/waltonchain_wallet_beta_officially_released/drp7hwm/',\n",
       " '/r/BlockChain/comments/7lhe3i/blockchain_airspace_air_taxi_creator_vimana/drmmk1y/',\n",
       " '/r/Iota/comments/7l9epu/bosch_how_has_no_one_seen_this_we_are_not/drmaohz/',\n",
       " '/r/CryptoCurrency/comments/7lgk27/iota_will_work_alongside_sony_toyota_honda_711_in/drman6k/',\n",
       " '/r/Iota/comments/7lgjuq/iota_selected_by_tokyo_metropolitan_government/drmamye/',\n",
       " '/r/AskReddit/comments/7l8hl1/why_are_you_angry/drkcob2/',\n",
       " '/r/AskReddit/comments/7l8hl1/why_are_you_angry/drkco02/',\n",
       " '/r/AskReddit/comments/7l8kxa/serious_redditors_who_dont_believe_in_marriage/drkcmaz/',\n",
       " '/r/Bitcoin/comments/7l8fbh/documentary_about_why_we_need_bitcoin_featuring/drkckti/',\n",
       " '/r/Bitcoin/comments/7l8j4d/a_million_dollar_bet_that_bitcoin_will_reach/drkcjh9/',\n",
       " '/r/AskReddit/comments/7ktwar/whats_the_biggest_secret_youve_ever_kept_from/drh3u32/',\n",
       " '/r/AskReddit/comments/7ktwar/whats_the_biggest_secret_youve_ever_kept_from/drh3tuy/',\n",
       " '/r/AskReddit/comments/7ktwar/whats_the_biggest_secret_youve_ever_kept_from/drh3tif/',\n",
       " '/r/AskReddit/comments/7ktwar/whats_the_biggest_secret_youve_ever_kept_from/drh3tbs/',\n",
       " '/r/AskReddit/comments/7ktt0e/without_saying_its_name_what_state_do_you_live_in/drh3r5e/',\n",
       " '/r/AskReddit/comments/7ktdq8/what_song_are_you_currently_listening_to/drh0amq/',\n",
       " '/r/AskReddit/comments/7ktdq8/what_song_are_you_currently_listening_to/drh0aer/',\n",
       " '/r/AskReddit/comments/7ktdq8/what_song_are_you_currently_listening_to/drh0a3i/',\n",
       " '/r/AskReddit/comments/7ktdq8/what_song_are_you_currently_listening_to/drh09vb/',\n",
       " '/r/AskReddit/comments/7kt0rh/what_is_something_you_have_never_done_that_most/drgy1ef/',\n",
       " '/r/AskReddit/comments/7kt0rh/what_is_something_you_have_never_done_that_most/drgwuu0/',\n",
       " '/r/AskReddit/comments/7ksvnf/what_type_of_snob_do_you_least_like/drgwics/',\n",
       " '/r/AskReddit/comments/7ksz1p/what_are_some_alternatives_to_saying_happy/drgw5xt/',\n",
       " '/r/AskReddit/comments/87ryo7/why_are_you_not_vegan_serious/dwf4svj/',\n",
       " '/r/AskReddit/comments/838rk1/what_keyboard_shortcuts_make_your_life_easier/dvg0a60/',\n",
       " '/r/AskReddit/comments/838ywu/what_does_depression_feel_like/dvg06xs/',\n",
       " '/r/AskReddit/comments/838jw7/what_was_the_worst_movietv_show_casting_decision/dvg04iy/',\n",
       " '/r/AskReddit/comments/838o85/health_professionals_of_reddit_who_was_that_one/dvg0178/',\n",
       " '/r/pics/comments/84apae/prof_stephen_hawking_megathread_19422018/dvsj3k7/',\n",
       " '/r/Ripple/comments/81wrj6/this_is_why_the_price_of_xrp_will_go_up/dv7mi3w/',\n",
       " '/r/Ripple/comments/821tmo/todays_price_jump_is_completely_rational_if_you/dv7mheb/',\n",
       " '/r/CryptoCurrency/comments/81w8kr/compilation_of_all_my_cryptocurrency_analyses_so/dv5xmyj/',\n",
       " '/r/CryptoCurrency/comments/81w14g/hard_truths_i_wish_people_told_me_when_i_started/dv5xkcx/',\n",
       " '/r/CryptoCurrency/comments/81va8f/hst_is_set_for_a_very_big_year/dv5wrge/',\n",
       " '/r/CryptoCurrency/comments/81wz6d/the_twitter_scammer_bots_are_getting_smarter/dv5wq5y/',\n",
       " '/r/CryptoCurrency/comments/81uoqs/government_agencies_trying_to_pull_old_tricks_on/dv5wmm3/',\n",
       " '/r/CryptoCurrency/comments/81rma7/if_you_ever_feel_insecure_about_crypto_because/dv5wlvg/',\n",
       " '/r/altcoin/comments/81fay6/which_coin_should_i_go_all_in_on/dv4eg3w/',\n",
       " '/r/CryptoCurrency/comments/81fujb/what_are_some_dark_horses_in_this_market/dv4eee7/',\n",
       " '/r/CryptoCurrency/comments/81okgt/if_online_dating_has_taught_me_anything/dv4e8q5/',\n",
       " '/r/CryptoCurrency/comments/81imd9/garry_tan_is_looking_for_a_c_dev_with_network/dv4e5xz/',\n",
       " '/r/AskReddit/comments/80vemb/whats_something_that_makes_you_wonder_how_it_was/duygnmr/',\n",
       " '/r/CryptoCurrency/comments/80i9lf/1000_to_invest_in_altcoins/duwp2a5/',\n",
       " '/r/CryptoCurrency/comments/80d54d/breaking_peer_to_peer_payments_app_circle_has/duwopti/',\n",
       " '/r/CryptoCurrency/comments/80fygr/bounty0x_alpha_just_smashed_10k_active_hunters/duwo6zb/',\n",
       " '/r/CryptoCurrency/comments/80kltq/which_are_your_most_useful_sites_for_tracking_all/duwo01s/',\n",
       " '/r/CryptoCurrency/comments/80l63k/50_cent_to_judge_i_have_no_bitcoin/duwnmr4/',\n",
       " '/r/CryptoCurrency/comments/7yrwpc/below_25m_marketcap_coins_with_potential_to_reach/duj9js8/',\n",
       " '/r/CryptoCurrency/comments/7ykbg0/what_are_the_top_10_projects_based_on/duhofxq/',\n",
       " '/r/CryptoCurrency/comments/7ygzwh/why_iota_is_meant_to_prevail_longterm/duhobng/',\n",
       " '/r/CryptoCurrency/comments/7ylf30/omise_signed_mou_with_thai_government_agency_etda/duho7e6/',\n",
       " '/r/CryptoMoonShots/comments/7y48l9/post_here_your_undervalued_coins_under_15m_cap_of/dugsu4n/',\n",
       " '/r/CryptoCurrency/comments/7yet61/trevon_james_legendary_bitconnect_scammer_gets/dugs0ns/',\n",
       " '/r/CryptoCurrency/comments/7vii2z/goodbye_to_my_bank_who_will_not_let_me_purchase/dttp5wd/',\n",
       " '/r/CryptoCurrency/comments/7vn4lc/sold_4_hours_ago_get_ready_to_bull/dttolwm/',\n",
       " '/r/CryptoCurrency/comments/7v32q2/my_parents_are_proud_of_me/dtpvc3a/',\n",
       " '/r/CryptoCurrency/comments/7uzrta/want_to_start_fresh_after_the_crypto_crash_here/dtpu8uq/',\n",
       " '/r/CryptoCurrency/comments/7ur4ly/5_top_altcoins_and_cryptocurrencies_with_high/dtmkdty/',\n",
       " '/r/CryptoCurrency/comments/7ur4ly/5_top_altcoins_and_cryptocurrencies_with_high/dtmjh6x/',\n",
       " '/r/CryptoCurrency/comments/7ur4ly/5_top_altcoins_and_cryptocurrencies_with_high/dtmiu3t/',\n",
       " '/r/CryptoCurrency/comments/7uih3p/tired_of_waking_up_seeing_red_then_start_trading/dtmaa0v/',\n",
       " '/r/CryptoCurrency/comments/7ukct1/stop_saying_everything_is_red_when_its_clearly_not/dtma18l/',\n",
       " '/r/altcoin/comments/7ujkpo/ties_network_tie_increased_1504_during_a_day/dtks704/',\n",
       " '/r/CryptoCurrency/comments/7u5ren/this_needs_to_be_repeated_again_and_again_and/dtig39j/',\n",
       " '/r/CryptoCurrency/comments/7txyre/only_crypto_is_allowed_a_restaurant_in_manhattan/dtgkuw8/',\n",
       " '/r/CryptoCurrency/comments/7tw68i/raiblocks_on_cnbc_fast_money/dtgki9e/',\n",
       " '/r/CryptoCurrency/comments/7tn4q8/thin_mints_to_the_moon/dteunjl/',\n",
       " '/r/altcoin/comments/7tsk1d/tokens_that_are_worth_keeping_a_close_eye_on/dteu800/',\n",
       " '/r/Ripple/comments/7s5tor/we_maintain_our_1000_ripple_price_prediction_for/dt43s4j/',\n",
       " '/r/CryptoCurrency/comments/7qtnvm/ties_token_trades_up_on_product_release_news_read/dsrutgd/',\n",
       " '/r/ico/comments/7n1gjm/investing_community/drz92e8/',\n",
       " '/r/AskReddit/comments/87ryo7/why_are_you_not_vegan_serious/dwf5htq/',\n",
       " '/r/AskReddit/comments/877k6e/what_food_is_just_the_worst/dwasxgw/',\n",
       " '/r/AskReddit/comments/877gl3/have_you_ever_tried_paying_your_girlfriend_after/dwaswxm/',\n",
       " '/r/AskReddit/comments/877kxv/what_was_your_way_of_getting_over_a_painful/dwasvmw/',\n",
       " '/r/AskReddit/comments/877a7t/when_was_the_moment_you_realised_you_were_an_idiot/dwasv0c/',\n",
       " '/r/AskReddit/comments/86rh2t/what_made_you_sad_today/dw7bckm/',\n",
       " '/r/AskReddit/comments/86r5q4/whats_your_opinion_on_having_pineapple_on_a_pizza/dw7bc6z/',\n",
       " '/r/AskReddit/comments/86rflb/what_is_the_most_smart_ass_thing_you_have_said_or/dw7bbae/',\n",
       " '/r/AskReddit/comments/86r80u/has_a_video_game_ever_made_you_cry_if_so_which/dw7bahc/',\n",
       " '/r/AskReddit/comments/86com9/what_is_illegal_that_should_be_legal/dw45ase/',\n",
       " '/r/AskReddit/comments/86d8tj/what_song_where_you_later_surprised_to_find_out/dw457br/',\n",
       " '/r/AskReddit/comments/86d2vp/what_you_never_do_for_a_billion_dollars/dw45493/',\n",
       " '/r/AskReddit/comments/85s4jm/people_of_reddit_what_are_your_goals_today/dvzp1mf/',\n",
       " '/r/AskReddit/comments/85s0ti/whats_is_the_worst_birthday_youve_had_or/dvzozvy/',\n",
       " '/r/AskReddit/comments/85s1jn/if_you_had_a_time_machine_where_will_you_go/dvzoxzw/',\n",
       " '/r/AskReddit/comments/85sdvl/which_country_has_the_nicest_people/dvzor08/',\n",
       " '/r/AskReddit/comments/85689k/what_do_you_think_is_the_greatest_invention_of/dvv0evc/',\n",
       " '/r/AskReddit/comments/85682v/what_video_game_describes_your_social_life/dvv0d7a/',\n",
       " '/r/AskReddit/comments/8564r5/whats_something_that_more_people_need_to_realize/dvv0c83/',\n",
       " '/r/AskReddit/comments/85657z/whatever_happened_to_wooing_and_courting/dvv0b3r/',\n",
       " '/r/AskReddit/comments/84g4yo/what_conspiracy_theory_do_you_buy_into/dvpe43g/',\n",
       " '/r/AskReddit/comments/84gkjc/what_pets_name_makes_you_instantly_hate_the_owner/dvpe2mz/',\n",
       " '/r/AskReddit/comments/84gjdr/happy_people_of_askreddit_tell_us_why_youre_in_a/dvpdz1k/',\n",
       " '/r/AskReddit/comments/84gap8/if_evolution_is_real_why_do_we_have_45_million/dvpdxx2/',\n",
       " '/r/AskReddit/comments/83q5nk/what_social_media_trend_needs_to_just_die_already/dvjqbqs/',\n",
       " '/r/AskReddit/comments/83q56d/what_should_every_50_year_old_know/dvjq6wz/',\n",
       " '/r/AskReddit/comments/83q5fd/what_is_your_greatest_video_game_achievement/dvjq5u9/',\n",
       " '/r/AskReddit/comments/83q5xo/when_do_you_definitely_want_quality_over_quantity/dvjq4fv/',\n",
       " '/r/AskReddit/comments/838us0/what_is_the_best_looking_vagina_you_have_ever_seen/dvg0tvu/',\n",
       " '/r/AskReddit/comments/838qvl/which_famous_celebrity_do_you_hate_why/dvfzspb/',\n",
       " '/r/AskReddit/comments/82wg68/whats_the_funniest_comment_youve_seen_on_reddit/dvdc2ve/',\n",
       " '/r/AskReddit/comments/82wfgc/what_do_you_think_death_is_like/dvdbsh0/',\n",
       " '/r/CryptoCurrencies/comments/84solj/the_royal_bank_of_canada_plans_to_launch_a/dvslx25/',\n",
       " '/r/Jokes/comments/84tvy4/why_is_0_1/dvslugm/',\n",
       " '/r/askscience/comments/84qfi6/do_electrical_cables_have_a_jerk_effect_similar/dvslt26/',\n",
       " '/r/AskReddit/comments/83up17/reddit_what_are_your_tips_for_getting_out_of_bed/dvkojlk/',\n",
       " '/r/AskReddit/comments/83urt9/what_are_the_unwritten_rules_of_public_bathrooms/dvkob6n/',\n",
       " '/r/AskReddit/comments/83uqxt/serial_killers_of_reddit_what_is_your_biggest/dvkntm2/',\n",
       " '/r/AskReddit/comments/83ul0k/what_do_you_love_to_hate/dvkmu4h/',\n",
       " '/r/AskReddit/comments/83ufi2/what_is_the_best_smell_in_the_world/dvkl33d/',\n",
       " '/r/AskReddit/comments/83ufoz/the_last_text_you_sent_goes_on_your_gravestone/dvkkx6r/',\n",
       " '/r/CryptoCurrencies/comments/829vdy/investment/dvb9o5o/',\n",
       " '/r/CryptoCurrency/comments/82g4zd/smart_city_founders_alibaba_cloud_waltonchain/dvb95p1/',\n",
       " '/r/CryptoCurrency/comments/82hdyv/the_sad_truth_kraken_has_it_support_account/dvb95g2/',\n",
       " '/r/CryptoCurrency/comments/82j8lk/coinbase_announces_index_fund/dvb94yg/',\n",
       " '/r/CryptoCurrency/comments/82gdxx/mrw_i_sold_all_my_wtc_last_week_after_the_twitter/dvb94d2/',\n",
       " '/r/CryptoMarkets/comments/823xx0/dark_horses_guys/dv7rr5r/',\n",
       " '/r/CryptoCurrency/comments/8261i5/thats_why_i_invest_in_crypto/dv7r83h/',\n",
       " '/r/CryptoCurrency/comments/820v7e/some_anon_user_just_dropped_this_pastebin/dv7r6fx/',\n",
       " '/r/CryptoCurrency/comments/81zu3f/ibm_says_blockchain_is_really_a_fundamentally/dv7r4sx/',\n",
       " '/r/CryptoCurrency/comments/824e7d/falcon_coin_has_exit_scammed/dv7r3nu/',\n",
       " '/r/CryptoCurrency/comments/7upine/why_are_so_many_people_falling_for_this/dtm7vso/',\n",
       " '/r/CryptoCurrency/comments/7uo06q/lol_all_the_people_who_try_to_speculate_why/dtm7d0s/',\n",
       " '/r/CryptoCurrency/comments/7ui5hw/ethereum_really_starting_to_separate_itself_from/dtm77sm/',\n",
       " '/r/CryptoCurrency/comments/7uhta0/no_ban_on_crypto_in_india_finance_minister_arun/dtm751e/',\n",
       " '/r/CryptoCurrency/comments/7uladt/we_can_finally_put_the_tether_fud_to_rest/dtm6yhm/',\n",
       " '/r/CryptoCurrency/comments/7tz7uw/too_many_coins_too_many_icos_not_enough_investors/dtgyw5m/',\n",
       " '/r/altcoin/comments/7tsk1d/tokens_that_are_worth_keeping_a_close_eye_on/dtf09nm/',\n",
       " '/r/Bitcoin/comments/7sln7i/steve_wozniak_bitcoin_is_better_than_gold_and_usd/dt65inu/',\n",
       " '/r/Bitcoin/comments/7sle04/bank_of_america_will_start_charging_low_income/dt64ncr/',\n",
       " '/r/CryptoCurrency/comments/7qtnvm/ties_token_trades_up_on_product_release_news_read/dst1699/',\n",
       " '/r/BlockChain/comments/7oyghl/how_tiesdb_could_help_get_rid_of_etheriums/dsd8vbx/',\n",
       " '/r/icocrypto/comments/7oyfox/blockchain_airspace_air_taxi_creator_vimana/dsd7q8j/',\n",
       " '/r/AskReddit/comments/87ryo7/why_are_you_not_vegan_serious/dwf5dtq/',\n",
       " '/r/AskReddit/comments/877a7l/whats_the_craziest_thing_that_could_happen_during/dwasqr4/',\n",
       " '/r/AskReddit/comments/877809/reddit_how_has_your_day_been/dwasp6p/',\n",
       " '/r/AskReddit/comments/877eg4/what_are_the_scariest_animals_that_ever_existed/dwaso9x/',\n",
       " '/r/AskReddit/comments/877fiw/what_two_things_need_to_stop_being_associated/dwasiep/',\n",
       " '/r/AskReddit/comments/87798z/you_are_going_to_die_tomorrow_what_you_will_do/dwash93/',\n",
       " '/r/AskReddit/comments/86rcpm/whats_something_that_scared_the_shit_out_of_you/dw7b6y3/',\n",
       " '/r/AskReddit/comments/86rb8w/reddit_how_did_you_end_up_on_your_current_job/dw7b6a7/',\n",
       " '/r/AskReddit/comments/86rd9k/what_change_in_your_life_made_the_biggest_change/dw7b5hc/',\n",
       " '/r/AskReddit/comments/86r8tb/what_scares_you_the_most/dw7b4kp/',\n",
       " '/r/AskReddit/comments/86cwvp/what_subculture_do_you_genuinely_not_understand/dw44h4b/',\n",
       " '/r/AskReddit/comments/86cxwj/whats_the_opposite_of_your_job/dw44fl3/',\n",
       " '/r/AskReddit/comments/86d3ie/what_is_your_goto_karaoke_song/dw44e0u/',\n",
       " '/r/AskReddit/comments/86d32h/what_mildly_illegal_thing_do_you_do_regularly/dw44c9e/',\n",
       " '/r/AskReddit/comments/85s807/smart_gifted_people_of_reddit_who_never_achieved/dvznot9/',\n",
       " '/r/AskReddit/comments/85s6gz/what_is_your_favorite_drinking_game/dvznoej/',\n",
       " '/r/AskReddit/comments/85rzjm/whats_the_best_advice_youve_ever_given_that/dvznmto/',\n",
       " '/r/AskReddit/comments/85s8is/time_to_get_controversial_which_stereotypes_do/dvznlxg/',\n",
       " '/r/AskReddit/comments/847a52/take_your_first_pets_name_and_the_street_you_grew/dvnf0g7/',\n",
       " '/r/AskReddit/comments/847jp5/if_you_could_go_back_in_time_and_change_one/dvney4j/',\n",
       " '/r/AskReddit/comments/847k2z/which_disney_villian_would_you_marry_and_why/dvnewwu/',\n",
       " '/r/AskReddit/comments/847lrr/whats_your_favorite_fruit/dvnev5x/',\n",
       " '/r/AskReddit/comments/83q3dr/what_will_every_person_experience_at_one_point/dvjpk4x/',\n",
       " '/r/AskReddit/comments/83q009/if_you_could_make_any_one_thing_cool_what_would/dvjpiuj/',\n",
       " '/r/AskReddit/comments/83pvpf/to_exatheists_who_are_now_religious_what_made_you/dvjphju/',\n",
       " '/r/AskReddit/comments/83pren/redditors_who_were_once_liberal_and_are_now/dvjpfs6/',\n",
       " '/r/AskReddit/comments/82ryq1/what_trend_do_you_want_to_make_a_comeback/dvcdnzs/',\n",
       " '/r/AskReddit/comments/82roii/what_product_or_item_needs_to_be_brought_back/dvccpsl/',\n",
       " '/r/AskReddit/comments/82rq8c/how_would_you_describe_the_perfect_sandwich/dvcc05s/',\n",
       " '/r/AskReddit/comments/82rr66/what_is_your_favourite_word_to_say/dvcbali/',\n",
       " '/r/CryptoInvesting/comments/7m3bf4/top_5_crypto_currencies_to_invest_in_2018_which/drzb1jf/',\n",
       " '/r/LGBTeens/comments/7o0t82/discussion_its_midnight_and_cant_sleep_and_i_have/ds5z5fr/',\n",
       " '/r/LGBTeens/comments/7m8ngn/discussion_i_was_just_wondering_how_everyones/drscgp2/',\n",
       " '/r/LGBTeens/comments/7m8ngn/discussion_i_was_just_wondering_how_everyones/drscekz/',\n",
       " '/r/LGBTeens/comments/7m8ngn/discussion_i_was_just_wondering_how_everyones/drscdlc/',\n",
       " '/r/LGBTeens/comments/7m8ngn/discussion_i_was_just_wondering_how_everyones/drs6hwf/',\n",
       " '/r/lgbt/comments/7lctwp/i_was_wondering_if_there_were_any_people_around/drmq8u2/',\n",
       " '/r/lgbt/comments/7lctwp/i_was_wondering_if_there_were_any_people_around/drlfsbm/',\n",
       " '/r/lgbt/comments/7lctwp/i_was_wondering_if_there_were_any_people_around/drlf5wz/',\n",
       " '/r/lgbt/comments/7lctwp/i_was_wondering_if_there_were_any_people_around/drlexy8/',\n",
       " '/r/lgbt/comments/7lctwp/i_was_wondering_if_there_were_any_people_around/drle2wa/',\n",
       " '/r/anime_irl/comments/7ppl36/anime_irl/dsldy9x/',\n",
       " '/r/ShemalesParadise/comments/7esytq/this_may_be_our_length_record_so_far_gif/dq7brnk/',\n",
       " '/r/Sissies/comments/7d9ssj/ive_been_a_naughty_girl/dpwjahd/',\n",
       " '/r/gay_irl/comments/7cwxs2/gayirl/dpucj6e/',\n",
       " '/r/gay_irl/comments/7cwxs2/gayirl/dpu82vc/',\n",
       " '/r/FemBoys/comments/7cyql2/felt_real_good/dpu71jr/',\n",
       " '/r/gay_irl/comments/7cwxs2/gayirl/dpu6r77/',\n",
       " '/r/rickandmorty/comments/7ajmhd/our_prices_i_hope_arent_too_low_my_nightmarish/dpba0j9/',\n",
       " '/r/Sissies/comments/7ad3vx/any_requests/dpb3ibt/',\n",
       " '/r/Sissies/comments/7ad3vx/any_requests/dp9gy0a/',\n",
       " '/r/Sissies/comments/7ad3vx/any_requests/dp9e1vd/',\n",
       " '/r/FemBoys/comments/7adut9/if_i_sold_my_pics_would_you_buy_my_pics/dp9dq6v/',\n",
       " '/r/traps/comments/7a4t5i/bulge/dp7ef5y/',\n",
       " '/r/herdirtypanties/comments/761cx7/dirty_ebony_panties_bigbootystyle/dp0ztqn/',\n",
       " '/r/herdirtypanties/comments/761cx7/dirty_ebony_panties_bigbootystyle/doykflc/',\n",
       " '/r/altcoin/comments/84tnls/pareto_network_to_deliver_wide_range_of_content/dvsmswt/',\n",
       " '/r/CryptoCurrencies/comments/829vdy/investment/dvb8g9o/',\n",
       " '/r/CryptoMarkets/comments/823xx0/dark_horses_guys/dv7ovv5/',\n",
       " '/r/CryptoCurrency/comments/821aar/exciting_news_for_monero_ledger_nano_s_support/dv7op9s/',\n",
       " '/r/CryptoCurrency/comments/823w1b/icon_releases_iconex_wallet_announces_icx_tokens/dv7olrn/',\n",
       " '/r/CryptoCurrency/comments/81w14g/hard_truths_i_wish_people_told_me_when_i_started/dv5zb5h/',\n",
       " '/r/altcoin/comments/81fay6/which_coin_should_i_go_all_in_on/dv5z314/',\n",
       " '/r/AskReddit/comments/81eo0j/what_are_the_signs_that_someone_is_depressed/dv2n844/',\n",
       " '/r/AskReddit/comments/81eh42/what_makes_absolutely_no_sense/dv2mje5/',\n",
       " '/r/AskReddit/comments/81em28/how_are_you_doing/dv2mbot/',\n",
       " '/r/CryptoMoonShots/comments/7y48l9/post_here_your_undervalued_coins_under_15m_cap_of/duhggq8/',\n",
       " '/r/CryptoCurrency/comments/7ybyus/my_experience_after_dedicating_3_months_to_trade/dugtwcg/',\n",
       " '/r/CryptoCurrency/comments/7ycan5/skycoin_anatomy_of_a_cryptocurrency_scam_last/dugt4w2/',\n",
       " '/r/CryptoCurrency/comments/7yhbmk/chainlink_node_alpha_live_confirmed_by_sergey/dugt3ry/',\n",
       " '/r/CryptoCurrency/comments/7w07mi/my_expectations_for_coss_after_one_week_with_the/dtxhopv/',\n",
       " '/r/CryptoCurrency/comments/7w3hot/jayz_invests_in_robinhood/dtxhgl5/',\n",
       " '/r/CryptoCurrency/comments/7w1lge/binance_down_for_12_more_hours_due_to_maintenance/dtxhdo8/',\n",
       " '/r/CryptoCurrency/comments/7vyhnd/to_all_the_weak_hands_you_got_played_by_wall/dtxhcqs/',\n",
       " '/r/CryptoCurrency/comments/7v32q2/my_parents_are_proud_of_me/dtpz8fh/',\n",
       " '/r/CryptoCurrency/comments/7uzrta/want_to_start_fresh_after_the_crypto_crash_here/dtpz5mt/',\n",
       " '/r/altcoin/comments/7ujkpo/ties_network_tie_increased_1504_during_a_day/dtl2zev/',\n",
       " '/r/CryptoCurrencies/comments/7tuiyh/blockchain_cryptocurrency_predictions_for_2018/dtgfmt6/',\n",
       " '/r/CryptoCurrency/comments/7ts1r3/this_is_the_reason_you_havent_heard_much_from/dtgdwo6/',\n",
       " '/r/CryptoCurrency/comments/7toa6v/the_first_major_online_korean_shopping_mall_has/dtf0ye6/',\n",
       " '/r/CryptoCurrency/comments/7tpocf/major_enjin_enj_announcement_introducing_efinity/dtf0vdv/',\n",
       " '/r/technology/comments/7tcq1m/firstofitskind_decentralized_public_database_aims/dtbmm1i/',\n",
       " '/r/CryptoCurrency/comments/7sx5g2/tokens_you_probably_dont_know_a_lot_about/dt85d0e/',\n",
       " '/r/CryptoCurrency/comments/7sjkp3/the_enigma_ama_is_finally_out/dt5sl87/',\n",
       " '/r/litecoin/comments/7shhuu/facebook_confirmed/dt5sgcs/',\n",
       " '/r/CryptoCurrency/comments/7sekp8/what_is_request_network_and_why_should_you_invest/dt4a6d1/',\n",
       " '/r/BlockChain/comments/7r1x1i/while_major_cryptocurrencies_fall_you_should_take/dstm5p1/',\n",
       " '/r/altcoin/comments/7qk0mq/ties_token_trades_up_on_product_release_news/dsppv2i/',\n",
       " '/r/icocrypto/comments/7n844t/tiesnetwork_and_tidex_join_forces/drzrvxo/',\n",
       " '/r/casualiama/comments/7m1hht/we_are_russian_trolls_ask_us_anything/drqnbsh/',\n",
       " '/r/casualiama/comments/7m1hht/we_are_russian_trolls_ask_us_anything/drqn11m/',\n",
       " '/r/AskReddit/comments/87ryo7/why_are_you_not_vegan_serious/dwf5jgs/',\n",
       " '/r/AskReddit/comments/877a0y/serious_people_whove_beaten_depression_what_was/dwat00a/',\n",
       " '/r/AskReddit/comments/86rb5e/what_are_you_going_to_do_today/dw7be6m/',\n",
       " '/r/AskReddit/comments/86cu9o/whos_your_favorite_superhero_and_why/dw468dh/',\n",
       " '/r/AskReddit/comments/86dai5/if_you_could_swap_lives_with_anyone_in_history/dw45j3o/',\n",
       " '/r/AskReddit/comments/85sk1z/you_get_to_pick_one_pokemon_to_bring_into_reality/dvzubij/',\n",
       " '/r/AskReddit/comments/85sk7x/serious_people_of_reddit_what_makes_you_happy/dvzq3vx/',\n",
       " '/r/AskReddit/comments/85sgnm/what_are_you_gaining_passion_for/dvzp4mn/',\n",
       " '/r/AskReddit/comments/856dnd/what_is_a_common_saying_that_is_totally_bullshit/dvv2kc3/',\n",
       " '/r/AskReddit/comments/856egh/what_is_your_pets_name_how_did_you_come_up_with_it/dvv207w/',\n",
       " '/r/AskReddit/comments/8569wl/whats_the_strangest_thing_you_have_memorized/dvv1f78/',\n",
       " '/r/AskReddit/comments/8568yw/what_dad_advice_definitely_paid_off/dvv0mrh/',\n",
       " '/r/AskReddit/comments/83yhuq/what_would_be_the_name_of_your_bar_pub_or_tavern/dvlh9hd/',\n",
       " '/r/AskReddit/comments/83yezm/why_do_restaurants_make_burgers_taller_instead_of/dvlgnbx/',\n",
       " '/r/AskReddit/comments/83xupo/what_will_be_the_ultimate_demise_of_america/dvlfwaj/',\n",
       " '/r/AskReddit/comments/83xwlz/straight_people_of_reddit_when_did_you_know_you/dvlf1ah/',\n",
       " '/r/AskReddit/comments/831xy2/whats_a_let_that_sink_in_fun_fact/dvg2tt4/',\n",
       " '/r/AskReddit/comments/8393hc/why_are_americans_stupid/dvg25ur/',\n",
       " '/r/AskReddit/comments/835v4l/what_is_a_joke_so_bad_it_actually_made_you_laugh/dvg1fsr/',\n",
       " '/r/AskReddit/comments/838mcj/what_was_the_most_heroic_thing_youve_done/dvg0mm0/',\n",
       " '/r/cardano/comments/83f6eo/digital_currency_is_inevitable_likely_to_overtake/dvitepz/',\n",
       " '/r/Bitcoincash/comments/83fuy6/digital_currency_is_inevitable_likely_to_overtake/dvitege/',\n",
       " '/r/Stellar/comments/83f5tr/digital_currency_is_inevitable_likely_to_overtake/dvitecg/',\n",
       " '/r/NEO/comments/83fia5/bank_of_china_admits_crypto_will_eventually_take/dvite8w/',\n",
       " '/r/GGCrypto/comments/83lyib/gladius_tokengla_is_now_available_on_kucoin/dvitdul/',\n",
       " '/r/altcoin/comments/82niqz/daily_altcoin_jibba_jabba_march_07_2018/dvbf1fx/',\n",
       " '/r/CryptoCurrencies/comments/82l3gs/daily_crypto_discussion_thread_030718/dvbf0t3/',\n",
       " '/r/altcoin/comments/82581q/daily_altcoin_jibba_jabba_march_05_2018/dv9p7cx/',\n",
       " '/r/CryptoCurrencies/comments/82bw6w/daily_crypto_discussion_thread_030618/dv9p5kb/',\n",
       " '/r/altcoin/comments/81pkaa/daily_altcoin_jibba_jabba_march_03_2018/dv7r9ze/',\n",
       " '/r/CryptoCurrencies/comments/822xis/daily_crypto_discussion_thread_030518/dv7r86x/',\n",
       " '/r/CryptoMarkets/comments/8134zp/rcryptomarkets_daily_discussion_01mar2018/dv2fpbm/',\n",
       " '/r/CryptoCurrencies/comments/81b9me/daily_crypto_discussion_thread_030218/dv2fkkd/',\n",
       " '/r/CryptoCurrencies/comments/8124vs/daily_crypto_discussion_thread_030118/dv0jo1a/',\n",
       " '/r/CryptoCurrency/comments/7xwuz4/daily_general_discussion_february_16_2018/dubz1hh/',\n",
       " '/r/CryptoCurrencies/comments/7xvwhn/daily_crypto_discussion_thread_021618/dubz0uu/',\n",
       " '/r/CryptoCurrency/comments/7xojzy/daily_general_discussion_february_15_2018/dub5oni/',\n",
       " '/r/CryptoCurrency/comments/7x9kjm/icos_to_watch_in_2018_imo/du6hflb/',\n",
       " '/r/GGCrypto/comments/7x14po/ripple_lands_largest_middle_east_client_in_uae/du4niz7/',\n",
       " '/r/CryptoCurrency/comments/7wzd4i/iota_ecosystem_announced_the_new_nerve_centre_of/du4ngvy/',\n",
       " '/r/Iota/comments/7wzesi/iota_ecosystem_a_little_more_than_funding_projects/du4ngmr/',\n",
       " '/r/helloicon/comments/7wzh7f/mou_with_raonsecure/du4nflg/',\n",
       " '/r/GGCrypto/comments/7x14pn/icon_icx_codevelopment_of_worlds_first_fido_fast/du4nfa8/',\n",
       " '/r/bprogramming/comments/7wfc2y/russian_nuclear_scientists_arrested_for_bitcoin/du1h9wf/',\n",
       " '/r/technology/comments/7wdohq/russian_nuclear_scientists_arrested_for_bitcoin/du1h98f/',\n",
       " '/r/security/comments/7wl34x/bitcoin_arrests_at_russian_nuclear_lab/du1h8ub/',\n",
       " '/r/Monero/comments/7wfzvn/did_the_hashrate_go_to_1ghs_because_an_engineer/du1h8j9/',\n",
       " '/r/litecoin/comments/7wfa5o/even_nuclear_scientists_are_jumping_on_the_crypto/du1h86e/',\n",
       " '/r/europe/comments/7wd7sg/bitcoin_arrests_at_russian_nuclear_lab_suspects/du1h7w9/',\n",
       " '/r/CryptoCurrency/comments/7vlf0s/daily_general_discussion_february_6_2018/dtumxby/',\n",
       " '/r/CryptoCurrency/comments/7ur4ly/5_top_altcoins_and_cryptocurrencies_with_high/dtmijhq/',\n",
       " '/r/CryptoCurrency/comments/7ur4ly/5_top_altcoins_and_cryptocurrencies_with_high/dtmg77v/',\n",
       " '/r/CryptoCurrency/comments/7un507/nano_xrb_creator_colin_lemahieu_interview/dtm7mp3/',\n",
       " '/r/nanotrade/comments/7un54u/nano_xrb_creator_colin_lemahieu_interview/dtm7mkr/',\n",
       " '/r/h3h3productions/comments/7unm71/the_cryptocurrency_that_survived_the_bloodbath/dtm7m3n/',\n",
       " '/r/Buttcoin/comments/7ulw3m/stop_saying_everything_is_red_when_its_clearly_not/dtm7m00/',\n",
       " '/r/CryptoCurrency/comments/7ugmfi/oyster_protocol_testnet_is_live/dtkiuil/',\n",
       " '/r/Oyster/comments/7ugmk5/testnet_a_is_live/dtkiucu/',\n",
       " '/r/Iota/comments/7ugp52/oyster_testnet_a_is_live_they_also_launched_100/dtkiu5q/',\n",
       " '/r/u_toroidalfield/comments/7ui5l4/india_is_not_banning_cryptocurrencies_stop_this/dtkire1/',\n",
       " '/r/Bitcoin/comments/7uhxf5/india_is_not_banning_cryptocurrencies_stop_this/dtkir7v/',\n",
       " '/r/GGCrypto/comments/7uhyje/no_ban_on_crypto_in_india_finance_minister_arun/dtkiq8a/',\n",
       " '/r/CryptoCurrency/comments/7ufev2/6_months_ago_i_quit_my_job_100000_lines_of_code_2/dtkipqf/',\n",
       " '/r/GGCrypto/comments/7ufzmd/6_months_ago_i_quit_my_job_100000_lines_of_code_2/dtkipf5/',\n",
       " '/r/Bitcoin/comments/7udm4y/6_months_ago_i_quit_my_job_100000_lines_of_code_2/dtkip4r/',\n",
       " '/r/ethtrader/comments/7u962o/makerdao_and_digix_dgx_gold_tokens_to_play_a/dtj05vr/',\n",
       " '/r/CryptoCurrency/comments/7u7w14/daily_general_discussion_january_31_2018/dtj03mw/',\n",
       " '/r/CryptoCurrency/comments/7u46fs/fb_wants_to_protect_us_from_crypto_time_to_boycott/dtiihy7/',\n",
       " '/r/BTCNews/comments/7u3ygm/facebook_is_banning_all_ads_for_bitcoin/dtiihq9/',\n",
       " '/r/GGCrypto/comments/7u63m1/fb_wants_to_protect_us_from_crypto_time_to_boycott/dtiihlz/',\n",
       " '/r/litecoin/comments/7u47v6/facebook_is_banning_all_ads_for_bitcoin/dtiihii/',\n",
       " '/r/CryptoCurrency/comments/7u7w14/daily_general_discussion_january_31_2018/dtiig55/',\n",
       " '/r/GGCrypto/comments/7u6og0/vechain_initiating_veresearch_a_global_research/dtiif4t/',\n",
       " '/r/CryptoMarkets/comments/7u7uu5/vechain_launches_global_research_grant_program/dtiif10/',\n",
       " '/r/rit/comments/7u7b13/blockchain_research_opportunity/dtiiey5/',\n",
       " '/r/CryptoCurrency/comments/7tzah6/the_free_software_foundation_has_received_a_9145/dtgyywz/',\n",
       " '/r/BitcoinAll/comments/7u0f8g/the_free_software_foundation_has_received_a_9145/dtgyxrc/',\n",
       " '/r/opensource/comments/7tzfts/the_free_software_foundation_has_received_a_9145/dtgyxjy/',\n",
       " '/r/Bitcoin/comments/7u0f4e/the_free_software_foundation_has_received_a_9145/dtgyxeg/',\n",
       " '/r/CryptoCurrency/comments/7u0o98/taipei_municipality_and_the_iota_foundation_teams/dtgyp5y/',\n",
       " '/r/CryptoMarkets/comments/7u1cpl/taipei_municipality_and_the_iota_foundation_teams/dtgyol9/',\n",
       " '/r/IOTAmarkets/comments/7u0ovk/taipei_municipality_and_the_iota_foundation_teams/dtgyod1/',\n",
       " '/r/Iota/comments/7u0o9z/taipei_municipality_and_the_iota_foundation_teams/dtgyo0j/',\n",
       " '/r/CryptoCurrency/comments/7tz10i/daily_general_discussion_january_30_2018/dtglann/',\n",
       " '/r/CryptoCurrencies/comments/7ts8jw/tiesnetwork_is_now_tiesdb/dteswm8/',\n",
       " '/r/technology/comments/7t4csp/firstofitskind_decentralized_public_database_aims/dt9qoo7/',\n",
       " '/r/CryptoCurrency/comments/7sx5ze/robinhood_is_launching_a_crypto_trading_app_to/dt9lfxe/',\n",
       " '/r/blockminers/comments/7t25od/great_news_for_everyone_involved_with/dt9lflc/',\n",
       " '/r/cryptobets/comments/7szmfc/robinhood_is_launching_a_crypto_trading_app_to/dt9lffz/',\n",
       " '/r/Crypto_Currency_News/comments/7sxur1/robinhood_competing_with_coinbase_to_add/dt9lfc1/',\n",
       " '/r/dogecoin/comments/7sxo3r/doge_is_coming_to_robinhood/dt9lf6j/',\n",
       " '/r/ethtrader/comments/7syjg3/robinhood_is_launching_a_crypto_trading_app_to/dt9lf3n/',\n",
       " '/r/Blockport/comments/7t1574/how_might_robinhood_entering_the_crypto_space/dt9lezx/',\n",
       " '/r/Iota/comments/7symjk/no_iota_in_robinhoods_new_crypto_list/dt9letz/',\n",
       " '/r/Monero/comments/7sxtpb/monero_listed_on_watchlist_as_robinhood_looks_to/dt9lero/',\n",
       " '/r/Database/comments/7serw2/tie_token_price_increases_after_product_release/dt472lh/',\n",
       " '/r/CryptoCurrency/comments/7sbsrq/cossio_january_23rd_update_we_will_start_fiat/dt3usjz/',\n",
       " '/r/CryptoProfits/comments/7scw7v/cossio_january_23rd_2018_update_fiat_trading/dt3usgw/',\n",
       " '/r/CossIO/comments/7sbsy8/cossio_update_january_23rd_2018_rune_evensen/dt3usdv/',\n",
       " '/r/Bitcoin/comments/7s7eoc/belgian_phd_student_decodes_dna_and_wins_a_bitcoin/dt3us43/',\n",
       " '/r/CryptoCurrency/comments/7sa19u/belgian_phd_student_decodes_dna_and_wins_a/dt3us0j/',\n",
       " '/r/CryptoCurrency/comments/7s8bir/south_korean_government_six_major_banks_will_be/dt3urhw/',\n",
       " '/r/BitcoinAll/comments/7s8g80/south_korean_government_six_major_banks_will_be/dt3urb9/',\n",
       " '/r/Bitcoin/comments/7s8g4s/south_korean_government_six_major_banks_will_be/dt3ur77/',\n",
       " '/r/Bitcoin/comments/7ryexj/south_koreas_second_largest_bank_supports/dt243vh/',\n",
       " '/r/waltonchain/comments/7s1s78/south_koreas_second_largest_bank_supports/dt243q4/',\n",
       " '/r/helloicon/comments/7s0g8u/my_body_is_ready/dt2439j/',\n",
       " '/r/NEO/comments/7s2qdv/south_korea_bank_supports_crypto/dt2435u/',\n",
       " '/r/CryptoCurrency/comments/7s20hu/south_koreas_second_largest_bank_supports/dt2431j/',\n",
       " '/r/Buttcoin/comments/7s55i5/nassim_nicholas_taleb_fooled_by_randomness/dt242fk/',\n",
       " '/r/worldnews/comments/7s5582/worlds_first_blockchain_bulk_agriculture_trade/dt2423f/',\n",
       " '/r/JustGoodNews/comments/7s56yp/worlds_first_blockchain_bulk_agriculture_trade/dt2420p/',\n",
       " '/r/CryptoCurrency/comments/7r8ed5/suprise_everyone_south_korean_officials_caught/dsyojpw/',\n",
       " '/r/AllThingsCrypto/comments/7r8eka/south_korean_officials_caught_trading_on_insider/dsyojkp/',\n",
       " '/r/BitcoinCA/comments/7rciyr/south_korean_officials_caught_trading_on_insider/dsyoje1/',\n",
       " '/r/dashpay/comments/7raze8/south_korean_officials_caught_trading_on_insider/dsyojah/',\n",
       " '/r/cardano/comments/7r8vol/and_now_the_information_is_starting_to_come_to/dsyoj69/',\n",
       " '/r/NEO/comments/7r9yrd/south_korean_officials_caught_redhanded_trading/dsyoj2e/',\n",
       " '/r/btc/comments/7r8h86/south_korean_officials_caught_trading_on_insider/dsyoizv/',\n",
       " '/r/Ripple/comments/7re209/suprise_everyone_south_korean_officials_caught/dsyoitf/',\n",
       " '/r/mistyfront/comments/7qu6dn/deltas_app_store_description_seems_appropriate/dsyoibz/',\n",
       " '/r/Buttcoin/comments/7qwouw/accurate_app_description/dsyoi3g/',\n",
       " '/r/CryptoCurrency/comments/7r8a5t/rcryptocurrency_has_hit_500000_subscribers/dsv7gfw/',\n",
       " '/r/CryptoCurrency/comments/7po92v/while_everybody_is_closely_watching_south_korea/dsip1ht/',\n",
       " '/r/CryptoCurrency/comments/7pm6q0/we_want_to_empower_everyone_for_the_greater_good/dsih1y5/',\n",
       " '/r/Vechain/comments/7pm6rb/we_want_to_empower_everyone_for_the_greater_good/dsih1ux/',\n",
       " '/r/vertcoin/comments/7pmylq/the_korean_bill_to_ban_cryptocurrencies_thats/dsih1fl/',\n",
       " '/r/CryptoCurrency/comments/7plbqo/south_koreas_major_cryptocurrency_exchanges/dsih0ax/',\n",
       " '/r/litecoin/comments/7plp8d/south_koreas_major_cryptocurrency_exchanges/dsih059/',\n",
       " '/r/btc/comments/7plboa/south_koreas_major_cryptocurrency_exchanges/dsigzzf/',\n",
       " '/r/icon/comments/7plpf0/south_koreas_major_cryptocurrency_exchanges/dsigzwf/',\n",
       " '/r/CryptoCurrency/comments/7p6hc5/binance_confirms_xrb_as_community_coin_of_the/dsgik0l/',\n",
       " '/r/binance/comments/7p6fho/binance_january_community_coin_raiblocks_xrb/dsgijwg/',\n",
       " '/r/CryptoCurrency/comments/7p7n30/trons_whitepaper_is_copied_plagiarized/dsgijab/',\n",
       " '/r/Tronix/comments/7paa1x/you_cant_ignore_this/dsgij1d/',\n",
       " '/r/Tronix/comments/7p6urt/anybody_worried_about_this/dsgiiyp/',\n",
       " '/r/u_SovaCrypto/comments/7pbesz/trons_whitepaper_is_copied_and_plagiarized/dsgiiv2/',\n",
       " '/r/Tronix/comments/7p9jl0/trons_whitepaper_is_copied_plagiarized/dsgiiqp/',\n",
       " '/r/CryptoCurrency/comments/7ox9k5/binance_opens_new_user_registrations_again/dsdyjjj/',\n",
       " '/r/BitcoinPrivate/comments/7ozk7i/binance_reopening_registrations_fyi/dsdyiw7/',\n",
       " '/r/helloicon/comments/7p1otx/binance_is_open_for_registrations_again/dsdyii7/',\n",
       " '/r/IOTAmarkets/comments/7oxrto/newcomers_eager_to_buy_iota_well_now_is_the_time/dsdyhvs/',\n",
       " '/r/Tronix/comments/7oxc61/binance_reopens_limited_user_registrations_and/dsdyhcw/',\n",
       " '/r/CryptoCurrency/comments/7oy8u4/just_as_reminder_tomorrow_9th_january_will/dsdsbz4/',\n",
       " '/r/RaiBlocks/comments/7oy3m2/just_as_reminder_tomorrow_9th_january_will/dsdsba0/',\n",
       " '/r/BitcoinAll/comments/7oi615/kraken_exchange_supports_segwit_from_october_31st/ds9ue8e/',\n",
       " '/r/Stellar/comments/7odxa5/why_stellar_has_great_potential/ds9ubtg/',\n",
       " '/r/CryptoCurrency/comments/7oeeqb/oyster_pearl_team_update_oysterprotocol_medium/ds9d51l/',\n",
       " '/r/CryptoCurrencies/comments/7oehcc/huge_prl_news_release_heavy_hitter_advisors/ds9d4p3/',\n",
       " '/r/Oyster/comments/7oefw9/oyster_pearl_team_update/ds9d4g8/',\n",
       " '/r/CryptoCurrency/comments/7oegcl/oyster_protocols_has_hired_examazon_and_google/ds9d47b/',\n",
       " '/r/Stellar/comments/7odxa5/why_stellar_has_great_potential/ds9d389/',\n",
       " '/r/Masub/comments/7oac4r/raiblocks_has_won_the_binance_coin_vote/ds9d0fv/',\n",
       " '/r/AskReddit/comments/7oagoj/what_is_your_comfort_tv_show_that_feels_like/ds80710/',\n",
       " '/r/BlockChain/comments/7o4ciw/zuckerberg_is_gonna_study_the_posneg_aspects_of/ds6th25/',\n",
       " '/r/Monero/comments/7o41qz/facebook_ceo_mark_zuckerberg_says_that_he_will/ds6tgab/',\n",
       " '/r/btc/comments/7o405s/breaking_facebook_looking_in_to_implement/ds6tfvp/',\n",
       " '/r/litecoin/comments/7o4005/is_this_the_first_hint_of_a_facebook_litecoin/ds6tfn2/',\n",
       " '/r/ethtrader/comments/7o3ux4/facebook_ceo_mark_zuckerberg_says_that_he_will/ds6tf94/',\n",
       " '/r/CryptoCurrency/comments/7o3u41/facebook_ceo_mark_zuckerberg_says_that_he_will/ds6teu3/',\n",
       " '/r/Bitcoin/comments/7o3uk7/facebook_ceo_mark_zuckerberg_says_that_he_will/ds6teh7/',\n",
       " '/r/CryptoCurrency/comments/7o3qhq/tie_token_listed_on_tidex/ds6j7g6/',\n",
       " '/r/BlockChain/comments/7o3o2d/decentralized_energy_trading_platform_with_p2p/ds6j6mv/',\n",
       " '/r/ArkEcosystem/comments/7jz991/persona_a_new_project_developed_on_ark/ds56qv4/',\n",
       " '/r/dpos/comments/7k217c/personaim/ds56q8v/',\n",
       " '/r/icocrypto/comments/7mpm1t/persona_your_own_digital_self_ico/ds56pxy/',\n",
       " '/r/CryptoCurrency/comments/7mmnvq/persona_your_own_digital_self_presale_starts_on/ds56pl0/',\n",
       " '/r/CryptoCurrency/comments/7myeyp/screw_a_bunch_of_stop_signs_storefronts_and_cars/ds4gtwe/',\n",
       " '/r/CryptoCurrency/comments/7necki/this_is_amazing/ds4gthy/',\n",
       " '/r/btc/comments/7nfegg/hodl_gang_bitcoin_rap_gucci_gang_crypto_remix/ds4gt6i/',\n",
       " '/r/ethtrader/comments/7mthj0/candlestick_cheat_sheet/ds4gsi3/',\n",
       " '/r/CryptoCurrency/comments/7mqwtr/candlestick_cheat_sheet/ds4gs86/',\n",
       " '/r/icocrypto/comments/7n844t/tiesnetwork_and_tidex_join_forces/drzsjww/',\n",
       " '/r/CryptoCurrency/comments/7mu8hc/top_crypto_picks_for_2018_building_a_futureproof/drx6w6x/',\n",
       " '/r/CryptoCurrency/comments/7mv1yu/request_network_req_partners_with_fundrequest_to/drx6szy/',\n",
       " '/r/CryptoCurrency/comments/7mud8y/3_cryptocurrencies_to_buy_on_a_dip_for_major/drx6l5x/',\n",
       " '/r/RaiBlocks/comments/7kryxn/psa_to_reduce_load_on_bitgrail_please_check_the/drwgtm0/',\n",
       " '/r/CossIO/comments/7kqqp9/raiblocks_a_coin_with_a_ton_of_potential_but_only/drwgti4/',\n",
       " '/r/CryptoCurrency/comments/7iu3qn/raiblocks_xrb_smashes_through_1_was_trading_for/drwgtdq/',\n",
       " '/r/CryptoCurrency/comments/7il1qo/raiblocks_xrb_comes_out_of_nowhere_with_a_750/drwgt3v/',\n",
       " '/r/decentralization/comments/7mm96f/tiesnetwork_is_the_platform_for_the_enterprise_of/drvmsdp/',\n",
       " '/r/CryptoCurrency/comments/7mk48n/raiblocks_xrb_just_broke_the_top_25_coins/druuucf/',\n",
       " '/r/CryptoCurrency/comments/7il1qo/raiblocks_xrb_comes_out_of_nowhere_with_a_750/druuu9u/',\n",
       " '/r/CryptoCurrency/comments/7iu3qn/raiblocks_xrb_smashes_through_1_was_trading_for/druuu7r/',\n",
       " '/r/CossIO/comments/7kqqp9/raiblocks_a_coin_with_a_ton_of_potential_but_only/druuu5h/',\n",
       " '/r/NavCoin/comments/7mdxz2/binance_on_twitter_binance_lists_nav_coin/drtcs4h/',\n",
       " '/r/CryptoCurrency/comments/7mdyb8/binance_lists_nav/drtcs13/',\n",
       " '/r/CryptoCurrency/comments/7m960b/request_network_paypal_of_the_next_generation/drtain6/',\n",
       " '/r/RequestNetwork/comments/7m4hz5/what_is_req_and_why_it_is_one_of_the_most/drtaih2/',\n",
       " '/r/Bitcoin/comments/7m0l20/bitcoins_pullback_is_very_healthy_says_tom_lee_i/drrt57o/',\n",
       " '/r/Bitcoin/comments/7m5q1z/adam_back_some_organisational_thoughts_on_scaling/drrt4qd/',\n",
       " '/r/Bitcoin/comments/7m3urm/i_built_this_tool_crypto360io_because_i_was_tired/drrt4ei/',\n",
       " '/r/CryptoCurrency/comments/7m3slj/i_built_this_site_crypto360io_because_i_was_tired/drrt4al/',\n",
       " '/r/Iota/comments/7m46ua/i_built_this_tool_crypto360io_because_i_was_tired/drrt480/',\n",
       " '/r/Bitcoin/comments/7lojyc/how_cryptocurrencies_evolve/drp7frl/',\n",
       " '/r/Bitcoin/comments/7luc4i/within_24_hours_bitpay_went_from_advocating_for/drp7cl7/',\n",
       " '/r/Bitcoin/comments/7ls1h0/the_internet_archive_wow_gift_of_a_lifetime_to/drp5urj/',\n",
       " '/r/Bitcoin/comments/7leubr/fact_tonight_is_the_fifth_30_correction_of_2017/drmcntj/',\n",
       " '/r/CryptoCurrency/comments/7lhrdy/moby_dicks_dropped_it_like_its_hot_discount/drmcllb/',\n",
       " '/r/CryptoCurrency/comments/7lhs11/in_stunning_crash_bitcoin_wipes_out_december/drmck4m/',\n",
       " '/r/CryptoCurrency/comments/7l4ham/etherdelta_got_hacked_do_not_log_in/drkcgko/',\n",
       " '/r/btc/comments/7l8drk/bitcoin_segwit_is_fractionally_reserved/drkcfns/',\n",
       " '/r/btc/comments/7l55a8/roger_ver_on_cnbc_fast_money_december_20_2017/drkceie/',\n",
       " '/r/btc/comments/7j0fwv/viabtc_will_launch_the_worlds_first_bchbased/dr33dfm/',\n",
       " '/r/btc/comments/7ivvd7/samson_mow_says_bitcoin_isnt_for_people_earning/dr31wy5/',\n",
       " '/r/Bitcoin/comments/7iyij3/mind_blown_fiat_is_to_gold_as_lightning_network/dr2zinv/',\n",
       " '/r/CryptoCurrency/comments/7ioa9g/who_would_win/dr1g4yp/',\n",
       " '/r/AskReddit/comments/7if0ri/who_was_your_biggest_video_game_crush/dqy90s7/',\n",
       " '/r/AskReddit/comments/7if31m/what_is_your_favorite_video_games_weapon/dqy8xmq/',\n",
       " '/r/AskReddit/comments/7if31m/what_is_your_favorite_video_games_weapon/dqy8x0l/',\n",
       " '/r/AskReddit/comments/7idcq0/what_the_most_infuriating_and_obvious_things/dqxz4d7/',\n",
       " '/r/AskReddit/comments/7idcq0/what_the_most_infuriating_and_obvious_things/dqxz3w1/',\n",
       " '/r/Bitcoin/comments/7hmjdw/my_brother_killed_himself_because_of_btc/dqsieom/',\n",
       " '/r/AskReddit/comments/844d7l/what_weird_food_combinations_do_you_really_enjoy/dvmo4g8/',\n",
       " '/r/AskReddit/comments/844d7l/what_weird_food_combinations_do_you_really_enjoy/dvmo4a8/',\n",
       " '/r/AskReddit/comments/844d7l/what_weird_food_combinations_do_you_really_enjoy/dvmo3yu/',\n",
       " '/r/AskReddit/comments/83ub1w/what_are_the_most_annoying_stereotypes_of_people/dvkknf8/',\n",
       " '/r/AskReddit/comments/83u8tc/what_are_you_excited_about/dvkkbfm/',\n",
       " '/r/altcoin/comments/82581q/daily_altcoin_jibba_jabba_march_05_2018/dvbfr4a/',\n",
       " '/r/altcoin/comments/82niqz/daily_altcoin_jibba_jabba_march_07_2018/dvbfp36/',\n",
       " '/r/altcoin/comments/82581q/daily_altcoin_jibba_jabba_march_05_2018/dv9p9yj/',\n",
       " ...]"
      ]
     },
     "execution_count": 231,
     "metadata": {},
     "output_type": "execute_result"
    }
   ],
   "source": [
    "troll_comms = comms[~comms['author'].isna()]\n",
    "[plnk for plnk in troll_comms[~troll_comms['permalink'].isna()]['permalink']]"
   ]
  },
  {
   "cell_type": "code",
   "execution_count": 253,
   "metadata": {},
   "outputs": [
    {
     "data": {
      "text/plain": [
       "Comment(id='d2lvomr')"
      ]
     },
     "execution_count": 253,
     "metadata": {},
     "output_type": "execute_result"
    }
   ],
   "source": [
    "comment = reddit.comment(np.random.choice(troll_commentids))\n",
    "comment.refresh()"
   ]
  },
  {
   "cell_type": "code",
   "execution_count": 263,
   "metadata": {
    "scrolled": true
   },
   "outputs": [
    {
     "data": {
      "text/plain": [
       "{'_replies': <praw.models.comment_forest.CommentForest at 0x7f03e4704ee0>,\n",
       " '_submission': Submission(id='4gyjp2'),\n",
       " '_reddit': <praw.reddit.Reddit at 0x7f05277a2b50>,\n",
       " 'total_awards_received': 0,\n",
       " 'approved_at_utc': None,\n",
       " 'ups': 6,\n",
       " 'awarders': [],\n",
       " 'mod_reason_by': None,\n",
       " 'banned_by': None,\n",
       " 'author_flair_type': 'text',\n",
       " 'removal_reason': None,\n",
       " 'link_id': 't3_4gyjp2',\n",
       " 'author_flair_template_id': None,\n",
       " 'likes': None,\n",
       " 'user_reports': [],\n",
       " 'saved': False,\n",
       " 'id': 'd2lvpxe',\n",
       " 'banned_at_utc': None,\n",
       " 'mod_reason_title': None,\n",
       " 'gilded': 0,\n",
       " 'archived': True,\n",
       " 'no_follow': True,\n",
       " 'author': Redditor(name='mendopnhc'),\n",
       " 'can_mod_post': False,\n",
       " 'created_utc': 1461922572.0,\n",
       " 'send_replies': True,\n",
       " 'parent_id': 't1_d2lvomr',\n",
       " 'score': 6,\n",
       " 'author_fullname': 't2_dgcvo',\n",
       " 'report_reasons': None,\n",
       " 'approved_by': None,\n",
       " 'all_awardings': [],\n",
       " 'subreddit_id': 't5_2qhma',\n",
       " 'body': 'i dont take anything to do with american politics at face value lol. but trump is straight up cunt.',\n",
       " 'edited': False,\n",
       " 'author_flair_css_class': None,\n",
       " 'is_submitter': False,\n",
       " 'downs': 0,\n",
       " 'author_flair_richtext': [],\n",
       " 'author_patreon_flair': False,\n",
       " 'body_html': '<div class=\"md\"><p>i dont take anything to do with american politics at face value lol. but trump is straight up cunt.</p>\\n</div>',\n",
       " 'gildings': {},\n",
       " 'collapsed_reason': None,\n",
       " 'associated_award': None,\n",
       " 'stickied': False,\n",
       " 'author_premium': False,\n",
       " 'subreddit_type': 'public',\n",
       " 'can_gild': True,\n",
       " 'top_awarded_type': None,\n",
       " 'author_flair_text_color': None,\n",
       " 'score_hidden': False,\n",
       " 'permalink': '/r/newzealand/comments/4gyjp2/82_of_new_zealanders_would_vote_for_hillary/d2lvpxe/',\n",
       " 'num_reports': None,\n",
       " 'locked': False,\n",
       " 'name': 't1_d2lvpxe',\n",
       " 'created': 1461951372.0,\n",
       " 'subreddit': Subreddit(display_name='newzealand'),\n",
       " 'author_flair_text': None,\n",
       " 'treatment_tags': [],\n",
       " 'collapsed': False,\n",
       " 'subreddit_name_prefixed': 'r/newzealand',\n",
       " 'controversiality': 0,\n",
       " 'depth': 5,\n",
       " 'author_flair_background_color': None,\n",
       " 'collapsed_because_crowd_control': None,\n",
       " 'mod_reports': [],\n",
       " 'mod_note': None,\n",
       " 'distinguished': None,\n",
       " '_fetched': True}"
      ]
     },
     "execution_count": 263,
     "metadata": {},
     "output_type": "execute_result"
    }
   ],
   "source": [
    "#for reply in comment._replies:\n",
    "#    print(reply)\n",
    "dict(vars(reply))"
   ]
  },
  {
   "cell_type": "code",
   "execution_count": 264,
   "metadata": {},
   "outputs": [
    {
     "name": "stdout",
     "output_type": "stream",
     "text": [
      "submission    :  14523\n",
      "first_and_last:    964\n",
      "comment       : 231533\n"
     ]
    }
   ],
   "source": [
    "for coll in db.list_collection_names():\n",
    "    print(f'{coll:14}: {db[coll].count_documents({}):6}')"
   ]
  },
  {
   "cell_type": "code",
   "execution_count": null,
   "metadata": {},
   "outputs": [],
   "source": [
    "# top-up the child comments\n",
    "log = [] \n",
    "i = 0 \n",
    "for comment_id in troll_commentids:  \n",
    "    i += 1  \n",
    "    print(f'searching for comment id: {comment_id}')  \n",
    "    comment = reddit.comment(id=comment_id)  \n",
    "    try:  \n",
    "        comment.refresh() \n",
    "    except (Forbidden, ClientException):  \n",
    "        log.append(i)  \n",
    "        continue \n",
    "    for reply in comment._replies: \n",
    "        d = dict(vars(reply)) \n",
    "        did = d['id'] \n",
    "        print(f'found reply id: {did}')  \n",
    "        for key in ['_replies', '_submission',  \n",
    "                '_reddit', 'mod', 'author',  \n",
    "                'subreddit']:  \n",
    "            _ = d.pop(key, None)  \n",
    "        try:  \n",
    "            db['comment'].insert_one(d) \n",
    "        except (errors.DuplicateKeyError, errors.InvalidDocument): \n",
    "            log.append(i)  \n",
    "            continue "
   ]
  },
  {
   "cell_type": "code",
   "execution_count": 274,
   "metadata": {},
   "outputs": [
    {
     "name": "stdout",
     "output_type": "stream",
     "text": [
      "submission    :  14523\n",
      "first_and_last:    964\n",
      "comment       : 231547\n"
     ]
    }
   ],
   "source": [
    "for coll in db.list_collection_names():\n",
    "    print(f'{coll:14}: {db[coll].count_documents({}):6}')"
   ]
  },
  {
   "cell_type": "markdown",
   "metadata": {},
   "source": [
    "## NLP"
   ]
  },
  {
   "cell_type": "code",
   "execution_count": null,
   "metadata": {},
   "outputs": [],
   "source": [
    "orig_stopwords_ = set(\"a,able,about,across,after,all,almost,also,am,among,an,and,any,\\\n",
    "are,as,at,be,because,been,but,by,can,could,dear,did,do,does,either,\\\n",
    "else,ever,every,for,from,get,got,had,has,have,he,her,hers,him,his,\\\n",
    "how,however,i,if,in,into,is,it,its,just,least,let,like,likely,may,\\\n",
    "me,might,most,must,my,neither,no,of,off,often,on,only,or,other,our,\\\n",
    "own,rather,said,say,says,she,should,since,so,some,than,that,the,their,\\\n",
    "them,then,there,these,they,this,tis,to,too,twas,us,wants,was,we,were,\\\n",
    "what,when,where,which,while,who,whom,why,will,with,would,yet,you,your,u,s\".split(','))\n",
    "\n",
    "# new stopwords after first run through\n",
    "# sws_to_add_brf1 = 'thanks,op,tie,deleted,game,crypto,invest,\\\n",
    "# edit,platform,play,giveaway,ok,yeah,blockchain,enter,remove,\\\n",
    "# m,token,awesome,ethereum,exchange,steam,dude'.split(',')\n",
    "\n",
    "# stopwords_ = set(list(orig_stopwords_) + sws_to_add_brf1)\n",
    "stopwords_ = orig_stopwords_\n",
    "\n",
    "punctuation_ = set(string.punctuation + '’' + '“')\n",
    "\n",
    "def rm_punctuation(a_string):\n",
    "    table = str.maketrans('', '', ''.join(punctuation_))\n",
    "    return a_string.translate(table)\n",
    "        \n",
    "def tokens_lower(tokens):\n",
    "    return [word.lower() for word in tokens]\n",
    "\n",
    "def filter_tokens(tokens):\n",
    "#     for w in sent: print(w)\n",
    "#     if w == \"’\": print(\"this is ': \" + w)\n",
    "    return [w for w in tokens if not w in stopwords_]\n",
    "\n",
    "def stem_tokens(ntlk_stem_obj, tokens):\n",
    "    # visualize what stemming and lemmitization does!\n",
    "    # str(porter.__class__) = \"<class 'nltk.stem.porter.PorterStemmer'>\"\n",
    "#     name = str(ntlk_stem_lemm_obj.__class__).split(\"'\")[1].split('.')[-1]\n",
    "#     count_ident = 0\n",
    "#     count_alter = 0\n",
    "    return [ntlk_stem_obj.stem(tok) for tok in tokens]\n",
    "#     elif ''\n",
    "# for tok in tokens:\n",
    "#         return ntlk_stem_lemm_obj.stem(tok)\n",
    "#         if tok == stem_lemm_f_l_tok:\n",
    "#             count_ident += 1\n",
    "#         else:\n",
    "#             print(tok, stem_lemm_f_l_tok)\n",
    "#             count_alter += 1\n",
    "#     print('{}:\\nNumber of unchanged words: {}\\nchanged words: {}\\n'.format(name, count_ident, count_alter))\n",
    "\n",
    "def lemm_tokens(ntlk_lemm_obj, tokens):\n",
    "    return [ntlk_lemm_obj.lemmatize(tok) for tok in tokens]"
   ]
  },
  {
   "cell_type": "code",
   "execution_count": null,
   "metadata": {},
   "outputs": [],
   "source": [
    "def nlp_pre_proc_doc(input_string, stemming=False):\n",
    "    '''\n",
    "    given document:\n",
    "        tokenizes the document\n",
    "        sets tokens to lower case\n",
    "        filters punctuation and stop words from tokens\n",
    "        returns porter, snowball, and wordnet stem/lemm tokens\n",
    "    '''\n",
    "    no_punct_string = rm_punctuation(input_string)\n",
    "    tokens = word_tokenize(no_punct_string)\n",
    "    lo_tokens = tokens_lower(tokens)\n",
    "    f_lo_tokens = filter_tokens(lo_tokens)\n",
    "    if stemming:\n",
    "        s_f_lo_tokens = stem_tokens(porter, f_lo_tokens)\n",
    "        le_s_f_lo_tokens = lemm_tokens(wordnet, s_f_lo_tokens)\n",
    "        return ' '.join(le_s_f_lo_tokens)\n",
    "    else:\n",
    "        le_f_lo_tokens = lemm_tokens(wordnet, f_lo_tokens)\n",
    "        return ' '.join(le_f_lo_tokens)"
   ]
  },
  {
   "cell_type": "code",
   "execution_count": null,
   "metadata": {},
   "outputs": [],
   "source": [
    "# this takes a few minutes, and uses about 100 MB of RAM\n",
    "corpus = [nlp_pre_proc_doc(d) for d in comms['body']]"
   ]
  },
  {
   "cell_type": "markdown",
   "metadata": {},
   "source": [
    "## Train classifier(s)"
   ]
  },
  {
   "cell_type": "code",
   "execution_count": null,
   "metadata": {},
   "outputs": [],
   "source": [
    "# keep a dictionary of trained classifiers for comparison\n",
    "clfs = {}"
   ]
  },
  {
   "cell_type": "markdown",
   "metadata": {},
   "source": [
    "### train test split"
   ]
  },
  {
   "cell_type": "code",
   "execution_count": null,
   "metadata": {},
   "outputs": [],
   "source": [
    "X_train_corp, X_test_corp, y_train, y_test = train_test_split(\n",
    "        corpus, y, test_size=0.2, random_state=30, shuffle=True)"
   ]
  },
  {
   "cell_type": "code",
   "execution_count": null,
   "metadata": {},
   "outputs": [],
   "source": [
    "n_features = 5000\n",
    "\n",
    "tfidf_vectorizer = TfidfVectorizer(max_df=0.95, min_df=2,\n",
    "                                   max_features=n_features,\n",
    "                                   stop_words='english')"
   ]
  },
  {
   "cell_type": "code",
   "execution_count": null,
   "metadata": {},
   "outputs": [],
   "source": [
    "t0 = time.time()\n",
    "X_train_tfidf = tfidf_vectorizer.fit_transform(X_train_corp)\n",
    "print(\"done in %0.3fs.\" % (time.time() - t0))"
   ]
  },
  {
   "cell_type": "code",
   "execution_count": null,
   "metadata": {},
   "outputs": [],
   "source": [
    "X_test_tfidf = tfidf_vectorizer.transform(X_test_corp)"
   ]
  },
  {
   "cell_type": "code",
   "execution_count": null,
   "metadata": {},
   "outputs": [],
   "source": [
    "X_train = X_train_tfidf.toarray()\n",
    "X_test = X_test_tfidf.toarray()"
   ]
  },
  {
   "cell_type": "code",
   "execution_count": null,
   "metadata": {},
   "outputs": [],
   "source": [
    "# fit the model\n",
    "# at first I did 100 estimators, but 100*25 is only 2500 \n",
    "#  whereas we have 5000 features in tfidf. Increase to 400\n",
    "model_param = {'n_estimators': 400,\n",
    "                   'max_depth': 5,\n",
    "                   'max_features': 25,\n",
    "                   'oob_score': True,\n",
    "                   'n_jobs': -1,\n",
    "                   'random_state': 30}"
   ]
  },
  {
   "cell_type": "code",
   "execution_count": null,
   "metadata": {},
   "outputs": [],
   "source": [
    "brf = RandomForestClassifier(**model_param, class_weight='balanced_subsample')\n",
    "brf.fit(X_train, y_train)"
   ]
  },
  {
   "cell_type": "code",
   "execution_count": null,
   "metadata": {},
   "outputs": [],
   "source": [
    "imbrf = BalancedRandomForestClassifier(**model_param, class_weight='balanced_subsample')\n",
    "imbrf.fit(X_train, y_train)"
   ]
  },
  {
   "cell_type": "markdown",
   "metadata": {},
   "source": [
    "## model inspection"
   ]
  },
  {
   "cell_type": "code",
   "execution_count": null,
   "metadata": {},
   "outputs": [],
   "source": [
    "def standard_confusion_matrix(y_true, y_predict):\n",
    "    \"\"\"\n",
    "    y_true = [1, 1, 1, 1, 1, 0, 0]\n",
    "\n",
    "    y_predict = [1, 1, 1, 1, 0, 0, 0]\n",
    "\n",
    "    In [1]: standard_confusion_matrix(y_true, y_predict)\n",
    "    >> array([[4., 1.],\n",
    "    >>       [0., 2.]])\n",
    "    \"\"\"\n",
    "    cm = np.zeros((2,2))\n",
    "    X = np.array([y_true, y_predict])\n",
    "    values, counts = np.unique(X, axis=1, return_counts=True)\n",
    "    for i, v in enumerate(values.T):\n",
    "        cm[tuple([1, 1] - v)] = counts[i]\n",
    "    return cm.T.astype(int)\n",
    "\n",
    "# from the lecture\n",
    "# Just handy function to make our confusion matrix pretty \n",
    "def plot_confusion_matrix(cm, # confusion matrix\n",
    "                          classes_x, # test to describe what the output of the classes may be (commonly 1 or 0)\n",
    "                          classes_y,\n",
    "                          normalize=False, \n",
    "                          title='Confusion matrix',\n",
    "                          cmap=plt.cm.Blues):\n",
    "    \n",
    "    if normalize:\n",
    "        cm = cm.astype('float') / cm.sum(axis=1)[:, np.newaxis]\n",
    "    plt.imshow(cm, interpolation='nearest', cmap=cmap)\n",
    "    plt.title(title)\n",
    "    plt.colorbar()\n",
    "    tick_marks = np.arange(len(classes_x))\n",
    "    plt.xticks(tick_marks, classes_x, rotation=45)\n",
    "    plt.yticks(tick_marks, classes_y)\n",
    "\n",
    "    fmt = '.2f' if normalize else 'd'\n",
    "    thresh = cm.max() / 2.\n",
    "    for i, j in itertools.product(range(cm.shape[0]), range(cm.shape[1])):\n",
    "        plt.text(j, i,  format(cm[i, j], fmt),\n",
    "                 horizontalalignment=\"center\",\n",
    "                 color=\"white\" if cm[i, j] > thresh else \"black\")\n",
    "\n",
    "    plt.tight_layout()\n",
    "    plt.ylabel('Predicted label')\n",
    "    plt.xlabel('True label')"
   ]
  },
  {
   "cell_type": "code",
   "execution_count": null,
   "metadata": {},
   "outputs": [],
   "source": [
    "def plot_roc_nofit(ax, X_test, y_test, clf, clf_name, **kwargs):\n",
    "    y_prob = np.zeros((len(y_test),2))\n",
    "    mean_tpr = 0.0\n",
    "    mean_fpr = np.linspace(0, 1, 100)\n",
    "    all_tpr = []\n",
    "    # Predict probabilities, not classes\n",
    "    y_prob = clf.predict_proba(X_test)\n",
    "    fpr, tpr, thresholds = roc_curve(y_test, y_prob[:, 1])\n",
    "    mean_tpr += interp(mean_fpr, fpr, tpr)\n",
    "    mean_tpr[0] = 0.0\n",
    "    roc_auc = auc(fpr, tpr)\n",
    "    if len(ax.lines) == 0:\n",
    "        plt.plot([0, 1], [0, 1], '--', color=(0.6, 0.6, 0.6), label='Random')\n",
    "    ax.plot(fpr, tpr, lw=1, label='%s (area = %0.2f)' % (clf_name, roc_auc))\n",
    "    mean_tpr /= 1\n",
    "    mean_tpr[-1] = 1.0\n",
    "    mean_auc = auc(mean_fpr, mean_tpr)\n",
    "#     plt.plot(mean_fpr, mean_tpr, 'k--',label='Mean ROC (area = %0.2f)' % mean_auc, lw=2)\n",
    "    plt.xlim([-0.05, 1.05])\n",
    "    plt.ylim([-0.05, 1.05])\n",
    "    plt.xlabel('False Positive Rate')\n",
    "    plt.ylabel('True Positive Rate')\n",
    "    plt.title('Receiver operating characteristic')\n",
    "    plt.legend(loc=\"lower right\", )"
   ]
  },
  {
   "cell_type": "code",
   "execution_count": null,
   "metadata": {},
   "outputs": [],
   "source": [
    "# include the model for comparisons\n",
    "clfs['Balanced_RF'] = brf"
   ]
  },
  {
   "cell_type": "code",
   "execution_count": null,
   "metadata": {},
   "outputs": [],
   "source": [
    "np.set_printoptions(precision=2)\n",
    "\n",
    "# Plot non-normalized confusion matrix\n",
    "titles_options = [(\"Confusion matrix, without normalization\", None),\n",
    "                  (\"Normalized confusion matrix\", 'true')]\n",
    "for title, normalize in titles_options:\n",
    "    disp = plot_confusion_matrix(brf, X_test, y_test,\n",
    "                                 cmap=plt.cm.Blues,\n",
    "                                 normalize=normalize)\n",
    "    disp.ax_.set_title(title)\n",
    "\n",
    "    print(title)\n",
    "    print(disp.confusion_matrix)\n",
    "\n",
    "plt.show()"
   ]
  },
  {
   "cell_type": "code",
   "execution_count": null,
   "metadata": {},
   "outputs": [],
   "source": [
    "clfs.items()"
   ]
  },
  {
   "cell_type": "code",
   "execution_count": null,
   "metadata": {
    "scrolled": true
   },
   "outputs": [],
   "source": [
    "# rnd_smp = np.random.random_sample(len(X)) < 0.\n",
    "#fig, ax = plt.subplots(1, figsize=(6, 5))\n",
    "#classifier_labels = ['Random_Forest (RF)', 'Balanced_RF']\n",
    "#classifiers = {'Random_Forest (RF)': rf, 'Balanced_RF': brf}\n",
    "#for label, clf in clfs.items():\n",
    "    #plot_roc_nofit(ax, X_test, y_test, clf, label)\n",
    "    #multi_class='ovo'\n",
    ">>> import numpy as np\n",
    ">>> from sklearn.metrics import roc_auc_score\n",
    ">>> y_true = np.array([0, 0, 1, 1])\n",
    ">>> y_scores = np.array([0.1, 0.4, 0.35, 0.8])\n",
    ">>> roc_auc_score(y_true, y_scores)"
   ]
  },
  {
   "cell_type": "code",
   "execution_count": null,
   "metadata": {},
   "outputs": [],
   "source": [
    "brf.predict_proba(X_test)"
   ]
  },
  {
   "cell_type": "code",
   "execution_count": null,
   "metadata": {},
   "outputs": [],
   "source": [
    "troll_comments = comms[comms['troll?']==1]"
   ]
  },
  {
   "cell_type": "code",
   "execution_count": null,
   "metadata": {},
   "outputs": [],
   "source": [
    "len(troll_comments)"
   ]
  },
  {
   "cell_type": "code",
   "execution_count": null,
   "metadata": {},
   "outputs": [],
   "source": [
    "# let's get the ids for all the troll_comments, then retrieve all the replies to it from Pushshift\n",
    "troll_comments['id']"
   ]
  },
  {
   "cell_type": "code",
   "execution_count": null,
   "metadata": {},
   "outputs": [],
   "source": [
    "api = PushshiftAPI()"
   ]
  },
  {
   "cell_type": "code",
   "execution_count": null,
   "metadata": {},
   "outputs": [],
   "source": [
    "gen = api.search_comments(parent_id='t1_dr3b6ce,t1_cpe9ci5')"
   ]
  },
  {
   "cell_type": "code",
   "execution_count": null,
   "metadata": {},
   "outputs": [],
   "source": [
    "next(gen).d_"
   ]
  },
  {
   "cell_type": "code",
   "execution_count": null,
   "metadata": {
    "scrolled": true
   },
   "outputs": [],
   "source": [
    "gen = api.search_comments(id='cax4ng0,cax1t9x')\n",
    "next(gen).d_, next(gen).d_"
   ]
  },
  {
   "cell_type": "markdown",
   "metadata": {},
   "source": [
    "### PushshiftAPI will give us all the responses to the trolls. Get those, asap. praw only gave us comments above the depth of the trolls"
   ]
  },
  {
   "cell_type": "markdown",
   "metadata": {},
   "source": [
    "#### so, let's recap the tomfoolery between praw and psaw\n",
    "0) psaw returns comments from trolls, praw does not ... true?\n",
    "1) psaw returns nothing when searching on threads with comments from trolls ... true? mostly. I believe it's not 100%, but e.g. https://api.pushshift.io/reddit/submission/comment_ids/4rdu5x returns []\n",
    "2) re: 1, reddit does, but does not include any responses to the trolls ... true?"
   ]
  },
  {
   "cell_type": "markdown",
   "metadata": {},
   "source": [
    "#### TODO\n",
    "* classify on pca / increase the number of maximum features per tree\n",
    "* what is the human readable subreddit given the fullname, eg. t5_2r99w (DONE)\n",
    "```python\n",
    "gen = reddit.subreddits.search(\"t5_2r99w,t5_2r99w\")\n",
    "next(gen), next(gen)\n",
    "```\n",
    "```\n",
    "(Subreddit(display_name='whisky'),\n",
    " Subreddit(display_name='BaseballbytheNumbers'))\n",
    "```\n",
    "* get user link and comment karma (partially done - https://old.reddit.com/r/pushshift/comments/9i8s23/dataset_metadata_for_69_million_reddit_users_in/)\n",
    " - still missing karma for 623 userids\n",
    "```bash\n",
    "$ wc -l data/user_activity_dataframe*\n",
    "  3826 data/user_activity_dataframe.csv\n",
    "  3203 data/user_activity_dataframe_RA_2018-09.csv\n",
    "  3199 data/user_activity_dataframe_reddit_accounts.csv\n",
    " 10228 total\n",
    "```\n",
    "* how to get the permalink for each comment (DONE)\n",
    "```python\n",
    "comment = reddit.comment(id=\"dxolpyc\")\n",
    "comment.permalink\n",
    "```\n",
    "```\n",
    "'/r/redditdev/comments/8dmv8z/is_there_no_distinguish_method_for_comments_in/dxolpyc/'\n",
    "```\n",
    "* what is the author given its id? e.g. t2_105z8m (DONE)\n",
    "```python\n",
    "str(reddit.redditor(fullname=\"t2_z919g\"))\n",
    "```\n",
    "```\n",
    "'BlackToLive'\n",
    "```\n",
    "* is their greater controversiality in troll comments than others? (DONE)\n",
    "  - yes, slightly -- 4% to 3%\n",
    "* retrieve missing comments\n",
    "  - parents of trolls (missing 695, ~50%) (DONE)\n",
    "  - replies to trolls (missing ALL of them, unless the reply is from a troll)\n",
    "* get nest_level for everything\n",
    "* one-hot encode the subreddit to add to the tfidf\n",
    "* add user activity profile to the tfidf\n",
    "* start with id, (comment)\n",
    "  - is the comment trollish? proba > threshold\n",
    "  - if yes, then \n",
    "    - classify all other comments from the user (max=1000?)\n",
    "    - for each trollish comment, recurse on other trollish comments in its thread (max=1000?)\n",
    "  - given all the comments (including non-trollish from threads), view the author creation date and test for spike"
   ]
  },
  {
   "cell_type": "code",
   "execution_count": null,
   "metadata": {},
   "outputs": [],
   "source": [
    "with pd.option_context('display.max_rows', None, 'display.max_columns', None):  # more options can be specified also\n",
    "    troll_comments = comms[comms['troll?']==1]\n",
    "    print(troll_comments[troll_comments['subreddit']=='politics'])\n",
    "# comms.tail().iloc[0, :]"
   ]
  },
  {
   "cell_type": "code",
   "execution_count": null,
   "metadata": {},
   "outputs": [],
   "source": [
    "with pd.option_context('display.max_rows', None, 'display.max_columns', None):  # more options can be specified also\n",
    "    not_troll_comments = comms[comms['troll?']!=1]\n",
    "    print(not_troll_comments[not_troll_comments['subreddit_id']=='t5_2cneq'].head())"
   ]
  },
  {
   "cell_type": "code",
   "execution_count": null,
   "metadata": {},
   "outputs": [],
   "source": [
    "y = comms['class_label'].values\n",
    "np.unique(y, return_counts=True)"
   ]
  },
  {
   "cell_type": "code",
   "execution_count": null,
   "metadata": {},
   "outputs": [],
   "source": [
    "dict(zip(comms['subreddit_id'], comms['subreddit']))"
   ]
  },
  {
   "cell_type": "code",
   "execution_count": null,
   "metadata": {},
   "outputs": [],
   "source": [
    "# np.unique(comms['subreddit_id'] + '_' + comms['subreddit'], return_counts=True)\n",
    "comms['subreddit_id']"
   ]
  },
  {
   "cell_type": "markdown",
   "metadata": {},
   "source": [
    "#### join the [71.6 million usernames](https://old.reddit.com/r/pushshift/search?q=karma&restrict_sr=on&sort=relevance&t=all) to the user activity dataframe so we can efficiently load the link and comment karma of all these users into mongo\n",
    "```bash\n",
    "comm <(\\\n",
    "    sed '1d' user_activity_dataframe.csv | cut -d, -f2 | sort -u\\\n",
    "    ) \\\n",
    "    <(\\\n",
    "    cut -d, -f1 user_activity_dataframe_reddit_accounts.csv | sort -u\\\n",
    "    ) | \n",
    "awk -F\"\\t\" '{print NF;}' | sort | uniq -c\n",
    "```\n",
    "``` \n",
    "    56 1\n",
    "   277 3\n",
    "```"
   ]
  },
  {
   "cell_type": "code",
   "execution_count": null,
   "metadata": {},
   "outputs": [],
   "source": [
    "# get the user link- and comment-karma from reddit praw\n",
    "for item in reddit.redditor(\"Kevin_Milner\").downvoted():\n",
    "    print(item.id)\n",
    "    break"
   ]
  },
  {
   "cell_type": "code",
   "execution_count": null,
   "metadata": {},
   "outputs": [],
   "source": [
    "# reddit.redditor(\"spez\")\n",
    "reddit.user.me()"
   ]
  },
  {
   "cell_type": "code",
   "execution_count": null,
   "metadata": {},
   "outputs": [],
   "source": [
    "reddit.redditor(\"spez\")"
   ]
  },
  {
   "cell_type": "code",
   "execution_count": null,
   "metadata": {},
   "outputs": [],
   "source": [
    "str(reddit.redditor(fullname=\"t2_z919g\"))"
   ]
  },
  {
   "cell_type": "code",
   "execution_count": null,
   "metadata": {},
   "outputs": [],
   "source": [
    "reddit.subreddit(display_name=\"t5_2r99w\").subreddit"
   ]
  },
  {
   "cell_type": "code",
   "execution_count": null,
   "metadata": {},
   "outputs": [],
   "source": [
    "gen = reddit.subreddits.search(\"t5_2r99w,t5_2r99w\")\n",
    "\n",
    "# assume you have a Reddit instance bound to variable `reddit`\n",
    "# str(reddit.submission(id=\"39zje0,\").subreddit)\n",
    "# print(submission.title) # to make it non-lazy\n",
    "# pprint.pprint(vars(submission))"
   ]
  },
  {
   "cell_type": "code",
   "execution_count": null,
   "metadata": {},
   "outputs": [],
   "source": [
    "next(gen)"
   ]
  },
  {
   "cell_type": "code",
   "execution_count": null,
   "metadata": {},
   "outputs": [],
   "source": [
    "next(gen)"
   ]
  },
  {
   "cell_type": "code",
   "execution_count": null,
   "metadata": {},
   "outputs": [],
   "source": [
    "gen = reddit.subreddits.search(\"t5_2r99w,t5_2r99w\")\n",
    "next(gen), next(gen)"
   ]
  },
  {
   "cell_type": "code",
   "execution_count": null,
   "metadata": {},
   "outputs": [],
   "source": [
    "comment = reddit.comment(id=\"dxolpyc\")\n",
    "# assume you have a Reddit instance bound to variable `reddit`\n",
    "# str(comment)\n",
    "# print(submission.title) # to make it non-lazy\n"
   ]
  },
  {
   "cell_type": "code",
   "execution_count": null,
   "metadata": {},
   "outputs": [],
   "source": [
    "comment.depth"
   ]
  },
  {
   "cell_type": "code",
   "execution_count": null,
   "metadata": {},
   "outputs": [],
   "source": [
    "with pd.option_context('display.max_rows', None, 'display.max_columns', None):  # more options can be specified also\n",
    "#     print(comms[[not value for value in comms['nest_level'].isna()]].head())\n",
    "    for i, row in enumerate(comms[['nest_level', 'depth']].values):\n",
    "        print(i, all([np.isnan(val) for val in row]))"
   ]
  },
  {
   "cell_type": "code",
   "execution_count": null,
   "metadata": {},
   "outputs": [],
   "source": [
    "with pd.option_context('display.max_rows', None, 'display.max_columns', None):\n",
    "    print(comms[np.logical_and(np.isnan(comms['nest_level']), np.isnan(comms['depth']))])"
   ]
  },
  {
   "cell_type": "markdown",
   "metadata": {},
   "source": [
    "#### For the purposes of combining the depth and the nest_level, 750 comments have neither a depth nor a nest_level. They are all from trolls. With a few dozen exceptions, all have parent_ids starting with t3, meaning they have depth=1"
   ]
  },
  {
   "cell_type": "code",
   "execution_count": null,
   "metadata": {},
   "outputs": [],
   "source": [
    "# oops, parent_of_troll isn't working -- FIXED\n",
    "np.logical_and(comms['troll?']==1, comms['parent_of_troll?']==1).sum()"
   ]
  }
 ],
 "metadata": {
  "kernelspec": {
   "display_name": "Python 3",
   "language": "python",
   "name": "python3"
  },
  "language_info": {
   "codemirror_mode": {
    "name": "ipython",
    "version": 3
   },
   "file_extension": ".py",
   "mimetype": "text/x-python",
   "name": "python",
   "nbconvert_exporter": "python",
   "pygments_lexer": "ipython3",
   "version": "3.8.2"
  }
 },
 "nbformat": 4,
 "nbformat_minor": 4
}
