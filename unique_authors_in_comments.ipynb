{
 "cells": [
  {
   "cell_type": "code",
   "execution_count": 45,
   "metadata": {},
   "outputs": [],
   "source": [
    "from psaw import PushshiftAPI\n",
    "import praw\n",
    "from prawcore import Forbidden\n",
    "from praw.exceptions import ClientException\n",
    "import datetime as dt\n",
    "import numpy as np\n",
    "import pandas as pd\n",
    "import matplotlib.pyplot as plt\n",
    "%matplotlib inline\n",
    "plt.style.use('ggplot')\n",
    "import seaborn as sns\n",
    "\n",
    "from scipy import stats\n",
    "\n",
    "from pymongo import MongoClient, errors\n",
    "\n",
    "from bson.json_util import loads, dumps\n",
    "from bson.objectid import ObjectId\n",
    "\n",
    "from datetime import datetime as dt\n",
    "\n",
    "import boto3\n",
    "\n",
    "import time\n",
    "\n",
    "import nltk\n",
    "from nltk.tokenize import word_tokenize\n",
    "from nltk.corpus import stopwords\n",
    "from nltk.stem.porter import PorterStemmer\n",
    "from nltk.stem.wordnet import WordNetLemmatizer\n",
    "\n",
    "from sklearn.feature_extraction.text import TfidfVectorizer\n",
    "from sklearn.decomposition import NMF\n",
    "from sklearn.model_selection import train_test_split\n",
    "from sklearn.model_selection import KFold\n",
    "from sklearn.preprocessing import StandardScaler\n",
    "from sklearn.ensemble import RandomForestClassifier\n",
    "from sklearn.metrics import confusion_matrix, precision_score, recall_score, roc_curve, auc, roc_auc_score\n",
    "from sklearn.metrics import plot_confusion_matrix\n",
    "\n",
    "from imblearn.ensemble import BalancedRandomForestClassifier\n",
    "\n",
    "import pickle\n",
    "\n",
    "from scipy import interp\n",
    "\n",
    "import string\n",
    "from pprint import pprint"
   ]
  },
  {
   "cell_type": "code",
   "execution_count": 2,
   "metadata": {},
   "outputs": [
    {
     "name": "stderr",
     "output_type": "stream",
     "text": [
      "[nltk_data] Downloading package stopwords to /home/ubuntu/nltk_data...\n",
      "[nltk_data]   Package stopwords is already up-to-date!\n",
      "[nltk_data] Downloading package punkt to /home/ubuntu/nltk_data...\n",
      "[nltk_data]   Package punkt is already up-to-date!\n",
      "[nltk_data] Downloading package wordnet to /home/ubuntu/nltk_data...\n",
      "[nltk_data]   Package wordnet is already up-to-date!\n"
     ]
    },
    {
     "data": {
      "text/plain": [
       "True"
      ]
     },
     "execution_count": 2,
     "metadata": {},
     "output_type": "execute_result"
    }
   ],
   "source": [
    "nltk.download('stopwords')\n",
    "nltk.download('punkt')\n",
    "nltk.download('wordnet')"
   ]
  },
  {
   "cell_type": "code",
   "execution_count": 3,
   "metadata": {},
   "outputs": [],
   "source": [
    "porter = PorterStemmer()\n",
    "wordnet = WordNetLemmatizer()"
   ]
  },
  {
   "cell_type": "code",
   "execution_count": 4,
   "metadata": {},
   "outputs": [],
   "source": [
    "creds = {}\n",
    "with open ('/opt/cap1/.cap1', 'r') as fp:\n",
    "    for line in fp:\n",
    "        k, v = line.replace('\\n','').split('\\t')\n",
    "        creds[k] = v"
   ]
  },
  {
   "cell_type": "code",
   "execution_count": 5,
   "metadata": {},
   "outputs": [],
   "source": [
    "reddit = praw.Reddit(client_id=creds['REDDIT_ID'], \n",
    "    client_secret=creds['REDDIT_SECRET'],\n",
    "    password=creds['REDDIT_PASSWORD'], \n",
    "    username=creds['REDDIT_USERNAME'],\n",
    "    user_agent='accessAPI:v0.0.1 (by /u/{})'.format(creds['REDDIT_USERNAME']))"
   ]
  },
  {
   "cell_type": "code",
   "execution_count": 6,
   "metadata": {},
   "outputs": [],
   "source": [
    "api = PushshiftAPI()"
   ]
  },
  {
   "cell_type": "code",
   "execution_count": 7,
   "metadata": {},
   "outputs": [],
   "source": [
    "client = MongoClient('localhost', 27017)\n",
    "db = client['cap2']"
   ]
  },
  {
   "cell_type": "code",
   "execution_count": 8,
   "metadata": {},
   "outputs": [],
   "source": [
    "# get all comments into a list called 'docs', then make dataframe\n",
    "query = {}\n",
    "fields = { '_id': 0 }\n",
    "# docs is about 1.3 GB in RAM\n",
    "docs = list(db['comment'].find( query, fields ))"
   ]
  },
  {
   "cell_type": "code",
   "execution_count": 9,
   "metadata": {},
   "outputs": [],
   "source": [
    "comms = pd.DataFrame(docs)"
   ]
  },
  {
   "cell_type": "code",
   "execution_count": null,
   "metadata": {},
   "outputs": [],
   "source": [
    "# TODO add submission ids to the set of ids from trolls, probably append 't1_' to comments\n",
    "# for ease of use"
   ]
  },
  {
   "cell_type": "markdown",
   "metadata": {},
   "source": [
    "## assign labels, 'troll?', and 'child_of_troll?', and 'parent_of_troll?'"
   ]
  },
  {
   "cell_type": "code",
   "execution_count": 10,
   "metadata": {},
   "outputs": [],
   "source": [
    "# create array of classes for target\n",
    "classes = ['other', 'parent', 'child', 'troll']"
   ]
  },
  {
   "cell_type": "code",
   "execution_count": 11,
   "metadata": {},
   "outputs": [
    {
     "data": {
      "text/plain": [
       "6704"
      ]
     },
     "execution_count": 11,
     "metadata": {},
     "output_type": "execute_result"
    }
   ],
   "source": [
    "# assign the label, 'troll?'' to each comment\n",
    "troll_comment_ids_set = set(comms[~comms['author'].isna()]['id'])\n",
    "comms['troll?'] = [int(mybool) for mybool in [\n",
    "                    commid in troll_comment_ids_set for commid in comms['id']\n",
    "                    ]]\n",
    "np.sum(comms['troll?'])"
   ]
  },
  {
   "cell_type": "code",
   "execution_count": 12,
   "metadata": {},
   "outputs": [
    {
     "data": {
      "text/plain": [
       "2985"
      ]
     },
     "execution_count": 12,
     "metadata": {},
     "output_type": "execute_result"
    }
   ],
   "source": [
    "# is this comment in reply to a troll?\n",
    "comms['child_of_troll?'] = [int(mybool) for mybool in [\n",
    "                    pid.split('_')[1] in troll_comment_ids_set for pid in comms['parent_id']\n",
    "                    ]]\n",
    "np.sum(comms['child_of_troll?'])"
   ]
  },
  {
   "cell_type": "markdown",
   "metadata": {},
   "source": [
    "### only 57, praw never gave us children of troll comments...the only ones we have are from trolls replying to trolls\n",
    "\n",
    "#### FIXED, used praw to get the troll comments, then used .refresh() to load the replies. worked ok"
   ]
  },
  {
   "cell_type": "code",
   "execution_count": 13,
   "metadata": {},
   "outputs": [
    {
     "data": {
      "text/plain": [
       "1824"
      ]
     },
     "execution_count": 13,
     "metadata": {},
     "output_type": "execute_result"
    }
   ],
   "source": [
    "# did a troll reply to this?\n",
    "troll_parent_ids_set = set(\n",
    "                            [p.split('_')[1] for p in comms[~comms['author'].isna()]['parent_id']]\n",
    "                        )\n",
    "comms['parent_of_troll?'] = [int(myid in troll_parent_ids_set) for myid in comms['id']]\n",
    "\n",
    "np.sum(comms['parent_of_troll?'])"
   ]
  },
  {
   "cell_type": "code",
   "execution_count": 14,
   "metadata": {},
   "outputs": [
    {
     "data": {
      "text/plain": [
       "(array(['t1', 't3'], dtype='<U2'), array([1839, 4348]))"
      ]
     },
     "execution_count": 14,
     "metadata": {},
     "output_type": "execute_result"
    }
   ],
   "source": [
    "np.unique([p.split('_')[0] for p in np.unique(comms[~comms['author'].isna()]['parent_id'])], return_counts=True)"
   ]
  },
  {
   "cell_type": "markdown",
   "metadata": {},
   "source": [
    "#### hm, 1144 comments are parents of trolls, but there are 1839 't1'-style parent_ids among troll comments. Which of the unique parent ids aren't getting labeled as parent?\n",
    "\n",
    "#### FIXED, got all of them except 15. Seems like reddit praw is a bit stingy when it comes to providing all comments in a thread, perhaps especially around trolls. Could make a test for that"
   ]
  },
  {
   "cell_type": "code",
   "execution_count": 15,
   "metadata": {},
   "outputs": [
    {
     "data": {
      "text/plain": [
       "6187"
      ]
     },
     "execution_count": 15,
     "metadata": {},
     "output_type": "execute_result"
    }
   ],
   "source": [
    "parent_ids = np.unique(comms[~comms['author'].isna()]['parent_id'])\n",
    "len(parent_ids)"
   ]
  },
  {
   "cell_type": "code",
   "execution_count": 16,
   "metadata": {},
   "outputs": [
    {
     "data": {
      "text/plain": [
       "(1839, 1824)"
      ]
     },
     "execution_count": 16,
     "metadata": {},
     "output_type": "execute_result"
    }
   ],
   "source": [
    "t1_parent_ids=[]\n",
    "for p in parent_ids:\n",
    "    if p[:2]=='t1':\n",
    "        t1_parent_ids.append(p.split('_')[1])\n",
    "set_parent_ids = set(t1_parent_ids)\n",
    "set_parent_of_troll = set(comms[comms['parent_of_troll?']==1]['id'])\n",
    "# how does a differ from \n",
    "len(set_parent_ids), len(set_parent_of_troll)"
   ]
  },
  {
   "cell_type": "code",
   "execution_count": 17,
   "metadata": {},
   "outputs": [],
   "source": [
    "# here are the 695 comment ids that probably need to be set as parent_of_troll\n",
    "missing_commentids = np.array(t1_parent_ids)[[myid not in set_parent_of_troll for myid in t1_parent_ids]]"
   ]
  },
  {
   "cell_type": "code",
   "execution_count": 18,
   "metadata": {},
   "outputs": [
    {
     "data": {
      "text/plain": [
       "(array([0]), array([15]))"
      ]
     },
     "execution_count": 18,
     "metadata": {},
     "output_type": "execute_result"
    }
   ],
   "source": [
    "# are these comments simply missing from the data? YES\n",
    "# FIXED, only 15 remain after starting with 1824 ish\n",
    "num_hits = []\n",
    "for cid in missing_commentids:\n",
    "    num_hits.append(len(comms[comms['id']==cid]))\n",
    "np.unique(num_hits, return_counts=True)"
   ]
  },
  {
   "cell_type": "code",
   "execution_count": 19,
   "metadata": {},
   "outputs": [
    {
     "data": {
      "text/plain": [
       "15"
      ]
     },
     "execution_count": 19,
     "metadata": {},
     "output_type": "execute_result"
    }
   ],
   "source": [
    "len(missing_commentids)"
   ]
  },
  {
   "cell_type": "code",
   "execution_count": 20,
   "metadata": {},
   "outputs": [],
   "source": [
    "def printall(pd_obj):\n",
    "    '''\n",
    "    print every row and column in a pandas object\n",
    "    '''\n",
    "    with pd.option_context('display.max_rows', None, 'display.max_columns', None):\n",
    "        print(pd_obj)"
   ]
  },
  {
   "cell_type": "code",
   "execution_count": null,
   "metadata": {
    "scrolled": true
   },
   "outputs": [],
   "source": [
    "# print the first non-troll comment, making sure to \n",
    "r = np.where(comms['author'].isna())\n",
    "printall(comms.iloc[r[0], :].iloc[0,:])"
   ]
  },
  {
   "cell_type": "code",
   "execution_count": 21,
   "metadata": {},
   "outputs": [
    {
     "name": "stdout",
     "output_type": "stream",
     "text": [
      "submission    :  14523\n",
      "first_and_last:    964\n",
      "comment       : 234008\n"
     ]
    }
   ],
   "source": [
    "for coll in db.list_collection_names():\n",
    "    print(f'{coll:14}: {db[coll].count_documents({}):6}')"
   ]
  },
  {
   "cell_type": "code",
   "execution_count": null,
   "metadata": {},
   "outputs": [],
   "source": [
    "# top-up the parent comments, worked great.\n",
    "log = [] \n",
    "i = 0 # had clientexception at 59, id='cqe9a6b'\n",
    "for comment_id in missing_commentids[i:]: \n",
    "    i += 1 \n",
    "    print(f'searching for comment id: {comment_id}') \n",
    "    comment = reddit.comment(id=comment_id) \n",
    "    try: \n",
    "        comment._fetch() \n",
    "    except (Forbidden, ClientException): \n",
    "        log.append(i) \n",
    "        continue \n",
    "    d = dict(vars(comment)) \n",
    "    for key in ['_replies', '_submission', \n",
    "            '_reddit', 'mod', 'author', \n",
    "            'subreddit']: \n",
    "        _ = d.pop(key, None) \n",
    "    try: \n",
    "        db['comment'].insert_one(d) \n",
    "    except (errors.DuplicateKeyError, errors.InvalidDocument): \n",
    "        log.append[i] \n",
    "        continue "
   ]
  },
  {
   "cell_type": "code",
   "execution_count": 22,
   "metadata": {},
   "outputs": [
    {
     "name": "stdout",
     "output_type": "stream",
     "text": [
      "submission    :  14523\n",
      "first_and_last:    964\n",
      "comment       : 234008\n"
     ]
    }
   ],
   "source": [
    "for coll in db.list_collection_names():\n",
    "    print(f'{coll:14}: {db[coll].count_documents({}):6}')"
   ]
  },
  {
   "cell_type": "code",
   "execution_count": null,
   "metadata": {},
   "outputs": [],
   "source": [
    "# these are the before and after numbers of records in mongo\n",
    "# 15 records failed\n",
    "num_records_added = 231533 - 230853\n",
    "num_records_added"
   ]
  },
  {
   "cell_type": "code",
   "execution_count": null,
   "metadata": {},
   "outputs": [],
   "source": [
    "# from the ipython session in which I ran the scrape\n",
    "log = [59, 63, 84, 98, 109, 187, 500, 580, 632, 667, 670, 676, 678, 684, 689]\n",
    "missing_commentids[log]"
   ]
  },
  {
   "cell_type": "markdown",
   "metadata": {},
   "source": [
    "### cqhtj4q\n",
    "```\n",
    "[–]zenzog3 points 5 years ago \n",
    "https://mobile.twitter.com/shoxCSGO/status/588523685419601922\n",
    "permalink save report give gold reply\n",
    "```\n",
    "https://snew.notabug.io/r/csgobetting/comments/3324gu/envyus_vs_dignitas_bo3_190415_2100_cest/cqhtj4q/"
   ]
  },
  {
   "cell_type": "markdown",
   "metadata": {},
   "source": [
    "### d4ssri9\n",
    "```\n",
    "[–][censored]3 points 4 years ago \n",
    "[censored]\n",
    "permalink save report give gold reply[removed by moderators]\n",
    "```\n",
    "https://snew.notabug.io/r/rage/comments/4qgm68/woman_26_wielded_hatchet_after_her_demands_for/d4ssri9/"
   ]
  },
  {
   "cell_type": "markdown",
   "metadata": {},
   "source": [
    "### dp9fs27\n",
    "```\n",
    "–][deleted]2 points 3 years ago \n",
    "[deleted]\n",
    "permalink save report give gold reply\n",
    "```\n",
    "https://snew.notabug.io/r/Sissies/comments/7ad3vx/any_requests/dp9fs27/"
   ]
  },
  {
   "cell_type": "code",
   "execution_count": 23,
   "metadata": {},
   "outputs": [
    {
     "data": {
      "text/plain": [
       "'d91i52j'"
      ]
     },
     "execution_count": 23,
     "metadata": {},
     "output_type": "execute_result"
    }
   ],
   "source": [
    "# get the replies to the trolls\n",
    "# get missing comments from pushshift\n",
    "troll_commentids = comms[~comms['author'].isna()]['id']\n",
    "np.random.choice(troll_commentids)"
   ]
  },
  {
   "cell_type": "code",
   "execution_count": null,
   "metadata": {},
   "outputs": [],
   "source": [
    "# top-up the child comments, worked great\n",
    "log = [] \n",
    "i = 0 \n",
    "for comment_id in troll_commentids:  \n",
    "    i += 1  \n",
    "    print(f'searching for comment id: {comment_id}')  \n",
    "    comment = reddit.comment(id=comment_id)  \n",
    "    try:  \n",
    "        comment.refresh() \n",
    "    except (Forbidden, ClientException):  \n",
    "        log.append(i)  \n",
    "        continue \n",
    "    for reply in comment._replies: \n",
    "        d = dict(vars(reply)) \n",
    "        did = d['id'] \n",
    "        print(f'found reply id: {did}')  \n",
    "        for key in ['_replies', '_submission',  \n",
    "                '_reddit', 'mod', 'author',  \n",
    "                'subreddit']:  \n",
    "            _ = d.pop(key, None)  \n",
    "        try:  \n",
    "            db['comment'].insert_one(d) \n",
    "        except (errors.DuplicateKeyError, errors.InvalidDocument): \n",
    "            log.append(i)  \n",
    "            continue "
   ]
  },
  {
   "cell_type": "code",
   "execution_count": null,
   "metadata": {},
   "outputs": [],
   "source": [
    "# 234008 comments after first child run, steady after re-run so far...30 min or so\n",
    "for coll in db.list_collection_names():\n",
    "    print(f'{coll:14}: {db[coll].count_documents({}):6}')"
   ]
  },
  {
   "cell_type": "code",
   "execution_count": null,
   "metadata": {},
   "outputs": [],
   "source": [
    "records_added = 234008 - 231533\n",
    "records_added"
   ]
  },
  {
   "cell_type": "markdown",
   "metadata": {},
   "source": [
    "## NLP"
   ]
  },
  {
   "cell_type": "code",
   "execution_count": 24,
   "metadata": {},
   "outputs": [],
   "source": [
    "orig_stopwords_ = set(\"a,able,about,across,after,all,almost,also,am,among,an,and,any,\\\n",
    "are,as,at,be,because,been,but,by,can,could,dear,did,do,does,either,\\\n",
    "else,ever,every,for,from,get,got,had,has,have,he,her,hers,him,his,\\\n",
    "how,however,i,if,in,into,is,it,its,just,least,let,like,likely,may,\\\n",
    "me,might,most,must,my,neither,no,of,off,often,on,only,or,other,our,\\\n",
    "own,rather,said,say,says,she,should,since,so,some,than,that,the,their,\\\n",
    "them,then,there,these,they,this,tis,to,too,twas,us,wants,was,we,were,\\\n",
    "what,when,where,which,while,who,whom,why,will,with,would,yet,you,your,u,s\".split(','))\n",
    "\n",
    "# new stopwords after first run through\n",
    "# sws_to_add_brf1 = 'thanks,op,tie,deleted,game,crypto,invest,\\\n",
    "# edit,platform,play,giveaway,ok,yeah,blockchain,enter,remove,\\\n",
    "# m,token,awesome,ethereum,exchange,steam,dude'.split(',')\n",
    "\n",
    "# stopwords_ = set(list(orig_stopwords_) + sws_to_add_brf1)\n",
    "stopwords_ = orig_stopwords_\n",
    "\n",
    "punctuation_ = set(string.punctuation + '’' + '“')\n",
    "\n",
    "def rm_punctuation(a_string):\n",
    "    table = str.maketrans('', '', ''.join(punctuation_))\n",
    "    return a_string.translate(table)\n",
    "        \n",
    "def tokens_lower(tokens):\n",
    "    return [word.lower() for word in tokens]\n",
    "\n",
    "def filter_tokens(tokens):\n",
    "#     for w in sent: print(w)\n",
    "#     if w == \"’\": print(\"this is ': \" + w)\n",
    "    return [w for w in tokens if not w in stopwords_]\n",
    "\n",
    "def stem_tokens(ntlk_stem_obj, tokens):\n",
    "    # visualize what stemming and lemmitization does!\n",
    "    # str(porter.__class__) = \"<class 'nltk.stem.porter.PorterStemmer'>\"\n",
    "#     name = str(ntlk_stem_lemm_obj.__class__).split(\"'\")[1].split('.')[-1]\n",
    "#     count_ident = 0\n",
    "#     count_alter = 0\n",
    "    return [ntlk_stem_obj.stem(tok) for tok in tokens]\n",
    "#     elif ''\n",
    "# for tok in tokens:\n",
    "#         return ntlk_stem_lemm_obj.stem(tok)\n",
    "#         if tok == stem_lemm_f_l_tok:\n",
    "#             count_ident += 1\n",
    "#         else:\n",
    "#             print(tok, stem_lemm_f_l_tok)\n",
    "#             count_alter += 1\n",
    "#     print('{}:\\nNumber of unchanged words: {}\\nchanged words: {}\\n'.format(name, count_ident, count_alter))\n",
    "\n",
    "def lemm_tokens(ntlk_lemm_obj, tokens):\n",
    "    return [ntlk_lemm_obj.lemmatize(tok) for tok in tokens]"
   ]
  },
  {
   "cell_type": "code",
   "execution_count": 25,
   "metadata": {},
   "outputs": [],
   "source": [
    "def nlp_pre_proc_doc(input_string, stemming=False):\n",
    "    '''\n",
    "    given document:\n",
    "        tokenizes the document\n",
    "        sets tokens to lower case\n",
    "        filters punctuation and stop words from tokens\n",
    "        returns porter, snowball, and wordnet stem/lemm tokens\n",
    "    '''\n",
    "    no_punct_string = rm_punctuation(input_string)\n",
    "    tokens = word_tokenize(no_punct_string)\n",
    "    lo_tokens = tokens_lower(tokens)\n",
    "    f_lo_tokens = filter_tokens(lo_tokens)\n",
    "    if stemming:\n",
    "        s_f_lo_tokens = stem_tokens(porter, f_lo_tokens)\n",
    "        le_s_f_lo_tokens = lemm_tokens(wordnet, s_f_lo_tokens)\n",
    "        return ' '.join(le_s_f_lo_tokens)\n",
    "    else:\n",
    "        le_f_lo_tokens = lemm_tokens(wordnet, f_lo_tokens)\n",
    "        return ' '.join(le_f_lo_tokens)"
   ]
  },
  {
   "cell_type": "code",
   "execution_count": 26,
   "metadata": {},
   "outputs": [],
   "source": [
    "# this takes a few minutes, and uses about 100 MB of RAM\n",
    "corpus = [nlp_pre_proc_doc(d) for d in comms['body']]"
   ]
  },
  {
   "cell_type": "markdown",
   "metadata": {},
   "source": [
    "#### so, let's recap the tomfoolery between praw and psaw\n",
    "0) psaw returns comments from trolls, praw does not ... true? FALSE, psaw doesn't give results when parent_id is from a troll\n",
    "1) psaw returns nothing when searching on threads with comments from trolls ... true? mostly. I believe it's not 100%, but e.g. https://api.pushshift.io/reddit/submission/comment_ids/4rdu5x returns []\n",
    "2) re: 1, reddit does, but does not include any responses to the trolls ... true?"
   ]
  },
  {
   "cell_type": "markdown",
   "metadata": {},
   "source": [
    "#### TODO\n",
    "* classify on pca / increase the number of maximum features per tree\n",
    "* data completeness\n",
    "  - do we have all comments multiple levels below troll comments?\n",
    "  - authors, subreddits, link- and comment-karma\n",
    "  - permalink\n",
    "* one-hot encode the subreddit to add to the tfidf\n",
    "* add user activity profile to the tfidf\n",
    "* inspect models for most important features\n",
    "* start with id, (comment)\n",
    "  - is the comment trollish? proba > threshold\n",
    "  - if yes, then \n",
    "    - classify all other comments from the user (max=1000?)\n",
    "    - for each trollish comment, recurse on other trollish comments in its thread (max=1000?)\n",
    "  - given all the comments (including non-trollish from threads), view the author creation date and test for spike\n"
   ]
  },
  {
   "cell_type": "markdown",
   "metadata": {},
   "source": [
    "#### join the [71.6 million usernames](https://old.reddit.com/r/pushshift/search?q=karma&restrict_sr=on&sort=relevance&t=all) to the user activity dataframe so we can efficiently load the link and comment karma of all these users into mongo\n",
    "```bash\n",
    "comm <(\\\n",
    "    sed '1d' user_activity_dataframe.csv | cut -d, -f2 | sort -u\\\n",
    "    ) \\\n",
    "    <(\\\n",
    "    cut -d, -f1 user_activity_dataframe_reddit_accounts.csv | sort -u\\\n",
    "    ) | \n",
    "awk -F\"\\t\" '{print NF;}' | sort | uniq -c\n",
    "```\n",
    "``` \n",
    "    56 1\n",
    "   277 3\n",
    "```"
   ]
  },
  {
   "cell_type": "markdown",
   "metadata": {},
   "source": [
    "### record ids for comments with neither depth nor nest_level"
   ]
  },
  {
   "cell_type": "code",
   "execution_count": null,
   "metadata": {},
   "outputs": [],
   "source": [
    "with pd.option_context('display.max_rows', None, 'display.max_columns', None):  # more options can be specified also\n",
    "#     print(comms[[not value for value in comms['nest_level'].isna()]].head())\n",
    "    for i, row in enumerate(comms[['nest_level', 'depth']].values):\n",
    "        print(i, all([np.isnan(val) for val in row]))"
   ]
  },
  {
   "cell_type": "markdown",
   "metadata": {},
   "source": [
    "#### For the purposes of combining the depth and the nest_level, 750 comments have neither a depth nor a nest_level. They are all from trolls. With a few dozen exceptions, all have parent_ids starting with t3, meaning they have depth=1"
   ]
  },
  {
   "cell_type": "markdown",
   "metadata": {},
   "source": [
    "## TODONE\n",
    "* data completeness\n",
    "  - get nest_level for everything\n",
    "\n",
    "* classify using extra features from comments metadata\n",
    "  - normalized depth\n",
    "  - controversiality\n",
    "  - score\n",
    "\n",
    "* what is the human readable subreddit given the fullname, eg. t5_2r99w (DONE)\n",
    "```python\n",
    "gen = reddit.subreddits.search(\"t5_2r99w,t5_2r99w\")\n",
    "next(gen), next(gen)\n",
    "```\n",
    "```\n",
    "(Subreddit(display_name='whisky'),\n",
    " Subreddit(display_name='BaseballbytheNumbers'))\n",
    "```\n",
    "* get user link and comment karma (partially done - https://old.reddit.com/r/pushshift/comments/9i8s23/dataset_metadata_for_69_million_reddit_users_in/)\n",
    " - still missing karma for 623 userids\n",
    "```bash\n",
    "$ wc -l data/user_activity_dataframe*\n",
    "  3826 data/user_activity_dataframe.csv\n",
    "  3203 data/user_activity_dataframe_RA_2018-09.csv\n",
    "  3199 data/user_activity_dataframe_reddit_accounts.csv\n",
    " 10228 total\n",
    "```\n",
    "* how to get the permalink for each comment (DONE)\n",
    "```python\n",
    "comment = reddit.comment(id=\"dxolpyc\")\n",
    "comment.permalink\n",
    "```\n",
    "```\n",
    "'/r/redditdev/comments/8dmv8z/is_there_no_distinguish_method_for_comments_in/dxolpyc/'\n",
    "```\n",
    "* what is the author given its id? e.g. t2_105z8m (DONE)\n",
    "```python\n",
    "str(reddit.redditor(fullname=\"t2_z919g\"))\n",
    "```\n",
    "```\n",
    "'BlackToLive'\n",
    "```\n",
    "* is their greater controversiality in troll comments than others? (DONE)\n",
    "  - yes, slightly -- 4% to 3%\n",
    "* retrieve missing comments\n",
    "  - parents of trolls (missing 695, ~50%) (DONE)\n",
    "  - replies to trolls (missing ALL of them, unless the reply is from a troll) (DONE)"
   ]
  },
  {
   "cell_type": "markdown",
   "metadata": {},
   "source": [
    "## engineer feature: norm_nest_level\n",
    "#### currently there are 1430 comments with neither a 'nest_level' nor a 'depth'"
   ]
  },
  {
   "cell_type": "markdown",
   "metadata": {},
   "source": [
    "### check assumptions\n",
    "1) all depths/nest_levels are 0 for parent_id~t3_* (DONE, TRUE)"
   ]
  },
  {
   "cell_type": "code",
   "execution_count": null,
   "metadata": {},
   "outputs": [],
   "source": [
    "# get index into the rows with neither depth, nor nest_level\n",
    "no_depth_index = np.logical_and(np.isnan(comms['nest_level']), np.isnan(comms['depth']))"
   ]
  },
  {
   "cell_type": "code",
   "execution_count": null,
   "metadata": {
    "scrolled": true
   },
   "outputs": [],
   "source": [
    "len(comms[no_depth_index])"
   ]
  },
  {
   "cell_type": "code",
   "execution_count": null,
   "metadata": {},
   "outputs": [],
   "source": [
    "# this could be part of a class, EngineerFeature?\n",
    "def eng_depth_add_type_of_parent(df):\n",
    "    '''\n",
    "    adds column for type of parent (t3 or t1)\n",
    "    \n",
    "    e.g. given df\n",
    "        depth nest_level   parent_id\n",
    "          NaN        7.0  t1_d4quv2y\n",
    "    updates df to\n",
    "        depth  nest_level   parent_id  comm_type\n",
    "          NaN         7.0  t1_d4quv2y        t1\n",
    "    '''\n",
    "    outcols = list(df.columns) + ['comm_type']\n",
    "    # allow for extra columns after depth, nest_level, and parent_id\n",
    "    if list(df.columns)[:3] != ['depth', 'nest_level', 'parent_id']:\n",
    "        raise\n",
    "    outdf = pd.DataFrame(np.hstack([\n",
    "        df.values, \n",
    "        np.array([\n",
    "            x.split('_')[0] for x in df['parent_id'].values\n",
    "        ])\n",
    "        .reshape(-1, 1)\n",
    "    ]), columns=outcols)\n",
    "    outdf['depth'] = outdf['depth'].astype(float)\n",
    "    outdf['nest_level'] = outdf['nest_level'].astype(float)\n",
    "    if 'troll?' in outcols:\n",
    "        outdf['troll?'] = outdf['troll?'].astype(int)\n",
    "    return outdf"
   ]
  },
  {
   "cell_type": "code",
   "execution_count": null,
   "metadata": {
    "scrolled": true
   },
   "outputs": [],
   "source": [
    "# logical not the index to get the comments with one or the other\n",
    "has_depth_trimdf = comms[~no_depth_index][['depth', 'nest_level', 'parent_id']]\n",
    "has_depth_trimdf"
   ]
  },
  {
   "cell_type": "code",
   "execution_count": null,
   "metadata": {},
   "outputs": [],
   "source": [
    "# create new dataframe containing column for type of comment (parent is thread or other comment)\n",
    "comm_type_has_depth_trimdf = eng_depth_add_type_of_parent(has_depth_trimdf)"
   ]
  },
  {
   "cell_type": "code",
   "execution_count": null,
   "metadata": {},
   "outputs": [],
   "source": [
    "comm_type_has_depth_trimdf.groupby('comm_type').describe()"
   ]
  },
  {
   "cell_type": "markdown",
   "metadata": {},
   "source": [
    "omg, that was brutally difficult for some reason\n",
    "\n",
    "Confirmed offset between depth and nest_level\n",
    "\n",
    "if parent_id starts with 't3', the depth is always 0 and the nest_level is always 1\n",
    " -- nest_level = depth + 1\n"
   ]
  },
  {
   "cell_type": "code",
   "execution_count": null,
   "metadata": {},
   "outputs": [],
   "source": [
    "np.isnan(comm_typedf['depth']).sum()"
   ]
  },
  {
   "cell_type": "code",
   "execution_count": null,
   "metadata": {},
   "outputs": [],
   "source": [
    "np.isnan(comm_typedf['nest_level']).sum()"
   ]
  },
  {
   "cell_type": "code",
   "execution_count": null,
   "metadata": {},
   "outputs": [],
   "source": [
    "no_depth_trimdf = comms[no_depth_index][['depth', 'nest_level', 'parent_id']]\n",
    "no_depth_trimdf"
   ]
  },
  {
   "cell_type": "code",
   "execution_count": null,
   "metadata": {},
   "outputs": [],
   "source": [
    "comm_type_no_depth_trimdf = eng_depth_add_type_of_parent(no_depth_trimdf)"
   ]
  },
  {
   "cell_type": "code",
   "execution_count": null,
   "metadata": {},
   "outputs": [],
   "source": [
    "comm_type_no_depth_trimdf"
   ]
  },
  {
   "cell_type": "code",
   "execution_count": null,
   "metadata": {},
   "outputs": [],
   "source": [
    "# recall nest_level = depth + 1\n",
    "# mean_depth = \n",
    "comms['depth'][~np.isnan(comms['depth'])].median()"
   ]
  },
  {
   "cell_type": "markdown",
   "metadata": {},
   "source": [
    "### add normalized depth the easy way"
   ]
  },
  {
   "cell_type": "code",
   "execution_count": null,
   "metadata": {},
   "outputs": [],
   "source": [
    "#norm_depth_withnan = np.where(~comms['depth'].isna(), comms['depth'], comms['nest_level']-1)"
   ]
  },
  {
   "cell_type": "code",
   "execution_count": null,
   "metadata": {},
   "outputs": [],
   "source": [
    "#norm_depth = np.where(np.isnan(norm_depth_withnan), 0, norm_depth_withnan)"
   ]
  },
  {
   "cell_type": "code",
   "execution_count": null,
   "metadata": {},
   "outputs": [],
   "source": [
    "#norm_depth_withnan.mean(), norm_depth.mean()"
   ]
  },
  {
   "cell_type": "code",
   "execution_count": null,
   "metadata": {},
   "outputs": [],
   "source": [
    "#comms['norm_depth'] = norm_depth"
   ]
  },
  {
   "cell_type": "code",
   "execution_count": 27,
   "metadata": {},
   "outputs": [],
   "source": [
    "# actually, even easier, use fillna(0) later\n",
    "comms['norm_depth'] = np.where(~comms['depth'].isna(), comms['depth'], comms['nest_level']-1)"
   ]
  },
  {
   "cell_type": "code",
   "execution_count": 28,
   "metadata": {
    "scrolled": true
   },
   "outputs": [
    {
     "name": "stdout",
     "output_type": "stream",
     "text": [
      "<class 'pandas.core.frame.DataFrame'>\n",
      "RangeIndex: 234008 entries, 0 to 234007\n",
      "Data columns (total 76 columns):\n",
      " #   Column                           Non-Null Count   Dtype  \n",
      "---  ------                           --------------   -----  \n",
      " 0   author                           6704 non-null    object \n",
      " 1   author_created_utc               6597 non-null    float64\n",
      " 2   author_flair_css_class           57875 non-null   object \n",
      " 3   author_flair_text                59107 non-null   object \n",
      " 4   author_fullname                  204547 non-null  object \n",
      " 5   body                             234008 non-null  object \n",
      " 6   controversiality                 233374 non-null  float64\n",
      " 7   created_utc                      234008 non-null  float64\n",
      " 8   distinguished                    385 non-null     object \n",
      " 9   gilded                           233370 non-null  float64\n",
      " 10  id                               234008 non-null  object \n",
      " 11  link_id                          234008 non-null  object \n",
      " 12  nest_level                       5954 non-null    float64\n",
      " 13  parent_id                        234008 non-null  object \n",
      " 14  reply_delay                      5959 non-null    float64\n",
      " 15  retrieved_on                     6618 non-null    float64\n",
      " 16  score                            234008 non-null  int64  \n",
      " 17  stickied                         232399 non-null  object \n",
      " 18  subreddit                        6704 non-null    object \n",
      " 19  subreddit_id                     234008 non-null  object \n",
      " 20  created                          234008 non-null  float64\n",
      " 21  edited                           227355 non-null  object \n",
      " 22  score_hidden                     228350 non-null  object \n",
      " 23  can_gild                         229137 non-null  object \n",
      " 24  is_submitter                     228982 non-null  object \n",
      " 25  no_follow                        227809 non-null  object \n",
      " 26  permalink                        229441 non-null  object \n",
      " 27  send_replies                     227809 non-null  object \n",
      " 28  subreddit_type                   228899 non-null  object \n",
      " 29  gildings                         227858 non-null  object \n",
      " 30  updated_utc                      375 non-null     float64\n",
      " 31  author_flair_template_id         10911 non-null   object \n",
      " 32  collapsed                        227387 non-null  object \n",
      " 33  collapsed_reason                 2322 non-null    object \n",
      " 34  total_awards_received            227304 non-null  float64\n",
      " 35  approved_at_utc                  0 non-null       float64\n",
      " 36  ups                              227304 non-null  float64\n",
      " 37  awarders                         227304 non-null  object \n",
      " 38  mod_reason_by                    0 non-null       float64\n",
      " 39  banned_by                        0 non-null       float64\n",
      " 40  author_flair_type                198481 non-null  object \n",
      " 41  removal_reason                   0 non-null       float64\n",
      " 42  likes                            0 non-null       float64\n",
      " 43  user_reports                     227304 non-null  object \n",
      " 44  saved                            227304 non-null  object \n",
      " 45  banned_at_utc                    0 non-null       float64\n",
      " 46  mod_reason_title                 0 non-null       float64\n",
      " 47  archived                         227304 non-null  object \n",
      " 48  can_mod_post                     227304 non-null  object \n",
      " 49  report_reasons                   0 non-null       float64\n",
      " 50  approved_by                      0 non-null       float64\n",
      " 51  all_awardings                    227304 non-null  object \n",
      " 52  downs                            227304 non-null  float64\n",
      " 53  author_flair_richtext            198481 non-null  object \n",
      " 54  author_patreon_flair             198481 non-null  object \n",
      " 55  body_html                        227304 non-null  object \n",
      " 56  associated_award                 0 non-null       float64\n",
      " 57  author_premium                   198481 non-null  object \n",
      " 58  author_flair_text_color          87121 non-null   object \n",
      " 59  num_reports                      0 non-null       float64\n",
      " 60  locked                           227304 non-null  object \n",
      " 61  name                             227304 non-null  object \n",
      " 62  treatment_tags                   227304 non-null  object \n",
      " 63  subreddit_name_prefixed          227304 non-null  object \n",
      " 64  depth                            226624 non-null  float64\n",
      " 65  author_flair_background_color    81747 non-null   object \n",
      " 66  collapsed_because_crowd_control  0 non-null       float64\n",
      " 67  mod_reports                      227304 non-null  object \n",
      " 68  mod_note                         0 non-null       float64\n",
      " 69  _fetched                         227304 non-null  object \n",
      " 70  author_cakeday                   652 non-null     object \n",
      " 71  top_awarded_type                 0 non-null       float64\n",
      " 72  troll?                           234008 non-null  int64  \n",
      " 73  child_of_troll?                  234008 non-null  int64  \n",
      " 74  parent_of_troll?                 234008 non-null  int64  \n",
      " 75  norm_depth                       232578 non-null  float64\n",
      "dtypes: float64(28), int64(4), object(44)\n",
      "memory usage: 135.7+ MB\n"
     ]
    }
   ],
   "source": [
    "comms.info()"
   ]
  },
  {
   "cell_type": "markdown",
   "metadata": {},
   "source": [
    "### troll comments (from PSAW) have 'nest_level' set. Non-troll comments (from PRAW) use 'depth'"
   ]
  },
  {
   "cell_type": "code",
   "execution_count": null,
   "metadata": {},
   "outputs": [],
   "source": [
    "type_comms = eng_depth_add_type_of_parent(comms[['depth', 'nest_level', 'parent_id', 'troll?']])"
   ]
  },
  {
   "cell_type": "code",
   "execution_count": null,
   "metadata": {},
   "outputs": [],
   "source": [
    "type_comms"
   ]
  },
  {
   "cell_type": "code",
   "execution_count": null,
   "metadata": {},
   "outputs": [],
   "source": [
    "type_comms.groupby(['troll?', 'comm_type']).describe()"
   ]
  },
  {
   "cell_type": "code",
   "execution_count": null,
   "metadata": {},
   "outputs": [],
   "source": []
  },
  {
   "cell_type": "code",
   "execution_count": null,
   "metadata": {},
   "outputs": [],
   "source": []
  },
  {
   "cell_type": "markdown",
   "metadata": {},
   "source": [
    "## Train classifier(s)"
   ]
  },
  {
   "cell_type": "code",
   "execution_count": 29,
   "metadata": {},
   "outputs": [],
   "source": [
    "# keep a dictionary of trained classifiers for comparison\n",
    "clfs = {}"
   ]
  },
  {
   "cell_type": "markdown",
   "metadata": {},
   "source": [
    "### train test split"
   ]
  },
  {
   "cell_type": "code",
   "execution_count": 64,
   "metadata": {},
   "outputs": [],
   "source": [
    "X_train_corp, X_test_corp, y_train, y_test = train_test_split(\n",
    "        corpus, comms['child_of_troll?'], test_size=0.2, random_state=30, shuffle=True)"
   ]
  },
  {
   "cell_type": "code",
   "execution_count": 65,
   "metadata": {},
   "outputs": [],
   "source": [
    "n_features = 5000\n",
    "\n",
    "tfidf_vectorizer = TfidfVectorizer(max_df=0.95, min_df=2,\n",
    "                                   max_features=n_features,\n",
    "                                   stop_words='english')"
   ]
  },
  {
   "cell_type": "code",
   "execution_count": 66,
   "metadata": {},
   "outputs": [
    {
     "name": "stdout",
     "output_type": "stream",
     "text": [
      "done in 2.966s.\n"
     ]
    }
   ],
   "source": [
    "t0 = time.time()\n",
    "X_train_tfidf = tfidf_vectorizer.fit_transform(X_train_corp)\n",
    "print(\"done in %0.3fs.\" % (time.time() - t0))"
   ]
  },
  {
   "cell_type": "code",
   "execution_count": 67,
   "metadata": {},
   "outputs": [],
   "source": [
    "X_test_tfidf = tfidf_vectorizer.transform(X_test_corp)"
   ]
  },
  {
   "cell_type": "code",
   "execution_count": 68,
   "metadata": {},
   "outputs": [],
   "source": [
    "X_train = X_train_tfidf.toarray()\n",
    "X_test = X_test_tfidf.toarray()"
   ]
  },
  {
   "cell_type": "code",
   "execution_count": 35,
   "metadata": {},
   "outputs": [],
   "source": [
    "# add extra features to the tfidf matrix\n",
    "# TODO make this a function\n",
    "Xcsd_train = np.hstack([X_train, comms[['controversiality', 'score', 'norm_depth']].fillna(0).values[y_train.index]])\n",
    "Xcsd_test = np.hstack([X_test, comms[['controversiality', 'score', 'norm_depth']].fillna(0).values[y_test.index]])\n"
   ]
  },
  {
   "cell_type": "code",
   "execution_count": 36,
   "metadata": {},
   "outputs": [],
   "source": [
    "# fit the model\n",
    "# at first I did 100 estimators, but 100*25 is only 2500 \n",
    "#  whereas we have 5000 features in tfidf. Increase to 400\n",
    "model_param = {'n_estimators': 400,\n",
    "                   'max_depth': 5,\n",
    "                   'max_features': 25,\n",
    "                   'oob_score': True,\n",
    "                   'n_jobs': -1,\n",
    "                   'random_state': 30}"
   ]
  },
  {
   "cell_type": "code",
   "execution_count": 37,
   "metadata": {},
   "outputs": [
    {
     "name": "stderr",
     "output_type": "stream",
     "text": [
      "/home/ubuntu/miniconda3/envs/ipy/lib/python3.8/site-packages/imblearn/ensemble/_forest.py:591: UserWarning: Some inputs do not have OOB scores. This probably means too few trees were used to compute any reliable oob estimates.\n",
      "  warn(\"Some inputs do not have OOB scores. \"\n"
     ]
    },
    {
     "data": {
      "text/plain": [
       "BalancedRandomForestClassifier(bootstrap=True, ccp_alpha=0.0,\n",
       "                               class_weight='balanced_subsample',\n",
       "                               criterion='gini', max_depth=5, max_features=25,\n",
       "                               max_leaf_nodes=None, max_samples=None,\n",
       "                               min_impurity_decrease=0.0, min_samples_leaf=2,\n",
       "                               min_samples_split=2,\n",
       "                               min_weight_fraction_leaf=0.0, n_estimators=400,\n",
       "                               n_jobs=-1, oob_score=True, random_state=30,\n",
       "                               replacement=False, sampling_strategy='auto',\n",
       "                               verbose=0, warm_start=False)"
      ]
     },
     "execution_count": 37,
     "metadata": {},
     "output_type": "execute_result"
    }
   ],
   "source": [
    "# TODO rename this model to brf, and use downstream!\n",
    "brf = BalancedRandomForestClassifier(**model_param, class_weight='balanced_subsample')\n",
    "brf.fit(Xcsd_train, y_train)"
   ]
  },
  {
   "cell_type": "markdown",
   "metadata": {},
   "source": [
    "## model inspection"
   ]
  },
  {
   "cell_type": "code",
   "execution_count": 38,
   "metadata": {},
   "outputs": [],
   "source": [
    "def standard_confusion_matrix(y_true, y_predict):\n",
    "    \"\"\"\n",
    "    y_true = [1, 1, 1, 1, 1, 0, 0]\n",
    "\n",
    "    y_predict = [1, 1, 1, 1, 0, 0, 0]\n",
    "\n",
    "    In [1]: standard_confusion_matrix(y_true, y_predict)\n",
    "    >> array([[4., 1.],\n",
    "    >>       [0., 2.]])\n",
    "    \"\"\"\n",
    "    cm = np.zeros((2,2))\n",
    "    X = np.array([y_true, y_predict])\n",
    "    values, counts = np.unique(X, axis=1, return_counts=True)\n",
    "    for i, v in enumerate(values.T):\n",
    "        cm[tuple([1, 1] - v)] = counts[i]\n",
    "    return cm.T.astype(int)\n",
    "\n",
    "# from the lecture\n",
    "# Just handy function to make our confusion matrix pretty \n",
    "def plot_confusion_matrix(cm, # confusion matrix\n",
    "                          classes_x, # test to describe what the output of the classes may be (commonly 1 or 0)\n",
    "                          classes_y,\n",
    "                          normalize=False, \n",
    "                          title='Confusion matrix',\n",
    "                          cmap=plt.cm.Blues):\n",
    "    \n",
    "    if normalize:\n",
    "        cm = cm.astype('float') / cm.sum(axis=1)[:, np.newaxis]\n",
    "    plt.imshow(cm, interpolation='nearest', cmap=cmap)\n",
    "    plt.title(title)\n",
    "    plt.colorbar()\n",
    "    tick_marks = np.arange(len(classes_x))\n",
    "    plt.xticks(tick_marks, classes_x, rotation=45)\n",
    "    plt.yticks(tick_marks, classes_y)\n",
    "\n",
    "    fmt = '.2f' if normalize else 'd'\n",
    "    thresh = cm.max() / 2.\n",
    "    for i, j in itertools.product(range(cm.shape[0]), range(cm.shape[1])):\n",
    "        plt.text(j, i,  format(cm[i, j], fmt),\n",
    "                 horizontalalignment=\"center\",\n",
    "                 color=\"white\" if cm[i, j] > thresh else \"black\")\n",
    "\n",
    "    plt.tight_layout()\n",
    "    plt.ylabel('Predicted label')\n",
    "    plt.xlabel('True label')"
   ]
  },
  {
   "cell_type": "code",
   "execution_count": 39,
   "metadata": {},
   "outputs": [],
   "source": [
    "def plot_roc_nofit(ax, X_test, y_test, clf, clf_name, **kwargs):\n",
    "    y_prob = np.zeros((len(y_test),2))\n",
    "    mean_tpr = 0.0\n",
    "    mean_fpr = np.linspace(0, 1, 100)\n",
    "    all_tpr = []\n",
    "    # Predict probabilities, not classes\n",
    "    y_prob = clf.predict_proba(X_test)\n",
    "    fpr, tpr, thresholds = roc_curve(y_test, y_prob[:, 1])\n",
    "    mean_tpr += interp(mean_fpr, fpr, tpr)\n",
    "    mean_tpr[0] = 0.0\n",
    "    roc_auc = auc(fpr, tpr)\n",
    "    if len(ax.lines) == 0:\n",
    "        plt.plot([0, 1], [0, 1], '--', color=(0.6, 0.6, 0.6), label='Random')\n",
    "    ax.plot(fpr, tpr, lw=1, label='%s (area = %0.2f)' % (clf_name, roc_auc))\n",
    "    mean_tpr /= 1\n",
    "    mean_tpr[-1] = 1.0\n",
    "    mean_auc = auc(mean_fpr, mean_tpr)\n",
    "#     plt.plot(mean_fpr, mean_tpr, 'k--',label='Mean ROC (area = %0.2f)' % mean_auc, lw=2)\n",
    "    plt.xlim([-0.05, 1.05])\n",
    "    plt.ylim([-0.05, 1.05])\n",
    "    plt.xlabel('False Positive Rate')\n",
    "    plt.ylabel('True Positive Rate')\n",
    "    plt.title('Receiver operating characteristic')\n",
    "    plt.legend(loc=\"lower right\", )"
   ]
  },
  {
   "cell_type": "code",
   "execution_count": 40,
   "metadata": {},
   "outputs": [],
   "source": [
    "# include the model for comparisons\n",
    "clfs['cot_brf'] = brf"
   ]
  },
  {
   "cell_type": "code",
   "execution_count": 41,
   "metadata": {},
   "outputs": [
    {
     "name": "stdout",
     "output_type": "stream",
     "text": [
      "\n",
      " R^2 score: 0.928977394128456\n",
      "\n",
      " Out of bag score: 0.7782054561220734\n"
     ]
    },
    {
     "data": {
      "text/plain": [
       "3747"
      ]
     },
     "execution_count": 41,
     "metadata": {},
     "output_type": "execute_result"
    }
   ],
   "source": [
    "# measure accuracy\n",
    "print(\"\\n R^2 score:\", brf.score(Xcsd_test, y_test))\n",
    "print(f'\\n Out of bag score: {brf.oob_score_}')\n",
    "y_predict = brf.predict(Xcsd_test)\n",
    "np.sum(y_predict)"
   ]
  },
  {
   "cell_type": "code",
   "execution_count": 42,
   "metadata": {
    "scrolled": true
   },
   "outputs": [
    {
     "name": "stdout",
     "output_type": "stream",
     "text": [
      "\n",
      " precision: 0.13344008540165467\n",
      "    recall: 0.8665511265164645\n"
     ]
    }
   ],
   "source": [
    "print(\"\\n precision:\", precision_score(y_test, y_predict))\n",
    "print(\"    recall:\", recall_score(y_test, y_predict))"
   ]
  },
  {
   "cell_type": "code",
   "execution_count": 44,
   "metadata": {},
   "outputs": [
    {
     "name": "stderr",
     "output_type": "stream",
     "text": [
      "<ipython-input-39-4bcd29495c04>:9: DeprecationWarning: scipy.interp is deprecated and will be removed in SciPy 2.0.0, use numpy.interp instead\n",
      "  mean_tpr += interp(mean_fpr, fpr, tpr)\n"
     ]
    },
    {
     "data": {
      "image/png": "[encoded data removed]",
      "text/plain": [
       "<Figure size 432x360 with 1 Axes>"
      ]
     },
     "metadata": {},
     "output_type": "display_data"
    }
   ],
   "source": [
    "fig, ax = plt.subplots(1, figsize=(6, 5))\n",
    "plot_roc_nofit(ax, Xcsd_test, y_test, clfs['cot_brf'], 'child_of_troll_brf')"
   ]
  },
  {
   "cell_type": "markdown",
   "metadata": {},
   "source": [
    "### pickle this model"
   ]
  },
  {
   "cell_type": "code",
   "execution_count": 46,
   "metadata": {},
   "outputs": [],
   "source": [
    "filename = 'child_of_troll_brf.pkl'\n",
    "with open(filename, 'wb') as fp:\n",
    "    pickle.dump(clfs['cot_brf'], fp)"
   ]
  },
  {
   "cell_type": "markdown",
   "metadata": {},
   "source": [
    "### test de-pickle"
   ]
  },
  {
   "cell_type": "code",
   "execution_count": 47,
   "metadata": {},
   "outputs": [],
   "source": [
    "with open('child_of_troll_brf.pkl', 'rb') as fp:\n",
    "    new_brf = pickle.load(fp)"
   ]
  },
  {
   "cell_type": "code",
   "execution_count": 49,
   "metadata": {},
   "outputs": [
    {
     "name": "stderr",
     "output_type": "stream",
     "text": [
      "<ipython-input-39-4bcd29495c04>:9: DeprecationWarning: scipy.interp is deprecated and will be removed in SciPy 2.0.0, use numpy.interp instead\n",
      "  mean_tpr += interp(mean_fpr, fpr, tpr)\n"
     ]
    },
    {
     "data": {
      "image/png": "[encoded data removed]",
      "text/plain": [
       "<Figure size 432x360 with 1 Axes>"
      ]
     },
     "metadata": {},
     "output_type": "display_data"
    }
   ],
   "source": [
    "fig, ax = plt.subplots(1, figsize=(6, 5))\n",
    "plot_roc_nofit(ax, Xcsd_test, y_test, new_brf, 'child_of_troll_brf')"
   ]
  },
  {
   "cell_type": "markdown",
   "metadata": {},
   "source": [
    "## now train model for troll?\n",
    "first, without using any info from child_of_troll classification"
   ]
  },
  {
   "cell_type": "code",
   "execution_count": 70,
   "metadata": {},
   "outputs": [],
   "source": [
    "# X doesn't change, but y does\n",
    "\n",
    "_, _, y_train, y_test = train_test_split(\n",
    "        corpus, comms['troll?'], test_size=0.2, random_state=30, shuffle=True)"
   ]
  },
  {
   "cell_type": "code",
   "execution_count": 53,
   "metadata": {},
   "outputs": [
    {
     "name": "stderr",
     "output_type": "stream",
     "text": [
      "/home/ubuntu/miniconda3/envs/ipy/lib/python3.8/site-packages/imblearn/ensemble/_forest.py:591: UserWarning: Some inputs do not have OOB scores. This probably means too few trees were used to compute any reliable oob estimates.\n",
      "  warn(\"Some inputs do not have OOB scores. \"\n"
     ]
    },
    {
     "data": {
      "text/plain": [
       "BalancedRandomForestClassifier(bootstrap=True, ccp_alpha=0.0,\n",
       "                               class_weight='balanced_subsample',\n",
       "                               criterion='gini', max_depth=5, max_features=25,\n",
       "                               max_leaf_nodes=None, max_samples=None,\n",
       "                               min_impurity_decrease=0.0, min_samples_leaf=2,\n",
       "                               min_samples_split=2,\n",
       "                               min_weight_fraction_leaf=0.0, n_estimators=400,\n",
       "                               n_jobs=-1, oob_score=True, random_state=30,\n",
       "                               replacement=False, sampling_strategy='auto',\n",
       "                               verbose=0, warm_start=False)"
      ]
     },
     "execution_count": 53,
     "metadata": {},
     "output_type": "execute_result"
    }
   ],
   "source": [
    "brf = BalancedRandomForestClassifier(**model_param, class_weight='balanced_subsample')\n",
    "brf.fit(Xcsd_train, y_train)"
   ]
  },
  {
   "cell_type": "code",
   "execution_count": 54,
   "metadata": {},
   "outputs": [
    {
     "name": "stdout",
     "output_type": "stream",
     "text": [
      "\n",
      " R^2 score: 0.5818768428699628\n",
      "\n",
      " Out of bag score: 0.6234288804759329\n"
     ]
    },
    {
     "data": {
      "text/plain": [
       "20273"
      ]
     },
     "execution_count": 54,
     "metadata": {},
     "output_type": "execute_result"
    }
   ],
   "source": [
    "# measure accuracy\n",
    "print(\"\\n R^2 score:\", brf.score(Xcsd_test, y_test))\n",
    "print(f'\\n Out of bag score: {brf.oob_score_}')\n",
    "y_predict = brf.predict(Xcsd_test)\n",
    "np.sum(y_predict)"
   ]
  },
  {
   "cell_type": "code",
   "execution_count": 55,
   "metadata": {},
   "outputs": [
    {
     "name": "stdout",
     "output_type": "stream",
     "text": [
      "\n",
      " precision: 0.049819957579046024\n",
      "    recall: 0.7674772036474165\n"
     ]
    }
   ],
   "source": [
    "print(\"\\n precision:\", precision_score(y_test, y_predict))\n",
    "print(\"    recall:\", recall_score(y_test, y_predict))"
   ]
  },
  {
   "cell_type": "code",
   "execution_count": 56,
   "metadata": {
    "scrolled": true
   },
   "outputs": [
    {
     "name": "stderr",
     "output_type": "stream",
     "text": [
      "<ipython-input-39-4bcd29495c04>:9: DeprecationWarning: scipy.interp is deprecated and will be removed in SciPy 2.0.0, use numpy.interp instead\n",
      "  mean_tpr += interp(mean_fpr, fpr, tpr)\n"
     ]
    },
    {
     "data": {
      "image/png": "[encoded data removed]",
      "text/plain": [
       "<Figure size 432x360 with 1 Axes>"
      ]
     },
     "metadata": {},
     "output_type": "display_data"
    }
   ],
   "source": [
    "# using the depth added about 5% to auc\n",
    "fig, ax = plt.subplots(1, figsize=(6, 5))\n",
    "plot_roc_nofit(ax, Xcsd_test, y_test, brf, 'troll_brf')"
   ]
  },
  {
   "cell_type": "markdown",
   "metadata": {},
   "source": [
    "### pickle this model"
   ]
  },
  {
   "cell_type": "code",
   "execution_count": 57,
   "metadata": {},
   "outputs": [],
   "source": [
    "filename = 'troll_brf.pkl'\n",
    "with open(filename, 'wb') as fp:\n",
    "    pickle.dump(brf, fp)"
   ]
  },
  {
   "cell_type": "markdown",
   "metadata": {},
   "source": [
    "### what about engineering the user age at time of comment. That could be interesting"
   ]
  },
  {
   "cell_type": "code",
   "execution_count": 62,
   "metadata": {},
   "outputs": [
    {
     "data": {
      "text/plain": [
       "(True, True, False)"
      ]
     },
     "execution_count": 62,
     "metadata": {},
     "output_type": "execute_result"
    }
   ],
   "source": [
    "'created_utc' in comms.columns, 'author_created_utc' in comms.columns, 'user_age' in comms.columns"
   ]
  },
  {
   "cell_type": "code",
   "execution_count": 63,
   "metadata": {},
   "outputs": [],
   "source": [
    "comms['user_age'] = comms['created_utc'] - comms['author_created_utc']"
   ]
  },
  {
   "cell_type": "code",
   "execution_count": 69,
   "metadata": {},
   "outputs": [],
   "source": [
    "# just to be certain, I re-split/tfidf/values and y_train, using the same random state to reset the training and test data\n",
    "# e.g.\n",
    "#     X_train_corp, X_test_corp, y_train, y_test = train_test_split(\n",
    "#             corpus, comms['troll?'], test_size=0.2, random_state=30, shuffle=True)\n",
    "\n",
    "#     n_features = 5000\n",
    "\n",
    "#     tfidf_vectorizer = TfidfVectorizer(max_df=0.95, min_df=2,\n",
    "#                                        max_features=n_features,\n",
    "#                                        stop_words='english')\n",
    "\n",
    "#     t0 = time.time()\n",
    "#     X_train_tfidf = tfidf_vectorizer.fit_transform(X_train_corp)\n",
    "#     print(\"done in %0.3fs.\" % (time.time() - t0))\n",
    "\n",
    "#     X_test_tfidf = tfidf_vectorizer.transform(X_test_corp)\n",
    "\n",
    "#     X_train = X_train_tfidf.toarray()\n",
    "#     X_test = X_test_tfidf.toarray()\n",
    "# update the feature matrix\n",
    "cols_to_add = ['controversiality', 'score', 'norm_depth', 'user_age']\n",
    "Xcsdu_train = np.hstack([X_train, comms[cols_to_add].fillna(0).values[y_train.index]])\n",
    "Xcsdu_test = np.hstack([X_test, comms[cols_to_add].fillna(0).values[y_test.index]])"
   ]
  },
  {
   "cell_type": "code",
   "execution_count": 71,
   "metadata": {},
   "outputs": [
    {
     "name": "stderr",
     "output_type": "stream",
     "text": [
      "/home/ubuntu/miniconda3/envs/ipy/lib/python3.8/site-packages/imblearn/ensemble/_forest.py:591: UserWarning: Some inputs do not have OOB scores. This probably means too few trees were used to compute any reliable oob estimates.\n",
      "  warn(\"Some inputs do not have OOB scores. \"\n"
     ]
    },
    {
     "data": {
      "text/plain": [
       "BalancedRandomForestClassifier(bootstrap=True, ccp_alpha=0.0,\n",
       "                               class_weight='balanced_subsample',\n",
       "                               criterion='gini', max_depth=5, max_features=25,\n",
       "                               max_leaf_nodes=None, max_samples=None,\n",
       "                               min_impurity_decrease=0.0, min_samples_leaf=2,\n",
       "                               min_samples_split=2,\n",
       "                               min_weight_fraction_leaf=0.0, n_estimators=400,\n",
       "                               n_jobs=-1, oob_score=True, random_state=30,\n",
       "                               replacement=False, sampling_strategy='auto',\n",
       "                               verbose=0, warm_start=False)"
      ]
     },
     "execution_count": 71,
     "metadata": {},
     "output_type": "execute_result"
    }
   ],
   "source": [
    "brf = BalancedRandomForestClassifier(**model_param, class_weight='balanced_subsample')\n",
    "brf.fit(Xcsdu_train, y_train)"
   ]
  },
  {
   "cell_type": "code",
   "execution_count": 72,
   "metadata": {},
   "outputs": [
    {
     "name": "stdout",
     "output_type": "stream",
     "text": [
      "\n",
      " R^2 score: 0.9931413187470621\n",
      "\n",
      " Out of bag score: 0.6822498647917793\n"
     ]
    },
    {
     "data": {
      "text/plain": [
       "1599"
      ]
     },
     "execution_count": 72,
     "metadata": {},
     "output_type": "execute_result"
    }
   ],
   "source": [
    "# measure accuracy\n",
    "print(\"\\n R^2 score:\", brf.score(Xcsdu_test, y_test))\n",
    "print(f'\\n Out of bag score: {brf.oob_score_}')\n",
    "y_predict = brf.predict(Xcsdu_test)\n",
    "np.sum(y_predict)"
   ]
  },
  {
   "cell_type": "code",
   "execution_count": 73,
   "metadata": {},
   "outputs": [
    {
     "name": "stdout",
     "output_type": "stream",
     "text": [
      "\n",
      " precision: 0.8111319574734209\n",
      "    recall: 0.9855623100303952\n"
     ]
    }
   ],
   "source": [
    "print(\"\\n precision:\", precision_score(y_test, y_predict))\n",
    "print(\"    recall:\", recall_score(y_test, y_predict))"
   ]
  },
  {
   "cell_type": "code",
   "execution_count": 74,
   "metadata": {
    "scrolled": true
   },
   "outputs": [
    {
     "name": "stderr",
     "output_type": "stream",
     "text": [
      "<ipython-input-39-4bcd29495c04>:9: DeprecationWarning: scipy.interp is deprecated and will be removed in SciPy 2.0.0, use numpy.interp instead\n",
      "  mean_tpr += interp(mean_fpr, fpr, tpr)\n"
     ]
    },
    {
     "data": {
      "image/png": "[encoded data removed]",
      "text/plain": [
       "<Figure size 432x360 with 1 Axes>"
      ]
     },
     "metadata": {},
     "output_type": "display_data"
    }
   ],
   "source": [
    "# using the depth added about 5% to auc\n",
    "fig, ax = plt.subplots(1, figsize=(6, 5))\n",
    "plot_roc_nofit(ax, Xcsdu_test, y_test, brf, 'troll_brf')"
   ]
  },
  {
   "cell_type": "markdown",
   "metadata": {},
   "source": [
    "### Yay! awww, that's leakage...but it gives me the next direction for the project. Make a flask app that accepts a comment, then peruses the subreddit over some period of time for a spike in user_age. You might not find a spike, but you could use it as labeled data"
   ]
  },
  {
   "cell_type": "code",
   "execution_count": null,
   "metadata": {},
   "outputs": [],
   "source": []
  },
  {
   "cell_type": "code",
   "execution_count": null,
   "metadata": {},
   "outputs": [],
   "source": []
  },
  {
   "cell_type": "code",
   "execution_count": null,
   "metadata": {},
   "outputs": [],
   "source": []
  },
  {
   "cell_type": "code",
   "execution_count": null,
   "metadata": {},
   "outputs": [],
   "source": []
  },
  {
   "cell_type": "code",
   "execution_count": null,
   "metadata": {},
   "outputs": [],
   "source": [
    "# fit the model\n",
    "brf = BalancedRandomForestClassifier(**model_param, class_weight='balanced_subsample')\n",
    "t0 = time.time()\n",
    "print('fit classifier...')\n",
    "brf.fit(af_X_train, y_train)\n",
    "print(\"done in %0.3fs.\" % (time.time() - t0))\n",
    "\n",
    "# evaluate model\n",
    "# measure accuracy\n",
    "print(\"\\n R^2 score:\", brf.score(af_X_test, y_test))\n",
    "print(f'Out of bag score: {brf.oob_score_}')\n",
    "y_predict = brf.predict(af_X_test)\n",
    "print(f'Number of positive predictions: {np.sum(y_predict)}')\n",
    "# precision and recall\n",
    "print(\"\\n precision:\", precision_score(y_test, y_predict))\n",
    "print(\"    recall:\", recall_score(y_test, y_predict))\n",
    "\n",
    "fig, ax = plt.subplots(1, figsize=(6, 5))\n",
    "for label, clf in clfs.items():\n",
    "    plot_roc_nofit(ax, X_test, y_test, clf, label)\n",
    "\n",
    "return brf"
   ]
  },
  {
   "cell_type": "code",
   "execution_count": null,
   "metadata": {},
   "outputs": [],
   "source": [
    "# initialize classifiers\n",
    "clfs = {}\n",
    "tfidf_param = {'max_df': 0.95, \n",
    "               'min_df': 2, \n",
    "               'max_features': 5000, \n",
    "               'stop_words': 'english'}\n",
    "\n",
    "model_param = {'n_estimators': 400,\n",
    "                   'max_depth': 5,\n",
    "                   'max_features': 25,\n",
    "                   'oob_score': True,\n",
    "                   'n_jobs': -1,\n",
    "                   'random_state': 30}\n",
    "\n",
    "X = corpus\n",
    "add_feat = [\n",
    "        'controversiality', 'score', 'norm_depth'\n",
    "    ]"
   ]
  },
  {
   "cell_type": "code",
   "execution_count": null,
   "metadata": {},
   "outputs": [],
   "source": [
    "# learn whether comment is a reply to a troll\n",
    "target = 'child_of_troll?'\n",
    "ydf = comms[[target] + add_feat]\n",
    "clfs[target + '_brf'] = balanced_random_forest_pipeline(\n",
    "            X, \n",
    "            ydf, \n",
    "            target, \n",
    "            tfidf_param,\n",
    "            model_param,\n",
    "            additional_features=add_feat,\n",
    "            compare_with=None)"
   ]
  },
  {
   "cell_type": "code",
   "execution_count": null,
   "metadata": {},
   "outputs": [],
   "source": []
  },
  {
   "cell_type": "code",
   "execution_count": null,
   "metadata": {},
   "outputs": [],
   "source": []
  },
  {
   "cell_type": "code",
   "execution_count": null,
   "metadata": {},
   "outputs": [],
   "source": []
  },
  {
   "cell_type": "code",
   "execution_count": null,
   "metadata": {},
   "outputs": [],
   "source": []
  },
  {
   "cell_type": "code",
   "execution_count": null,
   "metadata": {},
   "outputs": [],
   "source": []
  },
  {
   "cell_type": "code",
   "execution_count": null,
   "metadata": {},
   "outputs": [],
   "source": []
  },
  {
   "cell_type": "markdown",
   "metadata": {},
   "source": [
    "### example PSAW pushshift code to get multiple comments at once"
   ]
  },
  {
   "cell_type": "code",
   "execution_count": null,
   "metadata": {},
   "outputs": [],
   "source": [
    "api = PushshiftAPI()"
   ]
  },
  {
   "cell_type": "code",
   "execution_count": null,
   "metadata": {
    "scrolled": true
   },
   "outputs": [],
   "source": [
    "gen = api.search_comments(id='cax4ng0,cax1t9x')\n",
    "next(gen).d_, next(gen).d_"
   ]
  },
  {
   "cell_type": "markdown",
   "metadata": {},
   "source": [
    "### example PRAW code for getting multiple subreddits with the same search from reddit"
   ]
  },
  {
   "cell_type": "code",
   "execution_count": null,
   "metadata": {
    "scrolled": true
   },
   "outputs": [],
   "source": [
    "gen = reddit.subreddits.search(\"t5_2r99w,t5_2r99w\")\n",
    "next(gen), next(gen)"
   ]
  },
  {
   "cell_type": "code",
   "execution_count": null,
   "metadata": {},
   "outputs": [],
   "source": []
  },
  {
   "cell_type": "code",
   "execution_count": null,
   "metadata": {},
   "outputs": [],
   "source": []
  },
  {
   "cell_type": "code",
   "execution_count": null,
   "metadata": {},
   "outputs": [],
   "source": []
  },
  {
   "cell_type": "markdown",
   "metadata": {},
   "source": [
    "### code to bring the subreddit id and the name of the subreddit together"
   ]
  },
  {
   "cell_type": "code",
   "execution_count": null,
   "metadata": {},
   "outputs": [],
   "source": [
    "dict(zip(comms['subreddit_id'], comms['subreddit']))"
   ]
  },
  {
   "cell_type": "code",
   "execution_count": null,
   "metadata": {},
   "outputs": [],
   "source": [
    "# np.unique(comms['subreddit_id'] + '_' + comms['subreddit'], return_counts=True)\n",
    "comms['subreddit_id']"
   ]
  },
  {
   "cell_type": "code",
   "execution_count": null,
   "metadata": {},
   "outputs": [],
   "source": []
  },
  {
   "cell_type": "markdown",
   "metadata": {},
   "source": [
    "### explore comment ids for troll comments"
   ]
  },
  {
   "cell_type": "code",
   "execution_count": null,
   "metadata": {},
   "outputs": [],
   "source": [
    "troll_comments = comms[comms['troll?']==1]"
   ]
  },
  {
   "cell_type": "code",
   "execution_count": null,
   "metadata": {},
   "outputs": [],
   "source": [
    "len(troll_comments)"
   ]
  },
  {
   "cell_type": "code",
   "execution_count": null,
   "metadata": {},
   "outputs": [],
   "source": [
    "# let's get the ids for all the troll_comments, then retrieve all the replies to it from Pushshift\n",
    "troll_comments['id']"
   ]
  },
  {
   "cell_type": "code",
   "execution_count": null,
   "metadata": {},
   "outputs": [],
   "source": []
  },
  {
   "cell_type": "markdown",
   "metadata": {},
   "source": [
    "### explore comments in /r/politics"
   ]
  },
  {
   "cell_type": "code",
   "execution_count": null,
   "metadata": {},
   "outputs": [],
   "source": [
    "with pd.option_context('display.max_rows', None, 'display.max_columns', None):  # more options can be specified also\n",
    "    troll_comments = comms[comms['troll?']==1]\n",
    "    print(troll_comments[troll_comments['subreddit']=='politics'])\n",
    "# comms.tail().iloc[0, :]"
   ]
  },
  {
   "cell_type": "code",
   "execution_count": null,
   "metadata": {},
   "outputs": [],
   "source": [
    "with pd.option_context('display.max_rows', None, 'display.max_columns', None):  # more options can be specified also\n",
    "    not_troll_comments = comms[comms['troll?']!=1]\n",
    "    print(not_troll_comments[not_troll_comments['subreddit_id']=='t5_2cneq'].head())"
   ]
  },
  {
   "cell_type": "code",
   "execution_count": null,
   "metadata": {},
   "outputs": [],
   "source": []
  },
  {
   "cell_type": "markdown",
   "metadata": {},
   "source": [
    "### number of troll comments in reply to other trolls..."
   ]
  },
  {
   "cell_type": "code",
   "execution_count": null,
   "metadata": {},
   "outputs": [],
   "source": [
    "np.logical_and(comms['troll?']==1, comms['parent_of_troll?']==1).sum()"
   ]
  },
  {
   "cell_type": "code",
   "execution_count": null,
   "metadata": {},
   "outputs": [],
   "source": []
  },
  {
   "cell_type": "code",
   "execution_count": null,
   "metadata": {},
   "outputs": [],
   "source": []
  },
  {
   "cell_type": "code",
   "execution_count": null,
   "metadata": {},
   "outputs": [],
   "source": []
  },
  {
   "cell_type": "code",
   "execution_count": null,
   "metadata": {},
   "outputs": [],
   "source": [
    "    outcols = df.columns + ['comm_type']\n",
    "    # allow for extra columns after depth, nest_level, and parent_id\n",
    "    if list(df.columns)[:3] != ['depth', 'nest_level', 'parent_id']:\n",
    "        raise\n",
    "    outdf = pd.DataFrame(np.hstack([\n",
    "        df.values, \n",
    "        np.array([\n",
    "            x.split('_')[0] for x in df['parent_id'].values\n",
    "        ])\n",
    "        .reshape(-1, 1)\n",
    "    ]), columns=outcols)\n",
    "    outdf['depth'] = outdf['depth'].astype(float)\n",
    "    outdf['nest_level'] = outdf['nest_level'].astype(float)\n",
    "    if 'troll?' in outcols:\n",
    "        outdf['troll?'] = outdf['troll?'].astype(int)\n",
    "    return outdf"
   ]
  },
  {
   "cell_type": "code",
   "execution_count": null,
   "metadata": {},
   "outputs": [],
   "source": [
    "clfs"
   ]
  },
  {
   "cell_type": "code",
   "execution_count": null,
   "metadata": {},
   "outputs": [],
   "source": []
  },
  {
   "cell_type": "code",
   "execution_count": null,
   "metadata": {},
   "outputs": [],
   "source": []
  },
  {
   "cell_type": "code",
   "execution_count": 68,
   "metadata": {},
   "outputs": [],
   "source": [
    "# reset the training and test data, just in case\n",
    "X_train_corp, X_test_corp, y_train, y_test = train_test_split(\n",
    "        corpus, comms['child_of_troll?'], test_size=0.2, random_state=30, shuffle=True)\n",
    "\n",
    "n_features = 5000\n",
    "\n",
    "tfidf_vectorizer = TfidfVectorizer(max_df=0.95, min_df=2,\n",
    "                                   max_features=n_features,\n",
    "                                   stop_words='english')\n",
    "\n",
    "t0 = time.time()\n",
    "X_train_tfidf = tfidf_vectorizer.fit_transform(X_train_corp)\n",
    "print(\"done in %0.3fs.\" % (time.time() - t0))\n",
    "\n",
    "X_test_tfidf = tfidf_vectorizer.transform(X_test_corp)\n",
    "\n",
    "X_train = X_train_tfidf.toarray()\n",
    "X_test = X_test_tfidf.toarray()"
   ]
  }
 ],
 "metadata": {
  "kernelspec": {
   "display_name": "Python 3",
   "language": "python",
   "name": "python3"
  },
  "language_info": {
   "codemirror_mode": {
    "name": "ipython",
    "version": 3
   },
   "file_extension": ".py",
   "mimetype": "text/x-python",
   "name": "python",
   "nbconvert_exporter": "python",
   "pygments_lexer": "ipython3",
   "version": "3.8.2"
  }
 },
 "nbformat": 4,
 "nbformat_minor": 4
}
