{
 "cells": [
  {
   "cell_type": "code",
   "execution_count": 13,
   "metadata": {},
   "outputs": [],
   "source": [
    "from psaw import PushshiftAPI\n",
    "from pymongo import MongoClient, errors\n",
    "import pandas as pd\n",
    "import numpy as np\n",
    "\n",
    "from bson.json_util import dumps\n",
    "\n",
    "import boto3"
   ]
  },
  {
   "cell_type": "code",
   "execution_count": 7,
   "metadata": {},
   "outputs": [],
   "source": [
    "api = PushshiftAPI()\n",
    "\n",
    "client = MongoClient('localhost', 27017)\n",
    "db = client['cap2']"
   ]
  },
  {
   "cell_type": "code",
   "execution_count": 8,
   "metadata": {},
   "outputs": [],
   "source": [
    "# get the user activity\n",
    "usr_actvty = pd.read_csv('data/user_activity_dataframe.csv')\n",
    "usr_actvty.drop('Unnamed: 0', axis=1, inplace=True)"
   ]
  },
  {
   "cell_type": "code",
   "execution_count": 9,
   "metadata": {},
   "outputs": [
    {
     "name": "stdout",
     "output_type": "stream",
     "text": [
      "searching for comments by 1488Reasons ...\n",
      "searching for comments by AdoraronDoomworker ...\n",
      "searching for comments by AlsagelvBuriron ...\n",
      "searching for comments by AndromajurusAragrel ...\n",
      "searching for comments by AriundisVugar ...\n",
      "searching for comments by AxeseekerMightwind ...\n",
      "searching for comments by BeazerneMem ...\n",
      "searching for comments by BerskyN ...\n",
      "searching for comments by BlackToLive ...\n",
      "searching for comments by BleepThePolice ...\n",
      "searching for comments by CererinKarn ...\n",
      "searching for comments by DalabandisAndroma ...\n",
      "searching for comments by DalahelmFelharil ...\n",
      "searching for comments by DarusCege ...\n",
      "searching for comments by Dazzle6 ...\n",
      "searching for comments by DeusXYX ...\n",
      "searching for comments by DorothieBell ...\n",
      "searching for comments by FaurnFlamebreaker ...\n",
      "searching for comments by FreddieGi ...\n",
      "searching for comments by GaranaTobar ...\n",
      "searching for comments by GavinraraFonara ...\n",
      "searching for comments by GoltijindGoltishura ...\n",
      "searching for comments by Graham_Quinn ...\n",
      "searching for comments by Heetmean ...\n",
      "searching for comments by HellwindShadowbreak ...\n",
      "searching for comments by HityndiDutilar ...\n",
      "searching for comments by KahuginnCerenadar ...\n",
      "searching for comments by KakreeTabar ...\n",
      "searching for comments by KatusPenadar ...\n",
      "searching for comments by KazishuraTerne ...\n",
      "searching for comments by Kevin_Milner ...\n",
      "searching for comments by KigagrelMightrunner ...\n",
      "searching for comments by King_Andersons ...\n",
      "searching for comments by KiririelCebandis ...\n",
      "searching for comments by KulazelKelkree ...\n",
      "searching for comments by Kutloisiso ...\n",
      "searching for comments by LalhalaGavinradwyn ...\n",
      "searching for comments by LandageKador ...\n",
      "searching for comments by Leprechaun_yura ...\n",
      "searching for comments by LightshadeGardakino ...\n",
      "searching for comments by Maineylops ...\n",
      "searching for comments by MalojurusMutus ...\n",
      "searching for comments by MananaraGralsa ...\n",
      "searching for comments by MargasGranidor ...\n",
      "searching for comments by MasiusShadowshaper ...\n",
      "searching for comments by Maxwel_Terry ...\n",
      "searching for comments by Meek_Mitchel ...\n",
      "searching for comments by MiraranaMogra ...\n",
      "searching for comments by MnefymPainmane ...\n",
      "searching for comments by Mponeng ...\n",
      "searching for comments by NekoraJoJolar ...\n",
      "searching for comments by PeriniusDular ...\n",
      "searching for comments by Peter_Hurst ...\n",
      "searching for comments by RedGov ...\n",
      "searching for comments by RobbKR ...\n",
      "searching for comments by SadCitizen2016 ...\n",
      "searching for comments by SailakSamura ...\n",
      "searching for comments by SamugoreKekelv ...\n",
      "searching for comments by SouthLoneStar ...\n",
      "searching for comments by SteelfangMogamand ...\n",
      "searching for comments by Taulou ...\n",
      "searching for comments by TojasidaSamukree ...\n",
      "searching for comments by TojatMalaron ...\n",
      "searching for comments by UelitheLandagelv ...\n",
      "searching for comments by VanecedwaShadowsmith ...\n",
      "searching for comments by WhatImDoindHere ...\n",
      "searching for comments by ZuluraGolar ...\n",
      "searching for comments by alex_jonathan ...\n",
      "searching for comments by alice_boginski ...\n",
      "searching for comments by amazingbodilyfluids ...\n",
      "searching for comments by anime_stan ...\n",
      "searching for comments by astridrooo ...\n",
      "searching for comments by baconlover8 ...\n",
      "searching for comments by bill_jonson ...\n",
      "searching for comments by blackie_jack ...\n",
      "searching for comments by brant_s ...\n",
      "searching for comments by brondran ...\n",
      "searching for comments by cakes689 ...\n",
      "searching for comments by caterpillarclass ...\n",
      "searching for comments by chereese ...\n",
      "searching for comments by chriscrossfire ...\n",
      "searching for comments by clackie ...\n",
      "searching for comments by clawisma ...\n",
      "searching for comments by come-true ...\n",
      "searching for comments by crownalbum ...\n",
      "searching for comments by dandy1crown ...\n",
      "searching for comments by elsie_c ...\n",
      "searching for comments by emilyli ...\n",
      "searching for comments by erivmalazilkree ...\n",
      "searching for comments by fginery ...\n",
      "searching for comments by fungon ...\n",
      "searching for comments by garliccomet ...\n",
      "searching for comments by georgepharell ...\n",
      "searching for comments by gordon_br ...\n",
      "searching for comments by hadheart ...\n",
      "searching for comments by harperdaveharper ...\n",
      "searching for comments by horseeating ...\n",
      "searching for comments by hyddrox ...\n",
      "searching for comments by ironzion17 ...\n",
      "searching for comments by jake_browny ...\n",
      "searching for comments by jerrhill ...\n",
      "searching for comments by jojouel ...\n",
      "searching for comments by kanyebreeze ...\n",
      "searching for comments by keklelkek ...\n",
      "searching for comments by kuabrush ...\n",
      "searching for comments by laserathletics ...\n",
      "searching for comments by lekgotla ...\n",
      "searching for comments by malefane ...\n",
      "searching for comments by mandeyboy ...\n",
      "searching for comments by men_like ...\n",
      "searching for comments by merlinperegrin ...\n",
      "searching for comments by mohato ...\n",
      "searching for comments by moluleloa ...\n",
      "searching for comments by moratutu ...\n",
      "searching for comments by mr_clampin ...\n",
      "searching for comments by paulmall112 ...\n",
      "searching for comments by peter_stevenson1986 ...\n",
      "searching for comments by petouchoque ...\n",
      "searching for comments by picnicshirt ...\n",
      "searching for comments by randomipad ...\n",
      "searching for comments by reggaebull ...\n",
      "searching for comments by researchbeggar ...\n",
      "searching for comments by richwilcom ...\n",
      "searching for comments by rico_penya ...\n",
      "searching for comments by riversailor ...\n",
      "searching for comments by rockanda ...\n",
      "searching for comments by shomyo ...\n",
      "searching for comments by smollow ...\n",
      "searching for comments by solodoto666 ...\n",
      "searching for comments by stendupp ...\n",
      "searching for comments by stenlies ...\n",
      "searching for comments by sugarshoehorn ...\n",
      "searching for comments by thistleescape ...\n",
      "searching for comments by tishcol ...\n",
      "searching for comments by toffeeathletics ...\n",
      "searching for comments by toneporter ...\n",
      "searching for comments by trollsofficial ...\n",
      "searching for comments by truckshark ...\n",
      "searching for comments by uelithelandagelv ...\n",
      "searching for comments by vadro ...\n",
      "searching for comments by violinslipper ...\n",
      "searching for comments by vudonrismakasa ...\n",
      "searching for comments by wadeharriot ...\n",
      "searching for comments by waeqxd ...\n",
      "searching for comments by winthrop_clancy ...\n",
      "searching for comments by wolfen01 ...\n",
      "searching for comments by xameg ...\n"
     ]
    }
   ],
   "source": [
    "# fetch comments and submissions for each suspicious user\n",
    "activity_types = ['comment']\n",
    "for i, api_search in enumerate([api.search_comments]):\n",
    "    typ = activity_types[i]\n",
    "    table = db[typ]\n",
    "    # drop the collection if it exists already\n",
    "    table.drop()\n",
    "    # create it, enforcing unique key ids\n",
    "    table.create_index('id', unique=True)\n",
    "    users = np.unique(usr_actvty[usr_actvty['type'] == typ]['username'])\n",
    "    for usr in users:\n",
    "        print(f'searching for comments by {usr} ...')\n",
    "        gen = api_search(author=usr)\n",
    "        for a in gen:\n",
    "            try:\n",
    "                table.insert_one(a.d_)\n",
    "            except errors.DuplicateKeyError:\n",
    "                continue"
   ]
  },
  {
   "cell_type": "code",
   "execution_count": 11,
   "metadata": {},
   "outputs": [
    {
     "name": "stdout",
     "output_type": "stream",
     "text": [
      "submission    :  14523\n",
      "first_and_last:    952\n",
      "comment       :   6704\n"
     ]
    }
   ],
   "source": [
    "for coll in db.list_collection_names():\n",
    "    print(f'{coll:14}: {db[coll].count_documents({}):6}')"
   ]
  },
  {
   "cell_type": "code",
   "execution_count": 14,
   "metadata": {},
   "outputs": [],
   "source": [
    "# save results to s3\n",
    "# set up connection\n",
    "s3_connection = boto3.resource('s3')\n",
    "s3_client = boto3.client('s3')"
   ]
  },
  {
   "cell_type": "code",
   "execution_count": null,
   "metadata": {},
   "outputs": [],
   "source": [
    "s3_client.upload_file()\n",
    "def write_object_to_s3(s3_client, bucket_name, filename):\n",
    "    \"\"\"\n",
    "    Input:\n",
    "        s3_client: i.e. boto3.client('s3')\n",
    "        bucket_name (str): Name of bucket to which the file will go\n",
    "        filename (str): Name of target csv file within bucket (ex: \"cool_data.csv\")\n",
    "        doc (json )\n",
    "    Output:\n",
    "        pandas dataframe of csv (assuming no read_csv arguments are needed)\n",
    "    \"\"\"\n",
    "    \n",
    "    s3_client.upload_file(filename, bucket_name, cancer_df_filename)\n",
    "    return pd.read_csv(boto_object['Body'], nrows=n_rows)"
   ]
  },
  {
   "cell_type": "code",
   "execution_count": 10,
   "metadata": {},
   "outputs": [
    {
     "name": "stdout",
     "output_type": "stream",
     "text": [
      "{'_id': ObjectId('5eb9bfd9a9cad96111c04276'), 'author': '1488reasons', 'author_created_utc': 1452931267, 'author_flair_css_class': 'nzfirst', 'author_flair_text': '', 'author_fullname': 't2_tu7sn', 'body': \"yeah and he wants to consider it by limiting who is in the community, and he wasn't particularly nice about that by modern feel-good standards that want to keep paying mo' money for dem programs.\", 'controversiality': 0, 'created_utc': 1467090533, 'distinguished': None, 'gilded': 0, 'id': 'd4qvapg', 'link_id': 't3_4q6zhk', 'nest_level': 7, 'parent_id': 't1_d4quv2y', 'reply_delay': 968, 'retrieved_on': 1469344733, 'score': -7, 'stickied': False, 'subreddit': 'newzealand', 'subreddit_id': 't5_2qhma', 'created': 1467090533.0}\n"
     ]
    }
   ],
   "source": [
    "for doc in db['comment'].find({}):\n",
    "    print(doc)"
   ]
  },
  {
   "cell_type": "code",
   "execution_count": null,
   "metadata": {},
   "outputs": [],
   "source": [
    "import boto\n",
    "from boto.s3.key import Key\n",
    "import requests\n",
    "\n",
    "#setup the bucket\n",
    "c = boto.connect_s3(your_s3_key, your_s3_key_secret)\n",
    "b = c.get_bucket(bucket, validate=False)\n",
    "\n",
    "#download the file\n",
    "url = \"http://en.wikipedia.org/static/images/project-logos/enwiki.png\"\n",
    "r = requests.get(url)\n",
    "if r.status_code == 200:\n",
    "    #upload the file\n",
    "    k = Key(b)\n",
    "    k.key = \"image1.png\"\n",
    "    k.content_type = r.headers['content-type']\n",
    "    k.set_contents_from_string(r.content)"
   ]
  },
  {
   "cell_type": "code",
   "execution_count": 16,
   "metadata": {},
   "outputs": [
    {
     "ename": "TypeError",
     "evalue": "unsupported operand type(s) for |: 'bytes' and '_io.TextIOWrapper'",
     "output_type": "error",
     "traceback": [
      "\u001b[0;31m---------------------------------------------------------------------------\u001b[0m",
      "\u001b[0;31mTypeError\u001b[0m                                 Traceback (most recent call last)",
      "\u001b[0;32m<ipython-input-16-71457e87c49a>\u001b[0m in \u001b[0;36m<module>\u001b[0;34m\u001b[0m\n\u001b[1;32m      1\u001b[0m \u001b[0;32mwith\u001b[0m \u001b[0mopen\u001b[0m\u001b[0;34m(\u001b[0m\u001b[0;34m'data/user_activity_dataframe.csv'\u001b[0m\u001b[0;34m)\u001b[0m \u001b[0;32mas\u001b[0m \u001b[0mfp\u001b[0m\u001b[0;34m:\u001b[0m\u001b[0;34m\u001b[0m\u001b[0;34m\u001b[0m\u001b[0m\n\u001b[0;32m----> 2\u001b[0;31m     \u001b[0;34mb'bytes'\u001b[0m\u001b[0;34m|\u001b[0m\u001b[0mfp\u001b[0m\u001b[0;34m\u001b[0m\u001b[0;34m\u001b[0m\u001b[0m\n\u001b[0m",
      "\u001b[0;31mTypeError\u001b[0m: unsupported operand type(s) for |: 'bytes' and '_io.TextIOWrapper'"
     ]
    }
   ],
   "source": [
    "with open('data/user_activity_dataframe.csv') as fp:\n",
    "    b'bytes'|fp"
   ]
  },
  {
   "cell_type": "code",
   "execution_count": 17,
   "metadata": {},
   "outputs": [],
   "source": [
    "s3 = boto3.client('s3')\n"
   ]
  },
  {
   "cell_type": "code",
   "execution_count": null,
   "metadata": {},
   "outputs": [],
   "source": [
    "s3.put_object()\n",
    "with open(\"data/user_activity_dataframe.csv\", \"rb\") as f:\n",
    "    s3.upload_fileobj(f, \"cfdv-classify-reddit-trolls/susp_users_comments\", \"OBJECT_NAME\")\n",
    "    "
   ]
  }
 ],
 "metadata": {
  "kernelspec": {
   "display_name": "Python 3",
   "language": "python",
   "name": "python3"
  },
  "language_info": {
   "codemirror_mode": {
    "name": "ipython",
    "version": 3
   },
   "file_extension": ".py",
   "mimetype": "text/x-python",
   "name": "python",
   "nbconvert_exporter": "python",
   "pygments_lexer": "ipython3",
   "version": "3.8.2"
  }
 },
 "nbformat": 4,
 "nbformat_minor": 4
}
