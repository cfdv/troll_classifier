{
 "cells": [
  {
   "cell_type": "code",
   "execution_count": null,
   "metadata": {},
   "outputs": [],
   "source": [
    "# Authors: Guillaume Lemaitre <g.lemaitre58@gmail.com>\n",
    "# License: MIT\n",
    "\n",
    "import itertools\n",
    "\n",
    "import matplotlib.pyplot as plt\n",
    "import numpy as np\n",
    "\n",
    "from sklearn.model_selection import train_test_split\n",
    "from sklearn.ensemble import BaggingClassifier\n",
    "from sklearn.ensemble import RandomForestClassifier\n",
    "from sklearn.ensemble import AdaBoostClassifier\n",
    "from sklearn.tree import DecisionTreeClassifier\n",
    "from sklearn.metrics import confusion_matrix\n",
    "from sklearn.metrics import balanced_accuracy_score\n",
    "\n",
    "from imblearn.datasets import fetch_datasets\n",
    "from imblearn.ensemble import BalancedBaggingClassifier\n",
    "from imblearn.ensemble import BalancedRandomForestClassifier\n",
    "from imblearn.ensemble import EasyEnsembleClassifier\n",
    "from imblearn.ensemble import RUSBoostClassifier\n",
    "\n",
    "from imblearn.metrics import geometric_mean_score"
   ]
  },
  {
   "cell_type": "markdown",
   "metadata": {},
   "source": [
    "## [Comparison of ensembling classifiers internally using sampling](https://imbalanced-learn.readthedocs.io/en/stable/auto_examples/ensemble/plot_comparison_ensemble_classifier.html#sphx-glr-auto-examples-ensemble-plot-comparison-ensemble-classifier-py)\n",
    "\n",
    "Ensembling classifiers have shown to improve classification performance compare to single learner. However, they will be affected by class imbalance. This example shows the benefit of balancing the training set before to learn learners. We are making the comparison with non-balanced ensemble methods.\n",
    "\n",
    "We make a comparison using the balanced accuracy and geometric mean which are metrics widely used in the literature to evaluate models learned on imbalanced set."
   ]
  },
  {
   "cell_type": "code",
   "execution_count": 1,
   "metadata": {},
   "outputs": [],
   "source": [
    "def plot_confusion_matrix(cm, classes, ax,\n",
    "                          normalize=False,\n",
    "                          title='Confusion matrix',\n",
    "                          cmap=plt.cm.Blues):\n",
    "    \"\"\"\n",
    "    This function prints and plots the confusion matrix.\n",
    "    Normalization can be applied by setting `normalize=True`.\n",
    "    \"\"\"\n",
    "    print(cm)\n",
    "    print('')\n",
    "\n",
    "    ax.imshow(cm, interpolation='nearest', cmap=cmap)\n",
    "    ax.set_title(title)\n",
    "    tick_marks = np.arange(len(classes))\n",
    "    plt.xticks(tick_marks, classes, rotation=45)\n",
    "    plt.sca(ax)\n",
    "    plt.yticks(tick_marks, classes)\n",
    "\n",
    "    fmt = '.2f' if normalize else 'd'\n",
    "    thresh = cm.max() / 2.\n",
    "    for i, j in itertools.product(range(cm.shape[0]), range(cm.shape[1])):\n",
    "        ax.text(j, i, format(cm[i, j], fmt),\n",
    "                horizontalalignment=\"center\",\n",
    "                color=\"white\" if cm[i, j] > thresh else \"black\")\n",
    "\n",
    "    ax.set_ylabel('True label')\n",
    "    ax.set_xlabel('Predicted label')"
   ]
  },
  {
   "cell_type": "markdown",
   "metadata": {},
   "source": [
    "## Load an imbalanced dataset\n",
    "\n",
    "We will load the UCI SatImage dataset which has an imbalanced ratio of 9.3:1 (number of majority sample for a minority sample). The data are then split into training and testing."
   ]
  },
  {
   "cell_type": "code",
   "execution_count": 2,
   "metadata": {},
   "outputs": [],
   "source": [
    "satimage = fetch_datasets()['satimage']\n",
    "X, y = satimage.data, satimage.target\n",
    "X_train, X_test, y_train, y_test = train_test_split(X, y, stratify=y,\n",
    "                                                    random_state=0)"
   ]
  },
  {
   "cell_type": "markdown",
   "metadata": {},
   "source": [
    "## Classification using a single decision tree\n",
    "\n",
    "We train a decision tree classifier which will be used as a baseline for the rest of this example.\n",
    "The results are reported in terms of balanced accuracy and geometric mean which are metrics widely used in the literature to validate model trained on imbalanced set."
   ]
  },
  {
   "cell_type": "code",
   "execution_count": 3,
   "metadata": {},
   "outputs": [
    {
     "name": "stdout",
     "output_type": "stream",
     "text": [
      "Decision tree classifier performance:\n",
      "Balanced accuracy: 0.74 - Geometric mean 0.71\n",
      "[[1385   67]\n",
      " [  75   82]]\n",
      "\n"
     ]
    },
    {
     "data": {
      "image/png": "[encoded data removed]",
      "text/plain": [
       "<Figure size 432x288 with 1 Axes>"
      ]
     },
     "metadata": {
      "needs_background": "light"
     },
     "output_type": "display_data"
    }
   ],
   "source": [
    "tree = DecisionTreeClassifier()\n",
    "tree.fit(X_train, y_train)\n",
    "y_pred_tree = tree.predict(X_test)\n",
    "print('Decision tree classifier performance:')\n",
    "print('Balanced accuracy: {:.2f} - Geometric mean {:.2f}'\n",
    "      .format(balanced_accuracy_score(y_test, y_pred_tree),\n",
    "              geometric_mean_score(y_test, y_pred_tree)))\n",
    "cm_tree = confusion_matrix(y_test, y_pred_tree)\n",
    "fig, ax = plt.subplots()\n",
    "plot_confusion_matrix(cm_tree, classes=np.unique(satimage.target), ax=ax,\n",
    "                      title='Decision tree')"
   ]
  },
  {
   "cell_type": "markdown",
   "metadata": {},
   "source": [
    "## Classification using bagging classifier with and without sampling\n",
    "\n",
    "Instead of using a single tree, we will check if an ensemble of decsion tree can actually alleviate the issue induced by the class imbalancing. First, we will use a bagging classifier and its counter part which internally uses a random under-sampling to balanced each boostrap sample.\n",
    "\n",
    "Balancing each bootstrap sample allows to increase significantly the balanced accuracy and the geometric mean."
   ]
  },
  {
   "cell_type": "code",
   "execution_count": 4,
   "metadata": {},
   "outputs": [],
   "source": [
    "bagging = BaggingClassifier(n_estimators=50, random_state=0, n_jobs=-1)\n",
    "balanced_bagging = BalancedBaggingClassifier(n_estimators=50, random_state=0,\n",
    "                                             n_jobs=-1)\n",
    "\n",
    "bagging.fit(X_train, y_train)\n",
    "balanced_bagging.fit(X_train, y_train)\n",
    "\n",
    "y_pred_bc = bagging.predict(X_test)\n",
    "y_pred_bbc = balanced_bagging.predict(X_test)"
   ]
  },
  {
   "cell_type": "code",
   "execution_count": 5,
   "metadata": {},
   "outputs": [
    {
     "name": "stdout",
     "output_type": "stream",
     "text": [
      "Bagging classifier performance:\n",
      "Balanced accuracy: 0.73 - Geometric mean 0.69\n",
      "[[1428   24]\n",
      " [  81   76]]\n",
      "\n",
      "Balanced Bagging classifier performance:\n",
      "Balanced accuracy: 0.87 - Geometric mean 0.87\n",
      "[[1326  126]\n",
      " [  28  129]]\n",
      "\n"
     ]
    },
    {
     "data": {
      "image/png": "[encoded data removed]",
      "text/plain": [
       "<Figure size 432x288 with 2 Axes>"
      ]
     },
     "metadata": {
      "needs_background": "light"
     },
     "output_type": "display_data"
    }
   ],
   "source": [
    "print('Bagging classifier performance:')\n",
    "print('Balanced accuracy: {:.2f} - Geometric mean {:.2f}'\n",
    "      .format(balanced_accuracy_score(y_test, y_pred_bc),\n",
    "              geometric_mean_score(y_test, y_pred_bc)))\n",
    "cm_bagging = confusion_matrix(y_test, y_pred_bc)\n",
    "fig, ax = plt.subplots(ncols=2)\n",
    "plot_confusion_matrix(cm_bagging, classes=np.unique(satimage.target), ax=ax[0],\n",
    "                      title='Bagging')\n",
    "\n",
    "print('Balanced Bagging classifier performance:')\n",
    "print('Balanced accuracy: {:.2f} - Geometric mean {:.2f}'\n",
    "      .format(balanced_accuracy_score(y_test, y_pred_bbc),\n",
    "              geometric_mean_score(y_test, y_pred_bbc)))\n",
    "cm_balanced_bagging = confusion_matrix(y_test, y_pred_bbc)\n",
    "plot_confusion_matrix(cm_balanced_bagging, classes=np.unique(satimage.target),\n",
    "                      ax=ax[1], title='Balanced bagging')"
   ]
  },
  {
   "cell_type": "markdown",
   "metadata": {},
   "source": [
    "## Classification using random forest classifier with and without sampling\n",
    "\n",
    "Random forest is another popular ensemble method and it is usually outperforming bagging. Here, we used a vanilla random forest and its balanced counterpart in which each bootstrap sample is balanced."
   ]
  },
  {
   "cell_type": "code",
   "execution_count": 8,
   "metadata": {},
   "outputs": [
    {
     "name": "stdout",
     "output_type": "stream",
     "text": [
      "Random Forest classifier performance:\n",
      "Balanced accuracy: 0.73 - Geometric mean 0.68\n",
      "[[1435   17]\n",
      " [  84   73]]\n",
      "\n",
      "Balanced Random Forest classifier performance:\n",
      "Balanced accuracy: 0.87 - Geometric mean 0.87\n",
      "[[1275  177]\n",
      " [  21  136]]\n",
      "\n"
     ]
    },
    {
     "data": {
      "image/png": "[encoded data removed]",
      "text/plain": [
       "<Figure size 432x288 with 2 Axes>"
      ]
     },
     "metadata": {
      "needs_background": "light"
     },
     "output_type": "display_data"
    }
   ],
   "source": [
    "rf = RandomForestClassifier(n_estimators=50, random_state=0, n_jobs=-1)\n",
    "brf = BalancedRandomForestClassifier(n_estimators=50, random_state=0,\n",
    "                                     n_jobs=-1)\n",
    "\n",
    "rf.fit(X_train, y_train)\n",
    "brf.fit(X_train, y_train)\n",
    "\n",
    "y_pred_rf = rf.predict(X_test)\n",
    "y_pred_brf = brf.predict(X_test)\n",
    "\n",
    "# Similarly to the previous experiment, the balanced classifier outperform the\n",
    "# classifier which learn from imbalanced bootstrap samples. In addition, random\n",
    "# forest outsperforms the bagging classifier.\n",
    "\n",
    "print('Random Forest classifier performance:')\n",
    "print('Balanced accuracy: {:.2f} - Geometric mean {:.2f}'\n",
    "      .format(balanced_accuracy_score(y_test, y_pred_rf),\n",
    "              geometric_mean_score(y_test, y_pred_rf)))\n",
    "cm_rf = confusion_matrix(y_test, y_pred_rf)\n",
    "fig, ax = plt.subplots(ncols=2)\n",
    "plot_confusion_matrix(cm_rf, classes=np.unique(satimage.target), ax=ax[0],\n",
    "                      title='Random forest')\n",
    "\n",
    "print('Balanced Random Forest classifier performance:')\n",
    "print('Balanced accuracy: {:.2f} - Geometric mean {:.2f}'\n",
    "      .format(balanced_accuracy_score(y_test, y_pred_brf),\n",
    "              geometric_mean_score(y_test, y_pred_brf)))\n",
    "cm_brf = confusion_matrix(y_test, y_pred_brf)\n",
    "plot_confusion_matrix(cm_brf, classes=np.unique(satimage.target), ax=ax[1],\n",
    "                      title='Balanced random forest')"
   ]
  },
  {
   "cell_type": "code",
   "execution_count": null,
   "metadata": {},
   "outputs": [],
   "source": []
  }
 ],
 "metadata": {
  "kernelspec": {
   "display_name": "Python 3",
   "language": "python",
   "name": "python3"
  },
  "language_info": {
   "codemirror_mode": {
    "name": "ipython",
    "version": 3
   },
   "file_extension": ".py",
   "mimetype": "text/x-python",
   "name": "python",
   "nbconvert_exporter": "python",
   "pygments_lexer": "ipython3",
   "version": "3.8.2"
  }
 },
 "nbformat": 4,
 "nbformat_minor": 4
}
