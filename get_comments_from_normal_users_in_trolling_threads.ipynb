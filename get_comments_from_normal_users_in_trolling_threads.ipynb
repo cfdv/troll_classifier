{
 "cells": [
  {
   "cell_type": "code",
   "execution_count": 14,
   "metadata": {},
   "outputs": [],
   "source": [
    "import praw\n",
    "from prawcore import Forbidden\n",
    "from pymongo import MongoClient, errors"
   ]
  },
  {
   "cell_type": "code",
   "execution_count": 2,
   "metadata": {},
   "outputs": [],
   "source": [
    "creds = {}\n",
    "with open ('/opt/cap1/.cap1', 'r') as fp:\n",
    "    for line in fp:\n",
    "        k, v = line.replace('\\n','').split('\\t')\n",
    "        creds[k] = v"
   ]
  },
  {
   "cell_type": "code",
   "execution_count": 3,
   "metadata": {},
   "outputs": [],
   "source": [
    "reddit = praw.Reddit(client_id=creds['REDDIT_ID'], \n",
    "    client_secret=creds['REDDIT_SECRET'],\n",
    "    password=creds['REDDIT_PASSWORD'], \n",
    "    username=creds['REDDIT_USERNAME'],\n",
    "    user_agent='accessAPI:v0.0.1 (by /u/{})'.format(creds['REDDIT_USERNAME']))"
   ]
  },
  {
   "cell_type": "code",
   "execution_count": 4,
   "metadata": {},
   "outputs": [],
   "source": [
    "client = MongoClient('localhost', 27017)\n",
    "db = client['cap2']"
   ]
  },
  {
   "cell_type": "code",
   "execution_count": 5,
   "metadata": {},
   "outputs": [
    {
     "name": "stdout",
     "output_type": "stream",
     "text": [
      "submission    :  14523\n",
      "first_and_last:    952\n",
      "comment       :  69713\n"
     ]
    }
   ],
   "source": [
    "for coll in db.list_collection_names():\n",
    "    print(f'{coll:14}: {db[coll].count_documents({}):6}')"
   ]
  },
  {
   "cell_type": "code",
   "execution_count": 23,
   "metadata": {},
   "outputs": [
    {
     "name": "stdout",
     "output_type": "stream",
     "text": [
      "searching for comments in 100ikq\n"
     ]
    }
   ],
   "source": [
    "log = [] \n",
    "i = 0 \n",
    "for submission_id in db['comment'].find().distinct('link_id')[0:1]: \n",
    "    i += 1 \n",
    "    query_id = submission_id.split('_')[1] \n",
    "    print(f'searching for comments in {query_id}') \n",
    "    submission = reddit.submission(id=query_id) \n",
    "    try: \n",
    "        comments = submission.comments._comments  \n",
    "    except Forbidden: \n",
    "        log.append(i) \n",
    "        continue \n",
    "    for comment in comments: \n",
    "        d = dict(vars(comment)) \n",
    "        for key in ['_replies', '_submission',  \n",
    "                '_reddit', 'mod', 'author', \n",
    "                        'subreddit']: \n",
    "            _ = d.pop(key, None) \n",
    "        try: \n",
    "            db['comment'].insert_one(d) \n",
    "        except (errors.DuplicateKeyError, errors.InvalidDocument): \n",
    "            continue"
   ]
  },
  {
   "cell_type": "code",
   "execution_count": null,
   "metadata": {},
   "outputs": [],
   "source": []
  }
 ],
 "metadata": {
  "kernelspec": {
   "display_name": "Python 3",
   "language": "python",
   "name": "python3"
  },
  "language_info": {
   "codemirror_mode": {
    "name": "ipython",
    "version": 3
   },
   "file_extension": ".py",
   "mimetype": "text/x-python",
   "name": "python",
   "nbconvert_exporter": "python",
   "pygments_lexer": "ipython3",
   "version": "3.8.2"
  }
 },
 "nbformat": 4,
 "nbformat_minor": 4
}
