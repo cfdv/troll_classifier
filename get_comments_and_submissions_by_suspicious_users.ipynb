{
 "cells": [
  {
   "cell_type": "code",
   "execution_count": null,
   "metadata": {},
   "outputs": [],
   "source": [
    "from psaw import PushshiftAPI\n",
    "from pymongo import MongoClient\n",
    "import pandas as pd\n",
    "import numpy as np\n",
    "\n",
    "api = PushshiftAPI()\n",
    "\n",
    "client = MongoClient('localhost', 27017)\n",
    "db = client['cap2']"
   ]
  },
  {
   "cell_type": "code",
   "execution_count": null,
   "metadata": {},
   "outputs": [],
   "source": [
    "# get the user activity\n",
    "usr_actvty = pd.read_csv('data/user_activity_dataframe.csv')\n",
    "usr_actvty.drop('Unnamed: 0', axis=1, inplace=True)"
   ]
  },
  {
   "cell_type": "code",
   "execution_count": null,
   "metadata": {},
   "outputs": [],
   "source": [
    "# fetch comments and submissions for each suspicious user\n",
    "activity_types = ['comment', 'submission'] \n",
    "for i, api_search in enumerate([api.search_comments, api.search_submissions]): \n",
    "    typ = activity_types[i] \n",
    "    table = db[typ] \n",
    "    users = np.unique(usr_actvty[usr_actvty['type'] == typ]['username']) \n",
    "    for usr in users: \n",
    "        print(f'Searching {activity_types[i]} for {usr}...') \n",
    "        gen = api_search(author=usr) \n",
    "        for a in gen: \n",
    "                table.insert_one(a.d_) "
   ]
  }
 ],
 "metadata": {
  "kernelspec": {
   "display_name": "Python 3",
   "language": "python",
   "name": "python3"
  },
  "language_info": {
   "codemirror_mode": {
    "name": "ipython",
    "version": 3
   },
   "file_extension": ".py",
   "mimetype": "text/x-python",
   "name": "python",
   "nbconvert_exporter": "python",
   "pygments_lexer": "ipython3",
   "version": "3.8.2"
  }
 },
 "nbformat": 4,
 "nbformat_minor": 4
}
