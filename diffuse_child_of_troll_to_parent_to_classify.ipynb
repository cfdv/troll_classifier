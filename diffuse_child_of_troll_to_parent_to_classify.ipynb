{
 "cells": [
  {
   "cell_type": "code",
   "execution_count": 337,
   "metadata": {},
   "outputs": [],
   "source": [
    "from psaw import PushshiftAPI\n",
    "import praw\n",
    "from prawcore import Forbidden\n",
    "from praw.exceptions import ClientException\n",
    "import numpy as np\n",
    "import pandas as pd\n",
    "import matplotlib.pyplot as plt\n",
    "%matplotlib inline\n",
    "plt.style.use('ggplot')\n",
    "import seaborn as sns\n",
    "\n",
    "from scipy import stats\n",
    "\n",
    "from pymongo import MongoClient, errors\n",
    "\n",
    "from bson.json_util import loads, dumps\n",
    "from bson.objectid import ObjectId\n",
    "\n",
    "from datetime import datetime as dt\n",
    "\n",
    "import boto3\n",
    "\n",
    "import time\n",
    "\n",
    "import nltk\n",
    "from nltk.tokenize import word_tokenize\n",
    "from nltk.corpus import stopwords\n",
    "from nltk.stem.porter import PorterStemmer\n",
    "from nltk.stem.wordnet import WordNetLemmatizer\n",
    "\n",
    "from sklearn.feature_extraction.text import TfidfVectorizer\n",
    "from sklearn.decomposition import NMF\n",
    "from sklearn.model_selection import train_test_split\n",
    "from sklearn.model_selection import KFold\n",
    "from sklearn.preprocessing import StandardScaler\n",
    "from sklearn.ensemble import RandomForestClassifier\n",
    "from sklearn.metrics import confusion_matrix, precision_score, recall_score, roc_curve, auc, roc_auc_score\n",
    "from sklearn.metrics import plot_confusion_matrix\n",
    "from sklearn.inspection import permutation_importance, plot_partial_dependence\n",
    "\n",
    "from imblearn.ensemble import BalancedRandomForestClassifier\n",
    "\n",
    "import pickle\n",
    "\n",
    "from scipy import interp\n",
    "\n",
    "import string\n",
    "from pprint import pprint\n",
    "\n",
    "from multiprocessing import Pool"
   ]
  },
  {
   "cell_type": "code",
   "execution_count": 338,
   "metadata": {},
   "outputs": [
    {
     "name": "stderr",
     "output_type": "stream",
     "text": [
      "[nltk_data] Downloading package stopwords to /home/ubuntu/nltk_data...\n",
      "[nltk_data]   Package stopwords is already up-to-date!\n",
      "[nltk_data] Downloading package punkt to /home/ubuntu/nltk_data...\n",
      "[nltk_data]   Package punkt is already up-to-date!\n",
      "[nltk_data] Downloading package wordnet to /home/ubuntu/nltk_data...\n",
      "[nltk_data]   Package wordnet is already up-to-date!\n"
     ]
    },
    {
     "data": {
      "text/plain": [
       "True"
      ]
     },
     "execution_count": 338,
     "metadata": {},
     "output_type": "execute_result"
    }
   ],
   "source": [
    "nltk.download('stopwords')\n",
    "nltk.download('punkt')\n",
    "nltk.download('wordnet')"
   ]
  },
  {
   "cell_type": "code",
   "execution_count": 339,
   "metadata": {},
   "outputs": [],
   "source": [
    "porter = PorterStemmer()\n",
    "wordnet = WordNetLemmatizer()"
   ]
  },
  {
   "cell_type": "code",
   "execution_count": 340,
   "metadata": {},
   "outputs": [],
   "source": [
    "client = MongoClient('localhost', 27017)\n",
    "db = client['cap2']"
   ]
  },
  {
   "cell_type": "code",
   "execution_count": 341,
   "metadata": {},
   "outputs": [],
   "source": [
    "# get all comments into a list called 'docs', then make dataframe\n",
    "query = {}\n",
    "fields = { '_id': 0 }\n",
    "# docs is about 1.3 GB in RAM\n",
    "docs = list(db['comment'].find( query, fields ))"
   ]
  },
  {
   "cell_type": "code",
   "execution_count": 342,
   "metadata": {},
   "outputs": [],
   "source": [
    "comms = pd.DataFrame(docs)"
   ]
  },
  {
   "cell_type": "code",
   "execution_count": null,
   "metadata": {},
   "outputs": [],
   "source": [
    "# TODO add submission ids to the set of ids from trolls, probably append 't1_' to comments\n",
    "# for ease of use"
   ]
  },
  {
   "cell_type": "markdown",
   "metadata": {},
   "source": [
    "## assign labels, 'troll?', and 'child_of_troll?', and 'parent_of_troll?'"
   ]
  },
  {
   "cell_type": "code",
   "execution_count": 343,
   "metadata": {},
   "outputs": [
    {
     "data": {
      "text/plain": [
       "6704"
      ]
     },
     "execution_count": 343,
     "metadata": {},
     "output_type": "execute_result"
    }
   ],
   "source": [
    "# assign the label, 'troll?'' to each comment\n",
    "troll_comment_ids_set = set(comms[~comms['author'].isna()]['id'])\n",
    "comms['troll?'] = [int(mybool) for mybool in [\n",
    "                    commid in troll_comment_ids_set for commid in comms['id']\n",
    "                    ]]\n",
    "np.sum(comms['troll?'])"
   ]
  },
  {
   "cell_type": "code",
   "execution_count": 344,
   "metadata": {},
   "outputs": [
    {
     "data": {
      "text/plain": [
       "2985"
      ]
     },
     "execution_count": 344,
     "metadata": {},
     "output_type": "execute_result"
    }
   ],
   "source": [
    "# is this comment in reply to a troll?\n",
    "# TODO: expand the notion of a reply to troll by including top-level comments directly responding to posts by trolls\n",
    "comms['child_of_troll?'] = [int(mybool) for mybool in [\n",
    "                    pid.split('_')[1] in troll_comment_ids_set for pid in comms['parent_id']\n",
    "                    ]]\n",
    "np.sum(comms['child_of_troll?'])"
   ]
  },
  {
   "cell_type": "code",
   "execution_count": 345,
   "metadata": {},
   "outputs": [
    {
     "data": {
      "text/plain": [
       "1824"
      ]
     },
     "execution_count": 345,
     "metadata": {},
     "output_type": "execute_result"
    }
   ],
   "source": [
    "# did a troll reply to this?\n",
    "troll_parent_ids_set = set(\n",
    "                            [p.split('_')[1] for p in comms[~comms['author'].isna()]['parent_id']]\n",
    "                        )\n",
    "comms['parent_of_troll?'] = [int(myid in troll_parent_ids_set) for myid in comms['id']]\n",
    "\n",
    "np.sum(comms['parent_of_troll?'])"
   ]
  },
  {
   "cell_type": "markdown",
   "metadata": {},
   "source": [
    "## engineer feature: norm_depth\n",
    "#### currently there are 1430 comments with neither a 'nest_level' nor a 'depth'"
   ]
  },
  {
   "cell_type": "code",
   "execution_count": 346,
   "metadata": {},
   "outputs": [],
   "source": [
    "# actually, even easier, use fillna(0) later\n",
    "comms['norm_depth'] = np.where(~comms['depth'].isna(), comms['depth'], comms['nest_level']-1)"
   ]
  },
  {
   "cell_type": "code",
   "execution_count": null,
   "metadata": {},
   "outputs": [],
   "source": []
  },
  {
   "cell_type": "code",
   "execution_count": null,
   "metadata": {},
   "outputs": [],
   "source": [
    "parent_ids = np.unique(comms[~comms['author'].isna()]['parent_id'])\n",
    "len(parent_ids)"
   ]
  },
  {
   "cell_type": "code",
   "execution_count": null,
   "metadata": {},
   "outputs": [],
   "source": [
    "t1_parent_ids=[]\n",
    "for p in parent_ids:\n",
    "    if p[:2]=='t1':\n",
    "        t1_parent_ids.append(p.split('_')[1])\n",
    "set_parent_ids = set(t1_parent_ids)\n",
    "set_parent_of_troll = set(comms[comms['parent_of_troll?']==1]['id'])\n",
    "# how does a differ from \n",
    "len(set_parent_ids), len(set_parent_of_troll)"
   ]
  },
  {
   "cell_type": "code",
   "execution_count": 142,
   "metadata": {},
   "outputs": [],
   "source": [
    "def printall(pd_obj):\n",
    "    '''\n",
    "    print every row and column in a pandas object\n",
    "    '''\n",
    "    with pd.option_context('display.max_rows', None, 'display.max_columns', None):\n",
    "        print(pd_obj)"
   ]
  },
  {
   "cell_type": "code",
   "execution_count": 347,
   "metadata": {},
   "outputs": [
    {
     "name": "stdout",
     "output_type": "stream",
     "text": [
      "submission    :  14523\n",
      "author        : 141998\n",
      "first_and_last:    964\n",
      "comment       : 234008\n"
     ]
    }
   ],
   "source": [
    "for coll in db.list_collection_names():\n",
    "    print(f'{coll:14}: {db[coll].count_documents({}):6}')"
   ]
  },
  {
   "cell_type": "markdown",
   "metadata": {},
   "source": [
    "## NLP"
   ]
  },
  {
   "cell_type": "code",
   "execution_count": 348,
   "metadata": {},
   "outputs": [],
   "source": [
    "orig_stopwords_ = set(\"a,able,about,across,after,all,almost,also,am,among,an,and,any,\\\n",
    "are,as,at,be,because,been,but,by,can,could,dear,did,do,does,either,\\\n",
    "else,ever,every,for,from,get,got,had,has,have,he,her,hers,him,his,\\\n",
    "how,however,i,if,in,into,is,it,its,just,least,let,like,likely,may,\\\n",
    "me,might,most,must,my,neither,no,of,off,often,on,only,or,other,our,\\\n",
    "own,rather,said,say,says,she,should,since,so,some,than,that,the,their,\\\n",
    "them,then,there,these,they,this,tis,to,too,twas,us,wants,was,we,were,\\\n",
    "what,when,where,which,while,who,whom,why,will,with,would,yet,you,your,u,s\".split(','))\n",
    "\n",
    "# new stopwords after first run through\n",
    "# sws_to_add_brf1 = 'thanks,op,tie,deleted,game,crypto,invest,\\\n",
    "# edit,platform,play,giveaway,ok,yeah,blockchain,enter,remove,\\\n",
    "# m,token,awesome,ethereum,exchange,steam,dude'.split(',')\n",
    "\n",
    "# stopwords_ = set(list(orig_stopwords_) + sws_to_add_brf1)\n",
    "stopwords_ = orig_stopwords_\n",
    "\n",
    "punctuation_ = set(string.punctuation + '’' + '“')\n",
    "\n",
    "def rm_punctuation(a_string):\n",
    "    table = str.maketrans('', '', ''.join(punctuation_))\n",
    "    return a_string.translate(table)\n",
    "        \n",
    "def tokens_lower(tokens):\n",
    "    return [word.lower() for word in tokens]\n",
    "\n",
    "def filter_tokens(tokens):\n",
    "#     for w in sent: print(w)\n",
    "#     if w == \"’\": print(\"this is ': \" + w)\n",
    "    return [w for w in tokens if not w in stopwords_]\n",
    "\n",
    "def stem_tokens(ntlk_stem_obj, tokens):\n",
    "    # visualize what stemming and lemmitization does!\n",
    "    # str(porter.__class__) = \"<class 'nltk.stem.porter.PorterStemmer'>\"\n",
    "#     name = str(ntlk_stem_lemm_obj.__class__).split(\"'\")[1].split('.')[-1]\n",
    "#     count_ident = 0\n",
    "#     count_alter = 0\n",
    "    return [ntlk_stem_obj.stem(tok) for tok in tokens]\n",
    "#     elif ''\n",
    "# for tok in tokens:\n",
    "#         return ntlk_stem_lemm_obj.stem(tok)\n",
    "#         if tok == stem_lemm_f_l_tok:\n",
    "#             count_ident += 1\n",
    "#         else:\n",
    "#             print(tok, stem_lemm_f_l_tok)\n",
    "#             count_alter += 1\n",
    "#     print('{}:\\nNumber of unchanged words: {}\\nchanged words: {}\\n'.format(name, count_ident, count_alter))\n",
    "\n",
    "def lemm_tokens(ntlk_lemm_obj, tokens):\n",
    "    return [ntlk_lemm_obj.lemmatize(tok) for tok in tokens]"
   ]
  },
  {
   "cell_type": "code",
   "execution_count": 349,
   "metadata": {},
   "outputs": [],
   "source": [
    "def nlp_pre_proc_doc(input_string, stemming=False):\n",
    "    '''\n",
    "    given document:\n",
    "        tokenizes the document\n",
    "        sets tokens to lower case\n",
    "        filters punctuation and stop words from tokens\n",
    "        returns porter, snowball, and wordnet stem/lemm tokens\n",
    "    '''\n",
    "    no_punct_string = rm_punctuation(input_string)\n",
    "    tokens = word_tokenize(no_punct_string)\n",
    "    lo_tokens = tokens_lower(tokens)\n",
    "    f_lo_tokens = filter_tokens(lo_tokens)\n",
    "    if stemming:\n",
    "        s_f_lo_tokens = stem_tokens(porter, f_lo_tokens)\n",
    "        le_s_f_lo_tokens = lemm_tokens(wordnet, s_f_lo_tokens)\n",
    "        return ' '.join(le_s_f_lo_tokens)\n",
    "    else:\n",
    "        le_f_lo_tokens = lemm_tokens(wordnet, f_lo_tokens)\n",
    "        return ' '.join(le_f_lo_tokens)"
   ]
  },
  {
   "cell_type": "code",
   "execution_count": 350,
   "metadata": {},
   "outputs": [],
   "source": []
  },
  {
   "cell_type": "code",
   "execution_count": 13,
   "metadata": {},
   "outputs": [],
   "source": [
    "# this takes a few minutes, and uses about 100 MB of RAM\n",
    "# corpus = [nlp_pre_proc_doc(d) for d in comms['body']]\n",
    "\n",
    "# or use multiprocessing\n",
    "agents = 30 # number of cores\n",
    "chunksize = 3500\n",
    "p = Pool(agents)\n",
    "corpus = p.map(nlp_pre_proc_doc, comms['body'], chunksize=chunksize)\n",
    "p.close()\n",
    "p.join()\n",
    "\n",
    "# try multiprocessing!\n",
    "# agents = 30 # number of cores\n",
    "# chunksize = 3500\n",
    "# p = Pool(agents)\n",
    "# corpus = p.map(nlp_pre_proc_doc, comms['body'], chunksize=chunksize)\n",
    "# p.close()\n",
    "# p.join()"
   ]
  },
  {
   "cell_type": "markdown",
   "metadata": {},
   "source": [
    "## Train classifier(s)"
   ]
  },
  {
   "cell_type": "code",
   "execution_count": 351,
   "metadata": {},
   "outputs": [],
   "source": [
    "# keep a dictionary of trained classifiers for comparison\n",
    "clfs = {}"
   ]
  },
  {
   "cell_type": "markdown",
   "metadata": {},
   "source": [
    "### train test split -- target is `child_of_troll?`"
   ]
  },
  {
   "cell_type": "code",
   "execution_count": 391,
   "metadata": {},
   "outputs": [],
   "source": [
    "# going out of order, ugh\n",
    "# X_train_corp, X_test_corp, y_train, y_test = train_test_split(\n",
    "_, _, y_train, y_test = train_test_split(\n",
    "        corpus, comms['child_of_troll?'], test_size=0.2, random_state=30, shuffle=True)"
   ]
  },
  {
   "cell_type": "code",
   "execution_count": 353,
   "metadata": {},
   "outputs": [],
   "source": [
    "n_features = 5000\n",
    "\n",
    "tfidf_vectorizer = TfidfVectorizer(max_df=0.95, min_df=2,\n",
    "                                   max_features=n_features,\n",
    "                                   stop_words='english')"
   ]
  },
  {
   "cell_type": "code",
   "execution_count": 354,
   "metadata": {},
   "outputs": [
    {
     "name": "stdout",
     "output_type": "stream",
     "text": [
      "done in 2.994s.\n"
     ]
    }
   ],
   "source": [
    "t0 = time.time()\n",
    "X_train_tfidf = tfidf_vectorizer.fit_transform(X_train_corp)\n",
    "print(\"done in %0.3fs.\" % (time.time() - t0))"
   ]
  },
  {
   "cell_type": "code",
   "execution_count": 355,
   "metadata": {},
   "outputs": [],
   "source": [
    "X_test_tfidf = tfidf_vectorizer.transform(X_test_corp)"
   ]
  },
  {
   "cell_type": "code",
   "execution_count": 356,
   "metadata": {},
   "outputs": [],
   "source": [
    "X_train = X_train_tfidf.toarray()\n",
    "X_test = X_test_tfidf.toarray()"
   ]
  },
  {
   "cell_type": "code",
   "execution_count": 372,
   "metadata": {},
   "outputs": [],
   "source": [
    "# add extra features to the tfidf matrix\n",
    "# TODO make this a function\n",
    "# comms_meta = ['controversiality', 'score', 'norm_depth'] # controversiality hurts the model b/c null enriched in troll\n",
    "comms_meta = ['score', 'norm_depth']\n",
    "# comms_meta = []\n",
    "Xcsd_train = np.hstack([X_train, comms[comms_meta].fillna(0).values[y_train.index]])\n",
    "Xcsd_test = np.hstack([X_test, comms[comms_meta].fillna(0).values[y_test.index]])\n"
   ]
  },
  {
   "cell_type": "code",
   "execution_count": 373,
   "metadata": {},
   "outputs": [],
   "source": [
    "# fit the model\n",
    "# at first I did 100 estimators, but 100*25 is only 2500 \n",
    "#  whereas we have 5000 features in tfidf. Increase to 400\n",
    "model_param = {'n_estimators': 400,\n",
    "                   'max_depth': 5,\n",
    "                   'max_features': 25,\n",
    "                   'oob_score': True,\n",
    "                   'n_jobs': -1,\n",
    "                   'random_state': 30}"
   ]
  },
  {
   "cell_type": "code",
   "execution_count": 392,
   "metadata": {},
   "outputs": [
    {
     "name": "stderr",
     "output_type": "stream",
     "text": [
      "/home/ubuntu/miniconda3/envs/ipy/lib/python3.8/site-packages/imblearn/ensemble/_forest.py:591: UserWarning: Some inputs do not have OOB scores. This probably means too few trees were used to compute any reliable oob estimates.\n",
      "  warn(\"Some inputs do not have OOB scores. \"\n"
     ]
    },
    {
     "data": {
      "text/plain": [
       "BalancedRandomForestClassifier(bootstrap=True, ccp_alpha=0.0,\n",
       "                               class_weight='balanced_subsample',\n",
       "                               criterion='gini', max_depth=5, max_features=25,\n",
       "                               max_leaf_nodes=None, max_samples=None,\n",
       "                               min_impurity_decrease=0.0, min_samples_leaf=2,\n",
       "                               min_samples_split=2,\n",
       "                               min_weight_fraction_leaf=0.0, n_estimators=400,\n",
       "                               n_jobs=-1, oob_score=True, random_state=30,\n",
       "                               replacement=False, sampling_strategy='auto',\n",
       "                               verbose=0, warm_start=False)"
      ]
     },
     "execution_count": 392,
     "metadata": {},
     "output_type": "execute_result"
    }
   ],
   "source": [
    "brf = BalancedRandomForestClassifier(**model_param, class_weight='balanced_subsample')\n",
    "brf.fit(Xcsd_train, y_train)"
   ]
  },
  {
   "cell_type": "markdown",
   "metadata": {},
   "source": [
    "## model inspection"
   ]
  },
  {
   "cell_type": "code",
   "execution_count": 365,
   "metadata": {},
   "outputs": [],
   "source": [
    "def accuracy(y_true, y_predict):\n",
    "    (TP, FP), (FN, TN) = standard_confusion_matrix(y_true, y_predict)\n",
    "    num_correct = TP + TN\n",
    "    num_incorrect = FP + FN\n",
    "    return num_correct / (num_correct + num_incorrect)\n",
    "\n",
    "def standard_confusion_matrix(y_true, y_predict):\n",
    "    \"\"\"\n",
    "    y_true = [1, 1, 1, 1, 1, 0, 0]\n",
    "\n",
    "    y_predict = [1, 1, 1, 1, 0, 0, 0]\n",
    "\n",
    "    In [1]: standard_confusion_matrix(y_true, y_predict)\n",
    "    >> array([[4., 1.],\n",
    "    >>       [0., 2.]])\n",
    "    \"\"\"\n",
    "    cm = np.zeros((2,2))\n",
    "    X = np.array([y_true, y_predict])\n",
    "    values, counts = np.unique(X, axis=1, return_counts=True)\n",
    "    for i, v in enumerate(values.T):\n",
    "        cm[tuple([1, 1] - v)] = counts[i]\n",
    "    return cm.T.astype(int)\n",
    "\n",
    "# from the lecture\n",
    "# Just handy function to make our confusion matrix pretty \n",
    "def plot_confusion_matrix(cm, # confusion matrix\n",
    "                          classes_x, # test to describe what the output of the classes may be (commonly 1 or 0)\n",
    "                          classes_y,\n",
    "                          normalize=False, \n",
    "                          title='Confusion matrix',\n",
    "                          cmap=plt.cm.Blues):\n",
    "    \n",
    "    if normalize:\n",
    "        cm = cm.astype('float') / cm.sum(axis=1)[:, np.newaxis]\n",
    "    plt.imshow(cm, interpolation='nearest', cmap=cmap)\n",
    "    plt.title(title)\n",
    "    plt.colorbar()\n",
    "    tick_marks = np.arange(len(classes_x))\n",
    "    plt.xticks(tick_marks, classes_x, rotation=45)\n",
    "    plt.yticks(tick_marks, classes_y)\n",
    "\n",
    "    fmt = '.2f' if normalize else 'd'\n",
    "    thresh = cm.max() / 2.\n",
    "    for i, j in itertools.product(range(cm.shape[0]), range(cm.shape[1])):\n",
    "        plt.text(j, i,  format(cm[i, j], fmt),\n",
    "                 horizontalalignment=\"center\",\n",
    "                 color=\"white\" if cm[i, j] > thresh else \"black\")\n",
    "\n",
    "    plt.tight_layout()\n",
    "    plt.ylabel('Predicted label')\n",
    "    plt.xlabel('True label')"
   ]
  },
  {
   "cell_type": "code",
   "execution_count": 366,
   "metadata": {},
   "outputs": [],
   "source": [
    "def plot_roc_nofit(ax, X_test, y_test, clf, clf_name, **kwargs):\n",
    "    y_prob = np.zeros((len(y_test),2))\n",
    "    mean_tpr = 0.0\n",
    "    mean_fpr = np.linspace(0, 1, 100)\n",
    "    all_tpr = []\n",
    "    # Predict probabilities, not classes\n",
    "    y_prob = clf.predict_proba(X_test)\n",
    "    fpr, tpr, thresholds = roc_curve(y_test, y_prob[:, 1])\n",
    "    mean_tpr += interp(mean_fpr, fpr, tpr)\n",
    "    mean_tpr[0] = 0.0\n",
    "    roc_auc = auc(fpr, tpr)\n",
    "    if len(ax.lines) == 0:\n",
    "        plt.plot([0, 1], [0, 1], '--', color=(0.6, 0.6, 0.6), label='Random')\n",
    "    ax.plot(fpr, tpr, lw=1, label='%s (area = %0.2f)' % (clf_name, roc_auc))\n",
    "    mean_tpr /= 1\n",
    "    mean_tpr[-1] = 1.0\n",
    "    mean_auc = auc(mean_fpr, mean_tpr)\n",
    "#     plt.plot(mean_fpr, mean_tpr, 'k--',label='Mean ROC (area = %0.2f)' % mean_auc, lw=2)\n",
    "    plt.xlim([-0.05, 1.05])\n",
    "    plt.ylim([-0.05, 1.05])\n",
    "    plt.xlabel('False Positive Rate')\n",
    "    plt.ylabel('True Positive Rate')\n",
    "    plt.title('Receiver operating characteristic')\n",
    "    plt.legend(loc=\"lower right\", )"
   ]
  },
  {
   "cell_type": "code",
   "execution_count": 27,
   "metadata": {},
   "outputs": [],
   "source": [
    "# include the model for comparisons\n",
    "clfs['cot_brf'] = brf"
   ]
  },
  {
   "cell_type": "code",
   "execution_count": 375,
   "metadata": {},
   "outputs": [
    {
     "name": "stdout",
     "output_type": "stream",
     "text": [
      "\n",
      " R^2 score: 0.8300713644716038\n",
      "\n",
      " Out of bag score: 0.6187614926987561\n"
     ]
    },
    {
     "data": {
      "text/plain": [
       "8097"
      ]
     },
     "execution_count": 375,
     "metadata": {},
     "output_type": "execute_result"
    }
   ],
   "source": [
    "# measure accuracy\n",
    "print(\"\\n R^2 score:\", brf.score(Xcsd_test, y_test))\n",
    "print(f'\\n Out of bag score: {brf.oob_score_}')\n",
    "y_predict = brf.predict(Xcsd_test)\n",
    "np.sum(y_predict)"
   ]
  },
  {
   "cell_type": "code",
   "execution_count": 376,
   "metadata": {
    "scrolled": true
   },
   "outputs": [
    {
     "name": "stdout",
     "output_type": "stream",
     "text": [
      "\n",
      " accuracy: 0.8300713644716038\n",
      "\n",
      " precision: 0.09015684821538841\n",
      "    recall: 0.5547112462006079\n"
     ]
    }
   ],
   "source": [
    "(TP, FP), (FN, TN) = standard_confusion_matrix(y_test, y_predict)\n",
    "accuracy = (TP + TN) / (TP + FP + FN + TN)\n",
    "print(\"\\n accuracy:\", accuracy)\n",
    "print(\"\\n precision:\", precision_score(y_test, y_predict))\n",
    "print(\"    recall:\", recall_score(y_test, y_predict))"
   ]
  },
  {
   "cell_type": "code",
   "execution_count": 30,
   "metadata": {},
   "outputs": [
    {
     "name": "stderr",
     "output_type": "stream",
     "text": [
      "<ipython-input-26-4bcd29495c04>:9: DeprecationWarning: scipy.interp is deprecated and will be removed in SciPy 2.0.0, use numpy.interp instead\n",
      "  mean_tpr += interp(mean_fpr, fpr, tpr)\n"
     ]
    },
    {
     "data": {
      "image/png": "[encoded data removed]",
      "text/plain": [
       "<Figure size 432x360 with 1 Axes>"
      ]
     },
     "metadata": {},
     "output_type": "display_data"
    }
   ],
   "source": [
    "fig, ax = plt.subplots(1, figsize=(6, 5))\n",
    "plot_roc_nofit(ax, Xcsd_test, y_test, clfs['cot_brf'], 'child_of_troll_brf')"
   ]
  },
  {
   "cell_type": "markdown",
   "metadata": {},
   "source": [
    "### pickle this model"
   ]
  },
  {
   "cell_type": "code",
   "execution_count": null,
   "metadata": {},
   "outputs": [],
   "source": [
    "filename = 'data/saved_models/child_of_troll_brf.pkl'\n",
    "with open(filename, 'wb') as fp:\n",
    "    pickle.dump(clfs['cot_brf'], fp)"
   ]
  },
  {
   "cell_type": "markdown",
   "metadata": {},
   "source": [
    "### test de-pickle"
   ]
  },
  {
   "cell_type": "code",
   "execution_count": null,
   "metadata": {},
   "outputs": [],
   "source": [
    "with open('data/saved_models/child_of_troll_brf.pkl', 'rb') as fp:\n",
    "    new_brf = pickle.load(fp)"
   ]
  },
  {
   "cell_type": "code",
   "execution_count": null,
   "metadata": {},
   "outputs": [],
   "source": [
    "fig, ax = plt.subplots(1, figsize=(6, 5))\n",
    "plot_roc_nofit(ax, Xcsd_test, y_test, new_brf, 'child_of_troll_brf')"
   ]
  },
  {
   "cell_type": "markdown",
   "metadata": {},
   "source": [
    "## now train model for `troll?`\n",
    "first, without using any info from child_of_troll classification"
   ]
  },
  {
   "cell_type": "code",
   "execution_count": 409,
   "metadata": {},
   "outputs": [],
   "source": [
    "# X doesn't change, but y does\n",
    "\n",
    "_, _, y_train, y_test = train_test_split(\n",
    "        corpus, comms['troll?'], test_size=0.2, random_state=30, shuffle=True)"
   ]
  },
  {
   "cell_type": "code",
   "execution_count": 361,
   "metadata": {},
   "outputs": [
    {
     "name": "stderr",
     "output_type": "stream",
     "text": [
      "/home/ubuntu/miniconda3/envs/ipy/lib/python3.8/site-packages/imblearn/ensemble/_forest.py:591: UserWarning: Some inputs do not have OOB scores. This probably means too few trees were used to compute any reliable oob estimates.\n",
      "  warn(\"Some inputs do not have OOB scores. \"\n"
     ]
    },
    {
     "data": {
      "text/plain": [
       "BalancedRandomForestClassifier(bootstrap=True, ccp_alpha=0.0,\n",
       "                               class_weight='balanced_subsample',\n",
       "                               criterion='gini', max_depth=5, max_features=25,\n",
       "                               max_leaf_nodes=None, max_samples=None,\n",
       "                               min_impurity_decrease=0.0, min_samples_leaf=2,\n",
       "                               min_samples_split=2,\n",
       "                               min_weight_fraction_leaf=0.0, n_estimators=400,\n",
       "                               n_jobs=-1, oob_score=True, random_state=30,\n",
       "                               replacement=False, sampling_strategy='auto',\n",
       "                               verbose=0, warm_start=False)"
      ]
     },
     "execution_count": 361,
     "metadata": {},
     "output_type": "execute_result"
    }
   ],
   "source": [
    "brf = BalancedRandomForestClassifier(**model_param, class_weight='balanced_subsample')\n",
    "brf.fit(Xcsd_train, y_train)"
   ]
  },
  {
   "cell_type": "code",
   "execution_count": 362,
   "metadata": {},
   "outputs": [
    {
     "name": "stdout",
     "output_type": "stream",
     "text": [
      "\n",
      " R^2 score: 0.7221699927353532\n",
      "\n",
      " Out of bag score: 0.6381449432125473\n"
     ]
    },
    {
     "data": {
      "text/plain": [
       "13131"
      ]
     },
     "execution_count": 362,
     "metadata": {},
     "output_type": "execute_result"
    }
   ],
   "source": [
    "# measure accuracy\n",
    "print(\"\\n R^2 score:\", brf.score(Xcsd_test, y_test))\n",
    "print(f'\\n Out of bag score: {brf.oob_score_}')\n",
    "y_predict = brf.predict(Xcsd_test)\n",
    "np.sum(y_predict)"
   ]
  },
  {
   "cell_type": "code",
   "execution_count": 363,
   "metadata": {},
   "outputs": [
    {
     "name": "stdout",
     "output_type": "stream",
     "text": [
      "\n",
      " precision: 0.05498438808925444\n",
      "    recall: 0.5486322188449848\n"
     ]
    },
    {
     "data": {
      "text/plain": [
       "array([[  722, 12409],\n",
       "       [  594, 33077]])"
      ]
     },
     "execution_count": 363,
     "metadata": {},
     "output_type": "execute_result"
    }
   ],
   "source": [
    "print(\"\\n precision:\", precision_score(y_test, y_predict))\n",
    "print(\"    recall:\", recall_score(y_test, y_predict))\n",
    "standard_confusion_matrix(y_test, y_predict)"
   ]
  },
  {
   "cell_type": "code",
   "execution_count": 425,
   "metadata": {
    "scrolled": false
   },
   "outputs": [
    {
     "name": "stderr",
     "output_type": "stream",
     "text": [
      "<ipython-input-366-4bcd29495c04>:9: DeprecationWarning: scipy.interp is deprecated and will be removed in SciPy 2.0.0, use numpy.interp instead\n",
      "  mean_tpr += interp(mean_fpr, fpr, tpr)\n"
     ]
    },
    {
     "data": {
      "image/png": "[encoded data removed]",
      "text/plain": [
       "<Figure size 576x576 with 1 Axes>"
      ]
     },
     "metadata": {},
     "output_type": "display_data"
    }
   ],
   "source": [
    "# clfs['NLP only'] = brf\n",
    "# clfs['NLP + meta'] = brf\n",
    "clfs['NLP+meta+RTT'] = brf\n",
    "# X_test = Xcsd_test\n",
    "# X_test2 = Xcsd_test\n",
    "X_test3 = Xcsdt_test\n",
    "# using the depth added about 5% to auc\n",
    "fig, ax = plt.subplots(1, figsize=(8, 8))\n",
    "plot_roc_nofit(ax, X_test, y_test, clfs['NLP only'], 'NLP only')\n",
    "#plot_roc_nofit(ax, X_test2, y_test, clfs['NLP + meta'], 'NLP+meta')\n",
    "#plot_roc_nofit(ax, X_test3, y_test, clfs['NLP+meta+RTT'], 'NLP+meta+RTT')\n",
    "plt.savefig('img/roc_one_model.png')"
   ]
  },
  {
   "cell_type": "markdown",
   "metadata": {},
   "source": [
    "### pickle this model"
   ]
  },
  {
   "cell_type": "code",
   "execution_count": null,
   "metadata": {},
   "outputs": [],
   "source": [
    "filename = 'troll_brf.pkl'\n",
    "with open(filename, 'wb') as fp:\n",
    "    pickle.dump(brf, fp)"
   ]
  },
  {
   "cell_type": "markdown",
   "metadata": {},
   "source": [
    "### what about engineering the user age at time of comment. That could be interesting"
   ]
  },
  {
   "cell_type": "code",
   "execution_count": null,
   "metadata": {},
   "outputs": [],
   "source": [
    "'created_utc' in comms.columns, 'author_created_utc' in comms.columns, 'user_age' in comms.columns"
   ]
  },
  {
   "cell_type": "code",
   "execution_count": 13,
   "metadata": {},
   "outputs": [],
   "source": [
    "comms['user_age'] = comms['created_utc'] - comms['author_created_utc']"
   ]
  },
  {
   "cell_type": "code",
   "execution_count": null,
   "metadata": {},
   "outputs": [],
   "source": [
    "# just to be certain, I re-split/tfidf/values and y_train, using the same random state to reset the training and test data\n",
    "# e.g.\n",
    "#     X_train_corp, X_test_corp, y_train, y_test = train_test_split(\n",
    "#             corpus, comms['troll?'], test_size=0.2, random_state=30, shuffle=True)\n",
    "\n",
    "#     n_features = 5000\n",
    "\n",
    "#     tfidf_vectorizer = TfidfVectorizer(max_df=0.95, min_df=2,\n",
    "#                                        max_features=n_features,\n",
    "#                                        stop_words='english')\n",
    "\n",
    "#     t0 = time.time()\n",
    "#     X_train_tfidf = tfidf_vectorizer.fit_transform(X_train_corp)\n",
    "#     print(\"done in %0.3fs.\" % (time.time() - t0))\n",
    "\n",
    "#     X_test_tfidf = tfidf_vectorizer.transform(X_test_corp)\n",
    "\n",
    "#     X_train = X_train_tfidf.toarray()\n",
    "#     X_test = X_test_tfidf.toarray()\n",
    "# update the feature matrix\n",
    "cols_to_add = ['controversiality', 'score', 'norm_depth', 'user_age']\n",
    "Xcsdu_train = np.hstack([X_train, comms[cols_to_add].fillna(0).values[y_train.index]])\n",
    "Xcsdu_test = np.hstack([X_test, comms[cols_to_add].fillna(0).values[y_test.index]])"
   ]
  },
  {
   "cell_type": "code",
   "execution_count": null,
   "metadata": {},
   "outputs": [],
   "source": [
    "brf = BalancedRandomForestClassifier(**model_param, class_weight='balanced_subsample')\n",
    "brf.fit(Xcsdu_train, y_train)"
   ]
  },
  {
   "cell_type": "code",
   "execution_count": null,
   "metadata": {},
   "outputs": [],
   "source": [
    "# measure accuracy\n",
    "print(\"\\n R^2 score:\", brf.score(Xcsdu_test, y_test))\n",
    "print(f'\\n Out of bag score: {brf.oob_score_}')\n",
    "y_predict = brf.predict(Xcsdu_test)\n",
    "np.sum(y_predict)"
   ]
  },
  {
   "cell_type": "code",
   "execution_count": null,
   "metadata": {},
   "outputs": [],
   "source": [
    "print(\"\\n precision:\", precision_score(y_test, y_predict))\n",
    "print(\"    recall:\", recall_score(y_test, y_predict))"
   ]
  },
  {
   "cell_type": "code",
   "execution_count": null,
   "metadata": {
    "scrolled": true
   },
   "outputs": [],
   "source": [
    "fig, ax = plt.subplots(1, figsize=(6, 5))\n",
    "plot_roc_nofit(ax, Xcsdu_test, y_test, brf, 'troll_brf')"
   ]
  },
  {
   "cell_type": "markdown",
   "metadata": {},
   "source": [
    "### Yay! awww, that's leakage...but it gives me future directions for the project."
   ]
  },
  {
   "cell_type": "markdown",
   "metadata": {},
   "source": [
    "### next engineer the `child_suggests_troll?` and `num_replies` features\n",
    "First, just make this `1` if any of its replies have `child_of_troll? == 1`"
   ]
  },
  {
   "cell_type": "code",
   "execution_count": null,
   "metadata": {
    "scrolled": true
   },
   "outputs": [],
   "source": [
    "# confirmed that every comment has a value for parent_id\n",
    "comms.info()"
   ]
  },
  {
   "cell_type": "code",
   "execution_count": 380,
   "metadata": {},
   "outputs": [],
   "source": [
    "count_grouped_parent_id_comms = comms.groupby('parent_id')['body'].count()"
   ]
  },
  {
   "cell_type": "code",
   "execution_count": 381,
   "metadata": {},
   "outputs": [],
   "source": [
    "parent_reply_counts = dict(zip(count_grouped_parent_id_comms.index, count_grouped_parent_id_comms.tolist()))"
   ]
  },
  {
   "cell_type": "code",
   "execution_count": 382,
   "metadata": {},
   "outputs": [],
   "source": [
    "# numpy array with top_level code (t1 or t3), parent_id, and count\n",
    "np_parent_reply_counts = np.array([k.split('_') + [v] for k, v in parent_reply_counts.items()])"
   ]
  },
  {
   "cell_type": "code",
   "execution_count": 383,
   "metadata": {},
   "outputs": [],
   "source": [
    "# one-hot encode 'top_level?''\n",
    "top_level = np.where(np_parent_reply_counts[:,0]=='t3', np.ones(len(np_parent_reply_counts)), np.zeros(len(np_parent_reply_counts)))"
   ]
  },
  {
   "cell_type": "code",
   "execution_count": 384,
   "metadata": {},
   "outputs": [],
   "source": [
    "# TODO: make the following few cells a pre-processing function\n",
    "# now treat the entire corpus as new data\n",
    "X_corp = corpus"
   ]
  },
  {
   "cell_type": "code",
   "execution_count": 385,
   "metadata": {},
   "outputs": [
    {
     "name": "stdout",
     "output_type": "stream",
     "text": [
      "done in 3.440s.\n"
     ]
    }
   ],
   "source": [
    "# TODO: encapsulate this into a pre-processing function ...\n",
    "t0 = time.time()\n",
    "X_tfidf = tfidf_vectorizer.transform(X_corp)\n",
    "print(\"done in %0.3fs.\" % (time.time() - t0))"
   ]
  },
  {
   "cell_type": "code",
   "execution_count": 386,
   "metadata": {},
   "outputs": [],
   "source": [
    "# TODO: encapsulate this into a pre-processing function ...\n",
    "X = X_tfidf.toarray()"
   ]
  },
  {
   "cell_type": "code",
   "execution_count": 387,
   "metadata": {},
   "outputs": [],
   "source": [
    "# TODO: encapsulate this into a pre-processing function ...\n",
    "Xcsd = np.hstack([X, comms[comms_meta].fillna(0).values])"
   ]
  },
  {
   "cell_type": "markdown",
   "metadata": {},
   "source": [
    "### make predictions for `child_of_troll?`"
   ]
  },
  {
   "cell_type": "code",
   "execution_count": 388,
   "metadata": {},
   "outputs": [],
   "source": [
    "# get child_of_troll? model predictions for entire dataset\n",
    "with open('data/saved_models/child_of_troll_brf.pkl', 'rb') as fp:\n",
    "    brf = pickle.load(fp)"
   ]
  },
  {
   "cell_type": "code",
   "execution_count": 393,
   "metadata": {},
   "outputs": [],
   "source": [
    "# this makes 18,663 predicted child of troll comments\n",
    "comms['child_of_troll_pred'] = brf.predict(Xcsd)"
   ]
  },
  {
   "cell_type": "code",
   "execution_count": 394,
   "metadata": {},
   "outputs": [],
   "source": [
    "# Count the number of child_of_troll predictions for each parent_id\n",
    "parent_pred_num_child_of_troll = comms.groupby('parent_id')['child_of_troll_pred'].sum()"
   ]
  },
  {
   "cell_type": "code",
   "execution_count": 395,
   "metadata": {},
   "outputs": [],
   "source": [
    "parent_pred_num_child_of_troll_df = pd.DataFrame(parent_pred_num_child_of_troll)"
   ]
  },
  {
   "cell_type": "code",
   "execution_count": 396,
   "metadata": {},
   "outputs": [],
   "source": [
    "parent_id_num_replies_df = pd.DataFrame(zip(parent_reply_counts.keys(), parent_reply_counts.values()), columns=['parent_id', 'num_replies'])"
   ]
  },
  {
   "cell_type": "code",
   "execution_count": 397,
   "metadata": {},
   "outputs": [
    {
     "name": "stdout",
     "output_type": "stream",
     "text": [
      "<class 'pandas.core.frame.DataFrame'>\n",
      "RangeIndex: 8829 entries, 0 to 8828\n",
      "Data columns (total 2 columns):\n",
      " #   Column               Non-Null Count  Dtype \n",
      "---  ------               --------------  ----- \n",
      " 0   parent_id            8829 non-null   object\n",
      " 1   child_of_troll_pred  8829 non-null   int64 \n",
      "dtypes: int64(1), object(1)\n",
      "memory usage: 138.1+ KB\n"
     ]
    }
   ],
   "source": [
    "parent_pred_num_child_of_troll_df.reset_index().info()"
   ]
  },
  {
   "cell_type": "code",
   "execution_count": 398,
   "metadata": {},
   "outputs": [
    {
     "name": "stdout",
     "output_type": "stream",
     "text": [
      "<class 'pandas.core.frame.DataFrame'>\n",
      "RangeIndex: 8829 entries, 0 to 8828\n",
      "Data columns (total 2 columns):\n",
      " #   Column       Non-Null Count  Dtype \n",
      "---  ------       --------------  ----- \n",
      " 0   parent_id    8829 non-null   object\n",
      " 1   num_replies  8829 non-null   int64 \n",
      "dtypes: int64(1), object(1)\n",
      "memory usage: 138.1+ KB\n"
     ]
    }
   ],
   "source": [
    "parent_id_num_replies_df.info()"
   ]
  },
  {
   "cell_type": "code",
   "execution_count": 399,
   "metadata": {},
   "outputs": [],
   "source": [
    "parent_id_num_replies_num_child_of_troll_pred = parent_id_num_replies_df.merge(\n",
    "                    parent_pred_num_child_of_troll_df.reset_index(), on='parent_id')"
   ]
  },
  {
   "cell_type": "code",
   "execution_count": 400,
   "metadata": {},
   "outputs": [
    {
     "data": {
      "text/html": [
       "<div>\n",
       "<style scoped>\n",
       "    .dataframe tbody tr th:only-of-type {\n",
       "        vertical-align: middle;\n",
       "    }\n",
       "\n",
       "    .dataframe tbody tr th {\n",
       "        vertical-align: top;\n",
       "    }\n",
       "\n",
       "    .dataframe thead th {\n",
       "        text-align: right;\n",
       "    }\n",
       "</style>\n",
       "<table border=\"1\" class=\"dataframe\">\n",
       "  <thead>\n",
       "    <tr style=\"text-align: right;\">\n",
       "      <th></th>\n",
       "      <th>parent_id</th>\n",
       "      <th>num_replies</th>\n",
       "      <th>child_of_troll_pred</th>\n",
       "    </tr>\n",
       "  </thead>\n",
       "  <tbody>\n",
       "    <tr>\n",
       "      <th>0</th>\n",
       "      <td>t1_c4dno1t</td>\n",
       "      <td>1</td>\n",
       "      <td>1</td>\n",
       "    </tr>\n",
       "    <tr>\n",
       "      <th>1</th>\n",
       "      <td>t1_c557xcn</td>\n",
       "      <td>1</td>\n",
       "      <td>0</td>\n",
       "    </tr>\n",
       "    <tr>\n",
       "      <th>2</th>\n",
       "      <td>t1_c55cs4v</td>\n",
       "      <td>1</td>\n",
       "      <td>1</td>\n",
       "    </tr>\n",
       "    <tr>\n",
       "      <th>3</th>\n",
       "      <td>t1_c5dwn1i</td>\n",
       "      <td>1</td>\n",
       "      <td>0</td>\n",
       "    </tr>\n",
       "    <tr>\n",
       "      <th>4</th>\n",
       "      <td>t1_c5dwrdv</td>\n",
       "      <td>1</td>\n",
       "      <td>1</td>\n",
       "    </tr>\n",
       "  </tbody>\n",
       "</table>\n",
       "</div>"
      ],
      "text/plain": [
       "    parent_id  num_replies  child_of_troll_pred\n",
       "0  t1_c4dno1t            1                    1\n",
       "1  t1_c557xcn            1                    0\n",
       "2  t1_c55cs4v            1                    1\n",
       "3  t1_c5dwn1i            1                    0\n",
       "4  t1_c5dwrdv            1                    1"
      ]
     },
     "execution_count": 400,
     "metadata": {},
     "output_type": "execute_result"
    }
   ],
   "source": [
    "parent_id_num_replies_num_child_of_troll_pred.head()"
   ]
  },
  {
   "cell_type": "code",
   "execution_count": 401,
   "metadata": {},
   "outputs": [
    {
     "name": "stdout",
     "output_type": "stream",
     "text": [
      "<class 'pandas.core.frame.DataFrame'>\n",
      "RangeIndex: 8829 entries, 0 to 8828\n",
      "Data columns (total 3 columns):\n",
      " #   Column                   Non-Null Count  Dtype \n",
      "---  ------                   --------------  ----- \n",
      " 0   num_replies              8829 non-null   object\n",
      " 1   num_pred_child_of_troll  8829 non-null   object\n",
      " 2   id                       8829 non-null   object\n",
      "dtypes: object(3)\n",
      "memory usage: 207.1+ KB\n"
     ]
    }
   ],
   "source": [
    "# parse out the short version of the parent id b/c we need to match to comment id, which has no prefix, 't1_'\n",
    "columns = list(parent_id_num_replies_num_child_of_troll_pred.columns) + ['id']\n",
    "comment_id_reply_count_troll_pred = pd.DataFrame(np.hstack(\n",
    "                [\n",
    "                    parent_id_num_replies_num_child_of_troll_pred.values,\n",
    "                    np.array(\n",
    "                        [s[3:] for s in parent_id_num_replies_num_child_of_troll_pred['parent_id']]\n",
    "                    ).reshape(-1, 1)\n",
    "                ]),\n",
    "             columns=['parent_id', 'num_replies', 'num_pred_child_of_troll', 'id']).drop('parent_id', axis=1)\n",
    "comment_id_reply_count_troll_pred.info()"
   ]
  },
  {
   "cell_type": "code",
   "execution_count": null,
   "metadata": {},
   "outputs": [],
   "source": [
    "comment_id_reply_count_troll_pred.head()"
   ]
  },
  {
   "cell_type": "code",
   "execution_count": 402,
   "metadata": {
    "scrolled": true
   },
   "outputs": [],
   "source": [
    "# order these metrics by corpus ids\n",
    "corpus_ordered_num_replies_num_pred_child_of_troll = (comms.merge(\n",
    "    comment_id_reply_count_troll_pred, on='id', how='left', copy=False)\n",
    "    [['num_replies', 'num_pred_child_of_troll']])"
   ]
  },
  {
   "cell_type": "code",
   "execution_count": null,
   "metadata": {},
   "outputs": [],
   "source": [
    "corpus_ordered_num_replies_num_pred_child_of_troll"
   ]
  },
  {
   "cell_type": "code",
   "execution_count": 403,
   "metadata": {},
   "outputs": [],
   "source": [
    "# add these columns to X_train and fit with brf\n",
    "# recall\n",
    "# Xcsd_train = np.hstack([X_train, comms[['controversiality', 'score', 'norm_depth']].fillna(0).values[y_train.index]])\n",
    "# Xcsd_test = np.hstack([X_test, comms[['controversiality', 'score', 'norm_depth']].fillna(0).values[y_test.index]])\n",
    "\n",
    "Xcsdt_train = np.hstack([\n",
    "    Xcsd_train,\n",
    "    corpus_ordered_num_replies_num_pred_child_of_troll.fillna(0).values[y_train.index]\n",
    "])\n",
    "Xcsdt_test = np.hstack([\n",
    "    Xcsd_test,\n",
    "    corpus_ordered_num_replies_num_pred_child_of_troll.fillna(0).values[y_test.index]\n",
    "])"
   ]
  },
  {
   "cell_type": "code",
   "execution_count": 413,
   "metadata": {},
   "outputs": [],
   "source": [
    "# just in case we're still using child_of_troll? labels, update ytrain to troll?\n",
    "# X doesn't change, but y does\n",
    "_, _, y_train, y_test = train_test_split(\n",
    "        corpus, comms['troll?'], test_size=0.2, random_state=30, shuffle=True)"
   ]
  },
  {
   "cell_type": "code",
   "execution_count": 414,
   "metadata": {},
   "outputs": [
    {
     "name": "stderr",
     "output_type": "stream",
     "text": [
      "/home/ubuntu/miniconda3/envs/ipy/lib/python3.8/site-packages/imblearn/ensemble/_forest.py:591: UserWarning: Some inputs do not have OOB scores. This probably means too few trees were used to compute any reliable oob estimates.\n",
      "  warn(\"Some inputs do not have OOB scores. \"\n"
     ]
    },
    {
     "data": {
      "text/plain": [
       "BalancedRandomForestClassifier(bootstrap=True, ccp_alpha=0.0,\n",
       "                               class_weight='balanced_subsample',\n",
       "                               criterion='gini', max_depth=5, max_features=25,\n",
       "                               max_leaf_nodes=None, max_samples=None,\n",
       "                               min_impurity_decrease=0.0, min_samples_leaf=2,\n",
       "                               min_samples_split=2,\n",
       "                               min_weight_fraction_leaf=0.0, n_estimators=400,\n",
       "                               n_jobs=-1, oob_score=True, random_state=30,\n",
       "                               replacement=False, sampling_strategy='auto',\n",
       "                               verbose=0, warm_start=False)"
      ]
     },
     "execution_count": 414,
     "metadata": {},
     "output_type": "execute_result"
    }
   ],
   "source": [
    "brf = BalancedRandomForestClassifier(**model_param, class_weight='balanced_subsample')\n",
    "brf.fit(Xcsdt_train, y_train)"
   ]
  },
  {
   "cell_type": "code",
   "execution_count": 415,
   "metadata": {},
   "outputs": [
    {
     "name": "stdout",
     "output_type": "stream",
     "text": [
      "\n",
      " R^2 score: 0.8990855091662749\n",
      "\n",
      " Out of bag score: 0.6860248783126014\n"
     ]
    },
    {
     "data": {
      "text/plain": [
       "4881"
      ]
     },
     "execution_count": 415,
     "metadata": {},
     "output_type": "execute_result"
    }
   ],
   "source": [
    "# measure accuracy\n",
    "print(\"\\n R^2 score:\", brf.score(Xcsdt_test, y_test))\n",
    "print(f'\\n Out of bag score: {brf.oob_score_}')\n",
    "y_predict = brf.predict(Xcsdt_test)\n",
    "np.sum(y_predict)"
   ]
  },
  {
   "cell_type": "code",
   "execution_count": 416,
   "metadata": {},
   "outputs": [],
   "source": [
    "(tp, fp), (fn, tn) = standard_confusion_matrix(y_test, y_predict)"
   ]
  },
  {
   "cell_type": "code",
   "execution_count": 417,
   "metadata": {},
   "outputs": [
    {
     "data": {
      "text/plain": [
       "(737, 4144, 579, 41342)"
      ]
     },
     "execution_count": 417,
     "metadata": {},
     "output_type": "execute_result"
    }
   ],
   "source": [
    "tp, fp, fn, tn"
   ]
  },
  {
   "cell_type": "code",
   "execution_count": 418,
   "metadata": {},
   "outputs": [],
   "source": [
    "accuracy = (tn + tp) / (tn + tp + fn + fp)"
   ]
  },
  {
   "cell_type": "code",
   "execution_count": 419,
   "metadata": {},
   "outputs": [
    {
     "name": "stdout",
     "output_type": "stream",
     "text": [
      "\n",
      " accuracy: 0.8990855091662749\n",
      "\n",
      " precision: 0.1509936488424503\n",
      "    recall: 0.5600303951367781\n"
     ]
    },
    {
     "data": {
      "text/plain": [
       "array([[  737,  4144],\n",
       "       [  579, 41342]])"
      ]
     },
     "execution_count": 419,
     "metadata": {},
     "output_type": "execute_result"
    }
   ],
   "source": [
    "# precision doubled while recall went down from .767 to 0.6\n",
    "print('\\n accuracy:', accuracy)\n",
    "print(\"\\n precision:\", precision_score(y_test, y_predict))\n",
    "print(\"    recall:\", recall_score(y_test, y_predict))\n",
    "standard_confusion_matrix(y_test, y_predict)"
   ]
  },
  {
   "cell_type": "code",
   "execution_count": 420,
   "metadata": {
    "scrolled": false
   },
   "outputs": [
    {
     "name": "stderr",
     "output_type": "stream",
     "text": [
      "<ipython-input-366-4bcd29495c04>:9: DeprecationWarning: scipy.interp is deprecated and will be removed in SciPy 2.0.0, use numpy.interp instead\n",
      "  mean_tpr += interp(mean_fpr, fpr, tpr)\n"
     ]
    },
    {
     "data": {
      "image/png": "[encoded data removed]",
      "text/plain": [
       "<Figure size 432x360 with 1 Axes>"
      ]
     },
     "metadata": {},
     "output_type": "display_data"
    }
   ],
   "source": [
    "# 0.77 is the number to beat ... 0.83, yay!\n",
    "# state of the art is arguably 0.85 ...\n",
    "# http://web.stanford.edu/class/cs224n/reports/custom/15739845.pdf\n",
    "# and that effort used transfer learning and Bert instead of tfidf\n",
    "fig, ax = plt.subplots(1, figsize=(6, 5))\n",
    "plot_roc_nofit(ax, Xcsdt_test, y_test, brf, 'troll_brf')"
   ]
  },
  {
   "cell_type": "markdown",
   "metadata": {},
   "source": [
    "### pickle this model"
   ]
  },
  {
   "cell_type": "code",
   "execution_count": null,
   "metadata": {},
   "outputs": [],
   "source": [
    "filename = 'data/saved_models/troll_with_replies_brf.pkl'\n",
    "with open(filename, 'wb') as fp:\n",
    "    pickle.dump(brf, fp)"
   ]
  },
  {
   "cell_type": "markdown",
   "metadata": {},
   "source": [
    "#### inspect the models"
   ]
  },
  {
   "cell_type": "code",
   "execution_count": null,
   "metadata": {},
   "outputs": [],
   "source": [
    "n_top_features_tfidf = 10\n",
    "comms_features = (\n",
    "    ['controversiality', 'score', 'norm_depth'] \n",
    "        + \n",
    "    ['num_replies', 'num_pred_child_of_troll']\n",
    ")\n",
    "Xcsdt_features = (tfidf_vectorizer.get_feature_names() + comms_features)"
   ]
  },
  {
   "cell_type": "code",
   "execution_count": null,
   "metadata": {},
   "outputs": [],
   "source": [
    "# permutation importance keeps crashing my aws instance with 128 GB of RAM...can't use all the test data\n",
    "len(Xcsdt_test)"
   ]
  },
  {
   "cell_type": "code",
   "execution_count": null,
   "metadata": {},
   "outputs": [],
   "source": [
    "subsample_test_index = np.random.choice(range(len(Xcsdt_test)), size=10000, replace=False)\n",
    "subsample_test_index"
   ]
  },
  {
   "cell_type": "code",
   "execution_count": null,
   "metadata": {},
   "outputs": [],
   "source": [
    "Xcsdt_test[subsample_test_index].shape"
   ]
  },
  {
   "cell_type": "code",
   "execution_count": null,
   "metadata": {},
   "outputs": [],
   "source": [
    "# what about permutation importance \n",
    "# running this on a 32-core, 128 GB machine with 10000 test samples takes about an hour...\n",
    "# that's a lot of features to permute! A total of 5 million cells shuffled\n",
    "n_top_features = n_top_features_tfidf + len(comms_features)"
   ]
  },
  {
   "cell_type": "code",
   "execution_count": null,
   "metadata": {},
   "outputs": [],
   "source": [
    "result = permutation_importance(brf, Xcsdt_test[subsample_test_index], \n",
    "                                y_test.iloc[subsample_test_index], n_repeats=10,\n",
    "                                random_state=42, n_jobs=-3)"
   ]
  },
  {
   "cell_type": "code",
   "execution_count": null,
   "metadata": {},
   "outputs": [],
   "source": [
    "sorted_idx = result.importances_mean.argsort()[-n_top_features:]\n",
    "\n",
    "fig, ax = plt.subplots()\n",
    "ax.boxplot(result.importances[sorted_idx].T,\n",
    "           vert=False, labels=np.array(Xcsdt_features)[sorted_idx])\n",
    "ax.set_title(\"Permutation Importances (test set)\")\n",
    "fig.tight_layout()\n",
    "plt.show()"
   ]
  },
  {
   "cell_type": "code",
   "execution_count": null,
   "metadata": {},
   "outputs": [],
   "source": [
    "result.importances.shape"
   ]
  },
  {
   "cell_type": "code",
   "execution_count": null,
   "metadata": {},
   "outputs": [],
   "source": [
    "# save this result...\n",
    "filename = 'data/saved_models/perm_importance_troll_with_replies_brf.pkl'\n",
    "with open(filename, 'wb') as fp:\n",
    "    pickle.dump(result, fp)"
   ]
  },
  {
   "cell_type": "code",
   "execution_count": null,
   "metadata": {},
   "outputs": [],
   "source": [
    "filename = 'data/saved_models/perm_importance_troll_with_replies_brf.pkl'\n",
    "with open(filename, 'rb') as fp:\n",
    "    result = pickle.load(fp)\n",
    "#result2.importances_mean.shape\n",
    "result.importances.shape"
   ]
  },
  {
   "cell_type": "code",
   "execution_count": 407,
   "metadata": {},
   "outputs": [],
   "source": [
    "filename = 'data/saved_models/troll_with_replies_brf.pkl'\n",
    "with open(filename, 'rb') as fp:\n",
    "    brf = pickle.load(fp)"
   ]
  },
  {
   "cell_type": "code",
   "execution_count": null,
   "metadata": {},
   "outputs": [],
   "source": [
    "# Fit the NMF model\n",
    "print(\"Fitting the NMF model with tf-idf features, \"\n",
    "      \"n_samples=%d and n_features=%d...\"\n",
    "      % (n_samples, n_features))\n",
    "t0 = time.time()\n",
    "nmf = NMF(n_components=n_topics, random_state=1,\n",
    "          alpha=.1, l1_ratio=.5, ).fit(tfidf)\n",
    "print(\"done in %0.3fs.\" % (time.time() - t0))\n",
    "\n",
    "print(\"\\nTopics in NMF model:\")\n",
    "tfidf_feature_names = tfidf_vectorizer.get_feature_names()\n",
    "print_top_words(nmf, tfidf_feature_names, n_top_words)"
   ]
  },
  {
   "cell_type": "code",
   "execution_count": null,
   "metadata": {},
   "outputs": [],
   "source": [
    "import pickle\n",
    "filename = 'data/saved_models/no_controversiality_perm_importance_troll_with_replies_brf.pkl'\n",
    "with open(filename, 'rb') as fp:\n",
    "    result = pickle.load(fp)\n",
    "#result2.importances_mean.shape\n",
    "result.importances.shape"
   ]
  },
  {
   "cell_type": "code",
   "execution_count": null,
   "metadata": {},
   "outputs": [],
   "source": [
    "comms_meta = ['score', 'norm_depth']\n",
    "comms_features = (\n",
    "        comms_meta \n",
    "#             + \n",
    "#         ['num_replies', 'num_pred_child_of_troll']\n",
    "    )"
   ]
  },
  {
   "cell_type": "code",
   "execution_count": null,
   "metadata": {},
   "outputs": [],
   "source": [
    "X_features = (tfidf_vectorizer.get_feature_names() + comms_features)\n",
    "len(X_features)"
   ]
  },
  {
   "cell_type": "code",
   "execution_count": null,
   "metadata": {},
   "outputs": [],
   "source": [
    "n_top_features_tfidf = 10\n",
    "n_top_features = n_top_features_tfidf + len(comms_features)"
   ]
  },
  {
   "cell_type": "code",
   "execution_count": null,
   "metadata": {},
   "outputs": [],
   "source": [
    "sorted_idx = result.importances_mean.argsort()[-n_top_features:]\n",
    "\n",
    "fig, ax = plt.subplots(1, figsize=(12, 6))\n",
    "ax.boxplot(result.importances[sorted_idx].T,\n",
    "           vert=False, labels=np.array(X_features)[sorted_idx])\n",
    "ax.set_title(\"Permutation Importances (test set)\")\n",
    "fig.tight_layout()\n",
    "plt.show()"
   ]
  },
  {
   "cell_type": "code",
   "execution_count": null,
   "metadata": {},
   "outputs": [],
   "source": []
  },
  {
   "cell_type": "code",
   "execution_count": 28,
   "metadata": {},
   "outputs": [
    {
     "data": {
      "text/plain": [
       "{'_fullname': 't2_100267',\n",
       " 'name': 'enzymeisme',\n",
       " 'created_utc': 1470011124.0,\n",
       " 'link_karma': 3714,\n",
       " 'comment_karma': 33,\n",
       " 'verified': True,\n",
       " 'id': '100267'}"
      ]
     },
     "execution_count": 28,
     "metadata": {},
     "output_type": "execute_result"
    }
   ],
   "source": [
    "pycurs = db['author'].find(\n",
    "    {}, \n",
    "    {'_id': 0, \n",
    "     'id': 1, \n",
    "     '_fullname': 1, \n",
    "     'name': 1, \n",
    "     'verified': 1, \n",
    "     'created_utc': 1, \n",
    "     'link_karma': 1, \n",
    "     'comment_karma': 1})\n",
    "# db['author'].find_one({})\n",
    "pycurs.next()"
   ]
  },
  {
   "cell_type": "code",
   "execution_count": 96,
   "metadata": {},
   "outputs": [
    {
     "data": {
      "text/plain": [
       "234008"
      ]
     },
     "execution_count": 96,
     "metadata": {},
     "output_type": "execute_result"
    }
   ],
   "source": [
    "# 29461 comments have no author fullname. If they are from trolls then those author names are preserved in 'author'\n",
    "204547 + 29461"
   ]
  },
  {
   "cell_type": "code",
   "execution_count": 147,
   "metadata": {},
   "outputs": [],
   "source": [
    "query = {}\n",
    "fields = { '_id': 0 }\n",
    "authors_list = list(db['author'].find( query, fields ))"
   ]
  },
  {
   "cell_type": "code",
   "execution_count": 149,
   "metadata": {},
   "outputs": [],
   "source": [
    "authors = pd.DataFrame(authors_list)"
   ]
  },
  {
   "cell_type": "code",
   "execution_count": 151,
   "metadata": {},
   "outputs": [],
   "source": [
    "comms[['name_author', 'created_utc_author', 'link_karma_author', 'comment_karma_author']] = comms.merge(\n",
    "    authors[['_fullname', 'created_utc', 'link_karma', 'comment_karma']], \n",
    "    left_on='author_fullname', \n",
    "    right_on='_fullname', \n",
    "    suffixes=('_comms', '_author'),\n",
    "    how='left', copy=False)[['name', 'created_utc_author', 'link_karma', 'comment_karma']]"
   ]
  },
  {
   "cell_type": "code",
   "execution_count": 153,
   "metadata": {},
   "outputs": [],
   "source": [
    "comms['norm_author_created_utc'] = np.where(~comms['author_created_utc'].isna(), \n",
    "                                            comms['author_created_utc'], \n",
    "                                            comms['created_utc_author'])\n",
    "# comms[~comms['created_utc_author'].isna()].head(1000)"
   ]
  },
  {
   "cell_type": "code",
   "execution_count": 155,
   "metadata": {},
   "outputs": [],
   "source": [
    "comms['user_age'] = comms['created_utc'] - comms['norm_author_created_utc']"
   ]
  },
  {
   "cell_type": "code",
   "execution_count": 156,
   "metadata": {
    "scrolled": true
   },
   "outputs": [
    {
     "name": "stdout",
     "output_type": "stream",
     "text": [
      "<class 'pandas.core.frame.DataFrame'>\n",
      "RangeIndex: 234008 entries, 0 to 234007\n",
      "Data columns (total 82 columns):\n",
      " #   Column                           Non-Null Count   Dtype  \n",
      "---  ------                           --------------   -----  \n",
      " 0   author                           6704 non-null    object \n",
      " 1   author_created_utc               6597 non-null    float64\n",
      " 2   author_flair_css_class           57875 non-null   object \n",
      " 3   author_flair_text                59107 non-null   object \n",
      " 4   author_fullname                  204547 non-null  object \n",
      " 5   body                             234008 non-null  object \n",
      " 6   controversiality                 233374 non-null  float64\n",
      " 7   created_utc                      234008 non-null  float64\n",
      " 8   distinguished                    385 non-null     object \n",
      " 9   gilded                           233370 non-null  float64\n",
      " 10  id                               234008 non-null  object \n",
      " 11  link_id                          234008 non-null  object \n",
      " 12  nest_level                       5954 non-null    float64\n",
      " 13  parent_id                        234008 non-null  object \n",
      " 14  reply_delay                      5959 non-null    float64\n",
      " 15  retrieved_on                     6618 non-null    float64\n",
      " 16  score                            234008 non-null  int64  \n",
      " 17  stickied                         232399 non-null  object \n",
      " 18  subreddit                        6704 non-null    object \n",
      " 19  subreddit_id                     234008 non-null  object \n",
      " 20  created                          234008 non-null  float64\n",
      " 21  edited                           227355 non-null  object \n",
      " 22  score_hidden                     228350 non-null  object \n",
      " 23  can_gild                         229137 non-null  object \n",
      " 24  is_submitter                     228982 non-null  object \n",
      " 25  no_follow                        227809 non-null  object \n",
      " 26  permalink                        229441 non-null  object \n",
      " 27  send_replies                     227809 non-null  object \n",
      " 28  subreddit_type                   228899 non-null  object \n",
      " 29  gildings                         227858 non-null  object \n",
      " 30  updated_utc                      375 non-null     float64\n",
      " 31  author_flair_template_id         10911 non-null   object \n",
      " 32  collapsed                        227387 non-null  object \n",
      " 33  collapsed_reason                 2322 non-null    object \n",
      " 34  total_awards_received            227304 non-null  float64\n",
      " 35  approved_at_utc                  0 non-null       float64\n",
      " 36  ups                              227304 non-null  float64\n",
      " 37  awarders                         227304 non-null  object \n",
      " 38  mod_reason_by                    0 non-null       float64\n",
      " 39  banned_by                        0 non-null       float64\n",
      " 40  author_flair_type                198481 non-null  object \n",
      " 41  removal_reason                   0 non-null       float64\n",
      " 42  likes                            0 non-null       float64\n",
      " 43  user_reports                     227304 non-null  object \n",
      " 44  saved                            227304 non-null  object \n",
      " 45  banned_at_utc                    0 non-null       float64\n",
      " 46  mod_reason_title                 0 non-null       float64\n",
      " 47  archived                         227304 non-null  object \n",
      " 48  can_mod_post                     227304 non-null  object \n",
      " 49  report_reasons                   0 non-null       float64\n",
      " 50  approved_by                      0 non-null       float64\n",
      " 51  all_awardings                    227304 non-null  object \n",
      " 52  downs                            227304 non-null  float64\n",
      " 53  author_flair_richtext            198481 non-null  object \n",
      " 54  author_patreon_flair             198481 non-null  object \n",
      " 55  body_html                        227304 non-null  object \n",
      " 56  associated_award                 0 non-null       float64\n",
      " 57  author_premium                   198481 non-null  object \n",
      " 58  author_flair_text_color          87121 non-null   object \n",
      " 59  num_reports                      0 non-null       float64\n",
      " 60  locked                           227304 non-null  object \n",
      " 61  name                             227304 non-null  object \n",
      " 62  treatment_tags                   227304 non-null  object \n",
      " 63  subreddit_name_prefixed          227304 non-null  object \n",
      " 64  depth                            226624 non-null  float64\n",
      " 65  author_flair_background_color    81747 non-null   object \n",
      " 66  collapsed_because_crowd_control  0 non-null       float64\n",
      " 67  mod_reports                      227304 non-null  object \n",
      " 68  mod_note                         0 non-null       float64\n",
      " 69  _fetched                         227304 non-null  object \n",
      " 70  author_cakeday                   652 non-null     object \n",
      " 71  top_awarded_type                 0 non-null       float64\n",
      " 72  troll?                           234008 non-null  int64  \n",
      " 73  child_of_troll?                  234008 non-null  int64  \n",
      " 74  parent_of_troll?                 234008 non-null  int64  \n",
      " 75  norm_depth                       232578 non-null  float64\n",
      " 76  name_author                      227304 non-null  object \n",
      " 77  created_utc_author               199834 non-null  float64\n",
      " 78  link_karma_author                199834 non-null  float64\n",
      " 79  comment_karma_author             199834 non-null  float64\n",
      " 80  norm_author_created_utc          200365 non-null  float64\n",
      " 81  user_age                         200365 non-null  float64\n",
      "dtypes: float64(33), int64(4), object(45)\n",
      "memory usage: 146.4+ MB\n"
     ]
    }
   ],
   "source": [
    "comms.info()"
   ]
  },
  {
   "cell_type": "code",
   "execution_count": 166,
   "metadata": {},
   "outputs": [
    {
     "data": {
      "image/png": "[encoded data removed]",
      "text/plain": [
       "<Figure size 432x288 with 1 Axes>"
      ]
     },
     "metadata": {},
     "output_type": "display_data"
    }
   ],
   "source": [
    "ax = sns.kdeplot(comms[comms['troll?'] == 1]['norm_author_created_utc'], label='troll', shade=True)\n",
    "ax = sns.kdeplot(comms[comms['troll?'] == 0]['norm_author_created_utc'], label='normal', shade=True)\n",
    "# ax = sns.kdeplot(virginica.sepal_width, virginica.sepal_length,\n",
    "#                  cmap=\"Blues\", shade=True, shade_lowest=False)"
   ]
  },
  {
   "cell_type": "code",
   "execution_count": 172,
   "metadata": {},
   "outputs": [
    {
     "data": {
      "text/plain": [
       "<matplotlib.legend.Legend at 0x7f1c80efa7f0>"
      ]
     },
     "execution_count": 172,
     "metadata": {},
     "output_type": "execute_result"
    },
    {
     "data": {
      "image/png": "[encoded data removed]",
      "text/plain": [
       "<Figure size 432x288 with 1 Axes>"
      ]
     },
     "metadata": {},
     "output_type": "display_data"
    }
   ],
   "source": [
    "ax = sns.distplot(comms[comms['troll?'] == 1]['norm_author_created_utc'], label='troll')\n",
    "ax = sns.distplot(comms[comms['troll?'] == 0]['norm_author_created_utc'], label='normal')\n",
    "ax.legend()"
   ]
  },
  {
   "cell_type": "code",
   "execution_count": 202,
   "metadata": {},
   "outputs": [
    {
     "data": {
      "text/plain": [
       "<matplotlib.legend.Legend at 0x7f1c614f6ca0>"
      ]
     },
     "execution_count": 202,
     "metadata": {},
     "output_type": "execute_result"
    },
    {
     "data": {
      "image/png": "[encoded data removed]",
      "text/plain": [
       "<Figure size 864x432 with 1 Axes>"
      ]
     },
     "metadata": {},
     "output_type": "display_data"
    }
   ],
   "source": [
    "fig, ax = plt.subplots(1, figsize=(12, 6))\n",
    "sns.distplot(comms[comms['troll?'] == 1]['user_age'], label='troll', ax=ax)\n",
    "sns.distplot(comms[comms['troll?'] == 0]['user_age'], label='normal', ax=ax)\n",
    "ax.set_xlim((0, 250000000))\n",
    "ax.set_xlabel('User age')\n",
    "ax.set_ylabel('Kernel Density Estimate')\n",
    "ax.set_title('User ages for trolls and normal users')\n",
    "ax.legend()"
   ]
  },
  {
   "cell_type": "code",
   "execution_count": 211,
   "metadata": {},
   "outputs": [
    {
     "ename": "TypeError",
     "evalue": "time() takes no arguments (1 given)",
     "output_type": "error",
     "traceback": [
      "\u001b[0;31m---------------------------------------------------------------------------\u001b[0m",
      "\u001b[0;31mTypeError\u001b[0m                                 Traceback (most recent call last)",
      "\u001b[0;32m<ipython-input-211-305861f18b2d>\u001b[0m in \u001b[0;36m<module>\u001b[0;34m\u001b[0m\n\u001b[0;32m----> 1\u001b[0;31m \u001b[0;34m[\u001b[0m\u001b[0mtime\u001b[0m\u001b[0;34m.\u001b[0m\u001b[0mtime\u001b[0m\u001b[0;34m(\u001b[0m\u001b[0mua\u001b[0m\u001b[0;34m)\u001b[0m \u001b[0;32mfor\u001b[0m \u001b[0mua\u001b[0m \u001b[0;32min\u001b[0m \u001b[0mcomms\u001b[0m\u001b[0;34m[\u001b[0m\u001b[0;34m~\u001b[0m\u001b[0mcomms\u001b[0m\u001b[0;34m[\u001b[0m\u001b[0;34m'user_age'\u001b[0m\u001b[0;34m]\u001b[0m\u001b[0;34m.\u001b[0m\u001b[0misna\u001b[0m\u001b[0;34m(\u001b[0m\u001b[0;34m)\u001b[0m\u001b[0;34m]\u001b[0m\u001b[0;34m[\u001b[0m\u001b[0;34m'user_age'\u001b[0m\u001b[0;34m]\u001b[0m\u001b[0;34m]\u001b[0m\u001b[0;34m\u001b[0m\u001b[0;34m\u001b[0m\u001b[0m\n\u001b[0m",
      "\u001b[0;32m<ipython-input-211-305861f18b2d>\u001b[0m in \u001b[0;36m<listcomp>\u001b[0;34m(.0)\u001b[0m\n\u001b[0;32m----> 1\u001b[0;31m \u001b[0;34m[\u001b[0m\u001b[0mtime\u001b[0m\u001b[0;34m.\u001b[0m\u001b[0mtime\u001b[0m\u001b[0;34m(\u001b[0m\u001b[0mua\u001b[0m\u001b[0;34m)\u001b[0m \u001b[0;32mfor\u001b[0m \u001b[0mua\u001b[0m \u001b[0;32min\u001b[0m \u001b[0mcomms\u001b[0m\u001b[0;34m[\u001b[0m\u001b[0;34m~\u001b[0m\u001b[0mcomms\u001b[0m\u001b[0;34m[\u001b[0m\u001b[0;34m'user_age'\u001b[0m\u001b[0;34m]\u001b[0m\u001b[0;34m.\u001b[0m\u001b[0misna\u001b[0m\u001b[0;34m(\u001b[0m\u001b[0;34m)\u001b[0m\u001b[0;34m]\u001b[0m\u001b[0;34m[\u001b[0m\u001b[0;34m'user_age'\u001b[0m\u001b[0;34m]\u001b[0m\u001b[0;34m]\u001b[0m\u001b[0;34m\u001b[0m\u001b[0;34m\u001b[0m\u001b[0m\n\u001b[0m",
      "\u001b[0;31mTypeError\u001b[0m: time() takes no arguments (1 given)"
     ]
    }
   ],
   "source": [
    "[time.(ua) for ua in comms[~comms['user_age'].isna()]['user_age']]"
   ]
  },
  {
   "cell_type": "code",
   "execution_count": 224,
   "metadata": {},
   "outputs": [],
   "source": [
    "user_ages = comms[~comms['user_age'].isna()][['troll?', 'created_utc', 'norm_author_created_utc']]"
   ]
  },
  {
   "cell_type": "code",
   "execution_count": 225,
   "metadata": {},
   "outputs": [
    {
     "data": {
      "text/plain": [
       "[[1.0, datetime.timedelta(days=163, seconds=76066)],\n",
       " [1.0, datetime.timedelta(days=163, seconds=74734)],\n",
       " [1.0, datetime.timedelta(days=163, seconds=74119)],\n",
       " [1.0, datetime.timedelta(days=163, seconds=73392)],\n",
       " [1.0, datetime.timedelta(days=147, seconds=86397)],\n",
       " [1.0, datetime.timedelta(days=136, seconds=1658)],\n",
       " [1.0, datetime.timedelta(days=135, seconds=79671)],\n",
       " [1.0, datetime.timedelta(days=135, seconds=78974)],\n",
       " [1.0, datetime.timedelta(days=135, seconds=76874)],\n",
       " [1.0, datetime.timedelta(days=135, seconds=75721)],\n",
       " [1.0, datetime.timedelta(days=135, seconds=75070)],\n",
       " [1.0, datetime.timedelta(days=135, seconds=74432)],\n",
       " [1.0, datetime.timedelta(days=135, seconds=70505)],\n",
       " [1.0, datetime.timedelta(days=135, seconds=69622)],\n",
       " [1.0, datetime.timedelta(days=135, seconds=69024)],\n",
       " [1.0, datetime.timedelta(days=135, seconds=66006)],\n",
       " [1.0, datetime.timedelta(days=135, seconds=64567)],\n",
       " [1.0, datetime.timedelta(days=135, seconds=53001)],\n",
       " [1.0, datetime.timedelta(days=135, seconds=52121)],\n",
       " [1.0, datetime.timedelta(days=135, seconds=51467)],\n",
       " [1.0, datetime.timedelta(days=135, seconds=50864)],\n",
       " [1.0, datetime.timedelta(days=135, seconds=50249)],\n",
       " [1.0, datetime.timedelta(days=135, seconds=49351)],\n",
       " [1.0, datetime.timedelta(days=135, seconds=1878)],\n",
       " [1.0, datetime.timedelta(days=135, seconds=1175)],\n",
       " [1.0, datetime.timedelta(days=135, seconds=461)],\n",
       " [1.0, datetime.timedelta(days=134, seconds=85873)],\n",
       " [1.0, datetime.timedelta(days=134, seconds=83464)],\n",
       " [1.0, datetime.timedelta(days=134, seconds=82808)],\n",
       " [1.0, datetime.timedelta(days=134, seconds=81962)],\n",
       " [1.0, datetime.timedelta(days=128, seconds=7864)],\n",
       " [1.0, datetime.timedelta(days=128, seconds=4741)],\n",
       " [1.0, datetime.timedelta(days=128, seconds=4137)],\n",
       " [1.0, datetime.timedelta(days=128, seconds=3298)],\n",
       " [1.0, datetime.timedelta(days=128, seconds=1333)],\n",
       " [1.0, datetime.timedelta(days=127, seconds=84607)],\n",
       " [1.0, datetime.timedelta(days=127, seconds=82506)],\n",
       " [1.0, datetime.timedelta(days=127, seconds=78609)],\n",
       " [1.0, datetime.timedelta(days=127, seconds=77998)],\n",
       " [1.0, datetime.timedelta(days=127, seconds=77386)],\n",
       " [1.0, datetime.timedelta(days=127, seconds=76693)],\n",
       " [1.0, datetime.timedelta(days=127, seconds=75925)],\n",
       " [1.0, datetime.timedelta(days=127, seconds=75285)],\n",
       " [1.0, datetime.timedelta(days=127, seconds=71281)],\n",
       " [1.0, datetime.timedelta(days=122, seconds=7500)],\n",
       " [1.0, datetime.timedelta(days=121, seconds=43397)],\n",
       " [1.0, datetime.timedelta(days=121, seconds=1106)],\n",
       " [1.0, datetime.timedelta(days=118, seconds=10174)],\n",
       " [1.0, datetime.timedelta(days=117, seconds=8277)],\n",
       " [1.0, datetime.timedelta(days=117, seconds=7184)],\n",
       " [1.0, datetime.timedelta(days=117, seconds=5940)],\n",
       " [1.0, datetime.timedelta(days=104, seconds=62690)],\n",
       " [1.0, datetime.timedelta(days=104, seconds=62048)],\n",
       " [1.0, datetime.timedelta(days=104, seconds=7531)],\n",
       " [1.0, datetime.timedelta(days=104, seconds=6806)],\n",
       " [1.0, datetime.timedelta(days=104, seconds=6182)],\n",
       " [1.0, datetime.timedelta(days=104, seconds=5564)],\n",
       " [1.0, datetime.timedelta(days=104, seconds=4954)],\n",
       " [1.0, datetime.timedelta(days=104, seconds=3639)],\n",
       " [1.0, datetime.timedelta(days=104, seconds=692)],\n",
       " [1.0, datetime.timedelta(days=101, seconds=7574)],\n",
       " [1.0, datetime.timedelta(days=100, seconds=78940)],\n",
       " [1.0, datetime.timedelta(days=100, seconds=5561)],\n",
       " [1.0, datetime.timedelta(days=100, seconds=2889)],\n",
       " [1.0, datetime.timedelta(days=100, seconds=2754)],\n",
       " [1.0, datetime.timedelta(days=99, seconds=83119)],\n",
       " [1.0, datetime.timedelta(days=99, seconds=81353)],\n",
       " [1.0, datetime.timedelta(days=99, seconds=80230)],\n",
       " [1.0, datetime.timedelta(days=99, seconds=80098)],\n",
       " [1.0, datetime.timedelta(days=99, seconds=80028)],\n",
       " [1.0, datetime.timedelta(days=99, seconds=79914)],\n",
       " [1.0, datetime.timedelta(days=99, seconds=79353)],\n",
       " [1.0, datetime.timedelta(days=99, seconds=79166)],\n",
       " [1.0, datetime.timedelta(days=99, seconds=847)],\n",
       " [1.0, datetime.timedelta(days=99, seconds=133)],\n",
       " [1.0, datetime.timedelta(days=98, seconds=85703)],\n",
       " [1.0, datetime.timedelta(days=98, seconds=84182)],\n",
       " [1.0, datetime.timedelta(days=98, seconds=54997)],\n",
       " [1.0, datetime.timedelta(days=98, seconds=54008)],\n",
       " [1.0, datetime.timedelta(days=98, seconds=7523)],\n",
       " [1.0, datetime.timedelta(days=98, seconds=7258)],\n",
       " [1.0, datetime.timedelta(days=98, seconds=7052)],\n",
       " [1.0, datetime.timedelta(days=98, seconds=6934)],\n",
       " [1.0, datetime.timedelta(days=98, seconds=6795)],\n",
       " [1.0, datetime.timedelta(days=98, seconds=6674)],\n",
       " [1.0, datetime.timedelta(days=98, seconds=6598)],\n",
       " [1.0, datetime.timedelta(days=93, seconds=5141)],\n",
       " [1.0, datetime.timedelta(days=93, seconds=4997)],\n",
       " [1.0, datetime.timedelta(days=93, seconds=4832)],\n",
       " [1.0, datetime.timedelta(days=93, seconds=4691)],\n",
       " [1.0, datetime.timedelta(days=93, seconds=4488)],\n",
       " [1.0, datetime.timedelta(days=93, seconds=4244)],\n",
       " [1.0, datetime.timedelta(days=93, seconds=4196)],\n",
       " [1.0, datetime.timedelta(days=93, seconds=4062)],\n",
       " [1.0, datetime.timedelta(days=93, seconds=3946)],\n",
       " [1.0, datetime.timedelta(days=92, seconds=8651)],\n",
       " [1.0, datetime.timedelta(days=92, seconds=8545)],\n",
       " [1.0, datetime.timedelta(days=91, seconds=79852)],\n",
       " [1.0, datetime.timedelta(days=91, seconds=79089)],\n",
       " [1.0, datetime.timedelta(days=91, seconds=78989)],\n",
       " [1.0, datetime.timedelta(days=91, seconds=78876)],\n",
       " [1.0, datetime.timedelta(days=83, seconds=51068)],\n",
       " [1.0, datetime.timedelta(days=83, seconds=50997)],\n",
       " [1.0, datetime.timedelta(days=83, seconds=50886)],\n",
       " [1.0, datetime.timedelta(days=83, seconds=50834)],\n",
       " [1.0, datetime.timedelta(days=83, seconds=50690)],\n",
       " [1.0, datetime.timedelta(days=82, seconds=9886)],\n",
       " [1.0, datetime.timedelta(days=82, seconds=9263)],\n",
       " [1.0, datetime.timedelta(days=82, seconds=8384)],\n",
       " [1.0, datetime.timedelta(days=82, seconds=7270)],\n",
       " [1.0, datetime.timedelta(days=82, seconds=5855)],\n",
       " [1.0, datetime.timedelta(days=82, seconds=5640)],\n",
       " [1.0, datetime.timedelta(days=82, seconds=5409)],\n",
       " [1.0, datetime.timedelta(days=82, seconds=5130)],\n",
       " [1.0, datetime.timedelta(days=82, seconds=5078)],\n",
       " [1.0, datetime.timedelta(days=82, seconds=5034)],\n",
       " [1.0, datetime.timedelta(days=82, seconds=4949)],\n",
       " [1.0, datetime.timedelta(days=82, seconds=4854)],\n",
       " [1.0, datetime.timedelta(days=82, seconds=4781)],\n",
       " [1.0, datetime.timedelta(days=82, seconds=4756)],\n",
       " [1.0, datetime.timedelta(days=82, seconds=4689)],\n",
       " [1.0, datetime.timedelta(days=82, seconds=4524)],\n",
       " [1.0, datetime.timedelta(days=82, seconds=4411)],\n",
       " [1.0, datetime.timedelta(days=82, seconds=4317)],\n",
       " [1.0, datetime.timedelta(days=82, seconds=4265)],\n",
       " [1.0, datetime.timedelta(days=82, seconds=3707)],\n",
       " [1.0, datetime.timedelta(days=82, seconds=3101)],\n",
       " [1.0, datetime.timedelta(days=82, seconds=3027)],\n",
       " [1.0, datetime.timedelta(days=82, seconds=2790)],\n",
       " [1.0, datetime.timedelta(days=82, seconds=2712)],\n",
       " [1.0, datetime.timedelta(days=82, seconds=2595)],\n",
       " [1.0, datetime.timedelta(days=82, seconds=2238)],\n",
       " [1.0, datetime.timedelta(days=82, seconds=1971)],\n",
       " [1.0, datetime.timedelta(days=82, seconds=1842)],\n",
       " [1.0, datetime.timedelta(days=82, seconds=1751)],\n",
       " [1.0, datetime.timedelta(days=82, seconds=1678)],\n",
       " [1.0, datetime.timedelta(days=82, seconds=1610)],\n",
       " [1.0, datetime.timedelta(days=82, seconds=1013)],\n",
       " [1.0, datetime.timedelta(days=82, seconds=857)],\n",
       " [1.0, datetime.timedelta(days=81, seconds=86077)],\n",
       " [1.0, datetime.timedelta(days=14, seconds=78585)],\n",
       " [1.0, datetime.timedelta(days=14, seconds=77975)],\n",
       " [1.0, datetime.timedelta(days=9, seconds=65551)],\n",
       " [1.0, datetime.timedelta(days=9, seconds=64815)],\n",
       " [1.0, datetime.timedelta(days=9, seconds=64323)],\n",
       " [1.0, datetime.timedelta(days=9, seconds=64044)],\n",
       " [1.0, datetime.timedelta(days=9, seconds=63283)],\n",
       " [1.0, datetime.timedelta(days=9, seconds=51069)],\n",
       " [1.0, datetime.timedelta(days=9, seconds=50530)],\n",
       " [1.0, datetime.timedelta(days=9, seconds=49770)],\n",
       " [1.0, datetime.timedelta(days=9, seconds=49751)],\n",
       " [1.0, datetime.timedelta(days=8, seconds=2205)],\n",
       " [1.0, datetime.timedelta(days=8, seconds=1562)],\n",
       " [1.0, datetime.timedelta(days=7, seconds=75995)],\n",
       " [1.0, datetime.timedelta(days=7, seconds=72962)],\n",
       " [1.0, datetime.timedelta(days=6, seconds=81967)],\n",
       " [1.0, datetime.timedelta(days=6, seconds=81734)],\n",
       " [1.0, datetime.timedelta(days=6, seconds=81641)],\n",
       " [1.0, datetime.timedelta(days=6, seconds=73462)],\n",
       " [1.0, datetime.timedelta(days=6, seconds=72825)],\n",
       " [1.0, datetime.timedelta(days=6, seconds=72688)],\n",
       " [1.0, datetime.timedelta(days=6, seconds=72272)],\n",
       " [1.0, datetime.timedelta(days=6, seconds=71482)],\n",
       " [1.0, datetime.timedelta(days=6, seconds=54851)],\n",
       " [1.0, datetime.timedelta(days=6, seconds=44854)],\n",
       " [1.0, datetime.timedelta(days=6, seconds=1605)],\n",
       " [1.0, datetime.timedelta(days=6, seconds=1386)],\n",
       " [1.0, datetime.timedelta(days=5, seconds=3836)],\n",
       " [1.0, datetime.timedelta(days=5, seconds=2516)],\n",
       " [1.0, datetime.timedelta(days=5, seconds=1995)],\n",
       " [1.0, datetime.timedelta(days=4, seconds=85562)],\n",
       " [1.0, datetime.timedelta(days=4, seconds=85185)],\n",
       " [1.0, datetime.timedelta(days=4, seconds=84868)],\n",
       " [1.0, datetime.timedelta(days=4, seconds=84393)],\n",
       " [1.0, datetime.timedelta(days=4, seconds=84301)],\n",
       " [1.0, datetime.timedelta(days=4, seconds=81996)],\n",
       " [1.0, datetime.timedelta(days=4, seconds=76226)],\n",
       " [1.0, datetime.timedelta(days=4, seconds=76014)],\n",
       " [1.0, datetime.timedelta(days=4, seconds=75837)],\n",
       " [1.0, datetime.timedelta(days=1, seconds=81507)],\n",
       " [1.0, datetime.timedelta(days=1, seconds=80365)],\n",
       " [1.0, datetime.timedelta(days=1, seconds=78854)],\n",
       " [1.0, datetime.timedelta(days=1, seconds=77885)],\n",
       " [1.0, datetime.timedelta(days=1, seconds=73497)],\n",
       " [1.0, datetime.timedelta(days=1, seconds=68022)],\n",
       " [1.0, datetime.timedelta(seconds=47741)],\n",
       " [1.0, datetime.timedelta(seconds=6865)],\n",
       " [1.0, datetime.timedelta(seconds=2719)],\n",
       " [1.0, datetime.timedelta(seconds=188)],\n",
       " [1.0, datetime.timedelta(days=23, seconds=16182)],\n",
       " [1.0, datetime.timedelta(days=23, seconds=12642)],\n",
       " [1.0, datetime.timedelta(days=23, seconds=12040)],\n",
       " [1.0, datetime.timedelta(days=23, seconds=8484)],\n",
       " [1.0, datetime.timedelta(days=7, seconds=12089)],\n",
       " [1.0, datetime.timedelta(days=56, seconds=61747)],\n",
       " [1.0, datetime.timedelta(days=56, seconds=59493)],\n",
       " [1.0, datetime.timedelta(days=35, seconds=78107)],\n",
       " [1.0, datetime.timedelta(days=35, seconds=77505)],\n",
       " [1.0, datetime.timedelta(days=27, seconds=985)],\n",
       " [1.0, datetime.timedelta(days=27, seconds=13452)],\n",
       " [1.0, datetime.timedelta(days=27, seconds=11693)],\n",
       " [1.0, datetime.timedelta(days=4, seconds=24516)],\n",
       " [1.0, datetime.timedelta(days=28, seconds=69668)],\n",
       " [1.0, datetime.timedelta(days=28, seconds=63676)],\n",
       " [1.0, datetime.timedelta(days=28, seconds=63077)],\n",
       " [1.0, datetime.timedelta(days=510, seconds=3391)],\n",
       " [1.0, datetime.timedelta(days=510, seconds=3371)],\n",
       " [1.0, datetime.timedelta(days=510, seconds=3362)],\n",
       " [1.0, datetime.timedelta(days=510, seconds=3335)],\n",
       " [1.0, datetime.timedelta(days=510, seconds=3329)],\n",
       " [1.0, datetime.timedelta(days=509, seconds=80297)],\n",
       " [1.0, datetime.timedelta(days=509, seconds=80254)],\n",
       " [1.0, datetime.timedelta(days=503, seconds=4035)],\n",
       " [1.0, datetime.timedelta(days=503, seconds=4028)],\n",
       " [1.0, datetime.timedelta(days=503, seconds=4024)],\n",
       " [1.0, datetime.timedelta(days=499, seconds=84424)],\n",
       " [1.0, datetime.timedelta(days=499, seconds=83144)],\n",
       " [1.0, datetime.timedelta(days=497, seconds=84168)],\n",
       " [1.0, datetime.timedelta(days=497, seconds=84147)],\n",
       " [1.0, datetime.timedelta(days=485, seconds=78481)],\n",
       " [1.0, datetime.timedelta(days=485, seconds=78471)],\n",
       " [1.0, datetime.timedelta(days=485, seconds=78452)],\n",
       " [1.0, datetime.timedelta(days=485, seconds=78440)],\n",
       " [1.0, datetime.timedelta(days=485, seconds=75824)],\n",
       " [1.0, datetime.timedelta(days=485, seconds=33923)],\n",
       " [1.0, datetime.timedelta(days=485, seconds=33884)],\n",
       " [1.0, datetime.timedelta(days=483, seconds=83359)],\n",
       " [1.0, datetime.timedelta(days=483, seconds=83355)],\n",
       " [1.0, datetime.timedelta(days=483, seconds=83337)],\n",
       " [1.0, datetime.timedelta(days=483, seconds=83317)],\n",
       " [1.0, datetime.timedelta(days=483, seconds=83291)],\n",
       " [1.0, datetime.timedelta(days=483, seconds=83287)],\n",
       " [1.0, datetime.timedelta(days=476, seconds=39411)],\n",
       " [1.0, datetime.timedelta(days=471, seconds=73771)],\n",
       " [1.0, datetime.timedelta(days=471, seconds=68994)],\n",
       " [1.0, datetime.timedelta(days=471, seconds=68986)],\n",
       " [1.0, datetime.timedelta(days=471, seconds=68982)],\n",
       " [1.0, datetime.timedelta(days=471, seconds=68849)],\n",
       " [1.0, datetime.timedelta(days=471, seconds=68834)],\n",
       " [1.0, datetime.timedelta(days=471, seconds=68808)],\n",
       " [1.0, datetime.timedelta(days=471, seconds=68804)],\n",
       " [1.0, datetime.timedelta(days=470, seconds=16680)],\n",
       " [1.0, datetime.timedelta(days=470, seconds=11)],\n",
       " [1.0, datetime.timedelta(days=469, seconds=86399)],\n",
       " [1.0, datetime.timedelta(days=469, seconds=86389)],\n",
       " [1.0, datetime.timedelta(days=469, seconds=86355)],\n",
       " [1.0, datetime.timedelta(days=469, seconds=82118)],\n",
       " [1.0, datetime.timedelta(days=469, seconds=81804)],\n",
       " [1.0, datetime.timedelta(days=468, seconds=82701)],\n",
       " [1.0, datetime.timedelta(days=468, seconds=2254)],\n",
       " [1.0, datetime.timedelta(days=465, seconds=3745)],\n",
       " [1.0, datetime.timedelta(days=464, seconds=76362)],\n",
       " [1.0, datetime.timedelta(days=464, seconds=76354)],\n",
       " [1.0, datetime.timedelta(days=464, seconds=76345)],\n",
       " [1.0, datetime.timedelta(days=464, seconds=76313)],\n",
       " [1.0, datetime.timedelta(days=464, seconds=76307)],\n",
       " [1.0, datetime.timedelta(days=464, seconds=76302)],\n",
       " [1.0, datetime.timedelta(days=464, seconds=76299)],\n",
       " [1.0, datetime.timedelta(days=462, seconds=5716)],\n",
       " [1.0, datetime.timedelta(days=462, seconds=5498)],\n",
       " [1.0, datetime.timedelta(days=461, seconds=2196)],\n",
       " [1.0, datetime.timedelta(days=461, seconds=2184)],\n",
       " [1.0, datetime.timedelta(days=461, seconds=2180)],\n",
       " [1.0, datetime.timedelta(days=460, seconds=83221)],\n",
       " [1.0, datetime.timedelta(days=458, seconds=76698)],\n",
       " [1.0, datetime.timedelta(days=458, seconds=76687)],\n",
       " [1.0, datetime.timedelta(days=458, seconds=76675)],\n",
       " [1.0, datetime.timedelta(days=458, seconds=75052)],\n",
       " [1.0, datetime.timedelta(days=458, seconds=75025)],\n",
       " [1.0, datetime.timedelta(days=454, seconds=72976)],\n",
       " [1.0, datetime.timedelta(days=454, seconds=71867)],\n",
       " [1.0, datetime.timedelta(days=454, seconds=71280)],\n",
       " [1.0, datetime.timedelta(days=454, seconds=71005)],\n",
       " [1.0, datetime.timedelta(days=454, seconds=70512)],\n",
       " [1.0, datetime.timedelta(days=450, seconds=4441)],\n",
       " [1.0, datetime.timedelta(days=450, seconds=2904)],\n",
       " [1.0, datetime.timedelta(days=449, seconds=78261)],\n",
       " [1.0, datetime.timedelta(days=449, seconds=78253)],\n",
       " [1.0, datetime.timedelta(days=449, seconds=78248)],\n",
       " [1.0, datetime.timedelta(days=449, seconds=78046)],\n",
       " [1.0, datetime.timedelta(days=449, seconds=78027)],\n",
       " [1.0, datetime.timedelta(days=449, seconds=78016)],\n",
       " [1.0, datetime.timedelta(days=449, seconds=77976)],\n",
       " [1.0, datetime.timedelta(days=449, seconds=77969)],\n",
       " [1.0, datetime.timedelta(days=449, seconds=77072)],\n",
       " [1.0, datetime.timedelta(days=449, seconds=77066)],\n",
       " [1.0, datetime.timedelta(days=449, seconds=77061)],\n",
       " [1.0, datetime.timedelta(days=449, seconds=75962)],\n",
       " [1.0, datetime.timedelta(days=449, seconds=75949)],\n",
       " [1.0, datetime.timedelta(days=449, seconds=75928)],\n",
       " [1.0, datetime.timedelta(days=449, seconds=75923)],\n",
       " [1.0, datetime.timedelta(days=449, seconds=75919)],\n",
       " [1.0, datetime.timedelta(days=448, seconds=67678)],\n",
       " [1.0, datetime.timedelta(days=448, seconds=67670)],\n",
       " [1.0, datetime.timedelta(days=448, seconds=67647)],\n",
       " [1.0, datetime.timedelta(days=448, seconds=67641)],\n",
       " [1.0, datetime.timedelta(days=448, seconds=67622)],\n",
       " [1.0, datetime.timedelta(days=448, seconds=67616)],\n",
       " [1.0, datetime.timedelta(days=448, seconds=67394)],\n",
       " [1.0, datetime.timedelta(days=448, seconds=67374)],\n",
       " [1.0, datetime.timedelta(days=448, seconds=67366)],\n",
       " [1.0, datetime.timedelta(days=448, seconds=67359)],\n",
       " [1.0, datetime.timedelta(days=448, seconds=67324)],\n",
       " [1.0, datetime.timedelta(days=448, seconds=67289)],\n",
       " [1.0, datetime.timedelta(days=448, seconds=67282)],\n",
       " [1.0, datetime.timedelta(days=447, seconds=81804)],\n",
       " [1.0, datetime.timedelta(days=447, seconds=81796)],\n",
       " [1.0, datetime.timedelta(days=447, seconds=81628)],\n",
       " [1.0, datetime.timedelta(days=447, seconds=81616)],\n",
       " [1.0, datetime.timedelta(days=447, seconds=81609)],\n",
       " [1.0, datetime.timedelta(days=447, seconds=81477)],\n",
       " [1.0, datetime.timedelta(days=447, seconds=81470)],\n",
       " [1.0, datetime.timedelta(days=447, seconds=81429)],\n",
       " [1.0, datetime.timedelta(days=447, seconds=81422)],\n",
       " [1.0, datetime.timedelta(days=447, seconds=81418)],\n",
       " [1.0, datetime.timedelta(days=447, seconds=81380)],\n",
       " [1.0, datetime.timedelta(days=446, seconds=32524)],\n",
       " [1.0, datetime.timedelta(days=446, seconds=32422)],\n",
       " [1.0, datetime.timedelta(days=446, seconds=32414)],\n",
       " [1.0, datetime.timedelta(days=446, seconds=31798)],\n",
       " [1.0, datetime.timedelta(days=444, seconds=85014)],\n",
       " [1.0, datetime.timedelta(days=444, seconds=85002)],\n",
       " [1.0, datetime.timedelta(days=444, seconds=84998)],\n",
       " [1.0, datetime.timedelta(days=444, seconds=84993)],\n",
       " [1.0, datetime.timedelta(days=444, seconds=84984)],\n",
       " [1.0, datetime.timedelta(days=444, seconds=84978)],\n",
       " [1.0, datetime.timedelta(days=444, seconds=84957)],\n",
       " [1.0, datetime.timedelta(days=444, seconds=49256)],\n",
       " [1.0, datetime.timedelta(days=444, seconds=49247)],\n",
       " [1.0, datetime.timedelta(days=444, seconds=49229)],\n",
       " [1.0, datetime.timedelta(days=444, seconds=21741)],\n",
       " [1.0, datetime.timedelta(days=444, seconds=21725)],\n",
       " [1.0, datetime.timedelta(days=443, seconds=18487)],\n",
       " [1.0, datetime.timedelta(days=443, seconds=18472)],\n",
       " [1.0, datetime.timedelta(days=443, seconds=10712)],\n",
       " [1.0, datetime.timedelta(days=443, seconds=10698)],\n",
       " [1.0, datetime.timedelta(days=443, seconds=10662)],\n",
       " [1.0, datetime.timedelta(days=443, seconds=10569)],\n",
       " [1.0, datetime.timedelta(days=443, seconds=10553)],\n",
       " [1.0, datetime.timedelta(days=443, seconds=8109)],\n",
       " [1.0, datetime.timedelta(days=443, seconds=8027)],\n",
       " [1.0, datetime.timedelta(days=442, seconds=33039)],\n",
       " [1.0, datetime.timedelta(days=442, seconds=32906)],\n",
       " [1.0, datetime.timedelta(days=442, seconds=30978)],\n",
       " [1.0, datetime.timedelta(days=441, seconds=78475)],\n",
       " [1.0, datetime.timedelta(days=441, seconds=78466)],\n",
       " [1.0, datetime.timedelta(days=441, seconds=78456)],\n",
       " [1.0, datetime.timedelta(days=441, seconds=78444)],\n",
       " [1.0, datetime.timedelta(days=438, seconds=82099)],\n",
       " [1.0, datetime.timedelta(days=438, seconds=81788)],\n",
       " [1.0, datetime.timedelta(days=436, seconds=67636)],\n",
       " [1.0, datetime.timedelta(days=436, seconds=67629)],\n",
       " [1.0, datetime.timedelta(days=436, seconds=67580)],\n",
       " [1.0, datetime.timedelta(days=436, seconds=67570)],\n",
       " [1.0, datetime.timedelta(days=436, seconds=26577)],\n",
       " [1.0, datetime.timedelta(days=434, seconds=85816)],\n",
       " [1.0, datetime.timedelta(days=434, seconds=85785)],\n",
       " [1.0, datetime.timedelta(days=434, seconds=85776)],\n",
       " [1.0, datetime.timedelta(days=433, seconds=74400)],\n",
       " [1.0, datetime.timedelta(days=433, seconds=74390)],\n",
       " [1.0, datetime.timedelta(days=433, seconds=74364)],\n",
       " [1.0, datetime.timedelta(days=433, seconds=74344)],\n",
       " [1.0, datetime.timedelta(days=433, seconds=74334)],\n",
       " [1.0, datetime.timedelta(days=432, seconds=81138)],\n",
       " [1.0, datetime.timedelta(days=432, seconds=81119)],\n",
       " [1.0, datetime.timedelta(days=432, seconds=80441)],\n",
       " [1.0, datetime.timedelta(days=432, seconds=80346)],\n",
       " [1.0, datetime.timedelta(days=432, seconds=80340)],\n",
       " [1.0, datetime.timedelta(days=432, seconds=1784)],\n",
       " [1.0, datetime.timedelta(days=432, seconds=1778)],\n",
       " [1.0, datetime.timedelta(days=432, seconds=1740)],\n",
       " [1.0, datetime.timedelta(days=432, seconds=1730)],\n",
       " [1.0, datetime.timedelta(days=432, seconds=1713)],\n",
       " [1.0, datetime.timedelta(days=432, seconds=1706)],\n",
       " [1.0, datetime.timedelta(days=430, seconds=2675)],\n",
       " [1.0, datetime.timedelta(days=430, seconds=2669)],\n",
       " [1.0, datetime.timedelta(days=430, seconds=414)],\n",
       " [1.0, datetime.timedelta(days=430, seconds=345)],\n",
       " [1.0, datetime.timedelta(days=428, seconds=85203)],\n",
       " [1.0, datetime.timedelta(days=428, seconds=85166)],\n",
       " [1.0, datetime.timedelta(days=428, seconds=82769)],\n",
       " [1.0, datetime.timedelta(days=428, seconds=82413)],\n",
       " [1.0, datetime.timedelta(days=428, seconds=82294)],\n",
       " [1.0, datetime.timedelta(days=428, seconds=78977)],\n",
       " [1.0, datetime.timedelta(days=419, seconds=81502)],\n",
       " [1.0, datetime.timedelta(days=419, seconds=81486)],\n",
       " [1.0, datetime.timedelta(days=419, seconds=81397)],\n",
       " [1.0, datetime.timedelta(days=419, seconds=79311)],\n",
       " [1.0, datetime.timedelta(days=419, seconds=79303)],\n",
       " [1.0, datetime.timedelta(days=419, seconds=79292)],\n",
       " [1.0, datetime.timedelta(days=419, seconds=79284)],\n",
       " [1.0, datetime.timedelta(days=419, seconds=79271)],\n",
       " [1.0, datetime.timedelta(days=419, seconds=74253)],\n",
       " [1.0, datetime.timedelta(days=419, seconds=74218)],\n",
       " [1.0, datetime.timedelta(days=419, seconds=69529)],\n",
       " [1.0, datetime.timedelta(days=419, seconds=67366)],\n",
       " [1.0, datetime.timedelta(days=419, seconds=67356)],\n",
       " [1.0, datetime.timedelta(days=419, seconds=67327)],\n",
       " [1.0, datetime.timedelta(days=419, seconds=67320)],\n",
       " [1.0, datetime.timedelta(days=419, seconds=67315)],\n",
       " [1.0, datetime.timedelta(days=419, seconds=67139)],\n",
       " [1.0, datetime.timedelta(days=419, seconds=66827)],\n",
       " [1.0, datetime.timedelta(days=418, seconds=79897)],\n",
       " [1.0, datetime.timedelta(days=418, seconds=79771)],\n",
       " [1.0, datetime.timedelta(days=418, seconds=79646)],\n",
       " [1.0, datetime.timedelta(days=418, seconds=79618)],\n",
       " [1.0, datetime.timedelta(days=411, seconds=7639)],\n",
       " [1.0, datetime.timedelta(days=411, seconds=6438)],\n",
       " [1.0, datetime.timedelta(seconds=60311)],\n",
       " [1.0, datetime.timedelta(seconds=59681)],\n",
       " [1.0, datetime.timedelta(seconds=59074)],\n",
       " [1.0, datetime.timedelta(days=13, seconds=51735)],\n",
       " [1.0, datetime.timedelta(days=76, seconds=22106)],\n",
       " [1.0, datetime.timedelta(days=23, seconds=15686)],\n",
       " [1.0, datetime.timedelta(days=23, seconds=12903)],\n",
       " [1.0, datetime.timedelta(days=23, seconds=8164)],\n",
       " [1.0, datetime.timedelta(days=22, seconds=75811)],\n",
       " [1.0, datetime.timedelta(days=20, seconds=11805)],\n",
       " [1.0, datetime.timedelta(days=20, seconds=11624)],\n",
       " [1.0, datetime.timedelta(days=20, seconds=11144)],\n",
       " [1.0, datetime.timedelta(days=20, seconds=10110)],\n",
       " [1.0, datetime.timedelta(days=20, seconds=10035)],\n",
       " [1.0, datetime.timedelta(days=20, seconds=9087)],\n",
       " [1.0, datetime.timedelta(days=20, seconds=446)],\n",
       " [1.0, datetime.timedelta(days=306, seconds=13899)],\n",
       " [1.0, datetime.timedelta(days=4, seconds=24620)],\n",
       " [1.0, datetime.timedelta(days=508, seconds=5162)],\n",
       " [1.0, datetime.timedelta(days=508, seconds=5076)],\n",
       " [1.0, datetime.timedelta(days=508, seconds=5021)],\n",
       " [1.0, datetime.timedelta(days=508, seconds=4963)],\n",
       " [1.0, datetime.timedelta(days=508, seconds=4850)],\n",
       " [1.0, datetime.timedelta(days=504, seconds=20179)],\n",
       " [1.0, datetime.timedelta(days=504, seconds=20131)],\n",
       " [1.0, datetime.timedelta(days=504, seconds=20075)],\n",
       " [1.0, datetime.timedelta(days=504, seconds=19591)],\n",
       " [1.0, datetime.timedelta(days=438, seconds=31628)],\n",
       " [1.0, datetime.timedelta(days=90, seconds=19615)],\n",
       " [1.0, datetime.timedelta(days=86, seconds=20567)],\n",
       " [1.0, datetime.timedelta(days=84, seconds=19380)],\n",
       " [1.0, datetime.timedelta(days=82, seconds=20999)],\n",
       " [1.0, datetime.timedelta(days=78, seconds=21534)],\n",
       " [1.0, datetime.timedelta(days=77, seconds=31038)],\n",
       " [1.0, datetime.timedelta(days=77, seconds=30938)],\n",
       " [1.0, datetime.timedelta(days=76, seconds=49822)],\n",
       " [1.0, datetime.timedelta(days=76, seconds=23702)],\n",
       " [1.0, datetime.timedelta(days=76, seconds=20985)],\n",
       " [1.0, datetime.timedelta(days=74, seconds=29754)],\n",
       " [1.0, datetime.timedelta(days=74, seconds=29640)],\n",
       " [1.0, datetime.timedelta(days=74, seconds=29067)],\n",
       " [1.0, datetime.timedelta(days=74, seconds=28521)],\n",
       " [1.0, datetime.timedelta(days=74, seconds=28476)],\n",
       " [1.0, datetime.timedelta(days=74, seconds=27797)],\n",
       " [1.0, datetime.timedelta(days=74, seconds=27628)],\n",
       " [1.0, datetime.timedelta(days=74, seconds=27456)],\n",
       " [1.0, datetime.timedelta(days=74, seconds=27368)],\n",
       " [1.0, datetime.timedelta(days=73, seconds=29862)],\n",
       " [1.0, datetime.timedelta(days=73, seconds=29186)],\n",
       " [1.0, datetime.timedelta(days=73, seconds=28978)],\n",
       " [1.0, datetime.timedelta(days=73, seconds=27195)],\n",
       " [1.0, datetime.timedelta(days=73, seconds=26337)],\n",
       " [1.0, datetime.timedelta(days=73, seconds=25911)],\n",
       " [1.0, datetime.timedelta(days=73, seconds=25517)],\n",
       " [1.0, datetime.timedelta(days=73, seconds=25216)],\n",
       " [1.0, datetime.timedelta(days=73, seconds=22555)],\n",
       " [1.0, datetime.timedelta(days=71, seconds=56195)],\n",
       " [1.0, datetime.timedelta(days=71, seconds=55721)],\n",
       " [1.0, datetime.timedelta(days=71, seconds=53478)],\n",
       " [1.0, datetime.timedelta(days=71, seconds=51718)],\n",
       " [1.0, datetime.timedelta(days=71, seconds=51263)],\n",
       " [1.0, datetime.timedelta(days=71, seconds=51194)],\n",
       " [1.0, datetime.timedelta(days=71, seconds=51042)],\n",
       " [1.0, datetime.timedelta(days=70, seconds=28689)],\n",
       " [1.0, datetime.timedelta(days=70, seconds=28114)],\n",
       " [1.0, datetime.timedelta(days=70, seconds=28019)],\n",
       " [1.0, datetime.timedelta(days=70, seconds=25820)],\n",
       " [1.0, datetime.timedelta(days=70, seconds=25532)],\n",
       " [1.0, datetime.timedelta(days=70, seconds=24610)],\n",
       " [1.0, datetime.timedelta(days=70, seconds=24395)],\n",
       " [1.0, datetime.timedelta(days=70, seconds=24034)],\n",
       " [1.0, datetime.timedelta(days=70, seconds=23605)],\n",
       " [1.0, datetime.timedelta(days=70, seconds=19436)],\n",
       " [1.0, datetime.timedelta(days=69, seconds=28542)],\n",
       " [1.0, datetime.timedelta(days=69, seconds=28347)],\n",
       " [1.0, datetime.timedelta(days=69, seconds=27996)],\n",
       " [1.0, datetime.timedelta(days=69, seconds=27242)],\n",
       " [1.0, datetime.timedelta(days=69, seconds=27206)],\n",
       " [1.0, datetime.timedelta(days=69, seconds=27051)],\n",
       " [1.0, datetime.timedelta(days=69, seconds=26944)],\n",
       " [1.0, datetime.timedelta(days=69, seconds=24200)],\n",
       " [1.0, datetime.timedelta(days=69, seconds=24150)],\n",
       " [1.0, datetime.timedelta(days=68, seconds=51342)],\n",
       " [1.0, datetime.timedelta(days=67, seconds=56072)],\n",
       " [1.0, datetime.timedelta(days=67, seconds=55936)],\n",
       " [1.0, datetime.timedelta(days=67, seconds=55880)],\n",
       " [1.0, datetime.timedelta(days=67, seconds=55272)],\n",
       " [1.0, datetime.timedelta(days=66, seconds=59328)],\n",
       " [1.0, datetime.timedelta(days=66, seconds=59250)],\n",
       " [1.0, datetime.timedelta(days=66, seconds=59188)],\n",
       " [1.0, datetime.timedelta(days=66, seconds=58351)],\n",
       " [1.0, datetime.timedelta(days=66, seconds=58231)],\n",
       " [1.0, datetime.timedelta(days=65, seconds=59410)],\n",
       " [1.0, datetime.timedelta(days=65, seconds=59095)],\n",
       " [1.0, datetime.timedelta(days=65, seconds=58987)],\n",
       " [1.0, datetime.timedelta(days=65, seconds=58904)],\n",
       " [1.0, datetime.timedelta(days=65, seconds=58796)],\n",
       " [1.0, datetime.timedelta(days=63, seconds=43194)],\n",
       " [1.0, datetime.timedelta(days=63, seconds=42567)],\n",
       " [1.0, datetime.timedelta(days=62, seconds=30398)],\n",
       " [1.0, datetime.timedelta(days=62, seconds=29800)],\n",
       " [1.0, datetime.timedelta(days=62, seconds=29623)],\n",
       " [1.0, datetime.timedelta(days=62, seconds=29576)],\n",
       " [1.0, datetime.timedelta(days=62, seconds=29225)],\n",
       " [1.0, datetime.timedelta(days=62, seconds=28783)],\n",
       " [1.0, datetime.timedelta(days=62, seconds=28646)],\n",
       " [1.0, datetime.timedelta(days=62, seconds=28524)],\n",
       " [1.0, datetime.timedelta(days=61, seconds=32956)],\n",
       " [1.0, datetime.timedelta(days=61, seconds=28659)],\n",
       " [1.0, datetime.timedelta(days=61, seconds=28555)],\n",
       " [1.0, datetime.timedelta(days=61, seconds=26158)],\n",
       " [1.0, datetime.timedelta(days=61, seconds=25731)],\n",
       " [1.0, datetime.timedelta(days=61, seconds=24789)],\n",
       " [1.0, datetime.timedelta(days=61, seconds=23498)],\n",
       " [1.0, datetime.timedelta(days=61, seconds=23369)],\n",
       " [1.0, datetime.timedelta(days=61, seconds=23029)],\n",
       " [1.0, datetime.timedelta(days=60, seconds=57794)],\n",
       " [1.0, datetime.timedelta(days=60, seconds=21876)],\n",
       " [1.0, datetime.timedelta(days=60, seconds=21858)],\n",
       " [1.0, datetime.timedelta(days=59, seconds=56924)],\n",
       " [1.0, datetime.timedelta(days=59, seconds=56432)],\n",
       " [1.0, datetime.timedelta(days=59, seconds=50581)],\n",
       " [1.0, datetime.timedelta(days=59, seconds=21478)],\n",
       " [1.0, datetime.timedelta(days=58, seconds=25921)],\n",
       " [1.0, datetime.timedelta(days=58, seconds=25558)],\n",
       " [1.0, datetime.timedelta(days=58, seconds=24785)],\n",
       " [1.0, datetime.timedelta(days=58, seconds=24689)],\n",
       " [1.0, datetime.timedelta(days=58, seconds=23055)],\n",
       " [1.0, datetime.timedelta(days=58, seconds=22832)],\n",
       " [1.0, datetime.timedelta(days=58, seconds=22514)],\n",
       " [1.0, datetime.timedelta(days=58, seconds=22077)],\n",
       " [1.0, datetime.timedelta(days=57, seconds=27708)],\n",
       " [1.0, datetime.timedelta(days=57, seconds=27211)],\n",
       " [1.0, datetime.timedelta(days=57, seconds=26742)],\n",
       " [1.0, datetime.timedelta(days=57, seconds=26341)],\n",
       " [1.0, datetime.timedelta(days=57, seconds=25889)],\n",
       " [1.0, datetime.timedelta(days=57, seconds=25075)],\n",
       " [1.0, datetime.timedelta(days=57, seconds=24741)],\n",
       " [1.0, datetime.timedelta(days=57, seconds=24445)],\n",
       " [1.0, datetime.timedelta(days=57, seconds=24250)],\n",
       " [1.0, datetime.timedelta(days=56, seconds=57135)],\n",
       " [1.0, datetime.timedelta(days=56, seconds=56984)],\n",
       " [1.0, datetime.timedelta(days=56, seconds=56669)],\n",
       " [1.0, datetime.timedelta(days=56, seconds=56590)],\n",
       " [1.0, datetime.timedelta(days=56, seconds=20811)],\n",
       " [1.0, datetime.timedelta(days=54, seconds=25912)],\n",
       " [1.0, datetime.timedelta(days=54, seconds=25773)],\n",
       " [1.0, datetime.timedelta(days=54, seconds=24970)],\n",
       " [1.0, datetime.timedelta(days=54, seconds=24910)],\n",
       " [1.0, datetime.timedelta(days=54, seconds=23802)],\n",
       " [1.0, datetime.timedelta(days=54, seconds=23660)],\n",
       " [1.0, datetime.timedelta(days=54, seconds=22931)],\n",
       " [1.0, datetime.timedelta(days=54, seconds=22338)],\n",
       " [1.0, datetime.timedelta(days=53, seconds=28526)],\n",
       " [1.0, datetime.timedelta(days=53, seconds=28033)],\n",
       " [1.0, datetime.timedelta(days=53, seconds=27604)],\n",
       " [1.0, datetime.timedelta(days=53, seconds=27410)],\n",
       " [1.0, datetime.timedelta(days=53, seconds=26576)],\n",
       " [1.0, datetime.timedelta(days=53, seconds=24660)],\n",
       " [1.0, datetime.timedelta(days=53, seconds=24498)],\n",
       " [1.0, datetime.timedelta(days=52, seconds=36771)],\n",
       " [1.0, datetime.timedelta(days=48, seconds=26413)],\n",
       " [1.0, datetime.timedelta(days=48, seconds=25665)],\n",
       " [1.0, datetime.timedelta(days=48, seconds=25285)],\n",
       " [1.0, datetime.timedelta(days=48, seconds=24830)],\n",
       " [1.0, datetime.timedelta(days=48, seconds=24212)],\n",
       " [1.0, datetime.timedelta(days=48, seconds=24038)],\n",
       " [1.0, datetime.timedelta(days=48, seconds=23701)],\n",
       " [1.0, datetime.timedelta(days=48, seconds=23001)],\n",
       " [1.0, datetime.timedelta(days=48, seconds=22193)],\n",
       " [1.0, datetime.timedelta(days=46, seconds=30894)],\n",
       " [1.0, datetime.timedelta(days=46, seconds=29571)],\n",
       " [1.0, datetime.timedelta(days=46, seconds=29301)],\n",
       " [1.0, datetime.timedelta(days=46, seconds=28810)],\n",
       " [1.0, datetime.timedelta(days=46, seconds=28659)],\n",
       " [1.0, datetime.timedelta(days=46, seconds=28065)],\n",
       " [1.0, datetime.timedelta(days=46, seconds=27941)],\n",
       " [1.0, datetime.timedelta(days=46, seconds=26942)],\n",
       " [1.0, datetime.timedelta(days=46, seconds=26740)],\n",
       " [1.0, datetime.timedelta(days=45, seconds=28366)],\n",
       " [1.0, datetime.timedelta(days=45, seconds=27994)],\n",
       " [1.0, datetime.timedelta(days=45, seconds=27688)],\n",
       " [1.0, datetime.timedelta(days=45, seconds=27268)],\n",
       " [1.0, datetime.timedelta(days=45, seconds=26812)],\n",
       " [1.0, datetime.timedelta(days=45, seconds=26343)],\n",
       " [1.0, datetime.timedelta(days=45, seconds=25213)],\n",
       " [1.0, datetime.timedelta(days=45, seconds=21128)],\n",
       " [1.0, datetime.timedelta(days=45, seconds=20902)],\n",
       " [1.0, datetime.timedelta(days=42, seconds=24257)],\n",
       " [1.0, datetime.timedelta(days=42, seconds=23874)],\n",
       " [1.0, datetime.timedelta(days=42, seconds=23684)],\n",
       " [1.0, datetime.timedelta(days=42, seconds=23613)],\n",
       " [1.0, datetime.timedelta(days=42, seconds=23325)],\n",
       " [1.0, datetime.timedelta(days=42, seconds=22393)],\n",
       " [1.0, datetime.timedelta(days=42, seconds=22016)],\n",
       " [1.0, datetime.timedelta(days=42, seconds=20665)],\n",
       " [1.0, datetime.timedelta(days=42, seconds=19983)],\n",
       " [1.0, datetime.timedelta(days=41, seconds=22755)],\n",
       " [1.0, datetime.timedelta(days=41, seconds=22198)],\n",
       " [1.0, datetime.timedelta(days=41, seconds=21748)],\n",
       " [1.0, datetime.timedelta(days=41, seconds=21626)],\n",
       " [1.0, datetime.timedelta(days=41, seconds=21160)],\n",
       " [1.0, datetime.timedelta(days=41, seconds=20702)],\n",
       " [1.0, datetime.timedelta(days=41, seconds=20503)],\n",
       " [1.0, datetime.timedelta(days=41, seconds=20207)],\n",
       " [1.0, datetime.timedelta(days=38, seconds=25214)],\n",
       " [1.0, datetime.timedelta(days=38, seconds=24950)],\n",
       " [1.0, datetime.timedelta(days=38, seconds=24870)],\n",
       " [1.0, datetime.timedelta(days=38, seconds=24559)],\n",
       " [1.0, datetime.timedelta(days=38, seconds=24422)],\n",
       " [1.0, datetime.timedelta(days=38, seconds=23934)],\n",
       " [1.0, datetime.timedelta(days=38, seconds=23794)],\n",
       " [1.0, datetime.timedelta(days=38, seconds=22797)],\n",
       " [1.0, datetime.timedelta(days=38, seconds=22348)],\n",
       " [1.0, datetime.timedelta(days=37, seconds=23480)],\n",
       " [1.0, datetime.timedelta(days=37, seconds=23101)],\n",
       " [1.0, datetime.timedelta(days=37, seconds=22442)],\n",
       " [1.0, datetime.timedelta(days=34, seconds=24290)],\n",
       " [1.0, datetime.timedelta(days=34, seconds=24034)],\n",
       " [1.0, datetime.timedelta(days=34, seconds=23446)],\n",
       " [1.0, datetime.timedelta(days=34, seconds=23125)],\n",
       " [1.0, datetime.timedelta(days=34, seconds=22983)],\n",
       " [1.0, datetime.timedelta(days=34, seconds=22816)],\n",
       " [1.0, datetime.timedelta(days=34, seconds=22543)],\n",
       " [1.0, datetime.timedelta(days=34, seconds=22464)],\n",
       " [1.0, datetime.timedelta(days=34, seconds=21308)],\n",
       " [1.0, datetime.timedelta(days=33, seconds=26493)],\n",
       " [1.0, datetime.timedelta(days=33, seconds=26209)],\n",
       " [1.0, datetime.timedelta(days=33, seconds=25686)],\n",
       " [1.0, datetime.timedelta(days=33, seconds=25425)],\n",
       " [1.0, datetime.timedelta(days=33, seconds=25107)],\n",
       " [1.0, datetime.timedelta(days=33, seconds=24889)],\n",
       " [1.0, datetime.timedelta(days=33, seconds=24536)],\n",
       " [1.0, datetime.timedelta(days=33, seconds=24241)],\n",
       " [1.0, datetime.timedelta(days=33, seconds=23292)],\n",
       " [1.0, datetime.timedelta(days=32, seconds=57156)],\n",
       " [1.0, datetime.timedelta(days=32, seconds=57061)],\n",
       " [1.0, datetime.timedelta(days=32, seconds=55960)],\n",
       " [1.0, datetime.timedelta(days=30, seconds=23306)],\n",
       " [1.0, datetime.timedelta(days=30, seconds=22842)],\n",
       " [1.0, datetime.timedelta(days=30, seconds=22585)],\n",
       " [1.0, datetime.timedelta(days=30, seconds=21933)],\n",
       " [1.0, datetime.timedelta(days=30, seconds=21519)],\n",
       " [1.0, datetime.timedelta(days=30, seconds=21204)],\n",
       " [1.0, datetime.timedelta(days=30, seconds=21018)],\n",
       " [1.0, datetime.timedelta(days=29, seconds=26190)],\n",
       " [1.0, datetime.timedelta(days=29, seconds=26103)],\n",
       " [1.0, datetime.timedelta(days=29, seconds=25912)],\n",
       " [1.0, datetime.timedelta(days=29, seconds=25426)],\n",
       " [1.0, datetime.timedelta(days=29, seconds=25229)],\n",
       " [1.0, datetime.timedelta(days=29, seconds=24512)],\n",
       " [1.0, datetime.timedelta(days=29, seconds=23080)],\n",
       " [1.0, datetime.timedelta(days=29, seconds=22916)],\n",
       " [1.0, datetime.timedelta(days=29, seconds=20689)],\n",
       " [1.0, datetime.timedelta(days=26, seconds=24606)],\n",
       " [1.0, datetime.timedelta(days=26, seconds=24271)],\n",
       " [1.0, datetime.timedelta(days=26, seconds=23338)],\n",
       " [1.0, datetime.timedelta(days=26, seconds=22664)],\n",
       " [1.0, datetime.timedelta(days=26, seconds=20409)],\n",
       " [1.0, datetime.timedelta(days=26, seconds=20335)],\n",
       " [1.0, datetime.timedelta(days=26, seconds=20171)],\n",
       " [1.0, datetime.timedelta(days=26, seconds=20062)],\n",
       " [1.0, datetime.timedelta(days=25, seconds=23562)],\n",
       " [1.0, datetime.timedelta(days=25, seconds=23506)],\n",
       " [1.0, datetime.timedelta(days=25, seconds=23449)],\n",
       " [1.0, datetime.timedelta(days=25, seconds=23352)],\n",
       " [1.0, datetime.timedelta(days=25, seconds=23135)],\n",
       " [1.0, datetime.timedelta(days=25, seconds=22859)],\n",
       " [1.0, datetime.timedelta(days=25, seconds=22807)],\n",
       " [1.0, datetime.timedelta(days=25, seconds=21394)],\n",
       " [1.0, datetime.timedelta(days=25, seconds=21160)],\n",
       " [1.0, datetime.timedelta(days=24, seconds=54300)],\n",
       " [1.0, datetime.timedelta(days=24, seconds=53358)],\n",
       " [1.0, datetime.timedelta(days=24, seconds=53165)],\n",
       " [1.0, datetime.timedelta(days=24, seconds=53065)],\n",
       " [1.0, datetime.timedelta(days=24, seconds=52861)],\n",
       " [1.0, datetime.timedelta(days=23, seconds=56006)],\n",
       " [1.0, datetime.timedelta(days=22, seconds=25266)],\n",
       " [1.0, datetime.timedelta(days=22, seconds=23208)],\n",
       " [1.0, datetime.timedelta(days=22, seconds=23140)],\n",
       " [1.0, datetime.timedelta(days=22, seconds=21316)],\n",
       " [1.0, datetime.timedelta(days=22, seconds=21128)],\n",
       " [1.0, datetime.timedelta(days=21, seconds=29940)],\n",
       " [1.0, datetime.timedelta(days=21, seconds=29675)],\n",
       " [1.0, datetime.timedelta(days=21, seconds=29548)],\n",
       " [1.0, datetime.timedelta(days=21, seconds=29073)],\n",
       " [1.0, datetime.timedelta(days=21, seconds=28974)],\n",
       " [1.0, datetime.timedelta(days=21, seconds=28391)],\n",
       " [1.0, datetime.timedelta(days=21, seconds=28202)],\n",
       " [1.0, datetime.timedelta(days=21, seconds=27783)],\n",
       " [1.0, datetime.timedelta(days=21, seconds=27445)],\n",
       " [1.0, datetime.timedelta(days=18, seconds=60829)],\n",
       " [1.0, datetime.timedelta(days=18, seconds=60803)],\n",
       " [1.0, datetime.timedelta(days=18, seconds=60519)],\n",
       " [1.0, datetime.timedelta(days=18, seconds=60166)],\n",
       " [1.0, datetime.timedelta(days=17, seconds=58223)],\n",
       " [1.0, datetime.timedelta(days=17, seconds=57784)],\n",
       " [1.0, datetime.timedelta(days=17, seconds=57644)],\n",
       " [1.0, datetime.timedelta(days=17, seconds=57508)],\n",
       " [1.0, datetime.timedelta(days=16, seconds=27233)],\n",
       " [1.0, datetime.timedelta(days=15, seconds=42579)],\n",
       " [1.0, datetime.timedelta(days=14, seconds=56094)],\n",
       " [1.0, datetime.timedelta(days=14, seconds=55926)],\n",
       " [1.0, datetime.timedelta(days=14, seconds=55565)],\n",
       " [1.0, datetime.timedelta(days=14, seconds=55242)],\n",
       " [1.0, datetime.timedelta(days=14, seconds=55133)],\n",
       " [1.0, datetime.timedelta(days=14, seconds=54965)],\n",
       " [1.0, datetime.timedelta(days=14, seconds=54137)],\n",
       " [1.0, datetime.timedelta(days=14, seconds=54059)],\n",
       " [1.0, datetime.timedelta(days=14, seconds=53459)],\n",
       " [1.0, datetime.timedelta(days=13, seconds=58383)],\n",
       " [1.0, datetime.timedelta(days=13, seconds=58312)],\n",
       " [1.0, datetime.timedelta(days=13, seconds=57995)],\n",
       " [1.0, datetime.timedelta(days=13, seconds=57910)],\n",
       " [1.0, datetime.timedelta(days=13, seconds=57507)],\n",
       " [1.0, datetime.timedelta(days=12, seconds=46669)],\n",
       " [1.0, datetime.timedelta(days=12, seconds=45732)],\n",
       " [1.0, datetime.timedelta(days=11, seconds=51455)],\n",
       " [1.0, datetime.timedelta(days=11, seconds=51403)],\n",
       " [1.0, datetime.timedelta(days=11, seconds=49917)],\n",
       " [1.0, datetime.timedelta(days=11, seconds=48909)],\n",
       " [1.0, datetime.timedelta(days=11, seconds=47961)],\n",
       " [1.0, datetime.timedelta(days=11, seconds=47319)],\n",
       " [1.0, datetime.timedelta(days=11, seconds=47141)],\n",
       " [1.0, datetime.timedelta(days=11, seconds=46539)],\n",
       " [1.0, datetime.timedelta(days=11, seconds=45600)],\n",
       " [1.0, datetime.timedelta(days=11, seconds=42087)],\n",
       " [1.0, datetime.timedelta(days=11, seconds=41469)],\n",
       " [1.0, datetime.timedelta(days=11, seconds=40823)],\n",
       " [1.0, datetime.timedelta(days=11, seconds=40731)],\n",
       " [1.0, datetime.timedelta(days=11, seconds=40455)],\n",
       " [1.0, datetime.timedelta(days=11, seconds=39957)],\n",
       " [1.0, datetime.timedelta(days=11, seconds=39704)],\n",
       " [1.0, datetime.timedelta(days=11, seconds=38257)],\n",
       " [1.0, datetime.timedelta(days=11, seconds=37624)],\n",
       " [1.0, datetime.timedelta(days=11, seconds=37533)],\n",
       " [1.0, datetime.timedelta(days=11, seconds=37410)],\n",
       " [1.0, datetime.timedelta(days=11, seconds=37325)],\n",
       " [1.0, datetime.timedelta(days=11, seconds=37266)],\n",
       " [1.0, datetime.timedelta(days=11, seconds=26504)],\n",
       " [1.0, datetime.timedelta(days=10, seconds=22982)],\n",
       " [1.0, datetime.timedelta(days=10, seconds=22807)],\n",
       " [1.0, datetime.timedelta(days=10, seconds=22250)],\n",
       " [1.0, datetime.timedelta(days=10, seconds=22163)],\n",
       " [1.0, datetime.timedelta(days=10, seconds=22104)],\n",
       " [1.0, datetime.timedelta(days=10, seconds=21908)],\n",
       " [1.0, datetime.timedelta(days=10, seconds=21400)],\n",
       " [1.0, datetime.timedelta(days=10, seconds=21317)],\n",
       " [1.0, datetime.timedelta(days=10, seconds=21233)],\n",
       " [1.0, datetime.timedelta(days=8, seconds=52342)],\n",
       " [1.0, datetime.timedelta(days=8, seconds=52125)],\n",
       " [1.0, datetime.timedelta(days=8, seconds=52077)],\n",
       " [1.0, datetime.timedelta(days=8, seconds=51952)],\n",
       " [1.0, datetime.timedelta(days=8, seconds=51889)],\n",
       " [1.0, datetime.timedelta(days=8, seconds=51836)],\n",
       " [1.0, datetime.timedelta(days=8, seconds=51776)],\n",
       " [1.0, datetime.timedelta(days=8, seconds=42907)],\n",
       " [1.0, datetime.timedelta(days=8, seconds=42175)],\n",
       " [1.0, datetime.timedelta(days=8, seconds=39397)],\n",
       " [1.0, datetime.timedelta(days=8, seconds=37006)],\n",
       " [1.0, datetime.timedelta(days=8, seconds=36996)],\n",
       " [1.0, datetime.timedelta(days=8, seconds=36949)],\n",
       " [1.0, datetime.timedelta(days=8, seconds=36150)],\n",
       " [1.0, datetime.timedelta(days=8, seconds=35436)],\n",
       " [1.0, datetime.timedelta(days=8, seconds=28388)],\n",
       " [1.0, datetime.timedelta(days=55, seconds=51190)],\n",
       " [1.0, datetime.timedelta(days=55, seconds=49962)],\n",
       " [1.0, datetime.timedelta(days=52, seconds=51683)],\n",
       " [1.0, datetime.timedelta(days=52, seconds=49150)],\n",
       " [1.0, datetime.timedelta(days=52, seconds=48171)],\n",
       " [1.0, datetime.timedelta(days=52, seconds=47755)],\n",
       " [1.0, datetime.timedelta(days=52, seconds=47019)],\n",
       " [1.0, datetime.timedelta(days=52, seconds=46507)],\n",
       " [1.0, datetime.timedelta(days=52, seconds=46341)],\n",
       " [1.0, datetime.timedelta(days=48, seconds=48901)],\n",
       " [1.0, datetime.timedelta(days=48, seconds=47118)],\n",
       " [1.0, datetime.timedelta(days=47, seconds=54734)],\n",
       " [1.0, datetime.timedelta(days=47, seconds=51928)],\n",
       " [1.0, datetime.timedelta(days=47, seconds=51509)],\n",
       " [1.0, datetime.timedelta(days=47, seconds=50661)],\n",
       " [1.0, datetime.timedelta(days=47, seconds=50511)],\n",
       " [1.0, datetime.timedelta(days=47, seconds=50166)],\n",
       " [1.0, datetime.timedelta(days=43, seconds=55071)],\n",
       " [1.0, datetime.timedelta(days=43, seconds=51546)],\n",
       " [1.0, datetime.timedelta(days=43, seconds=51140)],\n",
       " [1.0, datetime.timedelta(days=40, seconds=54125)],\n",
       " [1.0, datetime.timedelta(days=40, seconds=53682)],\n",
       " [1.0, datetime.timedelta(days=40, seconds=53636)],\n",
       " [1.0, datetime.timedelta(days=39, seconds=54938)],\n",
       " [1.0, datetime.timedelta(days=39, seconds=54596)],\n",
       " [1.0, datetime.timedelta(days=39, seconds=54356)],\n",
       " [1.0, datetime.timedelta(days=39, seconds=53874)],\n",
       " [1.0, datetime.timedelta(days=36, seconds=53295)],\n",
       " [1.0, datetime.timedelta(days=36, seconds=51465)],\n",
       " [1.0, datetime.timedelta(days=36, seconds=51121)],\n",
       " [1.0, datetime.timedelta(days=36, seconds=50888)],\n",
       " [1.0, datetime.timedelta(days=36, seconds=50651)],\n",
       " [1.0, datetime.timedelta(days=32, seconds=51483)],\n",
       " [1.0, datetime.timedelta(days=32, seconds=51111)],\n",
       " [1.0, datetime.timedelta(days=32, seconds=49095)],\n",
       " [1.0, datetime.timedelta(days=32, seconds=49034)],\n",
       " [1.0, datetime.timedelta(days=31, seconds=53920)],\n",
       " [1.0, datetime.timedelta(days=31, seconds=53526)],\n",
       " [1.0, datetime.timedelta(days=31, seconds=52801)],\n",
       " [1.0, datetime.timedelta(days=31, seconds=52267)],\n",
       " [1.0, datetime.timedelta(days=31, seconds=52093)],\n",
       " [1.0, datetime.timedelta(days=31, seconds=51885)],\n",
       " [1.0, datetime.timedelta(days=31, seconds=51724)],\n",
       " [1.0, datetime.timedelta(days=29, seconds=53214)],\n",
       " [1.0, datetime.timedelta(days=29, seconds=53140)],\n",
       " [1.0, datetime.timedelta(days=28, seconds=53138)],\n",
       " [1.0, datetime.timedelta(days=28, seconds=52679)],\n",
       " [1.0, datetime.timedelta(days=28, seconds=52119)],\n",
       " [1.0, datetime.timedelta(days=28, seconds=51940)],\n",
       " [1.0, datetime.timedelta(days=28, seconds=51775)],\n",
       " [1.0, datetime.timedelta(days=28, seconds=51334)],\n",
       " [1.0, datetime.timedelta(days=27, seconds=52438)],\n",
       " [1.0, datetime.timedelta(days=27, seconds=51858)],\n",
       " [1.0, datetime.timedelta(days=27, seconds=50490)],\n",
       " [1.0, datetime.timedelta(days=27, seconds=50282)],\n",
       " [1.0, datetime.timedelta(days=27, seconds=48730)],\n",
       " [1.0, datetime.timedelta(days=27, seconds=48262)],\n",
       " [1.0, datetime.timedelta(days=24, seconds=53460)],\n",
       " [1.0, datetime.timedelta(days=24, seconds=52242)],\n",
       " [1.0, datetime.timedelta(days=24, seconds=51864)],\n",
       " [1.0, datetime.timedelta(days=24, seconds=51695)],\n",
       " [1.0, datetime.timedelta(days=23, seconds=53719)],\n",
       " [1.0, datetime.timedelta(days=23, seconds=53122)],\n",
       " [1.0, datetime.timedelta(days=23, seconds=52341)],\n",
       " [1.0, datetime.timedelta(days=23, seconds=52116)],\n",
       " [1.0, datetime.timedelta(days=23, seconds=52115)],\n",
       " [1.0, datetime.timedelta(days=23, seconds=51768)],\n",
       " [1.0, datetime.timedelta(days=22, seconds=53319)],\n",
       " [1.0, datetime.timedelta(days=22, seconds=51929)],\n",
       " [1.0, datetime.timedelta(days=22, seconds=51715)],\n",
       " [1.0, datetime.timedelta(days=22, seconds=51672)],\n",
       " [1.0, datetime.timedelta(days=20, seconds=49437)],\n",
       " [1.0, datetime.timedelta(days=20, seconds=49037)],\n",
       " [1.0, datetime.timedelta(days=20, seconds=48328)],\n",
       " [1.0, datetime.timedelta(days=20, seconds=48092)],\n",
       " [1.0, datetime.timedelta(days=20, seconds=47272)],\n",
       " [1.0, datetime.timedelta(days=19, seconds=56376)],\n",
       " [1.0, datetime.timedelta(days=19, seconds=55180)],\n",
       " [1.0, datetime.timedelta(days=19, seconds=54195)],\n",
       " [1.0, datetime.timedelta(days=19, seconds=53690)],\n",
       " [1.0, datetime.timedelta(days=19, seconds=53421)],\n",
       " [1.0, datetime.timedelta(days=19, seconds=52627)],\n",
       " [1.0, datetime.timedelta(days=19, seconds=51906)],\n",
       " [1.0, datetime.timedelta(days=19, seconds=51746)],\n",
       " [1.0, datetime.timedelta(days=17, seconds=52768)],\n",
       " [1.0, datetime.timedelta(days=17, seconds=52497)],\n",
       " [1.0, datetime.timedelta(days=17, seconds=52292)],\n",
       " [1.0, datetime.timedelta(days=17, seconds=52190)],\n",
       " [1.0, datetime.timedelta(days=17, seconds=52112)],\n",
       " [1.0, datetime.timedelta(days=17, seconds=52049)],\n",
       " [1.0, datetime.timedelta(days=16, seconds=54415)],\n",
       " [1.0, datetime.timedelta(days=16, seconds=53969)],\n",
       " [1.0, datetime.timedelta(days=16, seconds=53515)],\n",
       " [1.0, datetime.timedelta(days=16, seconds=53288)],\n",
       " [1.0, datetime.timedelta(days=16, seconds=53035)],\n",
       " [1.0, datetime.timedelta(days=16, seconds=52697)],\n",
       " [1.0, datetime.timedelta(days=16, seconds=51753)],\n",
       " [1.0, datetime.timedelta(days=16, seconds=51152)],\n",
       " [1.0, datetime.timedelta(days=16, seconds=50852)],\n",
       " [1.0, datetime.timedelta(days=15, seconds=51770)],\n",
       " [1.0, datetime.timedelta(days=15, seconds=46726)],\n",
       " [1.0, datetime.timedelta(days=15, seconds=45548)],\n",
       " [1.0, datetime.timedelta(days=15, seconds=44698)],\n",
       " [1.0, datetime.timedelta(days=15, seconds=44383)],\n",
       " [1.0, datetime.timedelta(days=12, seconds=51690)],\n",
       " [1.0, datetime.timedelta(days=12, seconds=51629)],\n",
       " [1.0, datetime.timedelta(days=12, seconds=51091)],\n",
       " [1.0, datetime.timedelta(days=12, seconds=50640)],\n",
       " [1.0, datetime.timedelta(days=12, seconds=50173)],\n",
       " [1.0, datetime.timedelta(days=12, seconds=49962)],\n",
       " [1.0, datetime.timedelta(days=12, seconds=48700)],\n",
       " [1.0, datetime.timedelta(days=11, seconds=56210)],\n",
       " [1.0, datetime.timedelta(days=11, seconds=54890)],\n",
       " [1.0, datetime.timedelta(days=11, seconds=54238)],\n",
       " [1.0, datetime.timedelta(days=11, seconds=53071)],\n",
       " [1.0, datetime.timedelta(days=11, seconds=52509)],\n",
       " [1.0, datetime.timedelta(days=11, seconds=52368)],\n",
       " [1.0, datetime.timedelta(days=10, seconds=21631)],\n",
       " [1.0, datetime.timedelta(days=10, seconds=21508)],\n",
       " [1.0, datetime.timedelta(days=10, seconds=21461)],\n",
       " [1.0, datetime.timedelta(days=10, seconds=21396)],\n",
       " [1.0, datetime.timedelta(days=10, seconds=21360)],\n",
       " [1.0, datetime.timedelta(days=10, seconds=21281)],\n",
       " [1.0, datetime.timedelta(days=10, seconds=20794)],\n",
       " [1.0, datetime.timedelta(days=10, seconds=20660)],\n",
       " [1.0, datetime.timedelta(days=8, seconds=56816)],\n",
       " [1.0, datetime.timedelta(days=8, seconds=56593)],\n",
       " [1.0, datetime.timedelta(days=8, seconds=44351)],\n",
       " [1.0, datetime.timedelta(days=8, seconds=44058)],\n",
       " [1.0, datetime.timedelta(days=8, seconds=43572)],\n",
       " [1.0, datetime.timedelta(days=8, seconds=42852)],\n",
       " [1.0, datetime.timedelta(days=8, seconds=41114)],\n",
       " [1.0, datetime.timedelta(days=8, seconds=40626)],\n",
       " [1.0, datetime.timedelta(days=8, seconds=37230)],\n",
       " [1.0, datetime.timedelta(days=8, seconds=36579)],\n",
       " [1.0, datetime.timedelta(seconds=50939)],\n",
       " [1.0, datetime.timedelta(seconds=48593)],\n",
       " [1.0, datetime.timedelta(seconds=47882)],\n",
       " [1.0, datetime.timedelta(seconds=46898)],\n",
       " [1.0, datetime.timedelta(seconds=46185)],\n",
       " [1.0, datetime.timedelta(days=24, seconds=183)],\n",
       " [1.0, datetime.timedelta(days=23, seconds=10563)],\n",
       " [1.0, datetime.timedelta(days=22, seconds=81591)],\n",
       " [1.0, datetime.timedelta(days=22, seconds=79648)],\n",
       " [1.0, datetime.timedelta(days=505, seconds=72351)],\n",
       " [1.0, datetime.timedelta(days=501, seconds=67038)],\n",
       " [1.0, datetime.timedelta(days=501, seconds=66969)],\n",
       " [1.0, datetime.timedelta(days=501, seconds=61947)],\n",
       " [1.0, datetime.timedelta(days=501, seconds=61575)],\n",
       " [1.0, datetime.timedelta(days=496, seconds=58641)],\n",
       " [1.0, datetime.timedelta(days=496, seconds=58473)],\n",
       " [1.0, datetime.timedelta(days=496, seconds=57404)],\n",
       " [1.0, datetime.timedelta(days=496, seconds=57382)],\n",
       " [1.0, datetime.timedelta(days=496, seconds=57350)],\n",
       " [1.0, datetime.timedelta(days=428, seconds=15745)],\n",
       " [1.0, datetime.timedelta(days=23, seconds=11802)],\n",
       " [1.0, datetime.timedelta(days=4, seconds=35303)],\n",
       " [1.0, datetime.timedelta(days=22, seconds=81947)],\n",
       " [1.0, datetime.timedelta(days=506, seconds=17048)],\n",
       " [1.0, datetime.timedelta(days=506, seconds=16042)],\n",
       " [1.0, datetime.timedelta(days=506, seconds=15952)],\n",
       " [1.0, datetime.timedelta(days=503, seconds=14760)],\n",
       " [1.0, datetime.timedelta(days=503, seconds=11312)],\n",
       " [1.0, datetime.timedelta(days=498, seconds=11354)],\n",
       " [1.0, datetime.timedelta(days=498, seconds=11296)],\n",
       " [1.0, datetime.timedelta(days=496, seconds=21088)],\n",
       " [1.0, datetime.timedelta(days=496, seconds=21022)],\n",
       " [1.0, datetime.timedelta(days=496, seconds=21013)],\n",
       " [1.0, datetime.timedelta(days=496, seconds=21006)],\n",
       " [1.0, datetime.timedelta(days=492, seconds=22859)],\n",
       " [1.0, datetime.timedelta(days=492, seconds=22770)],\n",
       " [1.0, datetime.timedelta(days=492, seconds=22042)],\n",
       " [1.0, datetime.timedelta(days=491, seconds=14974)],\n",
       " [1.0, datetime.timedelta(days=491, seconds=14945)],\n",
       " [1.0, datetime.timedelta(days=491, seconds=14933)],\n",
       " [1.0, datetime.timedelta(days=491, seconds=14667)],\n",
       " [1.0, datetime.timedelta(days=491, seconds=14656)],\n",
       " [1.0, datetime.timedelta(days=491, seconds=14649)],\n",
       " [1.0, datetime.timedelta(days=491, seconds=14644)],\n",
       " [1.0, datetime.timedelta(days=485, seconds=16158)],\n",
       " [1.0, datetime.timedelta(days=485, seconds=16153)],\n",
       " [1.0, datetime.timedelta(days=485, seconds=16135)],\n",
       " [1.0, datetime.timedelta(days=485, seconds=16097)],\n",
       " [1.0, datetime.timedelta(days=478, seconds=50937)],\n",
       " [1.0, datetime.timedelta(days=478, seconds=50905)],\n",
       " [1.0, datetime.timedelta(days=477, seconds=6651)],\n",
       " [1.0, datetime.timedelta(days=477, seconds=6642)],\n",
       " [1.0, datetime.timedelta(days=477, seconds=6637)],\n",
       " [1.0, datetime.timedelta(days=477, seconds=6629)],\n",
       " [1.0, datetime.timedelta(days=477, seconds=6626)],\n",
       " [1.0, datetime.timedelta(days=465, seconds=2394)],\n",
       " [1.0, datetime.timedelta(days=465, seconds=2337)],\n",
       " [1.0, datetime.timedelta(days=465, seconds=885)],\n",
       " [1.0, datetime.timedelta(days=465, seconds=876)],\n",
       " [1.0, datetime.timedelta(days=465, seconds=872)],\n",
       " [1.0, datetime.timedelta(days=465, seconds=867)],\n",
       " [1.0, datetime.timedelta(days=465, seconds=861)],\n",
       " [1.0, datetime.timedelta(days=464, seconds=86306)],\n",
       " [1.0, datetime.timedelta(days=464, seconds=86278)],\n",
       " [1.0, datetime.timedelta(days=464, seconds=86270)],\n",
       " [1.0, datetime.timedelta(days=464, seconds=86029)],\n",
       " [1.0, datetime.timedelta(days=464, seconds=86007)],\n",
       " [1.0, datetime.timedelta(days=464, seconds=85984)],\n",
       " [1.0, datetime.timedelta(days=463, seconds=24011)],\n",
       " [1.0, datetime.timedelta(days=462, seconds=17552)],\n",
       " [1.0, datetime.timedelta(days=459, seconds=19969)],\n",
       " [1.0, datetime.timedelta(days=458, seconds=6940)],\n",
       " [1.0, datetime.timedelta(days=458, seconds=6934)],\n",
       " [1.0, datetime.timedelta(days=458, seconds=6927)],\n",
       " [1.0, datetime.timedelta(days=458, seconds=6915)],\n",
       " [1.0, datetime.timedelta(days=458, seconds=6911)],\n",
       " [1.0, datetime.timedelta(days=458, seconds=6903)],\n",
       " [1.0, datetime.timedelta(days=458, seconds=6899)],\n",
       " [1.0, datetime.timedelta(days=458, seconds=6860)],\n",
       " [1.0, datetime.timedelta(days=458, seconds=6853)],\n",
       " [1.0, datetime.timedelta(days=458, seconds=6848)],\n",
       " [1.0, datetime.timedelta(days=455, seconds=19874)],\n",
       " [1.0, datetime.timedelta(days=455, seconds=19869)],\n",
       " [1.0, datetime.timedelta(days=455, seconds=19851)],\n",
       " [1.0, datetime.timedelta(days=455, seconds=19847)],\n",
       " [1.0, datetime.timedelta(days=455, seconds=19839)],\n",
       " [1.0, datetime.timedelta(days=455, seconds=19815)],\n",
       " [1.0, datetime.timedelta(days=454, seconds=12181)],\n",
       " [1.0, datetime.timedelta(days=454, seconds=12176)],\n",
       " [1.0, datetime.timedelta(days=454, seconds=12148)],\n",
       " [1.0, datetime.timedelta(days=453, seconds=5388)],\n",
       " [1.0, datetime.timedelta(days=452, seconds=11196)],\n",
       " ...]"
      ]
     },
     "execution_count": 225,
     "metadata": {},
     "output_type": "execute_result"
    }
   ],
   "source": [
    "timediff = []\n",
    "for row in user_ages.values:\n",
    "    timediff.append([row[0], dt.fromtimestamp(row[1]) - dt.fromtimestamp(row[2])])\n",
    "# comms['user_age'] = np.where(comms['norm_author_created_utc'].isna(), )\n",
    "timediff\n",
    "# diff = dt.fromtimestamp(comms['created_utc']) - dt.fromtimestamp(comms['norm_author_created_utc'])"
   ]
  },
  {
   "cell_type": "code",
   "execution_count": null,
   "metadata": {},
   "outputs": [],
   "source": []
  }
 ],
 "metadata": {
  "kernelspec": {
   "display_name": "Python 3",
   "language": "python",
   "name": "python3"
  },
  "language_info": {
   "codemirror_mode": {
    "name": "ipython",
    "version": 3
   },
   "file_extension": ".py",
   "mimetype": "text/x-python",
   "name": "python",
   "nbconvert_exporter": "python",
   "pygments_lexer": "ipython3",
   "version": "3.8.3"
  }
 },
 "nbformat": 4,
 "nbformat_minor": 4
}
