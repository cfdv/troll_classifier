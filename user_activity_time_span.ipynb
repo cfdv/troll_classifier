{
 "cells": [
  {
   "cell_type": "code",
   "execution_count": null,
   "metadata": {},
   "outputs": [],
   "source": [
    "from psaw import PushshiftAPI\n",
    "import numpy as np\n",
    "import pandas as pd\n",
    "from pymongo import MongoClient"
   ]
  },
  {
   "cell_type": "code",
   "execution_count": 20,
   "metadata": {},
   "outputs": [],
   "source": [
    "def first_last(**kwargs):\n",
    "    '''\n",
    "    Store in mongo the user's first and last comment and submission\n",
    "    '''\n",
    "    sort_types = ('desc', 'asc')\n",
    "    kwargs['limit'] = 1\n",
    "    search_types = (api.search_submissions, api.search_comments)\n",
    "    for search_type in search_types:\n",
    "        for sort_type in sort_types:\n",
    "            kwargs['sort'] = sort_type\n",
    "            gen = search_type(**kwargs)\n",
    "            for g in list(gen):\n",
    "                table.insert_one(g.d_)"
   ]
  },
  {
   "cell_type": "code",
   "execution_count": null,
   "metadata": {},
   "outputs": [],
   "source": [
    "api = PushshiftAPI()\n",
    "\n",
    "client = MongoClient('localhost', 27017)\n",
    "db = client['cap2']\n",
    "table = db['first_and_last']"
   ]
  },
  {
   "cell_type": "code",
   "execution_count": 3,
   "metadata": {},
   "outputs": [
    {
     "name": "stdout",
     "output_type": "stream",
     "text": [
      "Author: 1488Reasons\n",
      "{'author': '1488reasons', 'author_created_utc': 1452931267, 'author_flair_css_class': 'nzfirst', 'author_flair_text': '', 'author_fullname': 't2_tu7sn', 'body': \"yeah and he wants to consider it by limiting who is in the community, and he wasn't particularly nice about that by modern feel-good standards that want to keep paying mo' money for dem programs.\", 'controversiality': 0, 'created_utc': 1467090533, 'distinguished': None, 'gilded': 0, 'id': 'd4qvapg', 'link_id': 't3_4q6zhk', 'nest_level': 7, 'parent_id': 't1_d4quv2y', 'reply_delay': 968, 'retrieved_on': 1469344733, 'score': -7, 'stickied': False, 'subreddit': 'newzealand', 'subreddit_id': 't5_2qhma', 'created': 1467090533.0}\n",
      "{'author': '1488reasons', 'author_created_utc': 1452931267, 'author_flair_css_class': None, 'author_flair_text': None, 'author_fullname': 't2_tu7sn', 'body': 'NZ doesn\\'t have a right wing government, so I\\'m not sure what the question is. \\n\\nGlobalism, taxation, and gifting the landed classes aren\\'t \"right wing\" policies. Cronyism isn\\'t endemic to any political ideology. \\n\\nOn the other hand Key is happy to open up the borders and otherwise destroy the local culture and economy so that the landed classes can rearrange the deckchairs on a sinking ship that will speak Mandarin and Hindi in 50 years. \\n\\nNo right-wing government would have a piece of that.', 'controversiality': 0, 'created_utc': 1452931455, 'distinguished': None, 'gilded': 0, 'id': 'cz0825x', 'link_id': 't3_416k49', 'nest_level': 1, 'parent_id': 't3_416k49', 'reply_delay': 18015, 'retrieved_on': 1454525914, 'score': -2, 'stickied': False, 'subreddit': 'newzealand', 'subreddit_id': 't5_2qhma', 'created': 1452931455.0}\n",
      "\n"
     ]
    }
   ],
   "source": [
    "susp_usrs = pd.read_csv('data/user_activity_dataframe.csv')\n",
    "susp_usrs.drop('Unnamed: 0', axis=1, inplace=True)\n",
    "    \n",
    "for usr in np.unique(susp_usrs['username']):\n",
    "    print(f'Author: {usr}')\n",
    "    first_last(author=usr)"
   ]
  }
 ],
 "metadata": {
  "kernelspec": {
   "display_name": "Python 3",
   "language": "python",
   "name": "python3"
  },
  "language_info": {
   "codemirror_mode": {
    "name": "ipython",
    "version": 3
   },
   "file_extension": ".py",
   "mimetype": "text/x-python",
   "name": "python",
   "nbconvert_exporter": "python",
   "pygments_lexer": "ipython3",
   "version": "3.8.2"
  }
 },
 "nbformat": 4,
 "nbformat_minor": 4
}
